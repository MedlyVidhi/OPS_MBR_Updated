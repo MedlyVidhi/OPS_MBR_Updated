{
 "cells": [
  {
   "cell_type": "markdown",
   "metadata": {},
   "source": [
    "pip install -U kaleido"
   ]
  },
  {
   "cell_type": "code",
   "execution_count": 1,
   "metadata": {},
   "outputs": [],
   "source": [
    "import numpy as np\n",
    "import pandas as pd\n",
    "\n",
    "import plotly.express as px\n",
    "import plotly.graph_objects as go\n",
    "from plotly.subplots import make_subplots"
   ]
  },
  {
   "cell_type": "code",
   "execution_count": 2,
   "metadata": {},
   "outputs": [],
   "source": [
    "blue_color = '#80ADF7'\n",
    "green_color = '#9EEDE0'"
   ]
  },
  {
   "cell_type": "code",
   "execution_count": 3,
   "metadata": {},
   "outputs": [],
   "source": [
    "%run path_changer_refill.py"
   ]
  },
  {
   "cell_type": "code",
   "execution_count": 4,
   "metadata": {},
   "outputs": [],
   "source": [
    "df1 = pd.read_excel(output_file_path+'Scenario-1_city-wise_mean_median.xlsx',sheet_name='City median')\n",
    "\n",
    "df2 = pd.read_excel(output_file_path+'Scenario-2_city-wise_mean_median.xlsx',sheet_name='City median')\n",
    "\n",
    "df3 = pd.read_excel(output_file_path+'Scenario-3_city-wise_mean_median.xlsx',sheet_name='City median')\n",
    "\n",
    "df4 = pd.read_excel(output_file_path+'Scenario-4_city-wise_mean_median.xlsx',sheet_name='City median')\n"
   ]
  },
  {
   "cell_type": "code",
   "execution_count": 5,
   "metadata": {},
   "outputs": [],
   "source": [
    "list_scen_1_seqs = ['pharmacy_loc','median_time_received_to_entered_time',\n",
    "'median_time_entered_to_first_billed',\n",
    "'median_time_first_billed_to_last_billed',\n",
    "'median_time_last_billed_to_label_printed',\n",
    "'median_time_label_printed_to_drug_picked',\n",
    "'median_time_drug_picked_to_rph_verified',\n",
    "'median_time_rph_verified_to_pharmacy_pickedup',\n",
    "'median_time_rph_verified_to_delivered',\n",
    "'median_time_final_received_to_delivered'\n",
    "]"
   ]
  },
  {
   "cell_type": "code",
   "execution_count": 6,
   "metadata": {},
   "outputs": [],
   "source": [
    "list_scen_2_seqs = ['pharmacy_loc','median_time_received_to_entered_time',\n",
    "'median_time_time_to_identify_pa_is_required',\n",
    "'median_time_time_taken_by_rx_to_be_picked_up_by_IBD_team',\n",
    "'median_time_time_taken_by_IBD_team_to_process_rx',\n",
    "'median_time_ibd_processing_end_to_first_billed',\n",
    "'median_time_first_billed_to_last_billed',\n",
    "'median_time_last_billed_to_label_printed',\n",
    "'median_time_label_printed_to_drug_picked',\n",
    "'median_time_drug_picked_to_rph_verified',\n",
    "'median_time_rph_verified_to_pharmacy_pickedup',\n",
    "'median_time_rph_verified_to_delivered',\n",
    "'median_time_final_received_to_delivered'\n",
    "]"
   ]
  },
  {
   "cell_type": "code",
   "execution_count": 7,
   "metadata": {},
   "outputs": [],
   "source": [
    "list_scen_3_seqs = ['pharmacy_loc','median_time_received_to_entered_time',\n",
    "'median_time_rx_entered_to_callins_processing_start',\n",
    "'median_time_time_taken_for_call_for_insurance_process',\n",
    "'median_time_time_taken_by_rx_to_be_picked_up_by_IBD_team',\n",
    "'median_time_time_taken_by_IBD_team_to_process_rx',\n",
    "'median_time_ibd_processing_end_to_first_billed',\n",
    "'median_time_first_billed_to_last_billed',\n",
    "'median_time_last_billed_to_label_printed',\n",
    "'median_time_label_printed_to_drug_picked',\n",
    "'median_time_drug_picked_to_rph_verified',\n",
    "'median_time_rph_verified_to_pharmacy_pickedup',\n",
    "'median_time_rph_verified_to_delivered',\n",
    "'median_time_final_received_to_delivered'\n",
    "]"
   ]
  },
  {
   "cell_type": "code",
   "execution_count": 8,
   "metadata": {},
   "outputs": [],
   "source": [
    "list_scen_4_seqs = ['pharmacy_loc','median_time_received_to_entered_time',\n",
    "'median_time_rx_entered_to_callins_processing_start',\n",
    "'median_time_time_taken_for_call_for_insurance_process',\n",
    "'median_time_first_billed_to_last_billed',\n",
    "'median_time_last_billed_to_label_printed',\n",
    "'median_time_label_printed_to_drug_picked',\n",
    "'median_time_drug_picked_to_rph_verified',\n",
    "'median_time_rph_verified_to_pharmacy_pickedup',\n",
    "'median_time_rph_verified_to_delivered',\n",
    "'median_time_final_received_to_delivered',\n",
    "]"
   ]
  },
  {
   "cell_type": "code",
   "execution_count": 9,
   "metadata": {},
   "outputs": [],
   "source": [
    "scenario_1_df = df1[list_scen_1_seqs]     \n",
    "# scenario_1_df\n",
    "scenario_2_df = df2[list_scen_2_seqs]     \n",
    "# scenario_2_df\n",
    "scenario_3_df = df3[list_scen_3_seqs]     \n",
    "# scenario_3_df\n",
    "scenario_4_df = df4[list_scen_4_seqs]     \n",
    "# scenario_4_df"
   ]
  },
  {
   "cell_type": "code",
   "execution_count": 10,
   "metadata": {},
   "outputs": [],
   "source": [
    "# scenario_df_list = [scenario_1_df, scenario_2_df, scenario_3_df, scenario_4_df]\n",
    "# funnel_title = ['Scenario-1 Process Time Delta', 'Scenario-2 Process Time Delta', 'Scenario-3 Process Time Delta', 'Scenario-4 Process Time Delta']\n",
    "# funnel_path = [scenario_1_funnel_path, scenario_2_funnel_path, scenario_3_funnel_path, scenario_4_funnel_path]"
   ]
  },
  {
   "cell_type": "markdown",
   "metadata": {},
   "source": [
    "# scenario 1"
   ]
  },
  {
   "cell_type": "code",
   "execution_count": 11,
   "metadata": {},
   "outputs": [],
   "source": [
    "scenario_1_df_time = scenario_1_df.set_index('pharmacy_loc')  #Nan --->Total\n",
    "scenario_1_df_time\n",
    "\n",
    "#####\n",
    "scenario_1_df_time.rename(index={np.nan:'Total'},inplace=True)\n",
    "scenario_1_df_time\n",
    "\n",
    "#####\n",
    "my_string  = scenario_1_df_time.columns.str[12:]\n",
    "new_column_names = []\n",
    "for i in my_string:\n",
    "    nn = i.replace(\"_\", \" \")\n",
    "    new_column_names.append(nn)\n",
    "\n",
    "scenario_1_df_time.columns = new_column_names\n",
    "\n",
    "#####\n",
    "scenario_1_df_time['received to entered time'] = scenario_1_df_time['received to entered time'].replace('None',np.nan)\n",
    "scenario_1_df_time['received to entered time'] = scenario_1_df_time['received to entered time'].replace(np.nan,pd.to_timedelta(0))\n",
    "\n",
    "# print(scenario_1_df_time)\n",
    "for i in scenario_1_df_time.columns:\n",
    "    #scenario_1_df_time[i] = scenario_1_df_time[i].astype(str).str[0:15]\n",
    "#     print(i)\n",
    "    scenario_1_df_time[i] = pd.to_timedelta(scenario_1_df_time[i]).dt.round('s')"
   ]
  },
  {
   "cell_type": "code",
   "execution_count": 12,
   "metadata": {},
   "outputs": [
    {
     "data": {
      "application/vnd.plotly.v1+json": {
       "config": {
        "plotlyServerURL": "https://plot.ly"
       },
       "data": [
        {
         "marker": {
          "color": [
           "#80ADF7",
           "#80ADF7",
           "#80ADF7",
           "#80ADF7",
           "#80ADF7",
           "#80ADF7",
           "#80ADF7",
           "#80ADF7"
          ]
         },
         "textposition": "none",
         "type": "funnel",
         "x": [
          0,
          28000000000,
          0,
          2849000000000,
          2924000000000,
          3309000000000,
          72317000000000,
          160658000000000
         ],
         "y": [
          "received to entered time",
          "entered to first billed",
          "first billed to last billed",
          "last billed to label printed",
          "label printed to drug picked",
          "drug picked to rph verified",
          "rph verified to pharmacy pickedup",
          "rph verified to delivered"
         ]
        }
       ],
       "layout": {
        "annotations": [
         {
          "align": "right",
          "showarrow": false,
          "text": "0 d-->0%",
          "xanchor": "left",
          "y": "received to entered time"
         },
         {
          "align": "right",
          "showarrow": false,
          "text": "0 days 00:00-->0%",
          "xanchor": "left",
          "y": "entered to first billed"
         },
         {
          "align": "right",
          "showarrow": false,
          "text": "0 days 00:00-->0%",
          "xanchor": "left",
          "y": "first billed to last billed"
         },
         {
          "align": "right",
          "showarrow": false,
          "text": "0 days 00:47-->1%",
          "xanchor": "left",
          "y": "last billed to label printed"
         },
         {
          "align": "right",
          "showarrow": false,
          "text": "0 days 00:48-->1%",
          "xanchor": "left",
          "y": "label printed to drug picked"
         },
         {
          "align": "right",
          "showarrow": false,
          "text": "0 days 00:55-->1%",
          "xanchor": "left",
          "y": "drug picked to rph verified"
         },
         {
          "align": "right",
          "showarrow": false,
          "text": "0 days 20:05-->30%",
          "xanchor": "left",
          "y": "rph verified to pharmacy pickedup"
         },
         {
          "align": "right",
          "showarrow": false,
          "text": "1 days 20:37-->66%",
          "xanchor": "left",
          "y": "rph verified to delivered"
         }
        ],
        "font": {
         "color": "black"
        },
        "margin": {
         "b": 0,
         "l": 0,
         "r": 0,
         "t": 24
        },
        "paper_bgcolor": "rgb(255,255,255)",
        "plot_bgcolor": "rgba(0,0,0,0)",
        "template": {
         "data": {
          "bar": [
           {
            "error_x": {
             "color": "#2a3f5f"
            },
            "error_y": {
             "color": "#2a3f5f"
            },
            "marker": {
             "line": {
              "color": "#E5ECF6",
              "width": 0.5
             },
             "pattern": {
              "fillmode": "overlay",
              "size": 10,
              "solidity": 0.2
             }
            },
            "type": "bar"
           }
          ],
          "barpolar": [
           {
            "marker": {
             "line": {
              "color": "#E5ECF6",
              "width": 0.5
             },
             "pattern": {
              "fillmode": "overlay",
              "size": 10,
              "solidity": 0.2
             }
            },
            "type": "barpolar"
           }
          ],
          "carpet": [
           {
            "aaxis": {
             "endlinecolor": "#2a3f5f",
             "gridcolor": "white",
             "linecolor": "white",
             "minorgridcolor": "white",
             "startlinecolor": "#2a3f5f"
            },
            "baxis": {
             "endlinecolor": "#2a3f5f",
             "gridcolor": "white",
             "linecolor": "white",
             "minorgridcolor": "white",
             "startlinecolor": "#2a3f5f"
            },
            "type": "carpet"
           }
          ],
          "choropleth": [
           {
            "colorbar": {
             "outlinewidth": 0,
             "ticks": ""
            },
            "type": "choropleth"
           }
          ],
          "contour": [
           {
            "colorbar": {
             "outlinewidth": 0,
             "ticks": ""
            },
            "colorscale": [
             [
              0,
              "#0d0887"
             ],
             [
              0.1111111111111111,
              "#46039f"
             ],
             [
              0.2222222222222222,
              "#7201a8"
             ],
             [
              0.3333333333333333,
              "#9c179e"
             ],
             [
              0.4444444444444444,
              "#bd3786"
             ],
             [
              0.5555555555555556,
              "#d8576b"
             ],
             [
              0.6666666666666666,
              "#ed7953"
             ],
             [
              0.7777777777777778,
              "#fb9f3a"
             ],
             [
              0.8888888888888888,
              "#fdca26"
             ],
             [
              1,
              "#f0f921"
             ]
            ],
            "type": "contour"
           }
          ],
          "contourcarpet": [
           {
            "colorbar": {
             "outlinewidth": 0,
             "ticks": ""
            },
            "type": "contourcarpet"
           }
          ],
          "heatmap": [
           {
            "colorbar": {
             "outlinewidth": 0,
             "ticks": ""
            },
            "colorscale": [
             [
              0,
              "#0d0887"
             ],
             [
              0.1111111111111111,
              "#46039f"
             ],
             [
              0.2222222222222222,
              "#7201a8"
             ],
             [
              0.3333333333333333,
              "#9c179e"
             ],
             [
              0.4444444444444444,
              "#bd3786"
             ],
             [
              0.5555555555555556,
              "#d8576b"
             ],
             [
              0.6666666666666666,
              "#ed7953"
             ],
             [
              0.7777777777777778,
              "#fb9f3a"
             ],
             [
              0.8888888888888888,
              "#fdca26"
             ],
             [
              1,
              "#f0f921"
             ]
            ],
            "type": "heatmap"
           }
          ],
          "heatmapgl": [
           {
            "colorbar": {
             "outlinewidth": 0,
             "ticks": ""
            },
            "colorscale": [
             [
              0,
              "#0d0887"
             ],
             [
              0.1111111111111111,
              "#46039f"
             ],
             [
              0.2222222222222222,
              "#7201a8"
             ],
             [
              0.3333333333333333,
              "#9c179e"
             ],
             [
              0.4444444444444444,
              "#bd3786"
             ],
             [
              0.5555555555555556,
              "#d8576b"
             ],
             [
              0.6666666666666666,
              "#ed7953"
             ],
             [
              0.7777777777777778,
              "#fb9f3a"
             ],
             [
              0.8888888888888888,
              "#fdca26"
             ],
             [
              1,
              "#f0f921"
             ]
            ],
            "type": "heatmapgl"
           }
          ],
          "histogram": [
           {
            "marker": {
             "pattern": {
              "fillmode": "overlay",
              "size": 10,
              "solidity": 0.2
             }
            },
            "type": "histogram"
           }
          ],
          "histogram2d": [
           {
            "colorbar": {
             "outlinewidth": 0,
             "ticks": ""
            },
            "colorscale": [
             [
              0,
              "#0d0887"
             ],
             [
              0.1111111111111111,
              "#46039f"
             ],
             [
              0.2222222222222222,
              "#7201a8"
             ],
             [
              0.3333333333333333,
              "#9c179e"
             ],
             [
              0.4444444444444444,
              "#bd3786"
             ],
             [
              0.5555555555555556,
              "#d8576b"
             ],
             [
              0.6666666666666666,
              "#ed7953"
             ],
             [
              0.7777777777777778,
              "#fb9f3a"
             ],
             [
              0.8888888888888888,
              "#fdca26"
             ],
             [
              1,
              "#f0f921"
             ]
            ],
            "type": "histogram2d"
           }
          ],
          "histogram2dcontour": [
           {
            "colorbar": {
             "outlinewidth": 0,
             "ticks": ""
            },
            "colorscale": [
             [
              0,
              "#0d0887"
             ],
             [
              0.1111111111111111,
              "#46039f"
             ],
             [
              0.2222222222222222,
              "#7201a8"
             ],
             [
              0.3333333333333333,
              "#9c179e"
             ],
             [
              0.4444444444444444,
              "#bd3786"
             ],
             [
              0.5555555555555556,
              "#d8576b"
             ],
             [
              0.6666666666666666,
              "#ed7953"
             ],
             [
              0.7777777777777778,
              "#fb9f3a"
             ],
             [
              0.8888888888888888,
              "#fdca26"
             ],
             [
              1,
              "#f0f921"
             ]
            ],
            "type": "histogram2dcontour"
           }
          ],
          "mesh3d": [
           {
            "colorbar": {
             "outlinewidth": 0,
             "ticks": ""
            },
            "type": "mesh3d"
           }
          ],
          "parcoords": [
           {
            "line": {
             "colorbar": {
              "outlinewidth": 0,
              "ticks": ""
             }
            },
            "type": "parcoords"
           }
          ],
          "pie": [
           {
            "automargin": true,
            "type": "pie"
           }
          ],
          "scatter": [
           {
            "marker": {
             "colorbar": {
              "outlinewidth": 0,
              "ticks": ""
             }
            },
            "type": "scatter"
           }
          ],
          "scatter3d": [
           {
            "line": {
             "colorbar": {
              "outlinewidth": 0,
              "ticks": ""
             }
            },
            "marker": {
             "colorbar": {
              "outlinewidth": 0,
              "ticks": ""
             }
            },
            "type": "scatter3d"
           }
          ],
          "scattercarpet": [
           {
            "marker": {
             "colorbar": {
              "outlinewidth": 0,
              "ticks": ""
             }
            },
            "type": "scattercarpet"
           }
          ],
          "scattergeo": [
           {
            "marker": {
             "colorbar": {
              "outlinewidth": 0,
              "ticks": ""
             }
            },
            "type": "scattergeo"
           }
          ],
          "scattergl": [
           {
            "marker": {
             "colorbar": {
              "outlinewidth": 0,
              "ticks": ""
             }
            },
            "type": "scattergl"
           }
          ],
          "scattermapbox": [
           {
            "marker": {
             "colorbar": {
              "outlinewidth": 0,
              "ticks": ""
             }
            },
            "type": "scattermapbox"
           }
          ],
          "scatterpolar": [
           {
            "marker": {
             "colorbar": {
              "outlinewidth": 0,
              "ticks": ""
             }
            },
            "type": "scatterpolar"
           }
          ],
          "scatterpolargl": [
           {
            "marker": {
             "colorbar": {
              "outlinewidth": 0,
              "ticks": ""
             }
            },
            "type": "scatterpolargl"
           }
          ],
          "scatterternary": [
           {
            "marker": {
             "colorbar": {
              "outlinewidth": 0,
              "ticks": ""
             }
            },
            "type": "scatterternary"
           }
          ],
          "surface": [
           {
            "colorbar": {
             "outlinewidth": 0,
             "ticks": ""
            },
            "colorscale": [
             [
              0,
              "#0d0887"
             ],
             [
              0.1111111111111111,
              "#46039f"
             ],
             [
              0.2222222222222222,
              "#7201a8"
             ],
             [
              0.3333333333333333,
              "#9c179e"
             ],
             [
              0.4444444444444444,
              "#bd3786"
             ],
             [
              0.5555555555555556,
              "#d8576b"
             ],
             [
              0.6666666666666666,
              "#ed7953"
             ],
             [
              0.7777777777777778,
              "#fb9f3a"
             ],
             [
              0.8888888888888888,
              "#fdca26"
             ],
             [
              1,
              "#f0f921"
             ]
            ],
            "type": "surface"
           }
          ],
          "table": [
           {
            "cells": {
             "fill": {
              "color": "#EBF0F8"
             },
             "line": {
              "color": "white"
             }
            },
            "header": {
             "fill": {
              "color": "#C8D4E3"
             },
             "line": {
              "color": "white"
             }
            },
            "type": "table"
           }
          ]
         },
         "layout": {
          "annotationdefaults": {
           "arrowcolor": "#2a3f5f",
           "arrowhead": 0,
           "arrowwidth": 1
          },
          "autotypenumbers": "strict",
          "coloraxis": {
           "colorbar": {
            "outlinewidth": 0,
            "ticks": ""
           }
          },
          "colorscale": {
           "diverging": [
            [
             0,
             "#8e0152"
            ],
            [
             0.1,
             "#c51b7d"
            ],
            [
             0.2,
             "#de77ae"
            ],
            [
             0.3,
             "#f1b6da"
            ],
            [
             0.4,
             "#fde0ef"
            ],
            [
             0.5,
             "#f7f7f7"
            ],
            [
             0.6,
             "#e6f5d0"
            ],
            [
             0.7,
             "#b8e186"
            ],
            [
             0.8,
             "#7fbc41"
            ],
            [
             0.9,
             "#4d9221"
            ],
            [
             1,
             "#276419"
            ]
           ],
           "sequential": [
            [
             0,
             "#0d0887"
            ],
            [
             0.1111111111111111,
             "#46039f"
            ],
            [
             0.2222222222222222,
             "#7201a8"
            ],
            [
             0.3333333333333333,
             "#9c179e"
            ],
            [
             0.4444444444444444,
             "#bd3786"
            ],
            [
             0.5555555555555556,
             "#d8576b"
            ],
            [
             0.6666666666666666,
             "#ed7953"
            ],
            [
             0.7777777777777778,
             "#fb9f3a"
            ],
            [
             0.8888888888888888,
             "#fdca26"
            ],
            [
             1,
             "#f0f921"
            ]
           ],
           "sequentialminus": [
            [
             0,
             "#0d0887"
            ],
            [
             0.1111111111111111,
             "#46039f"
            ],
            [
             0.2222222222222222,
             "#7201a8"
            ],
            [
             0.3333333333333333,
             "#9c179e"
            ],
            [
             0.4444444444444444,
             "#bd3786"
            ],
            [
             0.5555555555555556,
             "#d8576b"
            ],
            [
             0.6666666666666666,
             "#ed7953"
            ],
            [
             0.7777777777777778,
             "#fb9f3a"
            ],
            [
             0.8888888888888888,
             "#fdca26"
            ],
            [
             1,
             "#f0f921"
            ]
           ]
          },
          "colorway": [
           "#636efa",
           "#EF553B",
           "#00cc96",
           "#ab63fa",
           "#FFA15A",
           "#19d3f3",
           "#FF6692",
           "#B6E880",
           "#FF97FF",
           "#FECB52"
          ],
          "font": {
           "color": "#2a3f5f"
          },
          "geo": {
           "bgcolor": "white",
           "lakecolor": "white",
           "landcolor": "#E5ECF6",
           "showlakes": true,
           "showland": true,
           "subunitcolor": "white"
          },
          "hoverlabel": {
           "align": "left"
          },
          "hovermode": "closest",
          "mapbox": {
           "style": "light"
          },
          "paper_bgcolor": "white",
          "plot_bgcolor": "#E5ECF6",
          "polar": {
           "angularaxis": {
            "gridcolor": "white",
            "linecolor": "white",
            "ticks": ""
           },
           "bgcolor": "#E5ECF6",
           "radialaxis": {
            "gridcolor": "white",
            "linecolor": "white",
            "ticks": ""
           }
          },
          "scene": {
           "xaxis": {
            "backgroundcolor": "#E5ECF6",
            "gridcolor": "white",
            "gridwidth": 2,
            "linecolor": "white",
            "showbackground": true,
            "ticks": "",
            "zerolinecolor": "white"
           },
           "yaxis": {
            "backgroundcolor": "#E5ECF6",
            "gridcolor": "white",
            "gridwidth": 2,
            "linecolor": "white",
            "showbackground": true,
            "ticks": "",
            "zerolinecolor": "white"
           },
           "zaxis": {
            "backgroundcolor": "#E5ECF6",
            "gridcolor": "white",
            "gridwidth": 2,
            "linecolor": "white",
            "showbackground": true,
            "ticks": "",
            "zerolinecolor": "white"
           }
          },
          "shapedefaults": {
           "line": {
            "color": "#2a3f5f"
           }
          },
          "ternary": {
           "aaxis": {
            "gridcolor": "white",
            "linecolor": "white",
            "ticks": ""
           },
           "baxis": {
            "gridcolor": "white",
            "linecolor": "white",
            "ticks": ""
           },
           "bgcolor": "#E5ECF6",
           "caxis": {
            "gridcolor": "white",
            "linecolor": "white",
            "ticks": ""
           }
          },
          "title": {
           "x": 0.05
          },
          "xaxis": {
           "automargin": true,
           "gridcolor": "white",
           "linecolor": "white",
           "ticks": "",
           "title": {
            "standoff": 15
           },
           "zerolinecolor": "white",
           "zerolinewidth": 2
          },
          "yaxis": {
           "automargin": true,
           "gridcolor": "white",
           "linecolor": "white",
           "ticks": "",
           "title": {
            "standoff": 15
           },
           "zerolinecolor": "white",
           "zerolinewidth": 2
          }
         }
        },
        "title": {
         "text": "Total Process Flow",
         "x": 0.6,
         "xanchor": "center"
        },
        "xaxis": {
         "anchor": "y",
         "domain": [
          0,
          1
         ],
         "title": {
          "font": {
           "color": "Black",
           "family": "Arial",
           "size": 18
          },
          "text": "x Axis"
         }
        },
        "yaxis": {
         "anchor": "x",
         "domain": [
          0,
          1
         ],
         "title": {
          "font": {
           "color": "black",
           "family": "Arial",
           "size": 18
          },
          "text": "Scenario-1 Process Time Delta"
         }
        }
       }
      }
     },
     "metadata": {},
     "output_type": "display_data"
    }
   ],
   "source": [
    "row_wise_percent_df = scenario_1_df_time[scenario_1_df_time.columns[:-1]]\n",
    "\n",
    "row_wise_percent_df = row_wise_percent_df.div(row_wise_percent_df.sum(axis=1), axis=0).round(2)\n",
    "\n",
    "row_wise_percent_df = row_wise_percent_df.fillna(0)\n",
    "try:\n",
    "    \n",
    "    row_wise_percent_df = row_wise_percent_df.multiply(100).astype(int)\n",
    "except:\n",
    "    pass\n",
    "\n",
    "scenario_1_df_time_object = scenario_1_df_time.copy()\n",
    "\n",
    "for i in scenario_1_df_time_object.columns:\n",
    "    scenario_1_df_time_object[i] = scenario_1_df_time_object[i].astype(str)\n",
    "    \n",
    "for idx, val in enumerate(row_wise_percent_df.index):\n",
    "    values_to_be_used = scenario_1_df_time.values.tolist()[idx]\n",
    "    variable_names = scenario_1_df_time.columns\n",
    "    #variable_names = [x[12:] for x in variable_names]\n",
    "\n",
    "    annotation_names = scenario_1_df_time_object.values.tolist()[idx]\n",
    "    annotation_names = [x[:-3] for x in annotation_names]\n",
    "\n",
    "\n",
    "    per_annot = row_wise_percent_df.values.tolist()[idx]\n",
    "\n",
    "    fig = make_subplots()\n",
    "\n",
    "    fig.add_trace(\n",
    "        go.Funnel(\n",
    "        y = variable_names[:-1],\n",
    "        x = values_to_be_used[:-1],\n",
    "        textposition='none',\n",
    "            marker = {\"color\": [blue_color, blue_color, blue_color, blue_color, blue_color,\\\n",
    "                           blue_color, blue_color, blue_color]}))\n",
    "\n",
    "\n",
    "    for i,y,k in zip(variable_names[:-1],annotation_names[:-1],per_annot):\n",
    "        fig.add_annotation(y=i,xanchor='left',\n",
    "                    text=y+'-->'+str(k)+'%',align='right',showarrow=False)\n",
    "\n",
    "    fig.update_layout(margin={\"r\":0,\"t\":24,\"l\":0,\"b\":0},paper_bgcolor='rgb(255,255,255)',plot_bgcolor='rgba(0,0,0,0)',\n",
    "                      title={'text':str(val)+' Process Flow','xanchor': 'center','x':0.6\n",
    "    },font=dict(color='black'),\n",
    "\n",
    "    xaxis=dict(\n",
    "        title='x Axis',\n",
    "        titlefont=dict(\n",
    "            family='Arial',\n",
    "            size=18,\n",
    "            color='Black'\n",
    "        )\n",
    "    ),\n",
    "    yaxis=dict(\n",
    "        title='Scenario-1 Process Time Delta',\n",
    "        titlefont=dict(\n",
    "            family='Arial',\n",
    "            size=18,\n",
    "            color='black'\n",
    "        )\n",
    "    ))\n",
    "\n",
    "\n",
    "    fig.write_image(output_distribution_sce_1+str(val)+\"_refill.png\") #pip install -U kaleido & restart jupyter\n",
    "\n",
    "\n",
    "fig.show()"
   ]
  },
  {
   "cell_type": "markdown",
   "metadata": {},
   "source": [
    "# Scenario - 2"
   ]
  },
  {
   "cell_type": "code",
   "execution_count": 13,
   "metadata": {},
   "outputs": [],
   "source": [
    "scenario_2_df_time = scenario_2_df.set_index('pharmacy_loc')  #Nan --->Total\n",
    "scenario_2_df_time\n",
    "\n",
    "#####\n",
    "scenario_2_df_time.rename(index={np.nan:'Total'},inplace=True)\n",
    "scenario_2_df_time\n",
    "\n",
    "#####\n",
    "my_string  = scenario_2_df_time.columns.str[12:]\n",
    "new_column_names = []\n",
    "for i in my_string:\n",
    "    nn = i.replace(\"_\", \" \")\n",
    "    new_column_names.append(nn)\n",
    "\n",
    "scenario_2_df_time.columns = new_column_names\n",
    "\n",
    "#####\n",
    "scenario_2_df_time['received to entered time'] = scenario_2_df_time['received to entered time'].replace('None',np.nan)\n",
    "scenario_2_df_time['received to entered time'] = scenario_2_df_time['received to entered time'].replace(np.nan,pd.to_timedelta(0))\n",
    "for i in scenario_2_df_time.columns:\n",
    "    #scenario_2_df_time[i] = scenario_2_df_time[i].astype(str).str[0:15]\n",
    "\n",
    "    scenario_2_df_time[i] = pd.to_timedelta(scenario_2_df_time[i]).dt.round('s')"
   ]
  },
  {
   "cell_type": "code",
   "execution_count": 14,
   "metadata": {},
   "outputs": [
    {
     "data": {
      "application/vnd.plotly.v1+json": {
       "config": {
        "plotlyServerURL": "https://plot.ly"
       },
       "data": [
        {
         "marker": {
          "color": [
           "#80ADF7",
           "#80ADF7",
           "#80ADF7",
           "#80ADF7",
           "#80ADF7",
           "#80ADF7",
           "#80ADF7",
           "#80ADF7",
           "#80ADF7",
           "#80ADF7",
           "#80ADF7"
          ]
         },
         "textposition": "none",
         "type": "funnel",
         "x": [
          0,
          9341000000000,
          17054000000000,
          406176000000000,
          267944000000000,
          69909000000000,
          826000000000,
          2756000000000,
          2331000000000,
          165429000000000,
          174985000000000
         ],
         "y": [
          "received to entered time",
          "time to identify pa is required",
          "time taken by rx to be picked up by IBD team",
          "time taken by IBD team to process rx",
          "ibd processing end to first billed",
          "first billed to last billed",
          "last billed to label printed",
          "label printed to drug picked",
          "drug picked to rph verified",
          "rph verified to pharmacy pickedup",
          "rph verified to delivered"
         ]
        }
       ],
       "layout": {
        "annotations": [
         {
          "align": "right",
          "showarrow": false,
          "text": "0 d-->0%",
          "xanchor": "left",
          "y": "received to entered time"
         },
         {
          "align": "right",
          "showarrow": false,
          "text": "0 days 02:35-->1%",
          "xanchor": "left",
          "y": "time to identify pa is required"
         },
         {
          "align": "right",
          "showarrow": false,
          "text": "0 days 04:44-->2%",
          "xanchor": "left",
          "y": "time taken by rx to be picked up by IBD team"
         },
         {
          "align": "right",
          "showarrow": false,
          "text": "4 days 16:49-->36%",
          "xanchor": "left",
          "y": "time taken by IBD team to process rx"
         },
         {
          "align": "right",
          "showarrow": false,
          "text": "3 days 02:25-->24%",
          "xanchor": "left",
          "y": "ibd processing end to first billed"
         },
         {
          "align": "right",
          "showarrow": false,
          "text": "0 days 19:25-->6%",
          "xanchor": "left",
          "y": "first billed to last billed"
         },
         {
          "align": "right",
          "showarrow": false,
          "text": "0 days 00:13-->0%",
          "xanchor": "left",
          "y": "last billed to label printed"
         },
         {
          "align": "right",
          "showarrow": false,
          "text": "0 days 00:45-->0%",
          "xanchor": "left",
          "y": "label printed to drug picked"
         },
         {
          "align": "right",
          "showarrow": false,
          "text": "0 days 00:38-->0%",
          "xanchor": "left",
          "y": "drug picked to rph verified"
         },
         {
          "align": "right",
          "showarrow": false,
          "text": "1 days 21:57-->15%",
          "xanchor": "left",
          "y": "rph verified to pharmacy pickedup"
         },
         {
          "align": "right",
          "showarrow": false,
          "text": "2 days 00:36-->16%",
          "xanchor": "left",
          "y": "rph verified to delivered"
         }
        ],
        "font": {
         "color": "black"
        },
        "margin": {
         "b": 0,
         "l": 0,
         "r": 0,
         "t": 24
        },
        "paper_bgcolor": "rgb(255,255,255)",
        "plot_bgcolor": "rgba(0,0,0,0)",
        "template": {
         "data": {
          "bar": [
           {
            "error_x": {
             "color": "#2a3f5f"
            },
            "error_y": {
             "color": "#2a3f5f"
            },
            "marker": {
             "line": {
              "color": "#E5ECF6",
              "width": 0.5
             },
             "pattern": {
              "fillmode": "overlay",
              "size": 10,
              "solidity": 0.2
             }
            },
            "type": "bar"
           }
          ],
          "barpolar": [
           {
            "marker": {
             "line": {
              "color": "#E5ECF6",
              "width": 0.5
             },
             "pattern": {
              "fillmode": "overlay",
              "size": 10,
              "solidity": 0.2
             }
            },
            "type": "barpolar"
           }
          ],
          "carpet": [
           {
            "aaxis": {
             "endlinecolor": "#2a3f5f",
             "gridcolor": "white",
             "linecolor": "white",
             "minorgridcolor": "white",
             "startlinecolor": "#2a3f5f"
            },
            "baxis": {
             "endlinecolor": "#2a3f5f",
             "gridcolor": "white",
             "linecolor": "white",
             "minorgridcolor": "white",
             "startlinecolor": "#2a3f5f"
            },
            "type": "carpet"
           }
          ],
          "choropleth": [
           {
            "colorbar": {
             "outlinewidth": 0,
             "ticks": ""
            },
            "type": "choropleth"
           }
          ],
          "contour": [
           {
            "colorbar": {
             "outlinewidth": 0,
             "ticks": ""
            },
            "colorscale": [
             [
              0,
              "#0d0887"
             ],
             [
              0.1111111111111111,
              "#46039f"
             ],
             [
              0.2222222222222222,
              "#7201a8"
             ],
             [
              0.3333333333333333,
              "#9c179e"
             ],
             [
              0.4444444444444444,
              "#bd3786"
             ],
             [
              0.5555555555555556,
              "#d8576b"
             ],
             [
              0.6666666666666666,
              "#ed7953"
             ],
             [
              0.7777777777777778,
              "#fb9f3a"
             ],
             [
              0.8888888888888888,
              "#fdca26"
             ],
             [
              1,
              "#f0f921"
             ]
            ],
            "type": "contour"
           }
          ],
          "contourcarpet": [
           {
            "colorbar": {
             "outlinewidth": 0,
             "ticks": ""
            },
            "type": "contourcarpet"
           }
          ],
          "heatmap": [
           {
            "colorbar": {
             "outlinewidth": 0,
             "ticks": ""
            },
            "colorscale": [
             [
              0,
              "#0d0887"
             ],
             [
              0.1111111111111111,
              "#46039f"
             ],
             [
              0.2222222222222222,
              "#7201a8"
             ],
             [
              0.3333333333333333,
              "#9c179e"
             ],
             [
              0.4444444444444444,
              "#bd3786"
             ],
             [
              0.5555555555555556,
              "#d8576b"
             ],
             [
              0.6666666666666666,
              "#ed7953"
             ],
             [
              0.7777777777777778,
              "#fb9f3a"
             ],
             [
              0.8888888888888888,
              "#fdca26"
             ],
             [
              1,
              "#f0f921"
             ]
            ],
            "type": "heatmap"
           }
          ],
          "heatmapgl": [
           {
            "colorbar": {
             "outlinewidth": 0,
             "ticks": ""
            },
            "colorscale": [
             [
              0,
              "#0d0887"
             ],
             [
              0.1111111111111111,
              "#46039f"
             ],
             [
              0.2222222222222222,
              "#7201a8"
             ],
             [
              0.3333333333333333,
              "#9c179e"
             ],
             [
              0.4444444444444444,
              "#bd3786"
             ],
             [
              0.5555555555555556,
              "#d8576b"
             ],
             [
              0.6666666666666666,
              "#ed7953"
             ],
             [
              0.7777777777777778,
              "#fb9f3a"
             ],
             [
              0.8888888888888888,
              "#fdca26"
             ],
             [
              1,
              "#f0f921"
             ]
            ],
            "type": "heatmapgl"
           }
          ],
          "histogram": [
           {
            "marker": {
             "pattern": {
              "fillmode": "overlay",
              "size": 10,
              "solidity": 0.2
             }
            },
            "type": "histogram"
           }
          ],
          "histogram2d": [
           {
            "colorbar": {
             "outlinewidth": 0,
             "ticks": ""
            },
            "colorscale": [
             [
              0,
              "#0d0887"
             ],
             [
              0.1111111111111111,
              "#46039f"
             ],
             [
              0.2222222222222222,
              "#7201a8"
             ],
             [
              0.3333333333333333,
              "#9c179e"
             ],
             [
              0.4444444444444444,
              "#bd3786"
             ],
             [
              0.5555555555555556,
              "#d8576b"
             ],
             [
              0.6666666666666666,
              "#ed7953"
             ],
             [
              0.7777777777777778,
              "#fb9f3a"
             ],
             [
              0.8888888888888888,
              "#fdca26"
             ],
             [
              1,
              "#f0f921"
             ]
            ],
            "type": "histogram2d"
           }
          ],
          "histogram2dcontour": [
           {
            "colorbar": {
             "outlinewidth": 0,
             "ticks": ""
            },
            "colorscale": [
             [
              0,
              "#0d0887"
             ],
             [
              0.1111111111111111,
              "#46039f"
             ],
             [
              0.2222222222222222,
              "#7201a8"
             ],
             [
              0.3333333333333333,
              "#9c179e"
             ],
             [
              0.4444444444444444,
              "#bd3786"
             ],
             [
              0.5555555555555556,
              "#d8576b"
             ],
             [
              0.6666666666666666,
              "#ed7953"
             ],
             [
              0.7777777777777778,
              "#fb9f3a"
             ],
             [
              0.8888888888888888,
              "#fdca26"
             ],
             [
              1,
              "#f0f921"
             ]
            ],
            "type": "histogram2dcontour"
           }
          ],
          "mesh3d": [
           {
            "colorbar": {
             "outlinewidth": 0,
             "ticks": ""
            },
            "type": "mesh3d"
           }
          ],
          "parcoords": [
           {
            "line": {
             "colorbar": {
              "outlinewidth": 0,
              "ticks": ""
             }
            },
            "type": "parcoords"
           }
          ],
          "pie": [
           {
            "automargin": true,
            "type": "pie"
           }
          ],
          "scatter": [
           {
            "marker": {
             "colorbar": {
              "outlinewidth": 0,
              "ticks": ""
             }
            },
            "type": "scatter"
           }
          ],
          "scatter3d": [
           {
            "line": {
             "colorbar": {
              "outlinewidth": 0,
              "ticks": ""
             }
            },
            "marker": {
             "colorbar": {
              "outlinewidth": 0,
              "ticks": ""
             }
            },
            "type": "scatter3d"
           }
          ],
          "scattercarpet": [
           {
            "marker": {
             "colorbar": {
              "outlinewidth": 0,
              "ticks": ""
             }
            },
            "type": "scattercarpet"
           }
          ],
          "scattergeo": [
           {
            "marker": {
             "colorbar": {
              "outlinewidth": 0,
              "ticks": ""
             }
            },
            "type": "scattergeo"
           }
          ],
          "scattergl": [
           {
            "marker": {
             "colorbar": {
              "outlinewidth": 0,
              "ticks": ""
             }
            },
            "type": "scattergl"
           }
          ],
          "scattermapbox": [
           {
            "marker": {
             "colorbar": {
              "outlinewidth": 0,
              "ticks": ""
             }
            },
            "type": "scattermapbox"
           }
          ],
          "scatterpolar": [
           {
            "marker": {
             "colorbar": {
              "outlinewidth": 0,
              "ticks": ""
             }
            },
            "type": "scatterpolar"
           }
          ],
          "scatterpolargl": [
           {
            "marker": {
             "colorbar": {
              "outlinewidth": 0,
              "ticks": ""
             }
            },
            "type": "scatterpolargl"
           }
          ],
          "scatterternary": [
           {
            "marker": {
             "colorbar": {
              "outlinewidth": 0,
              "ticks": ""
             }
            },
            "type": "scatterternary"
           }
          ],
          "surface": [
           {
            "colorbar": {
             "outlinewidth": 0,
             "ticks": ""
            },
            "colorscale": [
             [
              0,
              "#0d0887"
             ],
             [
              0.1111111111111111,
              "#46039f"
             ],
             [
              0.2222222222222222,
              "#7201a8"
             ],
             [
              0.3333333333333333,
              "#9c179e"
             ],
             [
              0.4444444444444444,
              "#bd3786"
             ],
             [
              0.5555555555555556,
              "#d8576b"
             ],
             [
              0.6666666666666666,
              "#ed7953"
             ],
             [
              0.7777777777777778,
              "#fb9f3a"
             ],
             [
              0.8888888888888888,
              "#fdca26"
             ],
             [
              1,
              "#f0f921"
             ]
            ],
            "type": "surface"
           }
          ],
          "table": [
           {
            "cells": {
             "fill": {
              "color": "#EBF0F8"
             },
             "line": {
              "color": "white"
             }
            },
            "header": {
             "fill": {
              "color": "#C8D4E3"
             },
             "line": {
              "color": "white"
             }
            },
            "type": "table"
           }
          ]
         },
         "layout": {
          "annotationdefaults": {
           "arrowcolor": "#2a3f5f",
           "arrowhead": 0,
           "arrowwidth": 1
          },
          "autotypenumbers": "strict",
          "coloraxis": {
           "colorbar": {
            "outlinewidth": 0,
            "ticks": ""
           }
          },
          "colorscale": {
           "diverging": [
            [
             0,
             "#8e0152"
            ],
            [
             0.1,
             "#c51b7d"
            ],
            [
             0.2,
             "#de77ae"
            ],
            [
             0.3,
             "#f1b6da"
            ],
            [
             0.4,
             "#fde0ef"
            ],
            [
             0.5,
             "#f7f7f7"
            ],
            [
             0.6,
             "#e6f5d0"
            ],
            [
             0.7,
             "#b8e186"
            ],
            [
             0.8,
             "#7fbc41"
            ],
            [
             0.9,
             "#4d9221"
            ],
            [
             1,
             "#276419"
            ]
           ],
           "sequential": [
            [
             0,
             "#0d0887"
            ],
            [
             0.1111111111111111,
             "#46039f"
            ],
            [
             0.2222222222222222,
             "#7201a8"
            ],
            [
             0.3333333333333333,
             "#9c179e"
            ],
            [
             0.4444444444444444,
             "#bd3786"
            ],
            [
             0.5555555555555556,
             "#d8576b"
            ],
            [
             0.6666666666666666,
             "#ed7953"
            ],
            [
             0.7777777777777778,
             "#fb9f3a"
            ],
            [
             0.8888888888888888,
             "#fdca26"
            ],
            [
             1,
             "#f0f921"
            ]
           ],
           "sequentialminus": [
            [
             0,
             "#0d0887"
            ],
            [
             0.1111111111111111,
             "#46039f"
            ],
            [
             0.2222222222222222,
             "#7201a8"
            ],
            [
             0.3333333333333333,
             "#9c179e"
            ],
            [
             0.4444444444444444,
             "#bd3786"
            ],
            [
             0.5555555555555556,
             "#d8576b"
            ],
            [
             0.6666666666666666,
             "#ed7953"
            ],
            [
             0.7777777777777778,
             "#fb9f3a"
            ],
            [
             0.8888888888888888,
             "#fdca26"
            ],
            [
             1,
             "#f0f921"
            ]
           ]
          },
          "colorway": [
           "#636efa",
           "#EF553B",
           "#00cc96",
           "#ab63fa",
           "#FFA15A",
           "#19d3f3",
           "#FF6692",
           "#B6E880",
           "#FF97FF",
           "#FECB52"
          ],
          "font": {
           "color": "#2a3f5f"
          },
          "geo": {
           "bgcolor": "white",
           "lakecolor": "white",
           "landcolor": "#E5ECF6",
           "showlakes": true,
           "showland": true,
           "subunitcolor": "white"
          },
          "hoverlabel": {
           "align": "left"
          },
          "hovermode": "closest",
          "mapbox": {
           "style": "light"
          },
          "paper_bgcolor": "white",
          "plot_bgcolor": "#E5ECF6",
          "polar": {
           "angularaxis": {
            "gridcolor": "white",
            "linecolor": "white",
            "ticks": ""
           },
           "bgcolor": "#E5ECF6",
           "radialaxis": {
            "gridcolor": "white",
            "linecolor": "white",
            "ticks": ""
           }
          },
          "scene": {
           "xaxis": {
            "backgroundcolor": "#E5ECF6",
            "gridcolor": "white",
            "gridwidth": 2,
            "linecolor": "white",
            "showbackground": true,
            "ticks": "",
            "zerolinecolor": "white"
           },
           "yaxis": {
            "backgroundcolor": "#E5ECF6",
            "gridcolor": "white",
            "gridwidth": 2,
            "linecolor": "white",
            "showbackground": true,
            "ticks": "",
            "zerolinecolor": "white"
           },
           "zaxis": {
            "backgroundcolor": "#E5ECF6",
            "gridcolor": "white",
            "gridwidth": 2,
            "linecolor": "white",
            "showbackground": true,
            "ticks": "",
            "zerolinecolor": "white"
           }
          },
          "shapedefaults": {
           "line": {
            "color": "#2a3f5f"
           }
          },
          "ternary": {
           "aaxis": {
            "gridcolor": "white",
            "linecolor": "white",
            "ticks": ""
           },
           "baxis": {
            "gridcolor": "white",
            "linecolor": "white",
            "ticks": ""
           },
           "bgcolor": "#E5ECF6",
           "caxis": {
            "gridcolor": "white",
            "linecolor": "white",
            "ticks": ""
           }
          },
          "title": {
           "x": 0.05
          },
          "xaxis": {
           "automargin": true,
           "gridcolor": "white",
           "linecolor": "white",
           "ticks": "",
           "title": {
            "standoff": 15
           },
           "zerolinecolor": "white",
           "zerolinewidth": 2
          },
          "yaxis": {
           "automargin": true,
           "gridcolor": "white",
           "linecolor": "white",
           "ticks": "",
           "title": {
            "standoff": 15
           },
           "zerolinecolor": "white",
           "zerolinewidth": 2
          }
         }
        },
        "title": {
         "text": "Total Process Flow",
         "x": 0.6,
         "xanchor": "center"
        },
        "xaxis": {
         "anchor": "y",
         "domain": [
          0,
          1
         ],
         "title": {
          "font": {
           "color": "Black",
           "family": "Arial",
           "size": 18
          },
          "text": "x Axis"
         }
        },
        "yaxis": {
         "anchor": "x",
         "domain": [
          0,
          1
         ],
         "title": {
          "font": {
           "color": "black",
           "family": "Arial",
           "size": 18
          },
          "text": "Scenario-2 Process Time Delta"
         }
        }
       }
      }
     },
     "metadata": {},
     "output_type": "display_data"
    }
   ],
   "source": [
    "row_wise_percent_df = scenario_2_df_time[scenario_2_df_time.columns[:-1]]\n",
    "\n",
    "row_wise_percent_df = row_wise_percent_df.div(row_wise_percent_df.sum(axis=1), axis=0).round(2)\n",
    "\n",
    "row_wise_percent_df = row_wise_percent_df.fillna(0)\n",
    "try:\n",
    "    \n",
    "    row_wise_percent_df = row_wise_percent_df.multiply(100).astype(int)\n",
    "except:\n",
    "    pass\n",
    "# row_wise_percent_df = row_wise_percent_df.multiply(100).astype(int)\n",
    "\n",
    "scenario_2_df_time_object = scenario_2_df_time.copy()\n",
    "\n",
    "for i in scenario_2_df_time_object.columns:\n",
    "    scenario_2_df_time_object[i] = scenario_2_df_time_object[i].astype(str)\n",
    "    \n",
    "for idx, val in enumerate(row_wise_percent_df.index):\n",
    "    values_to_be_used = scenario_2_df_time.values.tolist()[idx]\n",
    "    variable_names = scenario_2_df_time.columns\n",
    "    #variable_names = [x[12:] for x in variable_names]\n",
    "\n",
    "    annotation_names = scenario_2_df_time_object.values.tolist()[idx]\n",
    "    annotation_names = [x[:-3] for x in annotation_names]\n",
    "\n",
    "\n",
    "    per_annot = row_wise_percent_df.values.tolist()[idx]\n",
    "\n",
    "    fig = make_subplots()\n",
    "\n",
    "    fig.add_trace(\n",
    "        go.Funnel(\n",
    "        y = variable_names[:-1],\n",
    "        x = values_to_be_used[:-1],\n",
    "        textposition='none',\n",
    "            marker = {\"color\": [blue_color, blue_color, blue_color, blue_color, blue_color,\\\n",
    "                           blue_color, blue_color, blue_color,blue_color, blue_color, blue_color]}))\n",
    "\n",
    "\n",
    "    for i,y,k in zip(variable_names[:-1],annotation_names[:-1],per_annot):\n",
    "        fig.add_annotation(y=i,xanchor='left',\n",
    "                    text=y+'-->'+str(k)+'%',align='right',showarrow=False)\n",
    "\n",
    "    fig.update_layout(margin={\"r\":0,\"t\":24,\"l\":0,\"b\":0},paper_bgcolor='rgb(255,255,255)',plot_bgcolor='rgba(0,0,0,0)',\n",
    "                      title={'text':str(val)+' Process Flow','xanchor': 'center','x':0.6\n",
    "    },font=dict(color='black'),\n",
    "\n",
    "    xaxis=dict(\n",
    "        title='x Axis',\n",
    "        titlefont=dict(\n",
    "            family='Arial',\n",
    "            size=18,\n",
    "            color='Black'\n",
    "        )\n",
    "    ),\n",
    "    yaxis=dict(\n",
    "        title='Scenario-2 Process Time Delta',\n",
    "        titlefont=dict(\n",
    "            family='Arial',\n",
    "            size=18,\n",
    "            color='black'\n",
    "        )\n",
    "    ))\n",
    "\n",
    "\n",
    "    fig.write_image(output_distribution_sce_2+str(val)+\"_refill.png\") #pip install -U kaleido & restart jupyter\n",
    "\n",
    "\n",
    "fig.show()"
   ]
  },
  {
   "cell_type": "markdown",
   "metadata": {},
   "source": [
    "# Scenario - 3"
   ]
  },
  {
   "cell_type": "code",
   "execution_count": 15,
   "metadata": {},
   "outputs": [],
   "source": [
    "# scenario_3_df_time"
   ]
  },
  {
   "cell_type": "code",
   "execution_count": 16,
   "metadata": {},
   "outputs": [],
   "source": [
    "scenario_3_df_time = scenario_3_df.set_index('pharmacy_loc')  #Nan --->Total\n",
    "scenario_3_df_time\n",
    "\n",
    "#####\n",
    "scenario_3_df_time.rename(index={np.nan:'Total'},inplace=True)\n",
    "scenario_3_df_time\n",
    "\n",
    "#####\n",
    "my_string  = scenario_3_df_time.columns.str[12:]\n",
    "new_column_names = []\n",
    "for i in my_string:\n",
    "    nn = i.replace(\"_\", \" \")\n",
    "    new_column_names.append(nn)\n",
    "\n",
    "scenario_3_df_time.columns = new_column_names\n",
    "\n",
    "#####\n",
    "scenario_3_df_time['received to entered time'] = scenario_3_df_time['received to entered time'].replace('None',np.nan)\n",
    "scenario_3_df_time[['time taken by rx to be picked up by IBD team','received to entered time']] = scenario_3_df_time[['time taken by rx to be picked up by IBD team','received to entered time']].replace(np.nan,pd.to_timedelta(0))\n",
    "scenario_3_df_time[['time taken by rx to be picked up by IBD team','received to entered time']] = scenario_3_df_time[['time taken by rx to be picked up by IBD team','received to entered time']].replace('None',pd.to_timedelta(0))\n",
    "\n",
    "for i in scenario_3_df_time.columns:\n",
    "    #scenario_3_df_time[i] = scenario_3_df_time[i].astype(str).str[0:15]\n",
    "\n",
    "    scenario_3_df_time[i] = pd.to_timedelta(scenario_3_df_time[i]).dt.round('s')"
   ]
  },
  {
   "cell_type": "code",
   "execution_count": 17,
   "metadata": {},
   "outputs": [
    {
     "data": {
      "application/vnd.plotly.v1+json": {
       "config": {
        "plotlyServerURL": "https://plot.ly"
       },
       "data": [
        {
         "marker": {
          "color": [
           "#80ADF7",
           "#80ADF7",
           "#80ADF7",
           "#80ADF7",
           "#80ADF7",
           "#80ADF7",
           "#80ADF7",
           "#80ADF7",
           "#80ADF7",
           "#80ADF7",
           "#80ADF7",
           "#80ADF7"
          ]
         },
         "textposition": "none",
         "type": "funnel",
         "x": [
          0,
          875654000000000,
          257318000000000,
          121966000000000,
          347465000000000,
          817549000000000,
          603194000000000,
          2660000000000,
          1856000000000,
          4162000000000,
          232000000000,
          195261000000000
         ],
         "y": [
          "received to entered time",
          "rx entered to callins processing start",
          "time taken for call for insurance process",
          "time taken by rx to be picked up by IBD team",
          "time taken by IBD team to process rx",
          "ibd processing end to first billed",
          "first billed to last billed",
          "last billed to label printed",
          "label printed to drug picked",
          "drug picked to rph verified",
          "rph verified to pharmacy pickedup",
          "rph verified to delivered"
         ]
        }
       ],
       "layout": {
        "annotations": [
         {
          "align": "right",
          "showarrow": false,
          "text": "0 d-->0%",
          "xanchor": "left",
          "y": "received to entered time"
         },
         {
          "align": "right",
          "showarrow": false,
          "text": "10 days 03:14-->27%",
          "xanchor": "left",
          "y": "rx entered to callins processing start"
         },
         {
          "align": "right",
          "showarrow": false,
          "text": "2 days 23:28-->8%",
          "xanchor": "left",
          "y": "time taken for call for insurance process"
         },
         {
          "align": "right",
          "showarrow": false,
          "text": "1 days 09:52-->4%",
          "xanchor": "left",
          "y": "time taken by rx to be picked up by IBD team"
         },
         {
          "align": "right",
          "showarrow": false,
          "text": "4 days 00:31-->11%",
          "xanchor": "left",
          "y": "time taken by IBD team to process rx"
         },
         {
          "align": "right",
          "showarrow": false,
          "text": "9 days 11:05-->25%",
          "xanchor": "left",
          "y": "ibd processing end to first billed"
         },
         {
          "align": "right",
          "showarrow": false,
          "text": "6 days 23:33-->19%",
          "xanchor": "left",
          "y": "first billed to last billed"
         },
         {
          "align": "right",
          "showarrow": false,
          "text": "0 days 00:44-->0%",
          "xanchor": "left",
          "y": "last billed to label printed"
         },
         {
          "align": "right",
          "showarrow": false,
          "text": "0 days 00:30-->0%",
          "xanchor": "left",
          "y": "label printed to drug picked"
         },
         {
          "align": "right",
          "showarrow": false,
          "text": "0 days 01:09-->0%",
          "xanchor": "left",
          "y": "drug picked to rph verified"
         },
         {
          "align": "right",
          "showarrow": false,
          "text": "0 days 00:03-->0%",
          "xanchor": "left",
          "y": "rph verified to pharmacy pickedup"
         },
         {
          "align": "right",
          "showarrow": false,
          "text": "2 days 06:14-->6%",
          "xanchor": "left",
          "y": "rph verified to delivered"
         }
        ],
        "font": {
         "color": "black"
        },
        "margin": {
         "b": 0,
         "l": 0,
         "r": 0,
         "t": 34
        },
        "paper_bgcolor": "rgb(355,355,355)",
        "plot_bgcolor": "rgba(0,0,0,0)",
        "template": {
         "data": {
          "bar": [
           {
            "error_x": {
             "color": "#2a3f5f"
            },
            "error_y": {
             "color": "#2a3f5f"
            },
            "marker": {
             "line": {
              "color": "#E5ECF6",
              "width": 0.5
             },
             "pattern": {
              "fillmode": "overlay",
              "size": 10,
              "solidity": 0.2
             }
            },
            "type": "bar"
           }
          ],
          "barpolar": [
           {
            "marker": {
             "line": {
              "color": "#E5ECF6",
              "width": 0.5
             },
             "pattern": {
              "fillmode": "overlay",
              "size": 10,
              "solidity": 0.2
             }
            },
            "type": "barpolar"
           }
          ],
          "carpet": [
           {
            "aaxis": {
             "endlinecolor": "#2a3f5f",
             "gridcolor": "white",
             "linecolor": "white",
             "minorgridcolor": "white",
             "startlinecolor": "#2a3f5f"
            },
            "baxis": {
             "endlinecolor": "#2a3f5f",
             "gridcolor": "white",
             "linecolor": "white",
             "minorgridcolor": "white",
             "startlinecolor": "#2a3f5f"
            },
            "type": "carpet"
           }
          ],
          "choropleth": [
           {
            "colorbar": {
             "outlinewidth": 0,
             "ticks": ""
            },
            "type": "choropleth"
           }
          ],
          "contour": [
           {
            "colorbar": {
             "outlinewidth": 0,
             "ticks": ""
            },
            "colorscale": [
             [
              0,
              "#0d0887"
             ],
             [
              0.1111111111111111,
              "#46039f"
             ],
             [
              0.2222222222222222,
              "#7201a8"
             ],
             [
              0.3333333333333333,
              "#9c179e"
             ],
             [
              0.4444444444444444,
              "#bd3786"
             ],
             [
              0.5555555555555556,
              "#d8576b"
             ],
             [
              0.6666666666666666,
              "#ed7953"
             ],
             [
              0.7777777777777778,
              "#fb9f3a"
             ],
             [
              0.8888888888888888,
              "#fdca26"
             ],
             [
              1,
              "#f0f921"
             ]
            ],
            "type": "contour"
           }
          ],
          "contourcarpet": [
           {
            "colorbar": {
             "outlinewidth": 0,
             "ticks": ""
            },
            "type": "contourcarpet"
           }
          ],
          "heatmap": [
           {
            "colorbar": {
             "outlinewidth": 0,
             "ticks": ""
            },
            "colorscale": [
             [
              0,
              "#0d0887"
             ],
             [
              0.1111111111111111,
              "#46039f"
             ],
             [
              0.2222222222222222,
              "#7201a8"
             ],
             [
              0.3333333333333333,
              "#9c179e"
             ],
             [
              0.4444444444444444,
              "#bd3786"
             ],
             [
              0.5555555555555556,
              "#d8576b"
             ],
             [
              0.6666666666666666,
              "#ed7953"
             ],
             [
              0.7777777777777778,
              "#fb9f3a"
             ],
             [
              0.8888888888888888,
              "#fdca26"
             ],
             [
              1,
              "#f0f921"
             ]
            ],
            "type": "heatmap"
           }
          ],
          "heatmapgl": [
           {
            "colorbar": {
             "outlinewidth": 0,
             "ticks": ""
            },
            "colorscale": [
             [
              0,
              "#0d0887"
             ],
             [
              0.1111111111111111,
              "#46039f"
             ],
             [
              0.2222222222222222,
              "#7201a8"
             ],
             [
              0.3333333333333333,
              "#9c179e"
             ],
             [
              0.4444444444444444,
              "#bd3786"
             ],
             [
              0.5555555555555556,
              "#d8576b"
             ],
             [
              0.6666666666666666,
              "#ed7953"
             ],
             [
              0.7777777777777778,
              "#fb9f3a"
             ],
             [
              0.8888888888888888,
              "#fdca26"
             ],
             [
              1,
              "#f0f921"
             ]
            ],
            "type": "heatmapgl"
           }
          ],
          "histogram": [
           {
            "marker": {
             "pattern": {
              "fillmode": "overlay",
              "size": 10,
              "solidity": 0.2
             }
            },
            "type": "histogram"
           }
          ],
          "histogram2d": [
           {
            "colorbar": {
             "outlinewidth": 0,
             "ticks": ""
            },
            "colorscale": [
             [
              0,
              "#0d0887"
             ],
             [
              0.1111111111111111,
              "#46039f"
             ],
             [
              0.2222222222222222,
              "#7201a8"
             ],
             [
              0.3333333333333333,
              "#9c179e"
             ],
             [
              0.4444444444444444,
              "#bd3786"
             ],
             [
              0.5555555555555556,
              "#d8576b"
             ],
             [
              0.6666666666666666,
              "#ed7953"
             ],
             [
              0.7777777777777778,
              "#fb9f3a"
             ],
             [
              0.8888888888888888,
              "#fdca26"
             ],
             [
              1,
              "#f0f921"
             ]
            ],
            "type": "histogram2d"
           }
          ],
          "histogram2dcontour": [
           {
            "colorbar": {
             "outlinewidth": 0,
             "ticks": ""
            },
            "colorscale": [
             [
              0,
              "#0d0887"
             ],
             [
              0.1111111111111111,
              "#46039f"
             ],
             [
              0.2222222222222222,
              "#7201a8"
             ],
             [
              0.3333333333333333,
              "#9c179e"
             ],
             [
              0.4444444444444444,
              "#bd3786"
             ],
             [
              0.5555555555555556,
              "#d8576b"
             ],
             [
              0.6666666666666666,
              "#ed7953"
             ],
             [
              0.7777777777777778,
              "#fb9f3a"
             ],
             [
              0.8888888888888888,
              "#fdca26"
             ],
             [
              1,
              "#f0f921"
             ]
            ],
            "type": "histogram2dcontour"
           }
          ],
          "mesh3d": [
           {
            "colorbar": {
             "outlinewidth": 0,
             "ticks": ""
            },
            "type": "mesh3d"
           }
          ],
          "parcoords": [
           {
            "line": {
             "colorbar": {
              "outlinewidth": 0,
              "ticks": ""
             }
            },
            "type": "parcoords"
           }
          ],
          "pie": [
           {
            "automargin": true,
            "type": "pie"
           }
          ],
          "scatter": [
           {
            "marker": {
             "colorbar": {
              "outlinewidth": 0,
              "ticks": ""
             }
            },
            "type": "scatter"
           }
          ],
          "scatter3d": [
           {
            "line": {
             "colorbar": {
              "outlinewidth": 0,
              "ticks": ""
             }
            },
            "marker": {
             "colorbar": {
              "outlinewidth": 0,
              "ticks": ""
             }
            },
            "type": "scatter3d"
           }
          ],
          "scattercarpet": [
           {
            "marker": {
             "colorbar": {
              "outlinewidth": 0,
              "ticks": ""
             }
            },
            "type": "scattercarpet"
           }
          ],
          "scattergeo": [
           {
            "marker": {
             "colorbar": {
              "outlinewidth": 0,
              "ticks": ""
             }
            },
            "type": "scattergeo"
           }
          ],
          "scattergl": [
           {
            "marker": {
             "colorbar": {
              "outlinewidth": 0,
              "ticks": ""
             }
            },
            "type": "scattergl"
           }
          ],
          "scattermapbox": [
           {
            "marker": {
             "colorbar": {
              "outlinewidth": 0,
              "ticks": ""
             }
            },
            "type": "scattermapbox"
           }
          ],
          "scatterpolar": [
           {
            "marker": {
             "colorbar": {
              "outlinewidth": 0,
              "ticks": ""
             }
            },
            "type": "scatterpolar"
           }
          ],
          "scatterpolargl": [
           {
            "marker": {
             "colorbar": {
              "outlinewidth": 0,
              "ticks": ""
             }
            },
            "type": "scatterpolargl"
           }
          ],
          "scatterternary": [
           {
            "marker": {
             "colorbar": {
              "outlinewidth": 0,
              "ticks": ""
             }
            },
            "type": "scatterternary"
           }
          ],
          "surface": [
           {
            "colorbar": {
             "outlinewidth": 0,
             "ticks": ""
            },
            "colorscale": [
             [
              0,
              "#0d0887"
             ],
             [
              0.1111111111111111,
              "#46039f"
             ],
             [
              0.2222222222222222,
              "#7201a8"
             ],
             [
              0.3333333333333333,
              "#9c179e"
             ],
             [
              0.4444444444444444,
              "#bd3786"
             ],
             [
              0.5555555555555556,
              "#d8576b"
             ],
             [
              0.6666666666666666,
              "#ed7953"
             ],
             [
              0.7777777777777778,
              "#fb9f3a"
             ],
             [
              0.8888888888888888,
              "#fdca26"
             ],
             [
              1,
              "#f0f921"
             ]
            ],
            "type": "surface"
           }
          ],
          "table": [
           {
            "cells": {
             "fill": {
              "color": "#EBF0F8"
             },
             "line": {
              "color": "white"
             }
            },
            "header": {
             "fill": {
              "color": "#C8D4E3"
             },
             "line": {
              "color": "white"
             }
            },
            "type": "table"
           }
          ]
         },
         "layout": {
          "annotationdefaults": {
           "arrowcolor": "#2a3f5f",
           "arrowhead": 0,
           "arrowwidth": 1
          },
          "autotypenumbers": "strict",
          "coloraxis": {
           "colorbar": {
            "outlinewidth": 0,
            "ticks": ""
           }
          },
          "colorscale": {
           "diverging": [
            [
             0,
             "#8e0152"
            ],
            [
             0.1,
             "#c51b7d"
            ],
            [
             0.2,
             "#de77ae"
            ],
            [
             0.3,
             "#f1b6da"
            ],
            [
             0.4,
             "#fde0ef"
            ],
            [
             0.5,
             "#f7f7f7"
            ],
            [
             0.6,
             "#e6f5d0"
            ],
            [
             0.7,
             "#b8e186"
            ],
            [
             0.8,
             "#7fbc41"
            ],
            [
             0.9,
             "#4d9221"
            ],
            [
             1,
             "#276419"
            ]
           ],
           "sequential": [
            [
             0,
             "#0d0887"
            ],
            [
             0.1111111111111111,
             "#46039f"
            ],
            [
             0.2222222222222222,
             "#7201a8"
            ],
            [
             0.3333333333333333,
             "#9c179e"
            ],
            [
             0.4444444444444444,
             "#bd3786"
            ],
            [
             0.5555555555555556,
             "#d8576b"
            ],
            [
             0.6666666666666666,
             "#ed7953"
            ],
            [
             0.7777777777777778,
             "#fb9f3a"
            ],
            [
             0.8888888888888888,
             "#fdca26"
            ],
            [
             1,
             "#f0f921"
            ]
           ],
           "sequentialminus": [
            [
             0,
             "#0d0887"
            ],
            [
             0.1111111111111111,
             "#46039f"
            ],
            [
             0.2222222222222222,
             "#7201a8"
            ],
            [
             0.3333333333333333,
             "#9c179e"
            ],
            [
             0.4444444444444444,
             "#bd3786"
            ],
            [
             0.5555555555555556,
             "#d8576b"
            ],
            [
             0.6666666666666666,
             "#ed7953"
            ],
            [
             0.7777777777777778,
             "#fb9f3a"
            ],
            [
             0.8888888888888888,
             "#fdca26"
            ],
            [
             1,
             "#f0f921"
            ]
           ]
          },
          "colorway": [
           "#636efa",
           "#EF553B",
           "#00cc96",
           "#ab63fa",
           "#FFA15A",
           "#19d3f3",
           "#FF6692",
           "#B6E880",
           "#FF97FF",
           "#FECB52"
          ],
          "font": {
           "color": "#2a3f5f"
          },
          "geo": {
           "bgcolor": "white",
           "lakecolor": "white",
           "landcolor": "#E5ECF6",
           "showlakes": true,
           "showland": true,
           "subunitcolor": "white"
          },
          "hoverlabel": {
           "align": "left"
          },
          "hovermode": "closest",
          "mapbox": {
           "style": "light"
          },
          "paper_bgcolor": "white",
          "plot_bgcolor": "#E5ECF6",
          "polar": {
           "angularaxis": {
            "gridcolor": "white",
            "linecolor": "white",
            "ticks": ""
           },
           "bgcolor": "#E5ECF6",
           "radialaxis": {
            "gridcolor": "white",
            "linecolor": "white",
            "ticks": ""
           }
          },
          "scene": {
           "xaxis": {
            "backgroundcolor": "#E5ECF6",
            "gridcolor": "white",
            "gridwidth": 2,
            "linecolor": "white",
            "showbackground": true,
            "ticks": "",
            "zerolinecolor": "white"
           },
           "yaxis": {
            "backgroundcolor": "#E5ECF6",
            "gridcolor": "white",
            "gridwidth": 2,
            "linecolor": "white",
            "showbackground": true,
            "ticks": "",
            "zerolinecolor": "white"
           },
           "zaxis": {
            "backgroundcolor": "#E5ECF6",
            "gridcolor": "white",
            "gridwidth": 2,
            "linecolor": "white",
            "showbackground": true,
            "ticks": "",
            "zerolinecolor": "white"
           }
          },
          "shapedefaults": {
           "line": {
            "color": "#2a3f5f"
           }
          },
          "ternary": {
           "aaxis": {
            "gridcolor": "white",
            "linecolor": "white",
            "ticks": ""
           },
           "baxis": {
            "gridcolor": "white",
            "linecolor": "white",
            "ticks": ""
           },
           "bgcolor": "#E5ECF6",
           "caxis": {
            "gridcolor": "white",
            "linecolor": "white",
            "ticks": ""
           }
          },
          "title": {
           "x": 0.05
          },
          "xaxis": {
           "automargin": true,
           "gridcolor": "white",
           "linecolor": "white",
           "ticks": "",
           "title": {
            "standoff": 15
           },
           "zerolinecolor": "white",
           "zerolinewidth": 2
          },
          "yaxis": {
           "automargin": true,
           "gridcolor": "white",
           "linecolor": "white",
           "ticks": "",
           "title": {
            "standoff": 15
           },
           "zerolinecolor": "white",
           "zerolinewidth": 2
          }
         }
        },
        "title": {
         "text": "Total Process Flow",
         "x": 0.6,
         "xanchor": "center"
        },
        "xaxis": {
         "anchor": "y",
         "domain": [
          0,
          1
         ],
         "title": {
          "font": {
           "color": "Black",
           "family": "Arial",
           "size": 18
          },
          "text": "x Axis"
         }
        },
        "yaxis": {
         "anchor": "x",
         "domain": [
          0,
          1
         ],
         "title": {
          "font": {
           "color": "black",
           "family": "Arial",
           "size": 18
          },
          "text": "Scenario-3 Process Time Delta"
         }
        }
       }
      }
     },
     "metadata": {},
     "output_type": "display_data"
    }
   ],
   "source": [
    "row_wise_percent_df = scenario_3_df_time[scenario_3_df_time.columns[:-1]]\n",
    "\n",
    "row_wise_percent_df = row_wise_percent_df.div(row_wise_percent_df.sum(axis=1), axis=0).round(2)\n",
    "\n",
    "row_wise_percent_df = row_wise_percent_df.fillna(0)\n",
    "try:\n",
    "    \n",
    "    row_wise_percent_df = row_wise_percent_df.multiply(100).astype(int)\n",
    "except:\n",
    "    pass\n",
    "# row_wise_percent_df = row_wise_percent_df.multiply(100).astype(int)\n",
    "\n",
    "scenario_3_df_time_object = scenario_3_df_time.copy()\n",
    "\n",
    "for i in scenario_3_df_time_object.columns:\n",
    "    scenario_3_df_time_object[i] = scenario_3_df_time_object[i].astype(str)\n",
    "    \n",
    "for idx, val in enumerate(row_wise_percent_df.index):\n",
    "    values_to_be_used = scenario_3_df_time.values.tolist()[idx]\n",
    "    variable_names = scenario_3_df_time.columns\n",
    "    #variable_names = [x[13:] for x in variable_names]\n",
    "\n",
    "    annotation_names = scenario_3_df_time_object.values.tolist()[idx]\n",
    "    annotation_names = [x[:-3] for x in annotation_names]\n",
    "\n",
    "\n",
    "    per_annot = row_wise_percent_df.values.tolist()[idx]\n",
    "\n",
    "    fig = make_subplots()\n",
    "\n",
    "    fig.add_trace(\n",
    "        go.Funnel(\n",
    "        y = variable_names[:-1],\n",
    "        x = values_to_be_used[:-1],\n",
    "        textposition='none',\n",
    "            marker = {\"color\": [blue_color, blue_color, blue_color, blue_color, blue_color,\\\n",
    "                           blue_color, blue_color, blue_color,blue_color, blue_color, blue_color,blue_color]}))\n",
    "\n",
    "\n",
    "    for i,y,k in zip(variable_names[:-1],annotation_names[:-1],per_annot):\n",
    "        fig.add_annotation(y=i,xanchor='left',\n",
    "                    text=y+'-->'+str(k)+'%',align='right',showarrow=False)\n",
    "\n",
    "    fig.update_layout(margin={\"r\":0,\"t\":34,\"l\":0,\"b\":0},paper_bgcolor='rgb(355,355,355)',plot_bgcolor='rgba(0,0,0,0)',\n",
    "                      title={'text':str(val)+' Process Flow','xanchor': 'center','x':0.6\n",
    "    },font=dict(color='black'),\n",
    "\n",
    "    xaxis=dict(\n",
    "        title='x Axis',\n",
    "        titlefont=dict(\n",
    "            family='Arial',\n",
    "            size=18,\n",
    "            color='Black'\n",
    "        )\n",
    "    ),\n",
    "    yaxis=dict(\n",
    "        title='Scenario-3 Process Time Delta',\n",
    "        titlefont=dict(\n",
    "            family='Arial',\n",
    "            size=18,\n",
    "            color='black'\n",
    "        )\n",
    "    ))\n",
    "\n",
    "\n",
    "    fig.write_image(output_distribution_sce_3+str(val)+\"_refill.png\") #pip install -U kaleido & restart jupyter\n",
    "\n",
    "\n",
    "fig.show()"
   ]
  },
  {
   "cell_type": "markdown",
   "metadata": {},
   "source": [
    "# Scenario - 4"
   ]
  },
  {
   "cell_type": "code",
   "execution_count": 18,
   "metadata": {},
   "outputs": [],
   "source": [
    "scenario_4_df_time = scenario_4_df.set_index('pharmacy_loc')  #Nan --->Total\n",
    "scenario_4_df_time\n",
    "\n",
    "#####\n",
    "scenario_4_df_time.rename(index={np.nan:'Total'},inplace=True)\n",
    "scenario_4_df_time\n",
    "\n",
    "#####\n",
    "my_string  = scenario_4_df_time.columns.str[12:]\n",
    "new_column_names = []\n",
    "for i in my_string:\n",
    "    nn = i.replace(\"_\", \" \")\n",
    "    new_column_names.append(nn)\n",
    "\n",
    "scenario_4_df_time.columns = new_column_names\n",
    "\n",
    "#####\n",
    "scenario_4_df_time['received to entered time'] = scenario_4_df_time['received to entered time'].replace('None',np.nan)\n",
    "scenario_4_df_time['received to entered time'] = scenario_4_df_time['received to entered time'].replace(np.nan,pd.to_timedelta(0))\n",
    "\n",
    "for i in scenario_4_df_time.columns:\n",
    "    #scenario_4_df_time[i] = scenario_4_df_time[i].astype(str).str[0:15]\n",
    "\n",
    "    scenario_4_df_time[i] = pd.to_timedelta(scenario_4_df_time[i]).dt.round('s')"
   ]
  },
  {
   "cell_type": "code",
   "execution_count": 19,
   "metadata": {},
   "outputs": [
    {
     "data": {
      "application/vnd.plotly.v1+json": {
       "config": {
        "plotlyServerURL": "https://plot.ly"
       },
       "data": [
        {
         "marker": {
          "color": [
           "#80ADF7",
           "#80ADF7",
           "#80ADF7",
           "#80ADF7",
           "#80ADF7",
           "#80ADF7",
           "#80ADF7",
           "#80ADF7",
           "#80ADF7",
           "#80ADF7",
           "#80ADF7"
          ]
         },
         "textposition": "none",
         "type": "funnel",
         "x": [
          0,
          87109000000000,
          229872000000000,
          87455000000000,
          1600000000000,
          2216000000000,
          4025000000000,
          85017000000000,
          188852000000000
         ],
         "y": [
          "received to entered time",
          "rx entered to callins processing start",
          "time taken for call for insurance process",
          "first billed to last billed",
          "last billed to label printed",
          "label printed to drug picked",
          "drug picked to rph verified",
          "rph verified to pharmacy pickedup",
          "rph verified to delivered"
         ]
        }
       ],
       "layout": {
        "annotations": [
         {
          "align": "right",
          "showarrow": false,
          "text": "0 d-->0%",
          "xanchor": "left",
          "y": "received to entered time"
         },
         {
          "align": "right",
          "showarrow": false,
          "text": "1 days 00:11-->13%",
          "xanchor": "left",
          "y": "rx entered to callins processing start"
         },
         {
          "align": "right",
          "showarrow": false,
          "text": "2 days 15:51-->34%",
          "xanchor": "left",
          "y": "time taken for call for insurance process"
         },
         {
          "align": "right",
          "showarrow": false,
          "text": "1 days 00:17-->13%",
          "xanchor": "left",
          "y": "first billed to last billed"
         },
         {
          "align": "right",
          "showarrow": false,
          "text": "0 days 00:26-->0%",
          "xanchor": "left",
          "y": "last billed to label printed"
         },
         {
          "align": "right",
          "showarrow": false,
          "text": "0 days 00:36-->0%",
          "xanchor": "left",
          "y": "label printed to drug picked"
         },
         {
          "align": "right",
          "showarrow": false,
          "text": "0 days 01:07-->1%",
          "xanchor": "left",
          "y": "drug picked to rph verified"
         },
         {
          "align": "right",
          "showarrow": false,
          "text": "0 days 23:36-->12%",
          "xanchor": "left",
          "y": "rph verified to pharmacy pickedup"
         },
         {
          "align": "right",
          "showarrow": false,
          "text": "2 days 04:27-->28%",
          "xanchor": "left",
          "y": "rph verified to delivered"
         }
        ],
        "font": {
         "color": "black"
        },
        "margin": {
         "b": 0,
         "l": 0,
         "r": 0,
         "t": 44
        },
        "paper_bgcolor": "rgb(455,455,455)",
        "plot_bgcolor": "rgba(0,0,0,0)",
        "template": {
         "data": {
          "bar": [
           {
            "error_x": {
             "color": "#2a3f5f"
            },
            "error_y": {
             "color": "#2a3f5f"
            },
            "marker": {
             "line": {
              "color": "#E5ECF6",
              "width": 0.5
             },
             "pattern": {
              "fillmode": "overlay",
              "size": 10,
              "solidity": 0.2
             }
            },
            "type": "bar"
           }
          ],
          "barpolar": [
           {
            "marker": {
             "line": {
              "color": "#E5ECF6",
              "width": 0.5
             },
             "pattern": {
              "fillmode": "overlay",
              "size": 10,
              "solidity": 0.2
             }
            },
            "type": "barpolar"
           }
          ],
          "carpet": [
           {
            "aaxis": {
             "endlinecolor": "#2a3f5f",
             "gridcolor": "white",
             "linecolor": "white",
             "minorgridcolor": "white",
             "startlinecolor": "#2a3f5f"
            },
            "baxis": {
             "endlinecolor": "#2a3f5f",
             "gridcolor": "white",
             "linecolor": "white",
             "minorgridcolor": "white",
             "startlinecolor": "#2a3f5f"
            },
            "type": "carpet"
           }
          ],
          "choropleth": [
           {
            "colorbar": {
             "outlinewidth": 0,
             "ticks": ""
            },
            "type": "choropleth"
           }
          ],
          "contour": [
           {
            "colorbar": {
             "outlinewidth": 0,
             "ticks": ""
            },
            "colorscale": [
             [
              0,
              "#0d0887"
             ],
             [
              0.1111111111111111,
              "#46039f"
             ],
             [
              0.2222222222222222,
              "#7201a8"
             ],
             [
              0.3333333333333333,
              "#9c179e"
             ],
             [
              0.4444444444444444,
              "#bd3786"
             ],
             [
              0.5555555555555556,
              "#d8576b"
             ],
             [
              0.6666666666666666,
              "#ed7953"
             ],
             [
              0.7777777777777778,
              "#fb9f3a"
             ],
             [
              0.8888888888888888,
              "#fdca26"
             ],
             [
              1,
              "#f0f921"
             ]
            ],
            "type": "contour"
           }
          ],
          "contourcarpet": [
           {
            "colorbar": {
             "outlinewidth": 0,
             "ticks": ""
            },
            "type": "contourcarpet"
           }
          ],
          "heatmap": [
           {
            "colorbar": {
             "outlinewidth": 0,
             "ticks": ""
            },
            "colorscale": [
             [
              0,
              "#0d0887"
             ],
             [
              0.1111111111111111,
              "#46039f"
             ],
             [
              0.2222222222222222,
              "#7201a8"
             ],
             [
              0.3333333333333333,
              "#9c179e"
             ],
             [
              0.4444444444444444,
              "#bd3786"
             ],
             [
              0.5555555555555556,
              "#d8576b"
             ],
             [
              0.6666666666666666,
              "#ed7953"
             ],
             [
              0.7777777777777778,
              "#fb9f3a"
             ],
             [
              0.8888888888888888,
              "#fdca26"
             ],
             [
              1,
              "#f0f921"
             ]
            ],
            "type": "heatmap"
           }
          ],
          "heatmapgl": [
           {
            "colorbar": {
             "outlinewidth": 0,
             "ticks": ""
            },
            "colorscale": [
             [
              0,
              "#0d0887"
             ],
             [
              0.1111111111111111,
              "#46039f"
             ],
             [
              0.2222222222222222,
              "#7201a8"
             ],
             [
              0.3333333333333333,
              "#9c179e"
             ],
             [
              0.4444444444444444,
              "#bd3786"
             ],
             [
              0.5555555555555556,
              "#d8576b"
             ],
             [
              0.6666666666666666,
              "#ed7953"
             ],
             [
              0.7777777777777778,
              "#fb9f3a"
             ],
             [
              0.8888888888888888,
              "#fdca26"
             ],
             [
              1,
              "#f0f921"
             ]
            ],
            "type": "heatmapgl"
           }
          ],
          "histogram": [
           {
            "marker": {
             "pattern": {
              "fillmode": "overlay",
              "size": 10,
              "solidity": 0.2
             }
            },
            "type": "histogram"
           }
          ],
          "histogram2d": [
           {
            "colorbar": {
             "outlinewidth": 0,
             "ticks": ""
            },
            "colorscale": [
             [
              0,
              "#0d0887"
             ],
             [
              0.1111111111111111,
              "#46039f"
             ],
             [
              0.2222222222222222,
              "#7201a8"
             ],
             [
              0.3333333333333333,
              "#9c179e"
             ],
             [
              0.4444444444444444,
              "#bd3786"
             ],
             [
              0.5555555555555556,
              "#d8576b"
             ],
             [
              0.6666666666666666,
              "#ed7953"
             ],
             [
              0.7777777777777778,
              "#fb9f3a"
             ],
             [
              0.8888888888888888,
              "#fdca26"
             ],
             [
              1,
              "#f0f921"
             ]
            ],
            "type": "histogram2d"
           }
          ],
          "histogram2dcontour": [
           {
            "colorbar": {
             "outlinewidth": 0,
             "ticks": ""
            },
            "colorscale": [
             [
              0,
              "#0d0887"
             ],
             [
              0.1111111111111111,
              "#46039f"
             ],
             [
              0.2222222222222222,
              "#7201a8"
             ],
             [
              0.3333333333333333,
              "#9c179e"
             ],
             [
              0.4444444444444444,
              "#bd3786"
             ],
             [
              0.5555555555555556,
              "#d8576b"
             ],
             [
              0.6666666666666666,
              "#ed7953"
             ],
             [
              0.7777777777777778,
              "#fb9f3a"
             ],
             [
              0.8888888888888888,
              "#fdca26"
             ],
             [
              1,
              "#f0f921"
             ]
            ],
            "type": "histogram2dcontour"
           }
          ],
          "mesh3d": [
           {
            "colorbar": {
             "outlinewidth": 0,
             "ticks": ""
            },
            "type": "mesh3d"
           }
          ],
          "parcoords": [
           {
            "line": {
             "colorbar": {
              "outlinewidth": 0,
              "ticks": ""
             }
            },
            "type": "parcoords"
           }
          ],
          "pie": [
           {
            "automargin": true,
            "type": "pie"
           }
          ],
          "scatter": [
           {
            "marker": {
             "colorbar": {
              "outlinewidth": 0,
              "ticks": ""
             }
            },
            "type": "scatter"
           }
          ],
          "scatter3d": [
           {
            "line": {
             "colorbar": {
              "outlinewidth": 0,
              "ticks": ""
             }
            },
            "marker": {
             "colorbar": {
              "outlinewidth": 0,
              "ticks": ""
             }
            },
            "type": "scatter3d"
           }
          ],
          "scattercarpet": [
           {
            "marker": {
             "colorbar": {
              "outlinewidth": 0,
              "ticks": ""
             }
            },
            "type": "scattercarpet"
           }
          ],
          "scattergeo": [
           {
            "marker": {
             "colorbar": {
              "outlinewidth": 0,
              "ticks": ""
             }
            },
            "type": "scattergeo"
           }
          ],
          "scattergl": [
           {
            "marker": {
             "colorbar": {
              "outlinewidth": 0,
              "ticks": ""
             }
            },
            "type": "scattergl"
           }
          ],
          "scattermapbox": [
           {
            "marker": {
             "colorbar": {
              "outlinewidth": 0,
              "ticks": ""
             }
            },
            "type": "scattermapbox"
           }
          ],
          "scatterpolar": [
           {
            "marker": {
             "colorbar": {
              "outlinewidth": 0,
              "ticks": ""
             }
            },
            "type": "scatterpolar"
           }
          ],
          "scatterpolargl": [
           {
            "marker": {
             "colorbar": {
              "outlinewidth": 0,
              "ticks": ""
             }
            },
            "type": "scatterpolargl"
           }
          ],
          "scatterternary": [
           {
            "marker": {
             "colorbar": {
              "outlinewidth": 0,
              "ticks": ""
             }
            },
            "type": "scatterternary"
           }
          ],
          "surface": [
           {
            "colorbar": {
             "outlinewidth": 0,
             "ticks": ""
            },
            "colorscale": [
             [
              0,
              "#0d0887"
             ],
             [
              0.1111111111111111,
              "#46039f"
             ],
             [
              0.2222222222222222,
              "#7201a8"
             ],
             [
              0.3333333333333333,
              "#9c179e"
             ],
             [
              0.4444444444444444,
              "#bd3786"
             ],
             [
              0.5555555555555556,
              "#d8576b"
             ],
             [
              0.6666666666666666,
              "#ed7953"
             ],
             [
              0.7777777777777778,
              "#fb9f3a"
             ],
             [
              0.8888888888888888,
              "#fdca26"
             ],
             [
              1,
              "#f0f921"
             ]
            ],
            "type": "surface"
           }
          ],
          "table": [
           {
            "cells": {
             "fill": {
              "color": "#EBF0F8"
             },
             "line": {
              "color": "white"
             }
            },
            "header": {
             "fill": {
              "color": "#C8D4E3"
             },
             "line": {
              "color": "white"
             }
            },
            "type": "table"
           }
          ]
         },
         "layout": {
          "annotationdefaults": {
           "arrowcolor": "#2a3f5f",
           "arrowhead": 0,
           "arrowwidth": 1
          },
          "autotypenumbers": "strict",
          "coloraxis": {
           "colorbar": {
            "outlinewidth": 0,
            "ticks": ""
           }
          },
          "colorscale": {
           "diverging": [
            [
             0,
             "#8e0152"
            ],
            [
             0.1,
             "#c51b7d"
            ],
            [
             0.2,
             "#de77ae"
            ],
            [
             0.3,
             "#f1b6da"
            ],
            [
             0.4,
             "#fde0ef"
            ],
            [
             0.5,
             "#f7f7f7"
            ],
            [
             0.6,
             "#e6f5d0"
            ],
            [
             0.7,
             "#b8e186"
            ],
            [
             0.8,
             "#7fbc41"
            ],
            [
             0.9,
             "#4d9221"
            ],
            [
             1,
             "#276419"
            ]
           ],
           "sequential": [
            [
             0,
             "#0d0887"
            ],
            [
             0.1111111111111111,
             "#46039f"
            ],
            [
             0.2222222222222222,
             "#7201a8"
            ],
            [
             0.3333333333333333,
             "#9c179e"
            ],
            [
             0.4444444444444444,
             "#bd3786"
            ],
            [
             0.5555555555555556,
             "#d8576b"
            ],
            [
             0.6666666666666666,
             "#ed7953"
            ],
            [
             0.7777777777777778,
             "#fb9f3a"
            ],
            [
             0.8888888888888888,
             "#fdca26"
            ],
            [
             1,
             "#f0f921"
            ]
           ],
           "sequentialminus": [
            [
             0,
             "#0d0887"
            ],
            [
             0.1111111111111111,
             "#46039f"
            ],
            [
             0.2222222222222222,
             "#7201a8"
            ],
            [
             0.3333333333333333,
             "#9c179e"
            ],
            [
             0.4444444444444444,
             "#bd3786"
            ],
            [
             0.5555555555555556,
             "#d8576b"
            ],
            [
             0.6666666666666666,
             "#ed7953"
            ],
            [
             0.7777777777777778,
             "#fb9f3a"
            ],
            [
             0.8888888888888888,
             "#fdca26"
            ],
            [
             1,
             "#f0f921"
            ]
           ]
          },
          "colorway": [
           "#636efa",
           "#EF553B",
           "#00cc96",
           "#ab63fa",
           "#FFA15A",
           "#19d3f3",
           "#FF6692",
           "#B6E880",
           "#FF97FF",
           "#FECB52"
          ],
          "font": {
           "color": "#2a3f5f"
          },
          "geo": {
           "bgcolor": "white",
           "lakecolor": "white",
           "landcolor": "#E5ECF6",
           "showlakes": true,
           "showland": true,
           "subunitcolor": "white"
          },
          "hoverlabel": {
           "align": "left"
          },
          "hovermode": "closest",
          "mapbox": {
           "style": "light"
          },
          "paper_bgcolor": "white",
          "plot_bgcolor": "#E5ECF6",
          "polar": {
           "angularaxis": {
            "gridcolor": "white",
            "linecolor": "white",
            "ticks": ""
           },
           "bgcolor": "#E5ECF6",
           "radialaxis": {
            "gridcolor": "white",
            "linecolor": "white",
            "ticks": ""
           }
          },
          "scene": {
           "xaxis": {
            "backgroundcolor": "#E5ECF6",
            "gridcolor": "white",
            "gridwidth": 2,
            "linecolor": "white",
            "showbackground": true,
            "ticks": "",
            "zerolinecolor": "white"
           },
           "yaxis": {
            "backgroundcolor": "#E5ECF6",
            "gridcolor": "white",
            "gridwidth": 2,
            "linecolor": "white",
            "showbackground": true,
            "ticks": "",
            "zerolinecolor": "white"
           },
           "zaxis": {
            "backgroundcolor": "#E5ECF6",
            "gridcolor": "white",
            "gridwidth": 2,
            "linecolor": "white",
            "showbackground": true,
            "ticks": "",
            "zerolinecolor": "white"
           }
          },
          "shapedefaults": {
           "line": {
            "color": "#2a3f5f"
           }
          },
          "ternary": {
           "aaxis": {
            "gridcolor": "white",
            "linecolor": "white",
            "ticks": ""
           },
           "baxis": {
            "gridcolor": "white",
            "linecolor": "white",
            "ticks": ""
           },
           "bgcolor": "#E5ECF6",
           "caxis": {
            "gridcolor": "white",
            "linecolor": "white",
            "ticks": ""
           }
          },
          "title": {
           "x": 0.05
          },
          "xaxis": {
           "automargin": true,
           "gridcolor": "white",
           "linecolor": "white",
           "ticks": "",
           "title": {
            "standoff": 15
           },
           "zerolinecolor": "white",
           "zerolinewidth": 2
          },
          "yaxis": {
           "automargin": true,
           "gridcolor": "white",
           "linecolor": "white",
           "ticks": "",
           "title": {
            "standoff": 15
           },
           "zerolinecolor": "white",
           "zerolinewidth": 2
          }
         }
        },
        "title": {
         "text": "Total Process Flow",
         "x": 0.6,
         "xanchor": "center"
        },
        "xaxis": {
         "anchor": "y",
         "domain": [
          0,
          1
         ],
         "title": {
          "font": {
           "color": "Black",
           "family": "Arial",
           "size": 18
          },
          "text": "x Axis"
         }
        },
        "yaxis": {
         "anchor": "x",
         "domain": [
          0,
          1
         ],
         "title": {
          "font": {
           "color": "black",
           "family": "Arial",
           "size": 18
          },
          "text": "Scenario-4 Process Time Delta"
         }
        }
       }
      }
     },
     "metadata": {},
     "output_type": "display_data"
    }
   ],
   "source": [
    "row_wise_percent_df = scenario_4_df_time[scenario_4_df_time.columns[:-1]]\n",
    "\n",
    "row_wise_percent_df = row_wise_percent_df.div(row_wise_percent_df.sum(axis=1), axis=0).round(2)\n",
    "\n",
    "row_wise_percent_df = row_wise_percent_df.fillna(0)\n",
    "\n",
    "try:\n",
    "    \n",
    "    row_wise_percent_df = row_wise_percent_df.multiply(100).astype(int)\n",
    "except:\n",
    "    pass\n",
    "scenario_4_df_time_object = scenario_4_df_time.copy()\n",
    "\n",
    "for i in scenario_4_df_time_object.columns:\n",
    "    scenario_4_df_time_object[i] = scenario_4_df_time_object[i].astype(str)\n",
    "    \n",
    "for idx, val in enumerate(row_wise_percent_df.index):\n",
    "    values_to_be_used = scenario_4_df_time.values.tolist()[idx]\n",
    "    variable_names = scenario_4_df_time.columns\n",
    "    #variable_names = [x[14:] for x in variable_names]\n",
    "\n",
    "    annotation_names = scenario_4_df_time_object.values.tolist()[idx]\n",
    "    annotation_names = [x[:-3] for x in annotation_names]\n",
    "\n",
    "\n",
    "    per_annot = row_wise_percent_df.values.tolist()[idx]\n",
    "\n",
    "    fig = make_subplots()\n",
    "\n",
    "    fig.add_trace(\n",
    "        go.Funnel(\n",
    "        y = variable_names[:-1],\n",
    "        x = values_to_be_used[:-1],\n",
    "        textposition='none',\n",
    "            marker = {\"color\": [blue_color, blue_color, blue_color, blue_color, blue_color,\\\n",
    "                           blue_color, blue_color, blue_color,blue_color, blue_color, blue_color]}))\n",
    "\n",
    "\n",
    "    for i,y,k in zip(variable_names[:-1],annotation_names[:-1],per_annot):\n",
    "        fig.add_annotation(y=i,xanchor='left',\n",
    "                    text=y+'-->'+str(k)+'%',align='right',showarrow=False)\n",
    "\n",
    "    fig.update_layout(margin={\"r\":0,\"t\":44,\"l\":0,\"b\":0},paper_bgcolor='rgb(455,455,455)',plot_bgcolor='rgba(0,0,0,0)',\n",
    "                      title={'text':str(val)+' Process Flow','xanchor': 'center','x':0.6\n",
    "    },font=dict(color='black'),\n",
    "\n",
    "    xaxis=dict(\n",
    "        title='x Axis',\n",
    "        titlefont=dict(\n",
    "            family='Arial',\n",
    "            size=18,\n",
    "            color='Black'\n",
    "        )\n",
    "    ),\n",
    "    yaxis=dict(\n",
    "        title='Scenario-4 Process Time Delta',\n",
    "        titlefont=dict(\n",
    "            family='Arial',\n",
    "            size=18,\n",
    "            color='black'\n",
    "        )\n",
    "    ))\n",
    "\n",
    "\n",
    "    fig.write_image(output_distribution_sce_4+str(val)+\"_refill.png\") #pip install -U kaleido & restart jupyter\n",
    "\n",
    "\n",
    "fig.show()"
   ]
  },
  {
   "cell_type": "markdown",
   "metadata": {},
   "source": [
    "# Minimum value visualization"
   ]
  },
  {
   "cell_type": "markdown",
   "metadata": {},
   "source": [
    "# Scenario-1"
   ]
  },
  {
   "cell_type": "code",
   "execution_count": 20,
   "metadata": {},
   "outputs": [
    {
     "name": "stdout",
     "output_type": "stream",
     "text": [
      "             received to entered time entered to first billed  \\\n",
      "pharmacy_loc                                                    \n",
      "FL-MI                            None         0 days 00:00:15   \n",
      "MD-BA                            None         0 days 00:00:29   \n",
      "NC-RA                            None         0 days 00:00:16   \n",
      "NJ-SO                            None         0 days 12:42:24   \n",
      "NY-BK                            None         0 days 05:25:09   \n",
      "NY-MA                            None         0 days 00:00:15   \n",
      "PA-PH                            None         0 days 00:00:28   \n",
      "Total                             NaN         0 days 00:00:28   \n",
      "\n",
      "             first billed to last billed last billed to label printed  \\\n",
      "pharmacy_loc                                                            \n",
      "FL-MI                    0 days 00:00:00              0 days 00:47:29   \n",
      "MD-BA                    0 days 00:00:11       0 days 00:27:23.500000   \n",
      "NC-RA                    0 days 00:00:00              0 days 00:00:06   \n",
      "NJ-SO                    0 days 00:00:00              0 days 00:53:14   \n",
      "NY-BK                    0 days 00:36:44              0 days 02:30:57   \n",
      "NY-MA                    0 days 00:00:00              0 days 00:00:14   \n",
      "PA-PH                    0 days 00:00:00              0 days 02:23:08   \n",
      "Total                    0 days 00:00:00              0 days 00:47:29   \n",
      "\n",
      "             label printed to drug picked drug picked to rph verified  \\\n",
      "pharmacy_loc                                                            \n",
      "FL-MI                     0 days 01:42:57             0 days 01:04:27   \n",
      "MD-BA                     0 days 00:19:12             0 days 00:47:02   \n",
      "NC-RA                     0 days 00:35:30             0 days 00:01:47   \n",
      "NJ-SO              0 days 00:48:43.500000             0 days 00:36:56   \n",
      "NY-BK                     0 days 01:17:05             0 days 00:55:10   \n",
      "NY-MA                     0 days 00:59:03      0 days 01:10:33.500000   \n",
      "PA-PH              0 days 00:47:05.500000             0 days 00:55:09   \n",
      "Total              0 days 00:48:43.500000             0 days 00:55:09   \n",
      "\n",
      "             rph verified to pharmacy pickedup rph verified to delivered  \\\n",
      "pharmacy_loc                                                               \n",
      "FL-MI                          0 days 20:05:17    1 days 01:45:22.500000   \n",
      "MD-BA                          0 days 02:25:56           1 days 21:18:03   \n",
      "NC-RA                          0 days 22:30:17           1 days 03:11:18   \n",
      "NJ-SO                          0 days 08:15:16           2 days 14:57:38   \n",
      "NY-BK                          0 days 10:06:57    1 days 20:37:37.500000   \n",
      "NY-MA                          1 days 01:43:15           1 days 20:20:54   \n",
      "PA-PH                   1 days 01:23:48.500000           2 days 21:17:05   \n",
      "Total                          0 days 20:05:17    1 days 20:37:37.500000   \n",
      "\n",
      "             final received to delivered  \n",
      "pharmacy_loc                              \n",
      "FL-MI                    4 days 01:10:46  \n",
      "MD-BA             7 days 04:29:18.500000  \n",
      "NC-RA             4 days 03:31:19.500000  \n",
      "NJ-SO                    8 days 11:57:32  \n",
      "NY-BK                    8 days 19:31:36  \n",
      "NY-MA                    4 days 21:16:34  \n",
      "PA-PH             6 days 02:00:36.500000  \n",
      "Total             6 days 02:00:36.500000  \n"
     ]
    }
   ],
   "source": [
    "scenario_1_df_mintime = scenario_1_df.set_index('pharmacy_loc')  #Nan --->Total\n",
    "scenario_1_df_mintime\n",
    "\n",
    "#####\n",
    "scenario_1_df_mintime.rename(index={np.nan:'Total'},inplace=True)\n",
    "scenario_1_df_mintime\n",
    "\n",
    "#####\n",
    "my_string  = scenario_1_df_mintime.columns.str[12:]\n",
    "new_column_names = []\n",
    "for i in my_string:\n",
    "    nn = i.replace(\"_\", \" \")\n",
    "    new_column_names.append(nn)\n",
    "\n",
    "scenario_1_df_mintime.columns = new_column_names\n",
    "print(scenario_1_df_mintime)\n",
    "#####\n",
    "scenario_1_df_mintime['received to entered time'] = scenario_1_df_mintime['received to entered time'].replace('None',np.nan)\n",
    "scenario_1_df_mintime['received to entered time'] = scenario_1_df_mintime['received to entered time'].replace(np.nan,pd.to_timedelta(0))\n",
    "for i in scenario_1_df_mintime.columns:\n",
    "    #scenario_1_df_mintime[i] = scenario_1_df_mintime[i].astype(str).str[0:15]\n",
    "\n",
    "    scenario_1_df_mintime[i] = pd.to_timedelta(scenario_1_df_mintime[i]).dt.round('s')"
   ]
  },
  {
   "cell_type": "code",
   "execution_count": 21,
   "metadata": {},
   "outputs": [
    {
     "data": {
      "text/html": [
       "<div>\n",
       "<style scoped>\n",
       "    .dataframe tbody tr th:only-of-type {\n",
       "        vertical-align: middle;\n",
       "    }\n",
       "\n",
       "    .dataframe tbody tr th {\n",
       "        vertical-align: top;\n",
       "    }\n",
       "\n",
       "    .dataframe thead th {\n",
       "        text-align: right;\n",
       "    }\n",
       "</style>\n",
       "<table border=\"1\" class=\"dataframe\">\n",
       "  <thead>\n",
       "    <tr style=\"text-align: right;\">\n",
       "      <th></th>\n",
       "      <th>received to entered time</th>\n",
       "      <th>entered to first billed</th>\n",
       "      <th>first billed to last billed</th>\n",
       "      <th>last billed to label printed</th>\n",
       "      <th>label printed to drug picked</th>\n",
       "      <th>drug picked to rph verified</th>\n",
       "      <th>rph verified to pharmacy pickedup</th>\n",
       "      <th>rph verified to delivered</th>\n",
       "      <th>final received to delivered</th>\n",
       "    </tr>\n",
       "    <tr>\n",
       "      <th>pharmacy_loc</th>\n",
       "      <th></th>\n",
       "      <th></th>\n",
       "      <th></th>\n",
       "      <th></th>\n",
       "      <th></th>\n",
       "      <th></th>\n",
       "      <th></th>\n",
       "      <th></th>\n",
       "      <th></th>\n",
       "    </tr>\n",
       "  </thead>\n",
       "  <tbody>\n",
       "    <tr>\n",
       "      <th>FL-MI</th>\n",
       "      <td>0 days</td>\n",
       "      <td>0 days 00:00:15</td>\n",
       "      <td>0 days 00:00:00</td>\n",
       "      <td>0 days 00:47:29</td>\n",
       "      <td>0 days 01:42:57</td>\n",
       "      <td>0 days 01:04:27</td>\n",
       "      <td>0 days 20:05:17</td>\n",
       "      <td>1 days 01:45:22</td>\n",
       "      <td>4 days 01:10:46</td>\n",
       "    </tr>\n",
       "    <tr>\n",
       "      <th>MD-BA</th>\n",
       "      <td>0 days</td>\n",
       "      <td>0 days 00:00:29</td>\n",
       "      <td>0 days 00:00:11</td>\n",
       "      <td>0 days 00:27:24</td>\n",
       "      <td>0 days 00:19:12</td>\n",
       "      <td>0 days 00:47:02</td>\n",
       "      <td>0 days 02:25:56</td>\n",
       "      <td>1 days 21:18:03</td>\n",
       "      <td>7 days 04:29:18</td>\n",
       "    </tr>\n",
       "    <tr>\n",
       "      <th>NC-RA</th>\n",
       "      <td>0 days</td>\n",
       "      <td>0 days 00:00:16</td>\n",
       "      <td>0 days 00:00:00</td>\n",
       "      <td>0 days 00:00:06</td>\n",
       "      <td>0 days 00:35:30</td>\n",
       "      <td>0 days 00:01:47</td>\n",
       "      <td>0 days 22:30:17</td>\n",
       "      <td>1 days 03:11:18</td>\n",
       "      <td>4 days 03:31:20</td>\n",
       "    </tr>\n",
       "    <tr>\n",
       "      <th>NJ-SO</th>\n",
       "      <td>0 days</td>\n",
       "      <td>0 days 12:42:24</td>\n",
       "      <td>0 days 00:00:00</td>\n",
       "      <td>0 days 00:53:14</td>\n",
       "      <td>0 days 00:48:44</td>\n",
       "      <td>0 days 00:36:56</td>\n",
       "      <td>0 days 08:15:16</td>\n",
       "      <td>2 days 14:57:38</td>\n",
       "      <td>8 days 11:57:32</td>\n",
       "    </tr>\n",
       "    <tr>\n",
       "      <th>NY-BK</th>\n",
       "      <td>0 days</td>\n",
       "      <td>0 days 05:25:09</td>\n",
       "      <td>0 days 00:36:44</td>\n",
       "      <td>0 days 02:30:57</td>\n",
       "      <td>0 days 01:17:05</td>\n",
       "      <td>0 days 00:55:10</td>\n",
       "      <td>0 days 10:06:57</td>\n",
       "      <td>1 days 20:37:38</td>\n",
       "      <td>8 days 19:31:36</td>\n",
       "    </tr>\n",
       "    <tr>\n",
       "      <th>NY-MA</th>\n",
       "      <td>0 days</td>\n",
       "      <td>0 days 00:00:15</td>\n",
       "      <td>0 days 00:00:00</td>\n",
       "      <td>0 days 00:00:14</td>\n",
       "      <td>0 days 00:59:03</td>\n",
       "      <td>0 days 01:10:34</td>\n",
       "      <td>1 days 01:43:15</td>\n",
       "      <td>1 days 20:20:54</td>\n",
       "      <td>4 days 21:16:34</td>\n",
       "    </tr>\n",
       "    <tr>\n",
       "      <th>PA-PH</th>\n",
       "      <td>0 days</td>\n",
       "      <td>0 days 00:00:28</td>\n",
       "      <td>0 days 00:00:00</td>\n",
       "      <td>0 days 02:23:08</td>\n",
       "      <td>0 days 00:47:06</td>\n",
       "      <td>0 days 00:55:09</td>\n",
       "      <td>1 days 01:23:48</td>\n",
       "      <td>2 days 21:17:05</td>\n",
       "      <td>6 days 02:00:36</td>\n",
       "    </tr>\n",
       "  </tbody>\n",
       "</table>\n",
       "</div>"
      ],
      "text/plain": [
       "             received to entered time entered to first billed  \\\n",
       "pharmacy_loc                                                    \n",
       "FL-MI                          0 days         0 days 00:00:15   \n",
       "MD-BA                          0 days         0 days 00:00:29   \n",
       "NC-RA                          0 days         0 days 00:00:16   \n",
       "NJ-SO                          0 days         0 days 12:42:24   \n",
       "NY-BK                          0 days         0 days 05:25:09   \n",
       "NY-MA                          0 days         0 days 00:00:15   \n",
       "PA-PH                          0 days         0 days 00:00:28   \n",
       "\n",
       "             first billed to last billed last billed to label printed  \\\n",
       "pharmacy_loc                                                            \n",
       "FL-MI                    0 days 00:00:00              0 days 00:47:29   \n",
       "MD-BA                    0 days 00:00:11              0 days 00:27:24   \n",
       "NC-RA                    0 days 00:00:00              0 days 00:00:06   \n",
       "NJ-SO                    0 days 00:00:00              0 days 00:53:14   \n",
       "NY-BK                    0 days 00:36:44              0 days 02:30:57   \n",
       "NY-MA                    0 days 00:00:00              0 days 00:00:14   \n",
       "PA-PH                    0 days 00:00:00              0 days 02:23:08   \n",
       "\n",
       "             label printed to drug picked drug picked to rph verified  \\\n",
       "pharmacy_loc                                                            \n",
       "FL-MI                     0 days 01:42:57             0 days 01:04:27   \n",
       "MD-BA                     0 days 00:19:12             0 days 00:47:02   \n",
       "NC-RA                     0 days 00:35:30             0 days 00:01:47   \n",
       "NJ-SO                     0 days 00:48:44             0 days 00:36:56   \n",
       "NY-BK                     0 days 01:17:05             0 days 00:55:10   \n",
       "NY-MA                     0 days 00:59:03             0 days 01:10:34   \n",
       "PA-PH                     0 days 00:47:06             0 days 00:55:09   \n",
       "\n",
       "             rph verified to pharmacy pickedup rph verified to delivered  \\\n",
       "pharmacy_loc                                                               \n",
       "FL-MI                          0 days 20:05:17           1 days 01:45:22   \n",
       "MD-BA                          0 days 02:25:56           1 days 21:18:03   \n",
       "NC-RA                          0 days 22:30:17           1 days 03:11:18   \n",
       "NJ-SO                          0 days 08:15:16           2 days 14:57:38   \n",
       "NY-BK                          0 days 10:06:57           1 days 20:37:38   \n",
       "NY-MA                          1 days 01:43:15           1 days 20:20:54   \n",
       "PA-PH                          1 days 01:23:48           2 days 21:17:05   \n",
       "\n",
       "             final received to delivered  \n",
       "pharmacy_loc                              \n",
       "FL-MI                    4 days 01:10:46  \n",
       "MD-BA                    7 days 04:29:18  \n",
       "NC-RA                    4 days 03:31:20  \n",
       "NJ-SO                    8 days 11:57:32  \n",
       "NY-BK                    8 days 19:31:36  \n",
       "NY-MA                    4 days 21:16:34  \n",
       "PA-PH                    6 days 02:00:36  "
      ]
     },
     "execution_count": 21,
     "metadata": {},
     "output_type": "execute_result"
    }
   ],
   "source": [
    "scen_1_min_df = scenario_1_df_mintime.iloc[:-1,:]\n",
    "scen_1_min_df"
   ]
  },
  {
   "cell_type": "code",
   "execution_count": 22,
   "metadata": {},
   "outputs": [
    {
     "name": "stderr",
     "output_type": "stream",
     "text": [
      "<ipython-input-22-14538a011c6e>:1: SettingWithCopyWarning:\n",
      "\n",
      "\n",
      "A value is trying to be set on a copy of a slice from a DataFrame.\n",
      "Try using .loc[row_indexer,col_indexer] = value instead\n",
      "\n",
      "See the caveats in the documentation: https://pandas.pydata.org/pandas-docs/stable/user_guide/indexing.html#returning-a-view-versus-a-copy\n",
      "\n"
     ]
    }
   ],
   "source": [
    "scen_1_min_df['received to entered time'] = scen_1_min_df['received to entered time'].replace(pd.NaT,pd.Timedelta(0))"
   ]
  },
  {
   "cell_type": "code",
   "execution_count": 23,
   "metadata": {},
   "outputs": [],
   "source": [
    "scen_1_min_df_final = pd.DataFrame(columns=['min value','pharmacy loc'],index=range(0,len(scen_1_min_df.columns)))\n",
    "scen_1_min_df_final['min value'] = scen_1_min_df.min(axis=0).values\n",
    "scen_1_min_df_final['pharmacy loc'] = scen_1_min_df.idxmin().values\n",
    "scen_1_min_df_final['deltatime'] = scen_1_min_df.columns\n",
    "\n",
    "#####\n",
    "scen_1_min_df_final['text'] = scen_1_min_df_final['pharmacy loc']+' - '+scen_1_min_df_final['min value'].astype(str)"
   ]
  },
  {
   "cell_type": "code",
   "execution_count": 24,
   "metadata": {},
   "outputs": [
    {
     "data": {
      "text/plain": [
       "received to entered time             FL-MI\n",
       "entered to first billed              FL-MI\n",
       "first billed to last billed          FL-MI\n",
       "last billed to label printed         NC-RA\n",
       "label printed to drug picked         MD-BA\n",
       "drug picked to rph verified          NC-RA\n",
       "rph verified to pharmacy pickedup    MD-BA\n",
       "rph verified to delivered            FL-MI\n",
       "final received to delivered          FL-MI\n",
       "dtype: object"
      ]
     },
     "execution_count": 24,
     "metadata": {},
     "output_type": "execute_result"
    }
   ],
   "source": [
    "scen_1_min_df.min(axis=0)\n",
    "#####\n",
    "scen_1_min_df.idxmin()"
   ]
  },
  {
   "cell_type": "code",
   "execution_count": 25,
   "metadata": {},
   "outputs": [
    {
     "data": {
      "text/html": [
       "<div>\n",
       "<style scoped>\n",
       "    .dataframe tbody tr th:only-of-type {\n",
       "        vertical-align: middle;\n",
       "    }\n",
       "\n",
       "    .dataframe tbody tr th {\n",
       "        vertical-align: top;\n",
       "    }\n",
       "\n",
       "    .dataframe thead th {\n",
       "        text-align: right;\n",
       "    }\n",
       "</style>\n",
       "<table border=\"1\" class=\"dataframe\">\n",
       "  <thead>\n",
       "    <tr style=\"text-align: right;\">\n",
       "      <th></th>\n",
       "      <th>min value</th>\n",
       "      <th>pharmacy loc</th>\n",
       "      <th>deltatime</th>\n",
       "      <th>text</th>\n",
       "    </tr>\n",
       "  </thead>\n",
       "  <tbody>\n",
       "    <tr>\n",
       "      <th>1</th>\n",
       "      <td>0 days 00:00:15</td>\n",
       "      <td>FL-MI</td>\n",
       "      <td>entered to first billed</td>\n",
       "      <td>FL-MI - 0 days 00:00:15</td>\n",
       "    </tr>\n",
       "    <tr>\n",
       "      <th>2</th>\n",
       "      <td>0 days 00:00:00</td>\n",
       "      <td>FL-MI</td>\n",
       "      <td>first billed to last billed</td>\n",
       "      <td>FL-MI - 0 days 00:00:00</td>\n",
       "    </tr>\n",
       "    <tr>\n",
       "      <th>3</th>\n",
       "      <td>0 days 00:00:06</td>\n",
       "      <td>NC-RA</td>\n",
       "      <td>last billed to label printed</td>\n",
       "      <td>NC-RA - 0 days 00:00:06</td>\n",
       "    </tr>\n",
       "    <tr>\n",
       "      <th>4</th>\n",
       "      <td>0 days 00:19:12</td>\n",
       "      <td>MD-BA</td>\n",
       "      <td>label printed to drug picked</td>\n",
       "      <td>MD-BA - 0 days 00:19:12</td>\n",
       "    </tr>\n",
       "    <tr>\n",
       "      <th>5</th>\n",
       "      <td>0 days 00:01:47</td>\n",
       "      <td>NC-RA</td>\n",
       "      <td>drug picked to rph verified</td>\n",
       "      <td>NC-RA - 0 days 00:01:47</td>\n",
       "    </tr>\n",
       "    <tr>\n",
       "      <th>6</th>\n",
       "      <td>0 days 02:25:56</td>\n",
       "      <td>MD-BA</td>\n",
       "      <td>rph verified to pharmacy pickedup</td>\n",
       "      <td>MD-BA - 0 days 02:25:56</td>\n",
       "    </tr>\n",
       "    <tr>\n",
       "      <th>7</th>\n",
       "      <td>1 days 01:45:22</td>\n",
       "      <td>FL-MI</td>\n",
       "      <td>rph verified to delivered</td>\n",
       "      <td>FL-MI - 1 days 01:45:22</td>\n",
       "    </tr>\n",
       "  </tbody>\n",
       "</table>\n",
       "</div>"
      ],
      "text/plain": [
       "        min value pharmacy loc                          deltatime  \\\n",
       "1 0 days 00:00:15        FL-MI            entered to first billed   \n",
       "2 0 days 00:00:00        FL-MI        first billed to last billed   \n",
       "3 0 days 00:00:06        NC-RA       last billed to label printed   \n",
       "4 0 days 00:19:12        MD-BA       label printed to drug picked   \n",
       "5 0 days 00:01:47        NC-RA        drug picked to rph verified   \n",
       "6 0 days 02:25:56        MD-BA  rph verified to pharmacy pickedup   \n",
       "7 1 days 01:45:22        FL-MI          rph verified to delivered   \n",
       "\n",
       "                      text  \n",
       "1  FL-MI - 0 days 00:00:15  \n",
       "2  FL-MI - 0 days 00:00:00  \n",
       "3  NC-RA - 0 days 00:00:06  \n",
       "4  MD-BA - 0 days 00:19:12  \n",
       "5  NC-RA - 0 days 00:01:47  \n",
       "6  MD-BA - 0 days 02:25:56  \n",
       "7  FL-MI - 1 days 01:45:22  "
      ]
     },
     "execution_count": 25,
     "metadata": {},
     "output_type": "execute_result"
    }
   ],
   "source": [
    "min_scenario_1_df = scen_1_min_df_final.iloc[1:-1,:]\n",
    "min_scenario_1_df"
   ]
  },
  {
   "cell_type": "code",
   "execution_count": 26,
   "metadata": {},
   "outputs": [
    {
     "name": "stdout",
     "output_type": "stream",
     "text": [
      "['FL-MI - 0 days 00:00:15', 'FL-MI - 0 days 00:00:00', 'NC-RA - 0 days 00:00:06', 'MD-BA - 0 days 00:19:12', 'NC-RA - 0 days 00:01:47', 'MD-BA - 0 days 02:25:56', 'FL-MI - 1 days 01:45:22']\n"
     ]
    },
    {
     "name": "stderr",
     "output_type": "stream",
     "text": [
      "<ipython-input-26-8c2460413627>:21: SettingWithCopyWarning:\n",
      "\n",
      "\n",
      "A value is trying to be set on a copy of a slice from a DataFrame.\n",
      "Try using .loc[row_indexer,col_indexer] = value instead\n",
      "\n",
      "See the caveats in the documentation: https://pandas.pydata.org/pandas-docs/stable/user_guide/indexing.html#returning-a-view-versus-a-copy\n",
      "\n",
      "<ipython-input-26-8c2460413627>:22: SettingWithCopyWarning:\n",
      "\n",
      "\n",
      "A value is trying to be set on a copy of a slice from a DataFrame.\n",
      "Try using .loc[row_indexer,col_indexer] = value instead\n",
      "\n",
      "See the caveats in the documentation: https://pandas.pydata.org/pandas-docs/stable/user_guide/indexing.html#returning-a-view-versus-a-copy\n",
      "\n"
     ]
    }
   ],
   "source": [
    "variable_names = min_scenario_1_df.deltatime.values\n",
    "#variable_names\n",
    "\n",
    "#####\n",
    "variable_names = variable_names\n",
    "# variable_names\n",
    "\n",
    "#####\n",
    "values_to_be_used = min_scenario_1_df['min value'].values.tolist()\n",
    "# values_to_be_used\n",
    "\n",
    "#####\n",
    "annotation_names = min_scenario_1_df['text'].values.tolist()\n",
    "print(annotation_names)\n",
    "\n",
    "#####\n",
    "annotation_names = [x[:-3] for x in annotation_names]\n",
    "# annotation_names\n",
    "\n",
    "#####\n",
    "min_scenario_1_df['min value'] = round(min_scenario_1_df['min value']/(min_scenario_1_df['min value'].sum())*100,2)\n",
    "min_scenario_1_df['min value'] = round(min_scenario_1_df['min value'],0).astype('int')\n",
    "\n",
    "#####\n",
    "per_annot = min_scenario_1_df['min value'].values.tolist()\n",
    "# per_annot"
   ]
  },
  {
   "cell_type": "code",
   "execution_count": 27,
   "metadata": {},
   "outputs": [
    {
     "data": {
      "application/vnd.plotly.v1+json": {
       "config": {
        "plotlyServerURL": "https://plot.ly"
       },
       "data": [
        {
         "marker": {
          "color": [
           "#9EEDE0",
           "#9EEDE0",
           "#9EEDE0",
           "#9EEDE0",
           "#9EEDE0",
           "#9EEDE0",
           "#9EEDE0",
           "#9EEDE0",
           "#9EEDE0"
          ]
         },
         "showlegend": false,
         "textposition": "none",
         "type": "funnel",
         "x": [
          15000000000,
          0,
          6000000000,
          1152000000000,
          107000000000,
          8756000000000,
          92722000000000
         ],
         "y": [
          "entered to first billed",
          "first billed to last billed",
          "last billed to label printed",
          "label printed to drug picked",
          "drug picked to rph verified",
          "rph verified to pharmacy pickedup",
          "rph verified to delivered"
         ]
        }
       ],
       "layout": {
        "annotations": [
         {
          "align": "right",
          "showarrow": false,
          "text": "FL-MI - 0 days 00:00-->0%",
          "xanchor": "left",
          "y": "entered to first billed"
         },
         {
          "align": "right",
          "showarrow": false,
          "text": "FL-MI - 0 days 00:00-->0%",
          "xanchor": "left",
          "y": "first billed to last billed"
         },
         {
          "align": "right",
          "showarrow": false,
          "text": "NC-RA - 0 days 00:00-->0%",
          "xanchor": "left",
          "y": "last billed to label printed"
         },
         {
          "align": "right",
          "showarrow": false,
          "text": "MD-BA - 0 days 00:19-->1%",
          "xanchor": "left",
          "y": "label printed to drug picked"
         },
         {
          "align": "right",
          "showarrow": false,
          "text": "NC-RA - 0 days 00:01-->0%",
          "xanchor": "left",
          "y": "drug picked to rph verified"
         },
         {
          "align": "right",
          "showarrow": false,
          "text": "MD-BA - 0 days 02:25-->9%",
          "xanchor": "left",
          "y": "rph verified to pharmacy pickedup"
         },
         {
          "align": "right",
          "showarrow": false,
          "text": "FL-MI - 1 days 01:45-->90%",
          "xanchor": "left",
          "y": "rph verified to delivered"
         }
        ],
        "coloraxis": {
         "colorbar": {
          "title": {
           "text": "another title"
          }
         }
        },
        "font": {
         "color": "black"
        },
        "margin": {
         "b": 0,
         "l": 0,
         "r": 0,
         "t": 24
        },
        "paper_bgcolor": "rgb(255,255,255)",
        "plot_bgcolor": "rgba(0,0,0,0)",
        "template": {
         "data": {
          "bar": [
           {
            "error_x": {
             "color": "#2a3f5f"
            },
            "error_y": {
             "color": "#2a3f5f"
            },
            "marker": {
             "line": {
              "color": "#E5ECF6",
              "width": 0.5
             },
             "pattern": {
              "fillmode": "overlay",
              "size": 10,
              "solidity": 0.2
             }
            },
            "type": "bar"
           }
          ],
          "barpolar": [
           {
            "marker": {
             "line": {
              "color": "#E5ECF6",
              "width": 0.5
             },
             "pattern": {
              "fillmode": "overlay",
              "size": 10,
              "solidity": 0.2
             }
            },
            "type": "barpolar"
           }
          ],
          "carpet": [
           {
            "aaxis": {
             "endlinecolor": "#2a3f5f",
             "gridcolor": "white",
             "linecolor": "white",
             "minorgridcolor": "white",
             "startlinecolor": "#2a3f5f"
            },
            "baxis": {
             "endlinecolor": "#2a3f5f",
             "gridcolor": "white",
             "linecolor": "white",
             "minorgridcolor": "white",
             "startlinecolor": "#2a3f5f"
            },
            "type": "carpet"
           }
          ],
          "choropleth": [
           {
            "colorbar": {
             "outlinewidth": 0,
             "ticks": ""
            },
            "type": "choropleth"
           }
          ],
          "contour": [
           {
            "colorbar": {
             "outlinewidth": 0,
             "ticks": ""
            },
            "colorscale": [
             [
              0,
              "#0d0887"
             ],
             [
              0.1111111111111111,
              "#46039f"
             ],
             [
              0.2222222222222222,
              "#7201a8"
             ],
             [
              0.3333333333333333,
              "#9c179e"
             ],
             [
              0.4444444444444444,
              "#bd3786"
             ],
             [
              0.5555555555555556,
              "#d8576b"
             ],
             [
              0.6666666666666666,
              "#ed7953"
             ],
             [
              0.7777777777777778,
              "#fb9f3a"
             ],
             [
              0.8888888888888888,
              "#fdca26"
             ],
             [
              1,
              "#f0f921"
             ]
            ],
            "type": "contour"
           }
          ],
          "contourcarpet": [
           {
            "colorbar": {
             "outlinewidth": 0,
             "ticks": ""
            },
            "type": "contourcarpet"
           }
          ],
          "heatmap": [
           {
            "colorbar": {
             "outlinewidth": 0,
             "ticks": ""
            },
            "colorscale": [
             [
              0,
              "#0d0887"
             ],
             [
              0.1111111111111111,
              "#46039f"
             ],
             [
              0.2222222222222222,
              "#7201a8"
             ],
             [
              0.3333333333333333,
              "#9c179e"
             ],
             [
              0.4444444444444444,
              "#bd3786"
             ],
             [
              0.5555555555555556,
              "#d8576b"
             ],
             [
              0.6666666666666666,
              "#ed7953"
             ],
             [
              0.7777777777777778,
              "#fb9f3a"
             ],
             [
              0.8888888888888888,
              "#fdca26"
             ],
             [
              1,
              "#f0f921"
             ]
            ],
            "type": "heatmap"
           }
          ],
          "heatmapgl": [
           {
            "colorbar": {
             "outlinewidth": 0,
             "ticks": ""
            },
            "colorscale": [
             [
              0,
              "#0d0887"
             ],
             [
              0.1111111111111111,
              "#46039f"
             ],
             [
              0.2222222222222222,
              "#7201a8"
             ],
             [
              0.3333333333333333,
              "#9c179e"
             ],
             [
              0.4444444444444444,
              "#bd3786"
             ],
             [
              0.5555555555555556,
              "#d8576b"
             ],
             [
              0.6666666666666666,
              "#ed7953"
             ],
             [
              0.7777777777777778,
              "#fb9f3a"
             ],
             [
              0.8888888888888888,
              "#fdca26"
             ],
             [
              1,
              "#f0f921"
             ]
            ],
            "type": "heatmapgl"
           }
          ],
          "histogram": [
           {
            "marker": {
             "pattern": {
              "fillmode": "overlay",
              "size": 10,
              "solidity": 0.2
             }
            },
            "type": "histogram"
           }
          ],
          "histogram2d": [
           {
            "colorbar": {
             "outlinewidth": 0,
             "ticks": ""
            },
            "colorscale": [
             [
              0,
              "#0d0887"
             ],
             [
              0.1111111111111111,
              "#46039f"
             ],
             [
              0.2222222222222222,
              "#7201a8"
             ],
             [
              0.3333333333333333,
              "#9c179e"
             ],
             [
              0.4444444444444444,
              "#bd3786"
             ],
             [
              0.5555555555555556,
              "#d8576b"
             ],
             [
              0.6666666666666666,
              "#ed7953"
             ],
             [
              0.7777777777777778,
              "#fb9f3a"
             ],
             [
              0.8888888888888888,
              "#fdca26"
             ],
             [
              1,
              "#f0f921"
             ]
            ],
            "type": "histogram2d"
           }
          ],
          "histogram2dcontour": [
           {
            "colorbar": {
             "outlinewidth": 0,
             "ticks": ""
            },
            "colorscale": [
             [
              0,
              "#0d0887"
             ],
             [
              0.1111111111111111,
              "#46039f"
             ],
             [
              0.2222222222222222,
              "#7201a8"
             ],
             [
              0.3333333333333333,
              "#9c179e"
             ],
             [
              0.4444444444444444,
              "#bd3786"
             ],
             [
              0.5555555555555556,
              "#d8576b"
             ],
             [
              0.6666666666666666,
              "#ed7953"
             ],
             [
              0.7777777777777778,
              "#fb9f3a"
             ],
             [
              0.8888888888888888,
              "#fdca26"
             ],
             [
              1,
              "#f0f921"
             ]
            ],
            "type": "histogram2dcontour"
           }
          ],
          "mesh3d": [
           {
            "colorbar": {
             "outlinewidth": 0,
             "ticks": ""
            },
            "type": "mesh3d"
           }
          ],
          "parcoords": [
           {
            "line": {
             "colorbar": {
              "outlinewidth": 0,
              "ticks": ""
             }
            },
            "type": "parcoords"
           }
          ],
          "pie": [
           {
            "automargin": true,
            "type": "pie"
           }
          ],
          "scatter": [
           {
            "marker": {
             "colorbar": {
              "outlinewidth": 0,
              "ticks": ""
             }
            },
            "type": "scatter"
           }
          ],
          "scatter3d": [
           {
            "line": {
             "colorbar": {
              "outlinewidth": 0,
              "ticks": ""
             }
            },
            "marker": {
             "colorbar": {
              "outlinewidth": 0,
              "ticks": ""
             }
            },
            "type": "scatter3d"
           }
          ],
          "scattercarpet": [
           {
            "marker": {
             "colorbar": {
              "outlinewidth": 0,
              "ticks": ""
             }
            },
            "type": "scattercarpet"
           }
          ],
          "scattergeo": [
           {
            "marker": {
             "colorbar": {
              "outlinewidth": 0,
              "ticks": ""
             }
            },
            "type": "scattergeo"
           }
          ],
          "scattergl": [
           {
            "marker": {
             "colorbar": {
              "outlinewidth": 0,
              "ticks": ""
             }
            },
            "type": "scattergl"
           }
          ],
          "scattermapbox": [
           {
            "marker": {
             "colorbar": {
              "outlinewidth": 0,
              "ticks": ""
             }
            },
            "type": "scattermapbox"
           }
          ],
          "scatterpolar": [
           {
            "marker": {
             "colorbar": {
              "outlinewidth": 0,
              "ticks": ""
             }
            },
            "type": "scatterpolar"
           }
          ],
          "scatterpolargl": [
           {
            "marker": {
             "colorbar": {
              "outlinewidth": 0,
              "ticks": ""
             }
            },
            "type": "scatterpolargl"
           }
          ],
          "scatterternary": [
           {
            "marker": {
             "colorbar": {
              "outlinewidth": 0,
              "ticks": ""
             }
            },
            "type": "scatterternary"
           }
          ],
          "surface": [
           {
            "colorbar": {
             "outlinewidth": 0,
             "ticks": ""
            },
            "colorscale": [
             [
              0,
              "#0d0887"
             ],
             [
              0.1111111111111111,
              "#46039f"
             ],
             [
              0.2222222222222222,
              "#7201a8"
             ],
             [
              0.3333333333333333,
              "#9c179e"
             ],
             [
              0.4444444444444444,
              "#bd3786"
             ],
             [
              0.5555555555555556,
              "#d8576b"
             ],
             [
              0.6666666666666666,
              "#ed7953"
             ],
             [
              0.7777777777777778,
              "#fb9f3a"
             ],
             [
              0.8888888888888888,
              "#fdca26"
             ],
             [
              1,
              "#f0f921"
             ]
            ],
            "type": "surface"
           }
          ],
          "table": [
           {
            "cells": {
             "fill": {
              "color": "#EBF0F8"
             },
             "line": {
              "color": "white"
             }
            },
            "header": {
             "fill": {
              "color": "#C8D4E3"
             },
             "line": {
              "color": "white"
             }
            },
            "type": "table"
           }
          ]
         },
         "layout": {
          "annotationdefaults": {
           "arrowcolor": "#2a3f5f",
           "arrowhead": 0,
           "arrowwidth": 1
          },
          "autotypenumbers": "strict",
          "coloraxis": {
           "colorbar": {
            "outlinewidth": 0,
            "ticks": ""
           }
          },
          "colorscale": {
           "diverging": [
            [
             0,
             "#8e0152"
            ],
            [
             0.1,
             "#c51b7d"
            ],
            [
             0.2,
             "#de77ae"
            ],
            [
             0.3,
             "#f1b6da"
            ],
            [
             0.4,
             "#fde0ef"
            ],
            [
             0.5,
             "#f7f7f7"
            ],
            [
             0.6,
             "#e6f5d0"
            ],
            [
             0.7,
             "#b8e186"
            ],
            [
             0.8,
             "#7fbc41"
            ],
            [
             0.9,
             "#4d9221"
            ],
            [
             1,
             "#276419"
            ]
           ],
           "sequential": [
            [
             0,
             "#0d0887"
            ],
            [
             0.1111111111111111,
             "#46039f"
            ],
            [
             0.2222222222222222,
             "#7201a8"
            ],
            [
             0.3333333333333333,
             "#9c179e"
            ],
            [
             0.4444444444444444,
             "#bd3786"
            ],
            [
             0.5555555555555556,
             "#d8576b"
            ],
            [
             0.6666666666666666,
             "#ed7953"
            ],
            [
             0.7777777777777778,
             "#fb9f3a"
            ],
            [
             0.8888888888888888,
             "#fdca26"
            ],
            [
             1,
             "#f0f921"
            ]
           ],
           "sequentialminus": [
            [
             0,
             "#0d0887"
            ],
            [
             0.1111111111111111,
             "#46039f"
            ],
            [
             0.2222222222222222,
             "#7201a8"
            ],
            [
             0.3333333333333333,
             "#9c179e"
            ],
            [
             0.4444444444444444,
             "#bd3786"
            ],
            [
             0.5555555555555556,
             "#d8576b"
            ],
            [
             0.6666666666666666,
             "#ed7953"
            ],
            [
             0.7777777777777778,
             "#fb9f3a"
            ],
            [
             0.8888888888888888,
             "#fdca26"
            ],
            [
             1,
             "#f0f921"
            ]
           ]
          },
          "colorway": [
           "#636efa",
           "#EF553B",
           "#00cc96",
           "#ab63fa",
           "#FFA15A",
           "#19d3f3",
           "#FF6692",
           "#B6E880",
           "#FF97FF",
           "#FECB52"
          ],
          "font": {
           "color": "#2a3f5f"
          },
          "geo": {
           "bgcolor": "white",
           "lakecolor": "white",
           "landcolor": "#E5ECF6",
           "showlakes": true,
           "showland": true,
           "subunitcolor": "white"
          },
          "hoverlabel": {
           "align": "left"
          },
          "hovermode": "closest",
          "mapbox": {
           "style": "light"
          },
          "paper_bgcolor": "white",
          "plot_bgcolor": "#E5ECF6",
          "polar": {
           "angularaxis": {
            "gridcolor": "white",
            "linecolor": "white",
            "ticks": ""
           },
           "bgcolor": "#E5ECF6",
           "radialaxis": {
            "gridcolor": "white",
            "linecolor": "white",
            "ticks": ""
           }
          },
          "scene": {
           "xaxis": {
            "backgroundcolor": "#E5ECF6",
            "gridcolor": "white",
            "gridwidth": 2,
            "linecolor": "white",
            "showbackground": true,
            "ticks": "",
            "zerolinecolor": "white"
           },
           "yaxis": {
            "backgroundcolor": "#E5ECF6",
            "gridcolor": "white",
            "gridwidth": 2,
            "linecolor": "white",
            "showbackground": true,
            "ticks": "",
            "zerolinecolor": "white"
           },
           "zaxis": {
            "backgroundcolor": "#E5ECF6",
            "gridcolor": "white",
            "gridwidth": 2,
            "linecolor": "white",
            "showbackground": true,
            "ticks": "",
            "zerolinecolor": "white"
           }
          },
          "shapedefaults": {
           "line": {
            "color": "#2a3f5f"
           }
          },
          "ternary": {
           "aaxis": {
            "gridcolor": "white",
            "linecolor": "white",
            "ticks": ""
           },
           "baxis": {
            "gridcolor": "white",
            "linecolor": "white",
            "ticks": ""
           },
           "bgcolor": "#E5ECF6",
           "caxis": {
            "gridcolor": "white",
            "linecolor": "white",
            "ticks": ""
           }
          },
          "title": {
           "x": 0.05
          },
          "xaxis": {
           "automargin": true,
           "gridcolor": "white",
           "linecolor": "white",
           "ticks": "",
           "title": {
            "standoff": 15
           },
           "zerolinecolor": "white",
           "zerolinewidth": 2
          },
          "yaxis": {
           "automargin": true,
           "gridcolor": "white",
           "linecolor": "white",
           "ticks": "",
           "title": {
            "standoff": 15
           },
           "zerolinecolor": "white",
           "zerolinewidth": 2
          }
         }
        },
        "title": {
         "text": "Process Flow Benchmark Time Duration",
         "x": 0.6,
         "xanchor": "center"
        },
        "xaxis": {
         "anchor": "y",
         "domain": [
          0,
          1
         ],
         "title": {
          "font": {
           "color": "black",
           "family": "Arial",
           "size": 18
          },
          "text": "x Axis"
         }
        },
        "yaxis": {
         "anchor": "x",
         "domain": [
          0,
          1
         ],
         "title": {
          "font": {
           "color": "black",
           "family": "Arial",
           "size": 18
          },
          "text": "Scenario-1 Process Time Delta"
         }
        }
       }
      }
     },
     "metadata": {},
     "output_type": "display_data"
    }
   ],
   "source": [
    "fig = make_subplots()\n",
    "fig.layout.coloraxis.colorbar.title = 'another title'\n",
    "\n",
    "fig.add_trace(\n",
    "    go.Funnel(\n",
    "    y = variable_names,\n",
    "    x = values_to_be_used,showlegend=False,\n",
    "    textposition='none',\n",
    "        #name='Continous Process',\n",
    "        marker = {\"color\": [green_color, green_color, green_color, green_color, green_color,\\\n",
    "                           green_color, green_color, green_color,green_color]}))\n",
    "\n",
    "\n",
    "for i,y,k in zip(variable_names,annotation_names,per_annot):\n",
    "    fig.add_annotation(y=i,xanchor='left',\n",
    "                text=y+'-->'+str(k)+'%',align='right',showarrow=False)\n",
    "\n",
    "fig.update_layout(margin={\"r\":0,\"t\":24,\"l\":0,\"b\":0},paper_bgcolor='rgb(255,255,255)',plot_bgcolor='rgba(0,0,0,0)',\n",
    "                  title={'text':'Process Flow Benchmark Time Duration','xanchor': 'center','x':0.6,\n",
    "},font=dict(color='black'),\n",
    "                  \n",
    "xaxis=dict(\n",
    "    title='x Axis',\n",
    "    titlefont=dict(\n",
    "        family='Arial',\n",
    "        size=18,\n",
    "        color='black'\n",
    "    )\n",
    "),\n",
    "yaxis=dict(\n",
    "    title='Scenario-1 Process Time Delta',\n",
    "    titlefont=dict(\n",
    "        family='Arial',\n",
    "        size=18,\n",
    "        color='black'\n",
    "    )\n",
    "))\n",
    "\n",
    "\n",
    "fig.write_image(output_distribution_sce_1 + \"Scenario_1_min_refill.png\") #pip install -U kaleido & restart jupyter\n",
    "\n",
    "fig.show()\n"
   ]
  },
  {
   "cell_type": "markdown",
   "metadata": {},
   "source": [
    "# scenario-2"
   ]
  },
  {
   "cell_type": "code",
   "execution_count": 28,
   "metadata": {},
   "outputs": [],
   "source": [
    "scenario_2_df_mintime = scenario_2_df.set_index('pharmacy_loc')  #Nan --->Total\n",
    "scenario_2_df_mintime\n",
    "\n",
    "#####\n",
    "scenario_2_df_mintime.rename(index={np.nan:'Total'},inplace=True)\n",
    "scenario_2_df_mintime\n",
    "\n",
    "#####\n",
    "my_string  = scenario_2_df_mintime.columns.str[12:]\n",
    "new_column_names = []\n",
    "for i in my_string:\n",
    "    nn = i.replace(\"_\", \" \")\n",
    "    new_column_names.append(nn)\n",
    "\n",
    "scenario_2_df_mintime.columns = new_column_names\n",
    "\n",
    "#####\n",
    "scenario_2_df_mintime['received to entered time'] = scenario_2_df_mintime['received to entered time'].replace('None',np.nan)\n",
    "scenario_2_df_mintime['received to entered time'] = scenario_2_df_mintime['received to entered time'].replace(np.nan,pd.to_timedelta(0))\n",
    "\n",
    "for i in scenario_2_df_mintime.columns:\n",
    "    #scenario_2_df_mintime[i] = scenario_2_df_mintime[i].astype(str).str[0:15]\n",
    "\n",
    "    scenario_2_df_mintime[i] = pd.to_timedelta(scenario_2_df_mintime[i]).dt.round('s')"
   ]
  },
  {
   "cell_type": "code",
   "execution_count": 29,
   "metadata": {},
   "outputs": [
    {
     "name": "stderr",
     "output_type": "stream",
     "text": [
      "<ipython-input-29-07f5cec6d360>:2: SettingWithCopyWarning:\n",
      "\n",
      "\n",
      "A value is trying to be set on a copy of a slice from a DataFrame.\n",
      "Try using .loc[row_indexer,col_indexer] = value instead\n",
      "\n",
      "See the caveats in the documentation: https://pandas.pydata.org/pandas-docs/stable/user_guide/indexing.html#returning-a-view-versus-a-copy\n",
      "\n"
     ]
    }
   ],
   "source": [
    "scen_2_min_df = scenario_2_df_mintime.iloc[:-1,:]\n",
    "scen_2_min_df['received to entered time'] = scen_2_min_df['received to entered time'].replace(pd.NaT,pd.to_timedelta(0))"
   ]
  },
  {
   "cell_type": "code",
   "execution_count": 30,
   "metadata": {},
   "outputs": [],
   "source": [
    "scen_2_min_df_final = pd.DataFrame(columns=['min value','pharmacy loc'],index=range(0,len(scen_2_min_df.columns)))\n",
    "scen_2_min_df_final['min value'] = scen_2_min_df.min(axis=0).values\n",
    "scen_2_min_df_final['pharmacy loc'] = scen_2_min_df.idxmin().values\n",
    "scen_2_min_df_final['deltatime'] = scen_2_min_df.columns\n",
    "\n",
    "#####\n",
    "scen_2_min_df_final['text'] = scen_2_min_df_final['pharmacy loc']+' - '+scen_2_min_df_final['min value'].astype(str)"
   ]
  },
  {
   "cell_type": "code",
   "execution_count": 31,
   "metadata": {},
   "outputs": [
    {
     "data": {
      "text/plain": [
       "received to entered time                        FL-MI\n",
       "time to identify pa is required                 MD-BA\n",
       "time taken by rx to be picked up by IBD team    MD-BA\n",
       "time taken by IBD team to process rx            NY-MA\n",
       "ibd processing end to first billed              NY-BK\n",
       "first billed to last billed                     NY-MA\n",
       "last billed to label printed                    NY-MA\n",
       "label printed to drug picked                    NC-RA\n",
       "drug picked to rph verified                     NC-RA\n",
       "rph verified to pharmacy pickedup               MD-BA\n",
       "rph verified to delivered                       NC-RA\n",
       "final received to delivered                     NY-MA\n",
       "dtype: object"
      ]
     },
     "execution_count": 31,
     "metadata": {},
     "output_type": "execute_result"
    }
   ],
   "source": [
    "scen_2_min_df.min(axis=0)\n",
    "#####\n",
    "scen_2_min_df.idxmin()"
   ]
  },
  {
   "cell_type": "code",
   "execution_count": 32,
   "metadata": {},
   "outputs": [
    {
     "data": {
      "text/html": [
       "<div>\n",
       "<style scoped>\n",
       "    .dataframe tbody tr th:only-of-type {\n",
       "        vertical-align: middle;\n",
       "    }\n",
       "\n",
       "    .dataframe tbody tr th {\n",
       "        vertical-align: top;\n",
       "    }\n",
       "\n",
       "    .dataframe thead th {\n",
       "        text-align: right;\n",
       "    }\n",
       "</style>\n",
       "<table border=\"1\" class=\"dataframe\">\n",
       "  <thead>\n",
       "    <tr style=\"text-align: right;\">\n",
       "      <th></th>\n",
       "      <th>min value</th>\n",
       "      <th>pharmacy loc</th>\n",
       "      <th>deltatime</th>\n",
       "      <th>text</th>\n",
       "    </tr>\n",
       "  </thead>\n",
       "  <tbody>\n",
       "    <tr>\n",
       "      <th>1</th>\n",
       "      <td>0 days 00:15:59</td>\n",
       "      <td>MD-BA</td>\n",
       "      <td>time to identify pa is required</td>\n",
       "      <td>MD-BA - 0 days 00:15:59</td>\n",
       "    </tr>\n",
       "    <tr>\n",
       "      <th>2</th>\n",
       "      <td>0 days 03:55:16</td>\n",
       "      <td>MD-BA</td>\n",
       "      <td>time taken by rx to be picked up by IBD team</td>\n",
       "      <td>MD-BA - 0 days 03:55:16</td>\n",
       "    </tr>\n",
       "    <tr>\n",
       "      <th>3</th>\n",
       "      <td>3 days 22:56:29</td>\n",
       "      <td>NY-MA</td>\n",
       "      <td>time taken by IBD team to process rx</td>\n",
       "      <td>NY-MA - 3 days 22:56:29</td>\n",
       "    </tr>\n",
       "    <tr>\n",
       "      <th>4</th>\n",
       "      <td>2 days 04:08:08</td>\n",
       "      <td>NY-BK</td>\n",
       "      <td>ibd processing end to first billed</td>\n",
       "      <td>NY-BK - 2 days 04:08:08</td>\n",
       "    </tr>\n",
       "    <tr>\n",
       "      <th>5</th>\n",
       "      <td>0 days 00:59:38</td>\n",
       "      <td>NY-MA</td>\n",
       "      <td>first billed to last billed</td>\n",
       "      <td>NY-MA - 0 days 00:59:38</td>\n",
       "    </tr>\n",
       "    <tr>\n",
       "      <th>6</th>\n",
       "      <td>0 days 00:00:20</td>\n",
       "      <td>NY-MA</td>\n",
       "      <td>last billed to label printed</td>\n",
       "      <td>NY-MA - 0 days 00:00:20</td>\n",
       "    </tr>\n",
       "    <tr>\n",
       "      <th>7</th>\n",
       "      <td>0 days 00:04:56</td>\n",
       "      <td>NC-RA</td>\n",
       "      <td>label printed to drug picked</td>\n",
       "      <td>NC-RA - 0 days 00:04:56</td>\n",
       "    </tr>\n",
       "    <tr>\n",
       "      <th>8</th>\n",
       "      <td>0 days 00:04:17</td>\n",
       "      <td>NC-RA</td>\n",
       "      <td>drug picked to rph verified</td>\n",
       "      <td>NC-RA - 0 days 00:04:17</td>\n",
       "    </tr>\n",
       "    <tr>\n",
       "      <th>9</th>\n",
       "      <td>1 days 00:45:03</td>\n",
       "      <td>MD-BA</td>\n",
       "      <td>rph verified to pharmacy pickedup</td>\n",
       "      <td>MD-BA - 1 days 00:45:03</td>\n",
       "    </tr>\n",
       "    <tr>\n",
       "      <th>10</th>\n",
       "      <td>1 days 03:44:30</td>\n",
       "      <td>NC-RA</td>\n",
       "      <td>rph verified to delivered</td>\n",
       "      <td>NC-RA - 1 days 03:44:30</td>\n",
       "    </tr>\n",
       "  </tbody>\n",
       "</table>\n",
       "</div>"
      ],
      "text/plain": [
       "         min value pharmacy loc                                     deltatime  \\\n",
       "1  0 days 00:15:59        MD-BA               time to identify pa is required   \n",
       "2  0 days 03:55:16        MD-BA  time taken by rx to be picked up by IBD team   \n",
       "3  3 days 22:56:29        NY-MA          time taken by IBD team to process rx   \n",
       "4  2 days 04:08:08        NY-BK            ibd processing end to first billed   \n",
       "5  0 days 00:59:38        NY-MA                   first billed to last billed   \n",
       "6  0 days 00:00:20        NY-MA                  last billed to label printed   \n",
       "7  0 days 00:04:56        NC-RA                  label printed to drug picked   \n",
       "8  0 days 00:04:17        NC-RA                   drug picked to rph verified   \n",
       "9  1 days 00:45:03        MD-BA             rph verified to pharmacy pickedup   \n",
       "10 1 days 03:44:30        NC-RA                     rph verified to delivered   \n",
       "\n",
       "                       text  \n",
       "1   MD-BA - 0 days 00:15:59  \n",
       "2   MD-BA - 0 days 03:55:16  \n",
       "3   NY-MA - 3 days 22:56:29  \n",
       "4   NY-BK - 2 days 04:08:08  \n",
       "5   NY-MA - 0 days 00:59:38  \n",
       "6   NY-MA - 0 days 00:00:20  \n",
       "7   NC-RA - 0 days 00:04:56  \n",
       "8   NC-RA - 0 days 00:04:17  \n",
       "9   MD-BA - 1 days 00:45:03  \n",
       "10  NC-RA - 1 days 03:44:30  "
      ]
     },
     "execution_count": 32,
     "metadata": {},
     "output_type": "execute_result"
    }
   ],
   "source": [
    "min_scenario_2_df = scen_2_min_df_final.iloc[1:-1,:]\n",
    "min_scenario_2_df"
   ]
  },
  {
   "cell_type": "code",
   "execution_count": 33,
   "metadata": {},
   "outputs": [
    {
     "name": "stderr",
     "output_type": "stream",
     "text": [
      "<ipython-input-33-73897c57b49f>:21: SettingWithCopyWarning:\n",
      "\n",
      "\n",
      "A value is trying to be set on a copy of a slice from a DataFrame.\n",
      "Try using .loc[row_indexer,col_indexer] = value instead\n",
      "\n",
      "See the caveats in the documentation: https://pandas.pydata.org/pandas-docs/stable/user_guide/indexing.html#returning-a-view-versus-a-copy\n",
      "\n",
      "<ipython-input-33-73897c57b49f>:22: SettingWithCopyWarning:\n",
      "\n",
      "\n",
      "A value is trying to be set on a copy of a slice from a DataFrame.\n",
      "Try using .loc[row_indexer,col_indexer] = value instead\n",
      "\n",
      "See the caveats in the documentation: https://pandas.pydata.org/pandas-docs/stable/user_guide/indexing.html#returning-a-view-versus-a-copy\n",
      "\n"
     ]
    }
   ],
   "source": [
    "variable_names = min_scenario_2_df.deltatime.values\n",
    "#variable_names\n",
    "\n",
    "#####\n",
    "variable_names = variable_names\n",
    "# variable_names\n",
    "\n",
    "#####\n",
    "values_to_be_used = min_scenario_2_df['min value'].values.tolist()\n",
    "# values_to_be_used\n",
    "\n",
    "#####\n",
    "annotation_names = min_scenario_2_df['text'].values.tolist()\n",
    "# annotation_names\n",
    "\n",
    "#####\n",
    "annotation_names = [x[:-3] for x in annotation_names]\n",
    "# annotation_names\n",
    "\n",
    "#####\n",
    "min_scenario_2_df['min value'] = round(min_scenario_2_df['min value']/(min_scenario_2_df['min value'].sum())*100,2)\n",
    "min_scenario_2_df['min value'] = round(min_scenario_2_df['min value'],0).astype('int')\n",
    "#####\n",
    "per_annot = min_scenario_2_df['min value'].values.tolist()\n",
    "# per_annot"
   ]
  },
  {
   "cell_type": "code",
   "execution_count": 34,
   "metadata": {},
   "outputs": [
    {
     "data": {
      "application/vnd.plotly.v1+json": {
       "config": {
        "plotlyServerURL": "https://plot.ly"
       },
       "data": [
        {
         "marker": {
          "color": [
           "#9EEDE0",
           "#9EEDE0",
           "#9EEDE0",
           "#9EEDE0",
           "#9EEDE0",
           "#9EEDE0",
           "#9EEDE0",
           "#9EEDE0",
           "#9EEDE0",
           "#9EEDE0",
           "#9EEDE0"
          ]
         },
         "showlegend": false,
         "textposition": "none",
         "type": "funnel",
         "x": [
          959000000000,
          14116000000000,
          341789000000000,
          187688000000000,
          3578000000000,
          20000000000,
          296000000000,
          257000000000,
          89103000000000,
          99870000000000
         ],
         "y": [
          "time to identify pa is required",
          "time taken by rx to be picked up by IBD team",
          "time taken by IBD team to process rx",
          "ibd processing end to first billed",
          "first billed to last billed",
          "last billed to label printed",
          "label printed to drug picked",
          "drug picked to rph verified",
          "rph verified to pharmacy pickedup",
          "rph verified to delivered"
         ]
        }
       ],
       "layout": {
        "annotations": [
         {
          "align": "right",
          "showarrow": false,
          "text": "MD-BA - 0 days 00:15-->0%",
          "xanchor": "left",
          "y": "time to identify pa is required"
         },
         {
          "align": "right",
          "showarrow": false,
          "text": "MD-BA - 0 days 03:55-->2%",
          "xanchor": "left",
          "y": "time taken by rx to be picked up by IBD team"
         },
         {
          "align": "right",
          "showarrow": false,
          "text": "NY-MA - 3 days 22:56-->46%",
          "xanchor": "left",
          "y": "time taken by IBD team to process rx"
         },
         {
          "align": "right",
          "showarrow": false,
          "text": "NY-BK - 2 days 04:08-->25%",
          "xanchor": "left",
          "y": "ibd processing end to first billed"
         },
         {
          "align": "right",
          "showarrow": false,
          "text": "NY-MA - 0 days 00:59-->0%",
          "xanchor": "left",
          "y": "first billed to last billed"
         },
         {
          "align": "right",
          "showarrow": false,
          "text": "NY-MA - 0 days 00:00-->0%",
          "xanchor": "left",
          "y": "last billed to label printed"
         },
         {
          "align": "right",
          "showarrow": false,
          "text": "NC-RA - 0 days 00:04-->0%",
          "xanchor": "left",
          "y": "label printed to drug picked"
         },
         {
          "align": "right",
          "showarrow": false,
          "text": "NC-RA - 0 days 00:04-->0%",
          "xanchor": "left",
          "y": "drug picked to rph verified"
         },
         {
          "align": "right",
          "showarrow": false,
          "text": "MD-BA - 1 days 00:45-->12%",
          "xanchor": "left",
          "y": "rph verified to pharmacy pickedup"
         },
         {
          "align": "right",
          "showarrow": false,
          "text": "NC-RA - 1 days 03:44-->14%",
          "xanchor": "left",
          "y": "rph verified to delivered"
         }
        ],
        "coloraxis": {
         "colorbar": {
          "title": {
           "text": "another title"
          }
         }
        },
        "font": {
         "color": "black"
        },
        "margin": {
         "b": 0,
         "l": 0,
         "r": 0,
         "t": 24
        },
        "paper_bgcolor": "rgb(255,255,255)",
        "plot_bgcolor": "rgba(0,0,0,0)",
        "template": {
         "data": {
          "bar": [
           {
            "error_x": {
             "color": "#2a3f5f"
            },
            "error_y": {
             "color": "#2a3f5f"
            },
            "marker": {
             "line": {
              "color": "#E5ECF6",
              "width": 0.5
             },
             "pattern": {
              "fillmode": "overlay",
              "size": 10,
              "solidity": 0.2
             }
            },
            "type": "bar"
           }
          ],
          "barpolar": [
           {
            "marker": {
             "line": {
              "color": "#E5ECF6",
              "width": 0.5
             },
             "pattern": {
              "fillmode": "overlay",
              "size": 10,
              "solidity": 0.2
             }
            },
            "type": "barpolar"
           }
          ],
          "carpet": [
           {
            "aaxis": {
             "endlinecolor": "#2a3f5f",
             "gridcolor": "white",
             "linecolor": "white",
             "minorgridcolor": "white",
             "startlinecolor": "#2a3f5f"
            },
            "baxis": {
             "endlinecolor": "#2a3f5f",
             "gridcolor": "white",
             "linecolor": "white",
             "minorgridcolor": "white",
             "startlinecolor": "#2a3f5f"
            },
            "type": "carpet"
           }
          ],
          "choropleth": [
           {
            "colorbar": {
             "outlinewidth": 0,
             "ticks": ""
            },
            "type": "choropleth"
           }
          ],
          "contour": [
           {
            "colorbar": {
             "outlinewidth": 0,
             "ticks": ""
            },
            "colorscale": [
             [
              0,
              "#0d0887"
             ],
             [
              0.1111111111111111,
              "#46039f"
             ],
             [
              0.2222222222222222,
              "#7201a8"
             ],
             [
              0.3333333333333333,
              "#9c179e"
             ],
             [
              0.4444444444444444,
              "#bd3786"
             ],
             [
              0.5555555555555556,
              "#d8576b"
             ],
             [
              0.6666666666666666,
              "#ed7953"
             ],
             [
              0.7777777777777778,
              "#fb9f3a"
             ],
             [
              0.8888888888888888,
              "#fdca26"
             ],
             [
              1,
              "#f0f921"
             ]
            ],
            "type": "contour"
           }
          ],
          "contourcarpet": [
           {
            "colorbar": {
             "outlinewidth": 0,
             "ticks": ""
            },
            "type": "contourcarpet"
           }
          ],
          "heatmap": [
           {
            "colorbar": {
             "outlinewidth": 0,
             "ticks": ""
            },
            "colorscale": [
             [
              0,
              "#0d0887"
             ],
             [
              0.1111111111111111,
              "#46039f"
             ],
             [
              0.2222222222222222,
              "#7201a8"
             ],
             [
              0.3333333333333333,
              "#9c179e"
             ],
             [
              0.4444444444444444,
              "#bd3786"
             ],
             [
              0.5555555555555556,
              "#d8576b"
             ],
             [
              0.6666666666666666,
              "#ed7953"
             ],
             [
              0.7777777777777778,
              "#fb9f3a"
             ],
             [
              0.8888888888888888,
              "#fdca26"
             ],
             [
              1,
              "#f0f921"
             ]
            ],
            "type": "heatmap"
           }
          ],
          "heatmapgl": [
           {
            "colorbar": {
             "outlinewidth": 0,
             "ticks": ""
            },
            "colorscale": [
             [
              0,
              "#0d0887"
             ],
             [
              0.1111111111111111,
              "#46039f"
             ],
             [
              0.2222222222222222,
              "#7201a8"
             ],
             [
              0.3333333333333333,
              "#9c179e"
             ],
             [
              0.4444444444444444,
              "#bd3786"
             ],
             [
              0.5555555555555556,
              "#d8576b"
             ],
             [
              0.6666666666666666,
              "#ed7953"
             ],
             [
              0.7777777777777778,
              "#fb9f3a"
             ],
             [
              0.8888888888888888,
              "#fdca26"
             ],
             [
              1,
              "#f0f921"
             ]
            ],
            "type": "heatmapgl"
           }
          ],
          "histogram": [
           {
            "marker": {
             "pattern": {
              "fillmode": "overlay",
              "size": 10,
              "solidity": 0.2
             }
            },
            "type": "histogram"
           }
          ],
          "histogram2d": [
           {
            "colorbar": {
             "outlinewidth": 0,
             "ticks": ""
            },
            "colorscale": [
             [
              0,
              "#0d0887"
             ],
             [
              0.1111111111111111,
              "#46039f"
             ],
             [
              0.2222222222222222,
              "#7201a8"
             ],
             [
              0.3333333333333333,
              "#9c179e"
             ],
             [
              0.4444444444444444,
              "#bd3786"
             ],
             [
              0.5555555555555556,
              "#d8576b"
             ],
             [
              0.6666666666666666,
              "#ed7953"
             ],
             [
              0.7777777777777778,
              "#fb9f3a"
             ],
             [
              0.8888888888888888,
              "#fdca26"
             ],
             [
              1,
              "#f0f921"
             ]
            ],
            "type": "histogram2d"
           }
          ],
          "histogram2dcontour": [
           {
            "colorbar": {
             "outlinewidth": 0,
             "ticks": ""
            },
            "colorscale": [
             [
              0,
              "#0d0887"
             ],
             [
              0.1111111111111111,
              "#46039f"
             ],
             [
              0.2222222222222222,
              "#7201a8"
             ],
             [
              0.3333333333333333,
              "#9c179e"
             ],
             [
              0.4444444444444444,
              "#bd3786"
             ],
             [
              0.5555555555555556,
              "#d8576b"
             ],
             [
              0.6666666666666666,
              "#ed7953"
             ],
             [
              0.7777777777777778,
              "#fb9f3a"
             ],
             [
              0.8888888888888888,
              "#fdca26"
             ],
             [
              1,
              "#f0f921"
             ]
            ],
            "type": "histogram2dcontour"
           }
          ],
          "mesh3d": [
           {
            "colorbar": {
             "outlinewidth": 0,
             "ticks": ""
            },
            "type": "mesh3d"
           }
          ],
          "parcoords": [
           {
            "line": {
             "colorbar": {
              "outlinewidth": 0,
              "ticks": ""
             }
            },
            "type": "parcoords"
           }
          ],
          "pie": [
           {
            "automargin": true,
            "type": "pie"
           }
          ],
          "scatter": [
           {
            "marker": {
             "colorbar": {
              "outlinewidth": 0,
              "ticks": ""
             }
            },
            "type": "scatter"
           }
          ],
          "scatter3d": [
           {
            "line": {
             "colorbar": {
              "outlinewidth": 0,
              "ticks": ""
             }
            },
            "marker": {
             "colorbar": {
              "outlinewidth": 0,
              "ticks": ""
             }
            },
            "type": "scatter3d"
           }
          ],
          "scattercarpet": [
           {
            "marker": {
             "colorbar": {
              "outlinewidth": 0,
              "ticks": ""
             }
            },
            "type": "scattercarpet"
           }
          ],
          "scattergeo": [
           {
            "marker": {
             "colorbar": {
              "outlinewidth": 0,
              "ticks": ""
             }
            },
            "type": "scattergeo"
           }
          ],
          "scattergl": [
           {
            "marker": {
             "colorbar": {
              "outlinewidth": 0,
              "ticks": ""
             }
            },
            "type": "scattergl"
           }
          ],
          "scattermapbox": [
           {
            "marker": {
             "colorbar": {
              "outlinewidth": 0,
              "ticks": ""
             }
            },
            "type": "scattermapbox"
           }
          ],
          "scatterpolar": [
           {
            "marker": {
             "colorbar": {
              "outlinewidth": 0,
              "ticks": ""
             }
            },
            "type": "scatterpolar"
           }
          ],
          "scatterpolargl": [
           {
            "marker": {
             "colorbar": {
              "outlinewidth": 0,
              "ticks": ""
             }
            },
            "type": "scatterpolargl"
           }
          ],
          "scatterternary": [
           {
            "marker": {
             "colorbar": {
              "outlinewidth": 0,
              "ticks": ""
             }
            },
            "type": "scatterternary"
           }
          ],
          "surface": [
           {
            "colorbar": {
             "outlinewidth": 0,
             "ticks": ""
            },
            "colorscale": [
             [
              0,
              "#0d0887"
             ],
             [
              0.1111111111111111,
              "#46039f"
             ],
             [
              0.2222222222222222,
              "#7201a8"
             ],
             [
              0.3333333333333333,
              "#9c179e"
             ],
             [
              0.4444444444444444,
              "#bd3786"
             ],
             [
              0.5555555555555556,
              "#d8576b"
             ],
             [
              0.6666666666666666,
              "#ed7953"
             ],
             [
              0.7777777777777778,
              "#fb9f3a"
             ],
             [
              0.8888888888888888,
              "#fdca26"
             ],
             [
              1,
              "#f0f921"
             ]
            ],
            "type": "surface"
           }
          ],
          "table": [
           {
            "cells": {
             "fill": {
              "color": "#EBF0F8"
             },
             "line": {
              "color": "white"
             }
            },
            "header": {
             "fill": {
              "color": "#C8D4E3"
             },
             "line": {
              "color": "white"
             }
            },
            "type": "table"
           }
          ]
         },
         "layout": {
          "annotationdefaults": {
           "arrowcolor": "#2a3f5f",
           "arrowhead": 0,
           "arrowwidth": 1
          },
          "autotypenumbers": "strict",
          "coloraxis": {
           "colorbar": {
            "outlinewidth": 0,
            "ticks": ""
           }
          },
          "colorscale": {
           "diverging": [
            [
             0,
             "#8e0152"
            ],
            [
             0.1,
             "#c51b7d"
            ],
            [
             0.2,
             "#de77ae"
            ],
            [
             0.3,
             "#f1b6da"
            ],
            [
             0.4,
             "#fde0ef"
            ],
            [
             0.5,
             "#f7f7f7"
            ],
            [
             0.6,
             "#e6f5d0"
            ],
            [
             0.7,
             "#b8e186"
            ],
            [
             0.8,
             "#7fbc41"
            ],
            [
             0.9,
             "#4d9221"
            ],
            [
             1,
             "#276419"
            ]
           ],
           "sequential": [
            [
             0,
             "#0d0887"
            ],
            [
             0.1111111111111111,
             "#46039f"
            ],
            [
             0.2222222222222222,
             "#7201a8"
            ],
            [
             0.3333333333333333,
             "#9c179e"
            ],
            [
             0.4444444444444444,
             "#bd3786"
            ],
            [
             0.5555555555555556,
             "#d8576b"
            ],
            [
             0.6666666666666666,
             "#ed7953"
            ],
            [
             0.7777777777777778,
             "#fb9f3a"
            ],
            [
             0.8888888888888888,
             "#fdca26"
            ],
            [
             1,
             "#f0f921"
            ]
           ],
           "sequentialminus": [
            [
             0,
             "#0d0887"
            ],
            [
             0.1111111111111111,
             "#46039f"
            ],
            [
             0.2222222222222222,
             "#7201a8"
            ],
            [
             0.3333333333333333,
             "#9c179e"
            ],
            [
             0.4444444444444444,
             "#bd3786"
            ],
            [
             0.5555555555555556,
             "#d8576b"
            ],
            [
             0.6666666666666666,
             "#ed7953"
            ],
            [
             0.7777777777777778,
             "#fb9f3a"
            ],
            [
             0.8888888888888888,
             "#fdca26"
            ],
            [
             1,
             "#f0f921"
            ]
           ]
          },
          "colorway": [
           "#636efa",
           "#EF553B",
           "#00cc96",
           "#ab63fa",
           "#FFA15A",
           "#19d3f3",
           "#FF6692",
           "#B6E880",
           "#FF97FF",
           "#FECB52"
          ],
          "font": {
           "color": "#2a3f5f"
          },
          "geo": {
           "bgcolor": "white",
           "lakecolor": "white",
           "landcolor": "#E5ECF6",
           "showlakes": true,
           "showland": true,
           "subunitcolor": "white"
          },
          "hoverlabel": {
           "align": "left"
          },
          "hovermode": "closest",
          "mapbox": {
           "style": "light"
          },
          "paper_bgcolor": "white",
          "plot_bgcolor": "#E5ECF6",
          "polar": {
           "angularaxis": {
            "gridcolor": "white",
            "linecolor": "white",
            "ticks": ""
           },
           "bgcolor": "#E5ECF6",
           "radialaxis": {
            "gridcolor": "white",
            "linecolor": "white",
            "ticks": ""
           }
          },
          "scene": {
           "xaxis": {
            "backgroundcolor": "#E5ECF6",
            "gridcolor": "white",
            "gridwidth": 2,
            "linecolor": "white",
            "showbackground": true,
            "ticks": "",
            "zerolinecolor": "white"
           },
           "yaxis": {
            "backgroundcolor": "#E5ECF6",
            "gridcolor": "white",
            "gridwidth": 2,
            "linecolor": "white",
            "showbackground": true,
            "ticks": "",
            "zerolinecolor": "white"
           },
           "zaxis": {
            "backgroundcolor": "#E5ECF6",
            "gridcolor": "white",
            "gridwidth": 2,
            "linecolor": "white",
            "showbackground": true,
            "ticks": "",
            "zerolinecolor": "white"
           }
          },
          "shapedefaults": {
           "line": {
            "color": "#2a3f5f"
           }
          },
          "ternary": {
           "aaxis": {
            "gridcolor": "white",
            "linecolor": "white",
            "ticks": ""
           },
           "baxis": {
            "gridcolor": "white",
            "linecolor": "white",
            "ticks": ""
           },
           "bgcolor": "#E5ECF6",
           "caxis": {
            "gridcolor": "white",
            "linecolor": "white",
            "ticks": ""
           }
          },
          "title": {
           "x": 0.05
          },
          "xaxis": {
           "automargin": true,
           "gridcolor": "white",
           "linecolor": "white",
           "ticks": "",
           "title": {
            "standoff": 15
           },
           "zerolinecolor": "white",
           "zerolinewidth": 2
          },
          "yaxis": {
           "automargin": true,
           "gridcolor": "white",
           "linecolor": "white",
           "ticks": "",
           "title": {
            "standoff": 15
           },
           "zerolinecolor": "white",
           "zerolinewidth": 2
          }
         }
        },
        "title": {
         "text": "Process Flow Benchmark Time Duration",
         "x": 0.6,
         "xanchor": "center"
        },
        "xaxis": {
         "anchor": "y",
         "domain": [
          0,
          1
         ],
         "title": {
          "font": {
           "color": "black",
           "family": "Arial",
           "size": 18
          },
          "text": "x Axis"
         }
        },
        "yaxis": {
         "anchor": "x",
         "domain": [
          0,
          1
         ],
         "title": {
          "font": {
           "color": "black",
           "family": "Arial",
           "size": 18
          },
          "text": "Scenario-2 Process Time Delta"
         }
        }
       }
      }
     },
     "metadata": {},
     "output_type": "display_data"
    }
   ],
   "source": [
    "fig = make_subplots()\n",
    "fig.layout.coloraxis.colorbar.title = 'another title'\n",
    "\n",
    "fig.add_trace(\n",
    "    go.Funnel(\n",
    "    y = variable_names,\n",
    "    x = values_to_be_used,showlegend=False,\n",
    "    textposition='none',\n",
    "        #name='Continous Process',\n",
    "        marker = {\"color\": [green_color, green_color, green_color, green_color, green_color,\\\n",
    "                           green_color, green_color, green_color,green_color,green_color,green_color]}))\n",
    "\n",
    "\n",
    "for i,y,k in zip(variable_names,annotation_names,per_annot):\n",
    "    fig.add_annotation(y=i,xanchor='left',\n",
    "                text=y+'-->'+str(k)+'%',align='right',showarrow=False)\n",
    "\n",
    "fig.update_layout(margin={\"r\":0,\"t\":24,\"l\":0,\"b\":0},paper_bgcolor='rgb(255,255,255)',plot_bgcolor='rgba(0,0,0,0)',\n",
    "                  title={'text':'Process Flow Benchmark Time Duration','xanchor': 'center','x':0.6,\n",
    "},font=dict(color='black'),\n",
    "                  \n",
    "xaxis=dict(\n",
    "    title='x Axis',\n",
    "    titlefont=dict(\n",
    "        family='Arial',\n",
    "        size=18,\n",
    "        color='black'\n",
    "    )\n",
    "),\n",
    "yaxis=dict(\n",
    "    title='Scenario-2 Process Time Delta',\n",
    "    titlefont=dict(\n",
    "        family='Arial',\n",
    "        size=18,\n",
    "        color='black'\n",
    "    )\n",
    "))\n",
    "\n",
    "\n",
    "fig.write_image(output_distribution_sce_2 + \"Scenario_2_min_refill.png\") #pip install -U kaleido & restart jupyter\n",
    "\n",
    "fig.show()\n"
   ]
  },
  {
   "cell_type": "markdown",
   "metadata": {},
   "source": [
    "# scenario-3"
   ]
  },
  {
   "cell_type": "code",
   "execution_count": 35,
   "metadata": {},
   "outputs": [],
   "source": [
    "# scenario_3_df_mintime"
   ]
  },
  {
   "cell_type": "code",
   "execution_count": 36,
   "metadata": {},
   "outputs": [],
   "source": [
    "scenario_3_df_mintime = scenario_3_df.set_index('pharmacy_loc')  #Nan --->Total\n",
    "scenario_3_df_mintime\n",
    "\n",
    "#####\n",
    "scenario_3_df_mintime.rename(index={np.nan:'Total'},inplace=True)\n",
    "scenario_3_df_mintime\n",
    "\n",
    "#####\n",
    "my_string  = scenario_3_df_mintime.columns.str[12:]\n",
    "new_column_names = []\n",
    "for i in my_string:\n",
    "    nn = i.replace(\"_\", \" \")\n",
    "    new_column_names.append(nn)\n",
    "\n",
    "scenario_3_df_mintime.columns = new_column_names\n",
    "\n",
    "#####\n",
    "scenario_3_df_mintime[['time taken by rx to be picked up by IBD team','received to entered time']] = scenario_3_df_mintime[['time taken by rx to be picked up by IBD team','received to entered time']].replace('None',np.nan)\n",
    "scenario_3_df_mintime[['time taken by rx to be picked up by IBD team','received to entered time']] = scenario_3_df_mintime[['time taken by rx to be picked up by IBD team','received to entered time']].replace(np.nan,pd.to_timedelta(0))\n",
    "\n",
    "for i in scenario_3_df_mintime.columns:\n",
    "    #scenario_3_df_mintime[i] = scenario_3_df_mintime[i].astype(str).str[0:12]\n",
    "\n",
    "    scenario_3_df_mintime[i] = pd.to_timedelta(scenario_3_df_mintime[i]).dt.round('s')"
   ]
  },
  {
   "cell_type": "code",
   "execution_count": 37,
   "metadata": {},
   "outputs": [
    {
     "name": "stderr",
     "output_type": "stream",
     "text": [
      "<ipython-input-37-881c02807b27>:2: SettingWithCopyWarning:\n",
      "\n",
      "\n",
      "A value is trying to be set on a copy of a slice from a DataFrame.\n",
      "Try using .loc[row_indexer,col_indexer] = value instead\n",
      "\n",
      "See the caveats in the documentation: https://pandas.pydata.org/pandas-docs/stable/user_guide/indexing.html#returning-a-view-versus-a-copy\n",
      "\n"
     ]
    },
    {
     "data": {
      "text/html": [
       "<div>\n",
       "<style scoped>\n",
       "    .dataframe tbody tr th:only-of-type {\n",
       "        vertical-align: middle;\n",
       "    }\n",
       "\n",
       "    .dataframe tbody tr th {\n",
       "        vertical-align: top;\n",
       "    }\n",
       "\n",
       "    .dataframe thead th {\n",
       "        text-align: right;\n",
       "    }\n",
       "</style>\n",
       "<table border=\"1\" class=\"dataframe\">\n",
       "  <thead>\n",
       "    <tr style=\"text-align: right;\">\n",
       "      <th></th>\n",
       "      <th>min value</th>\n",
       "      <th>pharmacy loc</th>\n",
       "      <th>deltatime</th>\n",
       "      <th>text</th>\n",
       "    </tr>\n",
       "  </thead>\n",
       "  <tbody>\n",
       "    <tr>\n",
       "      <th>1</th>\n",
       "      <td>0 days 00:01:07</td>\n",
       "      <td>MD-BA</td>\n",
       "      <td>rx entered to callins processing start</td>\n",
       "      <td>MD-BA - 0 days 00:01:07</td>\n",
       "    </tr>\n",
       "    <tr>\n",
       "      <th>2</th>\n",
       "      <td>0 days 16:05:44</td>\n",
       "      <td>FL-MI</td>\n",
       "      <td>time taken for call for insurance process</td>\n",
       "      <td>FL-MI - 0 days 16:05:44</td>\n",
       "    </tr>\n",
       "    <tr>\n",
       "      <th>3</th>\n",
       "      <td>0 days 00:01:05</td>\n",
       "      <td>NC-RA</td>\n",
       "      <td>time taken by rx to be picked up by IBD team</td>\n",
       "      <td>NC-RA - 0 days 00:01:05</td>\n",
       "    </tr>\n",
       "    <tr>\n",
       "      <th>4</th>\n",
       "      <td>1 days 04:24:04</td>\n",
       "      <td>NY-MA</td>\n",
       "      <td>time taken by IBD team to process rx</td>\n",
       "      <td>NY-MA - 1 days 04:24:04</td>\n",
       "    </tr>\n",
       "    <tr>\n",
       "      <th>5</th>\n",
       "      <td>3 days 18:07:50</td>\n",
       "      <td>NJ-SO</td>\n",
       "      <td>ibd processing end to first billed</td>\n",
       "      <td>NJ-SO - 3 days 18:07:50</td>\n",
       "    </tr>\n",
       "    <tr>\n",
       "      <th>6</th>\n",
       "      <td>0 days 00:00:27</td>\n",
       "      <td>NY-MA</td>\n",
       "      <td>first billed to last billed</td>\n",
       "      <td>NY-MA - 0 days 00:00:27</td>\n",
       "    </tr>\n",
       "    <tr>\n",
       "      <th>7</th>\n",
       "      <td>0 days 00:00:01</td>\n",
       "      <td>FL-MI</td>\n",
       "      <td>last billed to label printed</td>\n",
       "      <td>FL-MI - 0 days 00:00:01</td>\n",
       "    </tr>\n",
       "    <tr>\n",
       "      <th>8</th>\n",
       "      <td>0 days 00:02:04</td>\n",
       "      <td>NC-RA</td>\n",
       "      <td>label printed to drug picked</td>\n",
       "      <td>NC-RA - 0 days 00:02:04</td>\n",
       "    </tr>\n",
       "    <tr>\n",
       "      <th>9</th>\n",
       "      <td>0 days 00:01:20</td>\n",
       "      <td>FL-MI</td>\n",
       "      <td>drug picked to rph verified</td>\n",
       "      <td>FL-MI - 0 days 00:01:20</td>\n",
       "    </tr>\n",
       "    <tr>\n",
       "      <th>10</th>\n",
       "      <td>0 days 00:00:00</td>\n",
       "      <td>FL-MI</td>\n",
       "      <td>rph verified to pharmacy pickedup</td>\n",
       "      <td>FL-MI - 0 days 00:00:00</td>\n",
       "    </tr>\n",
       "    <tr>\n",
       "      <th>11</th>\n",
       "      <td>1 days 02:51:40</td>\n",
       "      <td>FL-MI</td>\n",
       "      <td>rph verified to delivered</td>\n",
       "      <td>FL-MI - 1 days 02:51:40</td>\n",
       "    </tr>\n",
       "  </tbody>\n",
       "</table>\n",
       "</div>"
      ],
      "text/plain": [
       "         min value pharmacy loc                                     deltatime  \\\n",
       "1  0 days 00:01:07        MD-BA        rx entered to callins processing start   \n",
       "2  0 days 16:05:44        FL-MI     time taken for call for insurance process   \n",
       "3  0 days 00:01:05        NC-RA  time taken by rx to be picked up by IBD team   \n",
       "4  1 days 04:24:04        NY-MA          time taken by IBD team to process rx   \n",
       "5  3 days 18:07:50        NJ-SO            ibd processing end to first billed   \n",
       "6  0 days 00:00:27        NY-MA                   first billed to last billed   \n",
       "7  0 days 00:00:01        FL-MI                  last billed to label printed   \n",
       "8  0 days 00:02:04        NC-RA                  label printed to drug picked   \n",
       "9  0 days 00:01:20        FL-MI                   drug picked to rph verified   \n",
       "10 0 days 00:00:00        FL-MI             rph verified to pharmacy pickedup   \n",
       "11 1 days 02:51:40        FL-MI                     rph verified to delivered   \n",
       "\n",
       "                       text  \n",
       "1   MD-BA - 0 days 00:01:07  \n",
       "2   FL-MI - 0 days 16:05:44  \n",
       "3   NC-RA - 0 days 00:01:05  \n",
       "4   NY-MA - 1 days 04:24:04  \n",
       "5   NJ-SO - 3 days 18:07:50  \n",
       "6   NY-MA - 0 days 00:00:27  \n",
       "7   FL-MI - 0 days 00:00:01  \n",
       "8   NC-RA - 0 days 00:02:04  \n",
       "9   FL-MI - 0 days 00:01:20  \n",
       "10  FL-MI - 0 days 00:00:00  \n",
       "11  FL-MI - 1 days 02:51:40  "
      ]
     },
     "execution_count": 37,
     "metadata": {},
     "output_type": "execute_result"
    }
   ],
   "source": [
    "scen_3_min_df = scenario_3_df_mintime.iloc[:-1,:]\n",
    "scen_3_min_df['received to entered time'] = scen_3_min_df['received to entered time'].replace(pd.NaT,pd.to_timedelta(0))\n",
    "\n",
    "#####\n",
    "scen_3_min_df_final = pd.DataFrame(columns=['min value','pharmacy loc'],index=range(0,len(scen_3_min_df.columns)))\n",
    "scen_3_min_df_final['min value'] = scen_3_min_df.min(axis=0).values\n",
    "scen_3_min_df_final['pharmacy loc'] = scen_3_min_df.idxmin().values\n",
    "scen_3_min_df_final['deltatime'] = scen_3_min_df.columns\n",
    "\n",
    "#####\n",
    "scen_3_min_df_final['text'] = scen_3_min_df_final['pharmacy loc']+' - '+scen_3_min_df_final['min value'].astype(str)\n",
    "\n",
    "#####\n",
    "scen_3_min_df.min(axis=0)\n",
    "#####\n",
    "scen_3_min_df.idxmin()\n",
    "\n",
    "#####\n",
    "min_scenario_3_df = scen_3_min_df_final.iloc[1:-1,:]\n",
    "min_scenario_3_df"
   ]
  },
  {
   "cell_type": "code",
   "execution_count": 38,
   "metadata": {},
   "outputs": [
    {
     "name": "stderr",
     "output_type": "stream",
     "text": [
      "<ipython-input-38-514b1a027649>:21: SettingWithCopyWarning:\n",
      "\n",
      "\n",
      "A value is trying to be set on a copy of a slice from a DataFrame.\n",
      "Try using .loc[row_indexer,col_indexer] = value instead\n",
      "\n",
      "See the caveats in the documentation: https://pandas.pydata.org/pandas-docs/stable/user_guide/indexing.html#returning-a-view-versus-a-copy\n",
      "\n",
      "<ipython-input-38-514b1a027649>:22: SettingWithCopyWarning:\n",
      "\n",
      "\n",
      "A value is trying to be set on a copy of a slice from a DataFrame.\n",
      "Try using .loc[row_indexer,col_indexer] = value instead\n",
      "\n",
      "See the caveats in the documentation: https://pandas.pydata.org/pandas-docs/stable/user_guide/indexing.html#returning-a-view-versus-a-copy\n",
      "\n"
     ]
    }
   ],
   "source": [
    "variable_names = min_scenario_3_df.deltatime.values\n",
    "#variable_names\n",
    "\n",
    "#####\n",
    "variable_names = variable_names\n",
    "# variable_names\n",
    "\n",
    "#####\n",
    "values_to_be_used = min_scenario_3_df['min value'].values.tolist()\n",
    "# values_to_be_used\n",
    "\n",
    "#####\n",
    "annotation_names = min_scenario_3_df['text'].values.tolist()\n",
    "# annotation_names\n",
    "\n",
    "#####\n",
    "annotation_names = [x[:-3] for x in annotation_names]\n",
    "# annotation_names\n",
    "\n",
    "#####\n",
    "min_scenario_3_df['min value'] = round(min_scenario_3_df['min value']/(min_scenario_3_df['min value'].sum())*100,2)\n",
    "min_scenario_3_df['min value'] = round(min_scenario_3_df['min value'],0).astype('int')\n",
    "#####\n",
    "per_annot = min_scenario_3_df['min value'].values.tolist()\n",
    "# per_annot"
   ]
  },
  {
   "cell_type": "code",
   "execution_count": 39,
   "metadata": {},
   "outputs": [
    {
     "data": {
      "application/vnd.plotly.v1+json": {
       "config": {
        "plotlyServerURL": "https://plot.ly"
       },
       "data": [
        {
         "marker": {
          "color": [
           "#9EEDE0",
           "#9EEDE0",
           "#9EEDE0",
           "#9EEDE0",
           "#9EEDE0",
           "#9EEDE0",
           "#9EEDE0",
           "#9EEDE0",
           "#9EEDE0",
           "#9EEDE0",
           "#9EEDE0",
           "#9EEDE0"
          ]
         },
         "showlegend": false,
         "textposition": "none",
         "type": "funnel",
         "x": [
          67000000000,
          57944000000000,
          65000000000,
          102244000000000,
          324470000000000,
          27000000000,
          1000000000,
          124000000000,
          80000000000,
          0,
          96700000000000
         ],
         "y": [
          "rx entered to callins processing start",
          "time taken for call for insurance process",
          "time taken by rx to be picked up by IBD team",
          "time taken by IBD team to process rx",
          "ibd processing end to first billed",
          "first billed to last billed",
          "last billed to label printed",
          "label printed to drug picked",
          "drug picked to rph verified",
          "rph verified to pharmacy pickedup",
          "rph verified to delivered"
         ]
        }
       ],
       "layout": {
        "annotations": [
         {
          "align": "right",
          "showarrow": false,
          "text": "MD-BA - 0 days 00:01-->0%",
          "xanchor": "left",
          "y": "rx entered to callins processing start"
         },
         {
          "align": "right",
          "showarrow": false,
          "text": "FL-MI - 0 days 16:05-->10%",
          "xanchor": "left",
          "y": "time taken for call for insurance process"
         },
         {
          "align": "right",
          "showarrow": false,
          "text": "NC-RA - 0 days 00:01-->0%",
          "xanchor": "left",
          "y": "time taken by rx to be picked up by IBD team"
         },
         {
          "align": "right",
          "showarrow": false,
          "text": "NY-MA - 1 days 04:24-->18%",
          "xanchor": "left",
          "y": "time taken by IBD team to process rx"
         },
         {
          "align": "right",
          "showarrow": false,
          "text": "NJ-SO - 3 days 18:07-->56%",
          "xanchor": "left",
          "y": "ibd processing end to first billed"
         },
         {
          "align": "right",
          "showarrow": false,
          "text": "NY-MA - 0 days 00:00-->0%",
          "xanchor": "left",
          "y": "first billed to last billed"
         },
         {
          "align": "right",
          "showarrow": false,
          "text": "FL-MI - 0 days 00:00-->0%",
          "xanchor": "left",
          "y": "last billed to label printed"
         },
         {
          "align": "right",
          "showarrow": false,
          "text": "NC-RA - 0 days 00:02-->0%",
          "xanchor": "left",
          "y": "label printed to drug picked"
         },
         {
          "align": "right",
          "showarrow": false,
          "text": "FL-MI - 0 days 00:01-->0%",
          "xanchor": "left",
          "y": "drug picked to rph verified"
         },
         {
          "align": "right",
          "showarrow": false,
          "text": "FL-MI - 0 days 00:00-->0%",
          "xanchor": "left",
          "y": "rph verified to pharmacy pickedup"
         },
         {
          "align": "right",
          "showarrow": false,
          "text": "FL-MI - 1 days 02:51-->17%",
          "xanchor": "left",
          "y": "rph verified to delivered"
         }
        ],
        "coloraxis": {
         "colorbar": {
          "title": {
           "text": "another title"
          }
         }
        },
        "font": {
         "color": "black"
        },
        "margin": {
         "b": 0,
         "l": 0,
         "r": 0,
         "t": 24
        },
        "paper_bgcolor": "rgb(255,255,255)",
        "plot_bgcolor": "rgba(0,0,0,0)",
        "template": {
         "data": {
          "bar": [
           {
            "error_x": {
             "color": "#2a3f5f"
            },
            "error_y": {
             "color": "#2a3f5f"
            },
            "marker": {
             "line": {
              "color": "#E5ECF6",
              "width": 0.5
             },
             "pattern": {
              "fillmode": "overlay",
              "size": 10,
              "solidity": 0.2
             }
            },
            "type": "bar"
           }
          ],
          "barpolar": [
           {
            "marker": {
             "line": {
              "color": "#E5ECF6",
              "width": 0.5
             },
             "pattern": {
              "fillmode": "overlay",
              "size": 10,
              "solidity": 0.2
             }
            },
            "type": "barpolar"
           }
          ],
          "carpet": [
           {
            "aaxis": {
             "endlinecolor": "#2a3f5f",
             "gridcolor": "white",
             "linecolor": "white",
             "minorgridcolor": "white",
             "startlinecolor": "#2a3f5f"
            },
            "baxis": {
             "endlinecolor": "#2a3f5f",
             "gridcolor": "white",
             "linecolor": "white",
             "minorgridcolor": "white",
             "startlinecolor": "#2a3f5f"
            },
            "type": "carpet"
           }
          ],
          "choropleth": [
           {
            "colorbar": {
             "outlinewidth": 0,
             "ticks": ""
            },
            "type": "choropleth"
           }
          ],
          "contour": [
           {
            "colorbar": {
             "outlinewidth": 0,
             "ticks": ""
            },
            "colorscale": [
             [
              0,
              "#0d0887"
             ],
             [
              0.1111111111111111,
              "#46039f"
             ],
             [
              0.2222222222222222,
              "#7201a8"
             ],
             [
              0.3333333333333333,
              "#9c179e"
             ],
             [
              0.4444444444444444,
              "#bd3786"
             ],
             [
              0.5555555555555556,
              "#d8576b"
             ],
             [
              0.6666666666666666,
              "#ed7953"
             ],
             [
              0.7777777777777778,
              "#fb9f3a"
             ],
             [
              0.8888888888888888,
              "#fdca26"
             ],
             [
              1,
              "#f0f921"
             ]
            ],
            "type": "contour"
           }
          ],
          "contourcarpet": [
           {
            "colorbar": {
             "outlinewidth": 0,
             "ticks": ""
            },
            "type": "contourcarpet"
           }
          ],
          "heatmap": [
           {
            "colorbar": {
             "outlinewidth": 0,
             "ticks": ""
            },
            "colorscale": [
             [
              0,
              "#0d0887"
             ],
             [
              0.1111111111111111,
              "#46039f"
             ],
             [
              0.2222222222222222,
              "#7201a8"
             ],
             [
              0.3333333333333333,
              "#9c179e"
             ],
             [
              0.4444444444444444,
              "#bd3786"
             ],
             [
              0.5555555555555556,
              "#d8576b"
             ],
             [
              0.6666666666666666,
              "#ed7953"
             ],
             [
              0.7777777777777778,
              "#fb9f3a"
             ],
             [
              0.8888888888888888,
              "#fdca26"
             ],
             [
              1,
              "#f0f921"
             ]
            ],
            "type": "heatmap"
           }
          ],
          "heatmapgl": [
           {
            "colorbar": {
             "outlinewidth": 0,
             "ticks": ""
            },
            "colorscale": [
             [
              0,
              "#0d0887"
             ],
             [
              0.1111111111111111,
              "#46039f"
             ],
             [
              0.2222222222222222,
              "#7201a8"
             ],
             [
              0.3333333333333333,
              "#9c179e"
             ],
             [
              0.4444444444444444,
              "#bd3786"
             ],
             [
              0.5555555555555556,
              "#d8576b"
             ],
             [
              0.6666666666666666,
              "#ed7953"
             ],
             [
              0.7777777777777778,
              "#fb9f3a"
             ],
             [
              0.8888888888888888,
              "#fdca26"
             ],
             [
              1,
              "#f0f921"
             ]
            ],
            "type": "heatmapgl"
           }
          ],
          "histogram": [
           {
            "marker": {
             "pattern": {
              "fillmode": "overlay",
              "size": 10,
              "solidity": 0.2
             }
            },
            "type": "histogram"
           }
          ],
          "histogram2d": [
           {
            "colorbar": {
             "outlinewidth": 0,
             "ticks": ""
            },
            "colorscale": [
             [
              0,
              "#0d0887"
             ],
             [
              0.1111111111111111,
              "#46039f"
             ],
             [
              0.2222222222222222,
              "#7201a8"
             ],
             [
              0.3333333333333333,
              "#9c179e"
             ],
             [
              0.4444444444444444,
              "#bd3786"
             ],
             [
              0.5555555555555556,
              "#d8576b"
             ],
             [
              0.6666666666666666,
              "#ed7953"
             ],
             [
              0.7777777777777778,
              "#fb9f3a"
             ],
             [
              0.8888888888888888,
              "#fdca26"
             ],
             [
              1,
              "#f0f921"
             ]
            ],
            "type": "histogram2d"
           }
          ],
          "histogram2dcontour": [
           {
            "colorbar": {
             "outlinewidth": 0,
             "ticks": ""
            },
            "colorscale": [
             [
              0,
              "#0d0887"
             ],
             [
              0.1111111111111111,
              "#46039f"
             ],
             [
              0.2222222222222222,
              "#7201a8"
             ],
             [
              0.3333333333333333,
              "#9c179e"
             ],
             [
              0.4444444444444444,
              "#bd3786"
             ],
             [
              0.5555555555555556,
              "#d8576b"
             ],
             [
              0.6666666666666666,
              "#ed7953"
             ],
             [
              0.7777777777777778,
              "#fb9f3a"
             ],
             [
              0.8888888888888888,
              "#fdca26"
             ],
             [
              1,
              "#f0f921"
             ]
            ],
            "type": "histogram2dcontour"
           }
          ],
          "mesh3d": [
           {
            "colorbar": {
             "outlinewidth": 0,
             "ticks": ""
            },
            "type": "mesh3d"
           }
          ],
          "parcoords": [
           {
            "line": {
             "colorbar": {
              "outlinewidth": 0,
              "ticks": ""
             }
            },
            "type": "parcoords"
           }
          ],
          "pie": [
           {
            "automargin": true,
            "type": "pie"
           }
          ],
          "scatter": [
           {
            "marker": {
             "colorbar": {
              "outlinewidth": 0,
              "ticks": ""
             }
            },
            "type": "scatter"
           }
          ],
          "scatter3d": [
           {
            "line": {
             "colorbar": {
              "outlinewidth": 0,
              "ticks": ""
             }
            },
            "marker": {
             "colorbar": {
              "outlinewidth": 0,
              "ticks": ""
             }
            },
            "type": "scatter3d"
           }
          ],
          "scattercarpet": [
           {
            "marker": {
             "colorbar": {
              "outlinewidth": 0,
              "ticks": ""
             }
            },
            "type": "scattercarpet"
           }
          ],
          "scattergeo": [
           {
            "marker": {
             "colorbar": {
              "outlinewidth": 0,
              "ticks": ""
             }
            },
            "type": "scattergeo"
           }
          ],
          "scattergl": [
           {
            "marker": {
             "colorbar": {
              "outlinewidth": 0,
              "ticks": ""
             }
            },
            "type": "scattergl"
           }
          ],
          "scattermapbox": [
           {
            "marker": {
             "colorbar": {
              "outlinewidth": 0,
              "ticks": ""
             }
            },
            "type": "scattermapbox"
           }
          ],
          "scatterpolar": [
           {
            "marker": {
             "colorbar": {
              "outlinewidth": 0,
              "ticks": ""
             }
            },
            "type": "scatterpolar"
           }
          ],
          "scatterpolargl": [
           {
            "marker": {
             "colorbar": {
              "outlinewidth": 0,
              "ticks": ""
             }
            },
            "type": "scatterpolargl"
           }
          ],
          "scatterternary": [
           {
            "marker": {
             "colorbar": {
              "outlinewidth": 0,
              "ticks": ""
             }
            },
            "type": "scatterternary"
           }
          ],
          "surface": [
           {
            "colorbar": {
             "outlinewidth": 0,
             "ticks": ""
            },
            "colorscale": [
             [
              0,
              "#0d0887"
             ],
             [
              0.1111111111111111,
              "#46039f"
             ],
             [
              0.2222222222222222,
              "#7201a8"
             ],
             [
              0.3333333333333333,
              "#9c179e"
             ],
             [
              0.4444444444444444,
              "#bd3786"
             ],
             [
              0.5555555555555556,
              "#d8576b"
             ],
             [
              0.6666666666666666,
              "#ed7953"
             ],
             [
              0.7777777777777778,
              "#fb9f3a"
             ],
             [
              0.8888888888888888,
              "#fdca26"
             ],
             [
              1,
              "#f0f921"
             ]
            ],
            "type": "surface"
           }
          ],
          "table": [
           {
            "cells": {
             "fill": {
              "color": "#EBF0F8"
             },
             "line": {
              "color": "white"
             }
            },
            "header": {
             "fill": {
              "color": "#C8D4E3"
             },
             "line": {
              "color": "white"
             }
            },
            "type": "table"
           }
          ]
         },
         "layout": {
          "annotationdefaults": {
           "arrowcolor": "#2a3f5f",
           "arrowhead": 0,
           "arrowwidth": 1
          },
          "autotypenumbers": "strict",
          "coloraxis": {
           "colorbar": {
            "outlinewidth": 0,
            "ticks": ""
           }
          },
          "colorscale": {
           "diverging": [
            [
             0,
             "#8e0152"
            ],
            [
             0.1,
             "#c51b7d"
            ],
            [
             0.2,
             "#de77ae"
            ],
            [
             0.3,
             "#f1b6da"
            ],
            [
             0.4,
             "#fde0ef"
            ],
            [
             0.5,
             "#f7f7f7"
            ],
            [
             0.6,
             "#e6f5d0"
            ],
            [
             0.7,
             "#b8e186"
            ],
            [
             0.8,
             "#7fbc41"
            ],
            [
             0.9,
             "#4d9221"
            ],
            [
             1,
             "#276419"
            ]
           ],
           "sequential": [
            [
             0,
             "#0d0887"
            ],
            [
             0.1111111111111111,
             "#46039f"
            ],
            [
             0.2222222222222222,
             "#7201a8"
            ],
            [
             0.3333333333333333,
             "#9c179e"
            ],
            [
             0.4444444444444444,
             "#bd3786"
            ],
            [
             0.5555555555555556,
             "#d8576b"
            ],
            [
             0.6666666666666666,
             "#ed7953"
            ],
            [
             0.7777777777777778,
             "#fb9f3a"
            ],
            [
             0.8888888888888888,
             "#fdca26"
            ],
            [
             1,
             "#f0f921"
            ]
           ],
           "sequentialminus": [
            [
             0,
             "#0d0887"
            ],
            [
             0.1111111111111111,
             "#46039f"
            ],
            [
             0.2222222222222222,
             "#7201a8"
            ],
            [
             0.3333333333333333,
             "#9c179e"
            ],
            [
             0.4444444444444444,
             "#bd3786"
            ],
            [
             0.5555555555555556,
             "#d8576b"
            ],
            [
             0.6666666666666666,
             "#ed7953"
            ],
            [
             0.7777777777777778,
             "#fb9f3a"
            ],
            [
             0.8888888888888888,
             "#fdca26"
            ],
            [
             1,
             "#f0f921"
            ]
           ]
          },
          "colorway": [
           "#636efa",
           "#EF553B",
           "#00cc96",
           "#ab63fa",
           "#FFA15A",
           "#19d3f3",
           "#FF6692",
           "#B6E880",
           "#FF97FF",
           "#FECB52"
          ],
          "font": {
           "color": "#2a3f5f"
          },
          "geo": {
           "bgcolor": "white",
           "lakecolor": "white",
           "landcolor": "#E5ECF6",
           "showlakes": true,
           "showland": true,
           "subunitcolor": "white"
          },
          "hoverlabel": {
           "align": "left"
          },
          "hovermode": "closest",
          "mapbox": {
           "style": "light"
          },
          "paper_bgcolor": "white",
          "plot_bgcolor": "#E5ECF6",
          "polar": {
           "angularaxis": {
            "gridcolor": "white",
            "linecolor": "white",
            "ticks": ""
           },
           "bgcolor": "#E5ECF6",
           "radialaxis": {
            "gridcolor": "white",
            "linecolor": "white",
            "ticks": ""
           }
          },
          "scene": {
           "xaxis": {
            "backgroundcolor": "#E5ECF6",
            "gridcolor": "white",
            "gridwidth": 2,
            "linecolor": "white",
            "showbackground": true,
            "ticks": "",
            "zerolinecolor": "white"
           },
           "yaxis": {
            "backgroundcolor": "#E5ECF6",
            "gridcolor": "white",
            "gridwidth": 2,
            "linecolor": "white",
            "showbackground": true,
            "ticks": "",
            "zerolinecolor": "white"
           },
           "zaxis": {
            "backgroundcolor": "#E5ECF6",
            "gridcolor": "white",
            "gridwidth": 2,
            "linecolor": "white",
            "showbackground": true,
            "ticks": "",
            "zerolinecolor": "white"
           }
          },
          "shapedefaults": {
           "line": {
            "color": "#2a3f5f"
           }
          },
          "ternary": {
           "aaxis": {
            "gridcolor": "white",
            "linecolor": "white",
            "ticks": ""
           },
           "baxis": {
            "gridcolor": "white",
            "linecolor": "white",
            "ticks": ""
           },
           "bgcolor": "#E5ECF6",
           "caxis": {
            "gridcolor": "white",
            "linecolor": "white",
            "ticks": ""
           }
          },
          "title": {
           "x": 0.05
          },
          "xaxis": {
           "automargin": true,
           "gridcolor": "white",
           "linecolor": "white",
           "ticks": "",
           "title": {
            "standoff": 15
           },
           "zerolinecolor": "white",
           "zerolinewidth": 2
          },
          "yaxis": {
           "automargin": true,
           "gridcolor": "white",
           "linecolor": "white",
           "ticks": "",
           "title": {
            "standoff": 15
           },
           "zerolinecolor": "white",
           "zerolinewidth": 2
          }
         }
        },
        "title": {
         "text": "Process Flow Benchmark Time Duration",
         "x": 0.6,
         "xanchor": "center"
        },
        "xaxis": {
         "anchor": "y",
         "domain": [
          0,
          1
         ],
         "title": {
          "font": {
           "color": "black",
           "family": "Arial",
           "size": 18
          },
          "text": "x Axis"
         }
        },
        "yaxis": {
         "anchor": "x",
         "domain": [
          0,
          1
         ],
         "title": {
          "font": {
           "color": "black",
           "family": "Arial",
           "size": 18
          },
          "text": "Scenario-3 Process Time Delta"
         }
        }
       }
      }
     },
     "metadata": {},
     "output_type": "display_data"
    }
   ],
   "source": [
    "fig = make_subplots()\n",
    "fig.layout.coloraxis.colorbar.title = 'another title'\n",
    "\n",
    "fig.add_trace(\n",
    "    go.Funnel(\n",
    "    y = variable_names,\n",
    "    x = values_to_be_used,showlegend=False,\n",
    "    textposition='none',\n",
    "        #name='Continous Process',\n",
    "        marker = {\"color\": [green_color, green_color, green_color, green_color, green_color,\\\n",
    "                           green_color, green_color, green_color,green_color,green_color, green_color,green_color]}))\n",
    "\n",
    "\n",
    "for i,y,k in zip(variable_names,annotation_names,per_annot):\n",
    "    fig.add_annotation(y=i,xanchor='left',\n",
    "                text=y+'-->'+str(k)+'%',align='right',showarrow=False)\n",
    "\n",
    "fig.update_layout(margin={\"r\":0,\"t\":24,\"l\":0,\"b\":0},paper_bgcolor='rgb(255,255,255)',plot_bgcolor='rgba(0,0,0,0)',\n",
    "                  title={'text':'Process Flow Benchmark Time Duration','xanchor': 'center','x':0.6,\n",
    "},font=dict(color='black'),\n",
    "                  \n",
    "xaxis=dict(\n",
    "    title='x Axis',\n",
    "    titlefont=dict(\n",
    "        family='Arial',\n",
    "        size=18,\n",
    "        color='black'\n",
    "    )\n",
    "),\n",
    "yaxis=dict(\n",
    "    title='Scenario-3 Process Time Delta',\n",
    "    titlefont=dict(\n",
    "        family='Arial',\n",
    "        size=18,\n",
    "        color='black'\n",
    "    )\n",
    "))\n",
    "\n",
    "\n",
    "fig.write_image(output_distribution_sce_3+\"Scenario_3_min_refill.png\") #pip install -U kaleido & restart jupyter\n",
    "\n",
    "fig.show()\n"
   ]
  },
  {
   "cell_type": "markdown",
   "metadata": {},
   "source": [
    "# scenario-4"
   ]
  },
  {
   "cell_type": "code",
   "execution_count": 40,
   "metadata": {},
   "outputs": [],
   "source": [
    "scenario_4_df_mintime = scenario_4_df.set_index('pharmacy_loc')  #Nan --->Total\n",
    "scenario_4_df_mintime\n",
    "\n",
    "#####\n",
    "scenario_4_df_mintime.rename(index={np.nan:'Total'},inplace=True)\n",
    "scenario_4_df_mintime\n",
    "\n",
    "#####\n",
    "my_string  = scenario_4_df_mintime.columns.str[12:]\n",
    "new_column_names = []\n",
    "for i in my_string:\n",
    "    nn = i.replace(\"_\", \" \")\n",
    "    new_column_names.append(nn)\n",
    "\n",
    "scenario_4_df_mintime.columns = new_column_names\n",
    "\n",
    "#####\n",
    "scenario_4_df_mintime['received to entered time'] = scenario_4_df_mintime['received to entered time'].replace('None',np.nan)\n",
    "scenario_4_df_mintime['received to entered time'] = scenario_4_df_mintime['received to entered time'].replace(np.nan,pd.to_timedelta(0))\n",
    "\n",
    "for i in scenario_4_df_mintime.columns:\n",
    "    #scenario_4_df_mintime[i] = scenario_4_df_mintime[i].astype(str).str[0:12]\n",
    "\n",
    "    scenario_4_df_mintime[i] = pd.to_timedelta(scenario_4_df_mintime[i]).dt.round('s')"
   ]
  },
  {
   "cell_type": "code",
   "execution_count": 41,
   "metadata": {},
   "outputs": [
    {
     "name": "stderr",
     "output_type": "stream",
     "text": [
      "<ipython-input-41-53334c2ca692>:2: SettingWithCopyWarning:\n",
      "\n",
      "\n",
      "A value is trying to be set on a copy of a slice from a DataFrame.\n",
      "Try using .loc[row_indexer,col_indexer] = value instead\n",
      "\n",
      "See the caveats in the documentation: https://pandas.pydata.org/pandas-docs/stable/user_guide/indexing.html#returning-a-view-versus-a-copy\n",
      "\n"
     ]
    },
    {
     "data": {
      "text/html": [
       "<div>\n",
       "<style scoped>\n",
       "    .dataframe tbody tr th:only-of-type {\n",
       "        vertical-align: middle;\n",
       "    }\n",
       "\n",
       "    .dataframe tbody tr th {\n",
       "        vertical-align: top;\n",
       "    }\n",
       "\n",
       "    .dataframe thead th {\n",
       "        text-align: right;\n",
       "    }\n",
       "</style>\n",
       "<table border=\"1\" class=\"dataframe\">\n",
       "  <thead>\n",
       "    <tr style=\"text-align: right;\">\n",
       "      <th></th>\n",
       "      <th>min value</th>\n",
       "      <th>pharmacy loc</th>\n",
       "      <th>deltatime</th>\n",
       "      <th>text</th>\n",
       "    </tr>\n",
       "  </thead>\n",
       "  <tbody>\n",
       "    <tr>\n",
       "      <th>1</th>\n",
       "      <td>0 days 00:01:14</td>\n",
       "      <td>MD-BA</td>\n",
       "      <td>rx entered to callins processing start</td>\n",
       "      <td>MD-BA - 0 days 00:01:14</td>\n",
       "    </tr>\n",
       "    <tr>\n",
       "      <th>2</th>\n",
       "      <td>2 days 00:59:17</td>\n",
       "      <td>NY-BK</td>\n",
       "      <td>time taken for call for insurance process</td>\n",
       "      <td>NY-BK - 2 days 00:59:17</td>\n",
       "    </tr>\n",
       "    <tr>\n",
       "      <th>3</th>\n",
       "      <td>0 days 00:00:00</td>\n",
       "      <td>FL-MI</td>\n",
       "      <td>first billed to last billed</td>\n",
       "      <td>FL-MI - 0 days 00:00:00</td>\n",
       "    </tr>\n",
       "    <tr>\n",
       "      <th>4</th>\n",
       "      <td>0 days 00:00:11</td>\n",
       "      <td>NY-MA</td>\n",
       "      <td>last billed to label printed</td>\n",
       "      <td>NY-MA - 0 days 00:00:11</td>\n",
       "    </tr>\n",
       "    <tr>\n",
       "      <th>5</th>\n",
       "      <td>0 days 00:07:28</td>\n",
       "      <td>NC-RA</td>\n",
       "      <td>label printed to drug picked</td>\n",
       "      <td>NC-RA - 0 days 00:07:28</td>\n",
       "    </tr>\n",
       "    <tr>\n",
       "      <th>6</th>\n",
       "      <td>0 days 00:10:57</td>\n",
       "      <td>NC-RA</td>\n",
       "      <td>drug picked to rph verified</td>\n",
       "      <td>NC-RA - 0 days 00:10:57</td>\n",
       "    </tr>\n",
       "    <tr>\n",
       "      <th>7</th>\n",
       "      <td>0 days 00:36:32</td>\n",
       "      <td>FL-MI</td>\n",
       "      <td>rph verified to pharmacy pickedup</td>\n",
       "      <td>FL-MI - 0 days 00:36:32</td>\n",
       "    </tr>\n",
       "    <tr>\n",
       "      <th>8</th>\n",
       "      <td>1 days 00:38:25</td>\n",
       "      <td>MD-BA</td>\n",
       "      <td>rph verified to delivered</td>\n",
       "      <td>MD-BA - 1 days 00:38:25</td>\n",
       "    </tr>\n",
       "  </tbody>\n",
       "</table>\n",
       "</div>"
      ],
      "text/plain": [
       "        min value pharmacy loc                                  deltatime  \\\n",
       "1 0 days 00:01:14        MD-BA     rx entered to callins processing start   \n",
       "2 2 days 00:59:17        NY-BK  time taken for call for insurance process   \n",
       "3 0 days 00:00:00        FL-MI                first billed to last billed   \n",
       "4 0 days 00:00:11        NY-MA               last billed to label printed   \n",
       "5 0 days 00:07:28        NC-RA               label printed to drug picked   \n",
       "6 0 days 00:10:57        NC-RA                drug picked to rph verified   \n",
       "7 0 days 00:36:32        FL-MI          rph verified to pharmacy pickedup   \n",
       "8 1 days 00:38:25        MD-BA                  rph verified to delivered   \n",
       "\n",
       "                      text  \n",
       "1  MD-BA - 0 days 00:01:14  \n",
       "2  NY-BK - 2 days 00:59:17  \n",
       "3  FL-MI - 0 days 00:00:00  \n",
       "4  NY-MA - 0 days 00:00:11  \n",
       "5  NC-RA - 0 days 00:07:28  \n",
       "6  NC-RA - 0 days 00:10:57  \n",
       "7  FL-MI - 0 days 00:36:32  \n",
       "8  MD-BA - 1 days 00:38:25  "
      ]
     },
     "execution_count": 41,
     "metadata": {},
     "output_type": "execute_result"
    }
   ],
   "source": [
    "scen_4_min_df = scenario_4_df_mintime.iloc[:-1,:]\n",
    "scen_4_min_df['received to entered time'] = scen_4_min_df['received to entered time'].replace(pd.NaT,pd.to_timedelta(0))\n",
    "\n",
    "\n",
    "#####\n",
    "scen_4_min_df_final = pd.DataFrame(columns=['min value','pharmacy loc'],index=range(0,len(scen_4_min_df.columns)))\n",
    "scen_4_min_df_final['min value'] = scen_4_min_df.min(axis=0).values\n",
    "scen_4_min_df_final['pharmacy loc'] = scen_4_min_df.idxmin().values\n",
    "scen_4_min_df_final['deltatime'] = scen_4_min_df.columns\n",
    "\n",
    "#####\n",
    "scen_4_min_df_final['text'] = scen_4_min_df_final['pharmacy loc']+' - '+scen_4_min_df_final['min value'].astype(str)\n",
    "\n",
    "#####\n",
    "scen_4_min_df.min(axis=0)\n",
    "#####\n",
    "scen_4_min_df.idxmin()\n",
    "\n",
    "#####\n",
    "min_scenario_4_df = scen_4_min_df_final.iloc[1:-1,:]   #remove 1 from 1:-1,:\n",
    "min_scenario_4_df"
   ]
  },
  {
   "cell_type": "code",
   "execution_count": 42,
   "metadata": {},
   "outputs": [
    {
     "name": "stderr",
     "output_type": "stream",
     "text": [
      "<ipython-input-42-e376e5a97f0a>:21: SettingWithCopyWarning:\n",
      "\n",
      "\n",
      "A value is trying to be set on a copy of a slice from a DataFrame.\n",
      "Try using .loc[row_indexer,col_indexer] = value instead\n",
      "\n",
      "See the caveats in the documentation: https://pandas.pydata.org/pandas-docs/stable/user_guide/indexing.html#returning-a-view-versus-a-copy\n",
      "\n",
      "<ipython-input-42-e376e5a97f0a>:22: SettingWithCopyWarning:\n",
      "\n",
      "\n",
      "A value is trying to be set on a copy of a slice from a DataFrame.\n",
      "Try using .loc[row_indexer,col_indexer] = value instead\n",
      "\n",
      "See the caveats in the documentation: https://pandas.pydata.org/pandas-docs/stable/user_guide/indexing.html#returning-a-view-versus-a-copy\n",
      "\n"
     ]
    }
   ],
   "source": [
    "variable_names = min_scenario_4_df.deltatime.values\n",
    "#variable_names\n",
    "\n",
    "#####\n",
    "variable_names = variable_names\n",
    "# variable_names\n",
    "\n",
    "#####\n",
    "values_to_be_used = min_scenario_4_df['min value'].values.tolist()\n",
    "# values_to_be_used\n",
    "\n",
    "#####\n",
    "annotation_names = min_scenario_4_df['text'].values.tolist()\n",
    "# annotation_names\n",
    "\n",
    "#####\n",
    "annotation_names = [x[:-3] for x in annotation_names]\n",
    "# annotation_names\n",
    "\n",
    "#####\n",
    "min_scenario_4_df['min value'] = round(min_scenario_4_df['min value']/(min_scenario_4_df['min value'].sum())*100,2)\n",
    "min_scenario_4_df['min value'] = round(min_scenario_4_df['min value'],0).astype('int')\n",
    "#####\n",
    "per_annot = min_scenario_4_df['min value'].values.tolist()\n",
    "# per_annot"
   ]
  },
  {
   "cell_type": "code",
   "execution_count": 43,
   "metadata": {},
   "outputs": [
    {
     "data": {
      "application/vnd.plotly.v1+json": {
       "config": {
        "plotlyServerURL": "https://plot.ly"
       },
       "data": [
        {
         "marker": {
          "color": [
           "#9EEDE0",
           "#9EEDE0",
           "#9EEDE0",
           "#9EEDE0",
           "#9EEDE0",
           "#9EEDE0",
           "#9EEDE0",
           "#9EEDE0",
           "#9EEDE0"
          ]
         },
         "showlegend": false,
         "textposition": "none",
         "type": "funnel",
         "x": [
          74000000000,
          176357000000000,
          0,
          11000000000,
          448000000000,
          657000000000,
          2192000000000,
          88705000000000
         ],
         "y": [
          "rx entered to callins processing start",
          "time taken for call for insurance process",
          "first billed to last billed",
          "last billed to label printed",
          "label printed to drug picked",
          "drug picked to rph verified",
          "rph verified to pharmacy pickedup",
          "rph verified to delivered"
         ]
        }
       ],
       "layout": {
        "annotations": [
         {
          "align": "right",
          "showarrow": false,
          "text": "MD-BA - 0 days 00:01-->0%",
          "xanchor": "left",
          "y": "rx entered to callins processing start"
         },
         {
          "align": "right",
          "showarrow": false,
          "text": "NY-BK - 2 days 00:59-->66%",
          "xanchor": "left",
          "y": "time taken for call for insurance process"
         },
         {
          "align": "right",
          "showarrow": false,
          "text": "FL-MI - 0 days 00:00-->0%",
          "xanchor": "left",
          "y": "first billed to last billed"
         },
         {
          "align": "right",
          "showarrow": false,
          "text": "NY-MA - 0 days 00:00-->0%",
          "xanchor": "left",
          "y": "last billed to label printed"
         },
         {
          "align": "right",
          "showarrow": false,
          "text": "NC-RA - 0 days 00:07-->0%",
          "xanchor": "left",
          "y": "label printed to drug picked"
         },
         {
          "align": "right",
          "showarrow": false,
          "text": "NC-RA - 0 days 00:10-->0%",
          "xanchor": "left",
          "y": "drug picked to rph verified"
         },
         {
          "align": "right",
          "showarrow": false,
          "text": "FL-MI - 0 days 00:36-->1%",
          "xanchor": "left",
          "y": "rph verified to pharmacy pickedup"
         },
         {
          "align": "right",
          "showarrow": false,
          "text": "MD-BA - 1 days 00:38-->33%",
          "xanchor": "left",
          "y": "rph verified to delivered"
         }
        ],
        "coloraxis": {
         "colorbar": {
          "title": {
           "text": "another title"
          }
         }
        },
        "font": {
         "color": "black"
        },
        "margin": {
         "b": 0,
         "l": 0,
         "r": 0,
         "t": 24
        },
        "paper_bgcolor": "rgb(255,255,255)",
        "plot_bgcolor": "rgba(0,0,0,0)",
        "template": {
         "data": {
          "bar": [
           {
            "error_x": {
             "color": "#2a3f5f"
            },
            "error_y": {
             "color": "#2a3f5f"
            },
            "marker": {
             "line": {
              "color": "#E5ECF6",
              "width": 0.5
             },
             "pattern": {
              "fillmode": "overlay",
              "size": 10,
              "solidity": 0.2
             }
            },
            "type": "bar"
           }
          ],
          "barpolar": [
           {
            "marker": {
             "line": {
              "color": "#E5ECF6",
              "width": 0.5
             },
             "pattern": {
              "fillmode": "overlay",
              "size": 10,
              "solidity": 0.2
             }
            },
            "type": "barpolar"
           }
          ],
          "carpet": [
           {
            "aaxis": {
             "endlinecolor": "#2a3f5f",
             "gridcolor": "white",
             "linecolor": "white",
             "minorgridcolor": "white",
             "startlinecolor": "#2a3f5f"
            },
            "baxis": {
             "endlinecolor": "#2a3f5f",
             "gridcolor": "white",
             "linecolor": "white",
             "minorgridcolor": "white",
             "startlinecolor": "#2a3f5f"
            },
            "type": "carpet"
           }
          ],
          "choropleth": [
           {
            "colorbar": {
             "outlinewidth": 0,
             "ticks": ""
            },
            "type": "choropleth"
           }
          ],
          "contour": [
           {
            "colorbar": {
             "outlinewidth": 0,
             "ticks": ""
            },
            "colorscale": [
             [
              0,
              "#0d0887"
             ],
             [
              0.1111111111111111,
              "#46039f"
             ],
             [
              0.2222222222222222,
              "#7201a8"
             ],
             [
              0.3333333333333333,
              "#9c179e"
             ],
             [
              0.4444444444444444,
              "#bd3786"
             ],
             [
              0.5555555555555556,
              "#d8576b"
             ],
             [
              0.6666666666666666,
              "#ed7953"
             ],
             [
              0.7777777777777778,
              "#fb9f3a"
             ],
             [
              0.8888888888888888,
              "#fdca26"
             ],
             [
              1,
              "#f0f921"
             ]
            ],
            "type": "contour"
           }
          ],
          "contourcarpet": [
           {
            "colorbar": {
             "outlinewidth": 0,
             "ticks": ""
            },
            "type": "contourcarpet"
           }
          ],
          "heatmap": [
           {
            "colorbar": {
             "outlinewidth": 0,
             "ticks": ""
            },
            "colorscale": [
             [
              0,
              "#0d0887"
             ],
             [
              0.1111111111111111,
              "#46039f"
             ],
             [
              0.2222222222222222,
              "#7201a8"
             ],
             [
              0.3333333333333333,
              "#9c179e"
             ],
             [
              0.4444444444444444,
              "#bd3786"
             ],
             [
              0.5555555555555556,
              "#d8576b"
             ],
             [
              0.6666666666666666,
              "#ed7953"
             ],
             [
              0.7777777777777778,
              "#fb9f3a"
             ],
             [
              0.8888888888888888,
              "#fdca26"
             ],
             [
              1,
              "#f0f921"
             ]
            ],
            "type": "heatmap"
           }
          ],
          "heatmapgl": [
           {
            "colorbar": {
             "outlinewidth": 0,
             "ticks": ""
            },
            "colorscale": [
             [
              0,
              "#0d0887"
             ],
             [
              0.1111111111111111,
              "#46039f"
             ],
             [
              0.2222222222222222,
              "#7201a8"
             ],
             [
              0.3333333333333333,
              "#9c179e"
             ],
             [
              0.4444444444444444,
              "#bd3786"
             ],
             [
              0.5555555555555556,
              "#d8576b"
             ],
             [
              0.6666666666666666,
              "#ed7953"
             ],
             [
              0.7777777777777778,
              "#fb9f3a"
             ],
             [
              0.8888888888888888,
              "#fdca26"
             ],
             [
              1,
              "#f0f921"
             ]
            ],
            "type": "heatmapgl"
           }
          ],
          "histogram": [
           {
            "marker": {
             "pattern": {
              "fillmode": "overlay",
              "size": 10,
              "solidity": 0.2
             }
            },
            "type": "histogram"
           }
          ],
          "histogram2d": [
           {
            "colorbar": {
             "outlinewidth": 0,
             "ticks": ""
            },
            "colorscale": [
             [
              0,
              "#0d0887"
             ],
             [
              0.1111111111111111,
              "#46039f"
             ],
             [
              0.2222222222222222,
              "#7201a8"
             ],
             [
              0.3333333333333333,
              "#9c179e"
             ],
             [
              0.4444444444444444,
              "#bd3786"
             ],
             [
              0.5555555555555556,
              "#d8576b"
             ],
             [
              0.6666666666666666,
              "#ed7953"
             ],
             [
              0.7777777777777778,
              "#fb9f3a"
             ],
             [
              0.8888888888888888,
              "#fdca26"
             ],
             [
              1,
              "#f0f921"
             ]
            ],
            "type": "histogram2d"
           }
          ],
          "histogram2dcontour": [
           {
            "colorbar": {
             "outlinewidth": 0,
             "ticks": ""
            },
            "colorscale": [
             [
              0,
              "#0d0887"
             ],
             [
              0.1111111111111111,
              "#46039f"
             ],
             [
              0.2222222222222222,
              "#7201a8"
             ],
             [
              0.3333333333333333,
              "#9c179e"
             ],
             [
              0.4444444444444444,
              "#bd3786"
             ],
             [
              0.5555555555555556,
              "#d8576b"
             ],
             [
              0.6666666666666666,
              "#ed7953"
             ],
             [
              0.7777777777777778,
              "#fb9f3a"
             ],
             [
              0.8888888888888888,
              "#fdca26"
             ],
             [
              1,
              "#f0f921"
             ]
            ],
            "type": "histogram2dcontour"
           }
          ],
          "mesh3d": [
           {
            "colorbar": {
             "outlinewidth": 0,
             "ticks": ""
            },
            "type": "mesh3d"
           }
          ],
          "parcoords": [
           {
            "line": {
             "colorbar": {
              "outlinewidth": 0,
              "ticks": ""
             }
            },
            "type": "parcoords"
           }
          ],
          "pie": [
           {
            "automargin": true,
            "type": "pie"
           }
          ],
          "scatter": [
           {
            "marker": {
             "colorbar": {
              "outlinewidth": 0,
              "ticks": ""
             }
            },
            "type": "scatter"
           }
          ],
          "scatter3d": [
           {
            "line": {
             "colorbar": {
              "outlinewidth": 0,
              "ticks": ""
             }
            },
            "marker": {
             "colorbar": {
              "outlinewidth": 0,
              "ticks": ""
             }
            },
            "type": "scatter3d"
           }
          ],
          "scattercarpet": [
           {
            "marker": {
             "colorbar": {
              "outlinewidth": 0,
              "ticks": ""
             }
            },
            "type": "scattercarpet"
           }
          ],
          "scattergeo": [
           {
            "marker": {
             "colorbar": {
              "outlinewidth": 0,
              "ticks": ""
             }
            },
            "type": "scattergeo"
           }
          ],
          "scattergl": [
           {
            "marker": {
             "colorbar": {
              "outlinewidth": 0,
              "ticks": ""
             }
            },
            "type": "scattergl"
           }
          ],
          "scattermapbox": [
           {
            "marker": {
             "colorbar": {
              "outlinewidth": 0,
              "ticks": ""
             }
            },
            "type": "scattermapbox"
           }
          ],
          "scatterpolar": [
           {
            "marker": {
             "colorbar": {
              "outlinewidth": 0,
              "ticks": ""
             }
            },
            "type": "scatterpolar"
           }
          ],
          "scatterpolargl": [
           {
            "marker": {
             "colorbar": {
              "outlinewidth": 0,
              "ticks": ""
             }
            },
            "type": "scatterpolargl"
           }
          ],
          "scatterternary": [
           {
            "marker": {
             "colorbar": {
              "outlinewidth": 0,
              "ticks": ""
             }
            },
            "type": "scatterternary"
           }
          ],
          "surface": [
           {
            "colorbar": {
             "outlinewidth": 0,
             "ticks": ""
            },
            "colorscale": [
             [
              0,
              "#0d0887"
             ],
             [
              0.1111111111111111,
              "#46039f"
             ],
             [
              0.2222222222222222,
              "#7201a8"
             ],
             [
              0.3333333333333333,
              "#9c179e"
             ],
             [
              0.4444444444444444,
              "#bd3786"
             ],
             [
              0.5555555555555556,
              "#d8576b"
             ],
             [
              0.6666666666666666,
              "#ed7953"
             ],
             [
              0.7777777777777778,
              "#fb9f3a"
             ],
             [
              0.8888888888888888,
              "#fdca26"
             ],
             [
              1,
              "#f0f921"
             ]
            ],
            "type": "surface"
           }
          ],
          "table": [
           {
            "cells": {
             "fill": {
              "color": "#EBF0F8"
             },
             "line": {
              "color": "white"
             }
            },
            "header": {
             "fill": {
              "color": "#C8D4E3"
             },
             "line": {
              "color": "white"
             }
            },
            "type": "table"
           }
          ]
         },
         "layout": {
          "annotationdefaults": {
           "arrowcolor": "#2a3f5f",
           "arrowhead": 0,
           "arrowwidth": 1
          },
          "autotypenumbers": "strict",
          "coloraxis": {
           "colorbar": {
            "outlinewidth": 0,
            "ticks": ""
           }
          },
          "colorscale": {
           "diverging": [
            [
             0,
             "#8e0152"
            ],
            [
             0.1,
             "#c51b7d"
            ],
            [
             0.2,
             "#de77ae"
            ],
            [
             0.3,
             "#f1b6da"
            ],
            [
             0.4,
             "#fde0ef"
            ],
            [
             0.5,
             "#f7f7f7"
            ],
            [
             0.6,
             "#e6f5d0"
            ],
            [
             0.7,
             "#b8e186"
            ],
            [
             0.8,
             "#7fbc41"
            ],
            [
             0.9,
             "#4d9221"
            ],
            [
             1,
             "#276419"
            ]
           ],
           "sequential": [
            [
             0,
             "#0d0887"
            ],
            [
             0.1111111111111111,
             "#46039f"
            ],
            [
             0.2222222222222222,
             "#7201a8"
            ],
            [
             0.3333333333333333,
             "#9c179e"
            ],
            [
             0.4444444444444444,
             "#bd3786"
            ],
            [
             0.5555555555555556,
             "#d8576b"
            ],
            [
             0.6666666666666666,
             "#ed7953"
            ],
            [
             0.7777777777777778,
             "#fb9f3a"
            ],
            [
             0.8888888888888888,
             "#fdca26"
            ],
            [
             1,
             "#f0f921"
            ]
           ],
           "sequentialminus": [
            [
             0,
             "#0d0887"
            ],
            [
             0.1111111111111111,
             "#46039f"
            ],
            [
             0.2222222222222222,
             "#7201a8"
            ],
            [
             0.3333333333333333,
             "#9c179e"
            ],
            [
             0.4444444444444444,
             "#bd3786"
            ],
            [
             0.5555555555555556,
             "#d8576b"
            ],
            [
             0.6666666666666666,
             "#ed7953"
            ],
            [
             0.7777777777777778,
             "#fb9f3a"
            ],
            [
             0.8888888888888888,
             "#fdca26"
            ],
            [
             1,
             "#f0f921"
            ]
           ]
          },
          "colorway": [
           "#636efa",
           "#EF553B",
           "#00cc96",
           "#ab63fa",
           "#FFA15A",
           "#19d3f3",
           "#FF6692",
           "#B6E880",
           "#FF97FF",
           "#FECB52"
          ],
          "font": {
           "color": "#2a3f5f"
          },
          "geo": {
           "bgcolor": "white",
           "lakecolor": "white",
           "landcolor": "#E5ECF6",
           "showlakes": true,
           "showland": true,
           "subunitcolor": "white"
          },
          "hoverlabel": {
           "align": "left"
          },
          "hovermode": "closest",
          "mapbox": {
           "style": "light"
          },
          "paper_bgcolor": "white",
          "plot_bgcolor": "#E5ECF6",
          "polar": {
           "angularaxis": {
            "gridcolor": "white",
            "linecolor": "white",
            "ticks": ""
           },
           "bgcolor": "#E5ECF6",
           "radialaxis": {
            "gridcolor": "white",
            "linecolor": "white",
            "ticks": ""
           }
          },
          "scene": {
           "xaxis": {
            "backgroundcolor": "#E5ECF6",
            "gridcolor": "white",
            "gridwidth": 2,
            "linecolor": "white",
            "showbackground": true,
            "ticks": "",
            "zerolinecolor": "white"
           },
           "yaxis": {
            "backgroundcolor": "#E5ECF6",
            "gridcolor": "white",
            "gridwidth": 2,
            "linecolor": "white",
            "showbackground": true,
            "ticks": "",
            "zerolinecolor": "white"
           },
           "zaxis": {
            "backgroundcolor": "#E5ECF6",
            "gridcolor": "white",
            "gridwidth": 2,
            "linecolor": "white",
            "showbackground": true,
            "ticks": "",
            "zerolinecolor": "white"
           }
          },
          "shapedefaults": {
           "line": {
            "color": "#2a3f5f"
           }
          },
          "ternary": {
           "aaxis": {
            "gridcolor": "white",
            "linecolor": "white",
            "ticks": ""
           },
           "baxis": {
            "gridcolor": "white",
            "linecolor": "white",
            "ticks": ""
           },
           "bgcolor": "#E5ECF6",
           "caxis": {
            "gridcolor": "white",
            "linecolor": "white",
            "ticks": ""
           }
          },
          "title": {
           "x": 0.05
          },
          "xaxis": {
           "automargin": true,
           "gridcolor": "white",
           "linecolor": "white",
           "ticks": "",
           "title": {
            "standoff": 15
           },
           "zerolinecolor": "white",
           "zerolinewidth": 2
          },
          "yaxis": {
           "automargin": true,
           "gridcolor": "white",
           "linecolor": "white",
           "ticks": "",
           "title": {
            "standoff": 15
           },
           "zerolinecolor": "white",
           "zerolinewidth": 2
          }
         }
        },
        "title": {
         "text": "Process Flow Benchmark Time Duration",
         "x": 0.6,
         "xanchor": "center"
        },
        "xaxis": {
         "anchor": "y",
         "domain": [
          0,
          1
         ],
         "title": {
          "font": {
           "color": "black",
           "family": "Arial",
           "size": 18
          },
          "text": "x Axis"
         }
        },
        "yaxis": {
         "anchor": "x",
         "domain": [
          0,
          1
         ],
         "title": {
          "font": {
           "color": "black",
           "family": "Arial",
           "size": 18
          },
          "text": "Scenario-4 Process Time Delta"
         }
        }
       }
      }
     },
     "metadata": {},
     "output_type": "display_data"
    }
   ],
   "source": [
    "fig = make_subplots()\n",
    "fig.layout.coloraxis.colorbar.title = 'another title'\n",
    "\n",
    "fig.add_trace(\n",
    "    go.Funnel(\n",
    "    y = variable_names,\n",
    "    x = values_to_be_used,showlegend=False,\n",
    "    textposition='none',\n",
    "        #name='Continous Process',\n",
    "        marker = {\"color\": [green_color, green_color, green_color, green_color, green_color,\\\n",
    "                           green_color, green_color, green_color,green_color]}))\n",
    "\n",
    "\n",
    "for i,y,k in zip(variable_names,annotation_names,per_annot):\n",
    "    fig.add_annotation(y=i,xanchor='left',\n",
    "                text=y+'-->'+str(k)+'%',align='right',showarrow=False)\n",
    "\n",
    "fig.update_layout(margin={\"r\":0,\"t\":24,\"l\":0,\"b\":0},paper_bgcolor='rgb(255,255,255)',plot_bgcolor='rgba(0,0,0,0)',\n",
    "                  title={'text':'Process Flow Benchmark Time Duration','xanchor': 'center','x':0.6,\n",
    "},font=dict(color='black'),\n",
    "                  \n",
    "xaxis=dict(\n",
    "    title='x Axis',\n",
    "    titlefont=dict(\n",
    "        family='Arial',\n",
    "        size=18,\n",
    "        color='black'\n",
    "    )\n",
    "),\n",
    "yaxis=dict(\n",
    "    title='Scenario-4 Process Time Delta',\n",
    "    titlefont=dict(\n",
    "        family='Arial',\n",
    "        size=18,\n",
    "        color='black'\n",
    "    )\n",
    "))\n",
    "\n",
    "\n",
    "fig.write_image(output_distribution_sce_4 + \"Scenario_4_min_refill.png\") #pip install -U kaleido & restart jupyter\n",
    "\n",
    "fig.show()\n"
   ]
  },
  {
   "cell_type": "code",
   "execution_count": null,
   "metadata": {},
   "outputs": [],
   "source": []
  }
 ],
 "metadata": {
  "kernelspec": {
   "display_name": "Python 3",
   "language": "python",
   "name": "python3"
  },
  "language_info": {
   "codemirror_mode": {
    "name": "ipython",
    "version": 3
   },
   "file_extension": ".py",
   "mimetype": "text/x-python",
   "name": "python",
   "nbconvert_exporter": "python",
   "pygments_lexer": "ipython3",
   "version": "3.8.8"
  }
 },
 "nbformat": 4,
 "nbformat_minor": 4
}
