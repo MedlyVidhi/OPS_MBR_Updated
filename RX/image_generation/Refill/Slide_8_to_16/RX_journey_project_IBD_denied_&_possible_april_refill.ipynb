{
 "cells": [
  {
   "cell_type": "code",
   "execution_count": 1,
   "metadata": {},
   "outputs": [],
   "source": [
    "import pandas as pd\n",
    "import numpy as np\n",
    "pd.options.display.max_columns = None\n",
    "import datetime as dt\n",
    "from datetime import date\n",
    "from dateutil.relativedelta import relativedelta\n",
    "import matplotlib.pyplot as plt\n",
    "import matplotlib.patches as mpatches\n",
    "import matplotlib.style as style\n",
    "style.use('fivethirtyeight')\n",
    "import dataframe_image as dfi\n",
    "import warnings\n",
    "warnings.filterwarnings('ignore')"
   ]
  },
  {
   "cell_type": "code",
   "execution_count": 2,
   "metadata": {},
   "outputs": [],
   "source": [
    "plt.rcParams['font.family'] = 'Nunito'\n",
    "plt.rcParams['font.size'] = 10\n",
    "\n",
    "\n",
    "color_code = ['#80ADF7','#EFBA50']\n",
    "font_name = 'Nunito'\n",
    "font_size = 10\n",
    "font_size_title = 12\n",
    "font_weight = 'bold'\n",
    "orange_color = '#EFBA50'\n",
    "blue_color = '#80ADF7'\n",
    "grey_color = '#B0BCC8'\n",
    "green_color = '#9EEDE0'\n",
    "red_color = '#FD7284'\n",
    "# color_code2 = [blue_color, grey_color]\n",
    "\n",
    "background_color = \"#F1F1F1\"\n",
    "border_color = \"#B0BCC8\"\n",
    "text_align = 'center'\n",
    "border_width =\"0.5px\"\n",
    "border_style = 'solid'\n",
    "\n",
    "body_design = { 'background' : \"white\", 'color' : 'black',  'border-color' : border_color, 'border-width' : border_width, 'border-style' : border_style,'font-family':font_name,'font-size':font_size,'text-align':text_align}\n",
    "body_design2 = {'background' : \"white\", 'color' : 'black',  'border-color' : border_color, 'border-width' : border_width, 'border-style' : border_style,'font-family':font_name,'font-size':font_size,'text-align':text_align,'width':'70px'}\n",
    "body_design3 = { 'background' : \"white\", 'color' : 'black',  'border-color' : border_color, 'border-width' : border_width, 'border-style' : border_style,'font-family':font_name,'font-size':font_size,'text-align':text_align,'width':'100px'}\n",
    "\n",
    "border_design = {'selector': 'th', 'props': [('background-color' , background_color),('border-style' ,border_style),('font-family',font_name),('font-size',font_size),('border-width',border_width),('text-align',text_align),('border-color',border_color)]}\n",
    "bar_width=0.5"
   ]
  },
  {
   "cell_type": "code",
   "execution_count": 3,
   "metadata": {},
   "outputs": [],
   "source": [
    "%run operations_utils.py"
   ]
  },
  {
   "cell_type": "code",
   "execution_count": 4,
   "metadata": {},
   "outputs": [],
   "source": [
    "%run path_changer_refill.py"
   ]
  },
  {
   "cell_type": "code",
   "execution_count": 5,
   "metadata": {},
   "outputs": [],
   "source": [
    "# df = pd.read_csv(source_file_path+'rx_flow_data_july21_final_updated.csv')"
   ]
  },
  {
   "cell_type": "code",
   "execution_count": 6,
   "metadata": {},
   "outputs": [],
   "source": [
    "# df['track_rx_recieved_new'] =  pd.to_datetime(df.track_erx_received, dayfirst = False)\n",
    "# df['track_rx_entered_new'] =  pd.to_datetime(df.track_rx_entered, dayfirst = False)\n",
    "# df['max_date'] = df[['track_rx_recieved_new','track_rx_entered_new']].max(axis=1)\n",
    "# df['max_date_only'] = df['max_date'].dt.date\n",
    "# df['pharmacy_loc'] = df['rx_code_key_location'].astype(str).str[0:5]\n"
   ]
  },
  {
   "cell_type": "code",
   "execution_count": 7,
   "metadata": {},
   "outputs": [],
   "source": [
    "# six_months = date.today() - relativedelta(months=+6)\n",
    "# six_months = six_months.strftime(\"%Y-%m\")\n",
    "# six_month_date = str(six_months)+\"-01\"\n",
    "# six_month_date"
   ]
  },
  {
   "cell_type": "code",
   "execution_count": 8,
   "metadata": {},
   "outputs": [],
   "source": [
    "# df['filled_datekey_new'] =  pd.to_datetime(df.filled_datekey, dayfirst = False)"
   ]
  },
  {
   "cell_type": "code",
   "execution_count": 9,
   "metadata": {},
   "outputs": [],
   "source": [
    "# df = df[df['filled_datekey_new'] > six_month_date]"
   ]
  },
  {
   "cell_type": "code",
   "execution_count": 10,
   "metadata": {},
   "outputs": [],
   "source": [
    "# df['times_processed_ibd_regular_new'] = df['times_processed_ibd_regular'].notnull()\n",
    "# df['times_processed_ibd_2K_new'] = df['times_processed_ibd_2K'].notnull()\n"
   ]
  },
  {
   "cell_type": "code",
   "execution_count": 11,
   "metadata": {},
   "outputs": [],
   "source": [
    "# df['mon_key'] = df['max_date'].dt.strftime('%m-%y')\n",
    "\n",
    "# df['mon_key_2'] = df['max_date'].dt.strftime('%b-%y')\n",
    "\n",
    "# # df = df[df['mon_key_2']!='Jul-21']"
   ]
  },
  {
   "cell_type": "code",
   "execution_count": 12,
   "metadata": {},
   "outputs": [],
   "source": [
    "# df['trackrx_last_ibdtag_new'] = df['trackrx_last_ibdtag'].notnull()"
   ]
  },
  {
   "cell_type": "code",
   "execution_count": 13,
   "metadata": {},
   "outputs": [],
   "source": [
    "# df['status_callforins_day01_new'] = df['status_callforins_day01'].notnull()"
   ]
  },
  {
   "cell_type": "code",
   "execution_count": 14,
   "metadata": {},
   "outputs": [],
   "source": [
    "# df['times_processed_callforins_day02_new'] = df['times_processed_callforins_day02'].notnull()"
   ]
  },
  {
   "cell_type": "code",
   "execution_count": 15,
   "metadata": {},
   "outputs": [],
   "source": [
    "# df['times_processed_callforins_day03_new'] = df['times_processed_callforins_day03'].notnull()"
   ]
  },
  {
   "cell_type": "code",
   "execution_count": 16,
   "metadata": {},
   "outputs": [],
   "source": [
    "# #now apply all on scenario\n",
    "# df['c1'] = pd.to_timedelta(df['time_consumed_callforins_day01'], errors = 'coerce')\n",
    "# df['c2'] = pd.to_timedelta(df['time_consumed_callforins_day02'], errors = 'coerce')\n",
    "# df['c3'] = pd.to_timedelta(df['time_consumed_callforins_day03'], errors = 'coerce')"
   ]
  },
  {
   "cell_type": "code",
   "execution_count": 17,
   "metadata": {},
   "outputs": [],
   "source": [
    "# df['total_call'] = df[['c1','c2','c3']].sum(axis=1)"
   ]
  },
  {
   "cell_type": "code",
   "execution_count": 18,
   "metadata": {},
   "outputs": [],
   "source": [
    "# def get_time_value(x):\n",
    "#     return x > 0 "
   ]
  },
  {
   "cell_type": "code",
   "execution_count": 19,
   "metadata": {},
   "outputs": [],
   "source": [
    "# df['total_call_2'] = df['total_call'].dt.total_seconds()"
   ]
  },
  {
   "cell_type": "code",
   "execution_count": 20,
   "metadata": {},
   "outputs": [],
   "source": [
    "# df['is_call'] = df['total_call_2'].apply(lambda x: get_time_value(x))"
   ]
  },
  {
   "cell_type": "code",
   "execution_count": 21,
   "metadata": {},
   "outputs": [],
   "source": [
    "# pharmacy_loc_list = ['FL-MI', 'MD-BA', 'NC-RA', 'NJ-SO', 'NY-BK', 'NY-MA', 'PA-PH']\n",
    "# df = df[df['pharmacy_loc'].isin(pharmacy_loc_list)]\n",
    "# df.pharmacy_loc.unique()"
   ]
  },
  {
   "cell_type": "code",
   "execution_count": 22,
   "metadata": {},
   "outputs": [],
   "source": [
    "%store -r main_odf_refill"
   ]
  },
  {
   "cell_type": "code",
   "execution_count": 23,
   "metadata": {},
   "outputs": [],
   "source": [
    "df = main_odf_refill"
   ]
  },
  {
   "cell_type": "code",
   "execution_count": 24,
   "metadata": {},
   "outputs": [],
   "source": [
    "df['TOTALRXAMOUNT'] = df['TOTALRXAMOUNT'].astype(str)\n",
    "df['TOTALRXAMOUNT'] = df['TOTALRXAMOUNT'].apply(lambda x: x.replace(',',''))\n",
    "df['TOTALRXAMOUNT'] = df['TOTALRXAMOUNT'].astype(float)"
   ]
  },
  {
   "cell_type": "code",
   "execution_count": null,
   "metadata": {},
   "outputs": [],
   "source": []
  },
  {
   "cell_type": "code",
   "execution_count": 25,
   "metadata": {},
   "outputs": [],
   "source": [
    "df['trackrx_last_status_new'] = df['trackrx_last_status']\n",
    "df['trackrx_last_status_new'] = df['trackrx_last_status_new'].replace(['F','T','U'], 'NB')\n",
    "df['trackrx_last_status_new'] = df['trackrx_last_status_new'].replace(np.nan, 'B')"
   ]
  },
  {
   "cell_type": "code",
   "execution_count": 26,
   "metadata": {},
   "outputs": [
    {
     "data": {
      "text/plain": [
       "B    108853\n",
       "F     24055\n",
       "T      1259\n",
       "U       520\n",
       "Name: trackrx_last_status, dtype: int64"
      ]
     },
     "execution_count": 26,
     "metadata": {},
     "output_type": "execute_result"
    }
   ],
   "source": [
    "df['trackrx_last_status'].value_counts()"
   ]
  },
  {
   "cell_type": "code",
   "execution_count": 27,
   "metadata": {},
   "outputs": [],
   "source": [
    "df['rx_revenue'] = df['TOTALRXAMOUNT']"
   ]
  },
  {
   "cell_type": "code",
   "execution_count": 28,
   "metadata": {},
   "outputs": [],
   "source": [
    "Rx_with_IBD_value_less_2k = df[(df['trackrx_last_ibdtag_new'] == True) & (df['times_processed_ibd_regular_new'] == True)]\n",
    "Rx_with_IBD_value_greater_2k = df[(df['trackrx_last_ibdtag_new'] == True) & (df['times_processed_ibd_2K_new'] == True)]"
   ]
  },
  {
   "cell_type": "code",
   "execution_count": 29,
   "metadata": {},
   "outputs": [],
   "source": [
    "# Rx_with_IBD_value_less_2k = df[(df['trackrx_last_ibdtag_new'] == True) & (df['status_callforins_day01_new'] == False) & (df['times_processed_ibd_regular_new'] == True)]\n",
    "\n",
    "# Rx_with_IBD_2k = df[(df['trackrx_last_ibdtag_new'] == True) & (df['times_processed_ibd_regular_new'] == False) & (df['times_processed_ibd_2K_new'] == False) & (df['total_processing_time_ibd_new'] == False)]\n",
    "\n",
    "# rx_list =  Rx_with_IBD_2k['rx_code_key_location'].to_list()\n",
    "\n",
    "# # Rx_with_IBD2 = Rx_with_IBD[~Rx_with_IBD['rx_code_key_location'].isin(rx_list)]\n",
    "# Rx_with_IBD_value_less_2k = Rx_with_IBD_value_less_2k[~Rx_with_IBD_value_less_2k['rx_code_key_location'].isin(rx_list)]\n"
   ]
  },
  {
   "cell_type": "code",
   "execution_count": 30,
   "metadata": {},
   "outputs": [],
   "source": [
    "# Rx_with_IBD_value_greater_2k = df[(df['trackrx_last_ibdtag_new'] == True) & (df['status_callforins_day01_new'] == False) & (df['times_processed_ibd_2K_new'] == True)]\n",
    "\n",
    "\n",
    "# Rx_with_IBD_value_greater_2k = Rx_with_IBD_value_greater_2k[~Rx_with_IBD_value_greater_2k['rx_code_key_location'].isin(rx_list)]\n"
   ]
  },
  {
   "cell_type": "code",
   "execution_count": 31,
   "metadata": {},
   "outputs": [
    {
     "data": {
      "text/plain": [
       "137918"
      ]
     },
     "execution_count": 31,
     "metadata": {},
     "output_type": "execute_result"
    }
   ],
   "source": [
    "len(df)"
   ]
  },
  {
   "cell_type": "code",
   "execution_count": 32,
   "metadata": {},
   "outputs": [
    {
     "data": {
      "text/plain": [
       "array(['NY-BK', 'NJ-SO', 'MD-BA', 'NY-MA', 'NC-RA', 'PA-PH'], dtype=object)"
      ]
     },
     "execution_count": 32,
     "metadata": {},
     "output_type": "execute_result"
    }
   ],
   "source": [
    "Rx_with_IBD_value_greater_2k['pharmacy_loc'].unique()"
   ]
  },
  {
   "cell_type": "markdown",
   "metadata": {},
   "source": [
    "# Overall >2< level IBD for revenue and count"
   ]
  },
  {
   "cell_type": "code",
   "execution_count": 33,
   "metadata": {},
   "outputs": [],
   "source": [
    "# Rx_with_IBD_value_less_2k_revenue_pivot"
   ]
  },
  {
   "cell_type": "code",
   "execution_count": 34,
   "metadata": {},
   "outputs": [
    {
     "data": {
      "text/plain": [
       "array(['NJ-SO', 'NY-BK', 'PA-PH', 'MD-BA', 'NY-MA', 'FL-MI', 'NC-RA'],\n",
       "      dtype=object)"
      ]
     },
     "execution_count": 34,
     "metadata": {},
     "output_type": "execute_result"
    }
   ],
   "source": [
    "Rx_with_IBD_value_less_2k[Rx_with_IBD_value_less_2k['trackrx_last_status_new'] == 'B']['pharmacy_loc'].unique()"
   ]
  },
  {
   "cell_type": "code",
   "execution_count": 35,
   "metadata": {},
   "outputs": [],
   "source": [
    "# Rx_with_IBD_value_less_2k billed\n",
    "Rx_with_IBD_value_less_2k_billed = Rx_with_IBD_value_less_2k[Rx_with_IBD_value_less_2k['trackrx_last_status_new'] == 'B']\n"
   ]
  },
  {
   "cell_type": "code",
   "execution_count": 36,
   "metadata": {},
   "outputs": [],
   "source": [
    "Rx_with_IBD_value_less_2k_count_pivot_billed = pd.pivot_table(Rx_with_IBD_value_less_2k_billed, values = ['rx_code_key_location'], index = ['pharmacy_loc'], aggfunc = 'count').reset_index()\n",
    "Rx_with_IBD_value_less_2k_count_pivot_billed.rename(columns = {'rx_code_key_location':'Rx count for IBD < 2k', 'pharmacy_loc': 'Pharmacy loc'}, inplace = True)\n",
    "\n",
    "Rx_with_IBD_value_less_2k_revenue_pivot_billed = pd.pivot_table(Rx_with_IBD_value_less_2k_billed, values = ['rx_revenue'], index = ['pharmacy_loc'], aggfunc = 'sum').reset_index()\n",
    "Rx_with_IBD_value_less_2k_revenue_pivot_billed.rename(columns = {'rx_revenue':'Rx revenue for IBD < 2k($)', 'pharmacy_loc': 'Pharmacy loc'}, inplace = True)\n",
    "\n"
   ]
  },
  {
   "cell_type": "code",
   "execution_count": 37,
   "metadata": {},
   "outputs": [],
   "source": [
    "# Rx_with_IBD_value_less_2k_billed['pharmacy_loc'].unique()"
   ]
  },
  {
   "cell_type": "code",
   "execution_count": 38,
   "metadata": {},
   "outputs": [],
   "source": [
    "# Rx_with_IBD_value_greater_2k_revenue_pivot"
   ]
  },
  {
   "cell_type": "code",
   "execution_count": 39,
   "metadata": {},
   "outputs": [],
   "source": [
    "# Rx_with_IBD_value_greater_2k billed\n",
    "Rx_with_IBD_value_greater_2k_billed = Rx_with_IBD_value_greater_2k[Rx_with_IBD_value_greater_2k['trackrx_last_status_new'] == 'B']\n"
   ]
  },
  {
   "cell_type": "code",
   "execution_count": 40,
   "metadata": {},
   "outputs": [
    {
     "data": {
      "text/html": [
       "<div>\n",
       "<style scoped>\n",
       "    .dataframe tbody tr th:only-of-type {\n",
       "        vertical-align: middle;\n",
       "    }\n",
       "\n",
       "    .dataframe tbody tr th {\n",
       "        vertical-align: top;\n",
       "    }\n",
       "\n",
       "    .dataframe thead th {\n",
       "        text-align: right;\n",
       "    }\n",
       "</style>\n",
       "<table border=\"1\" class=\"dataframe\">\n",
       "  <thead>\n",
       "    <tr style=\"text-align: right;\">\n",
       "      <th></th>\n",
       "      <th>Pharmacy loc</th>\n",
       "      <th>Rx count for IBD &gt; 2k</th>\n",
       "    </tr>\n",
       "  </thead>\n",
       "  <tbody>\n",
       "    <tr>\n",
       "      <th>0</th>\n",
       "      <td>MD-BA</td>\n",
       "      <td>12</td>\n",
       "    </tr>\n",
       "    <tr>\n",
       "      <th>1</th>\n",
       "      <td>NC-RA</td>\n",
       "      <td>2</td>\n",
       "    </tr>\n",
       "    <tr>\n",
       "      <th>2</th>\n",
       "      <td>NJ-SO</td>\n",
       "      <td>8</td>\n",
       "    </tr>\n",
       "    <tr>\n",
       "      <th>3</th>\n",
       "      <td>NY-BK</td>\n",
       "      <td>76</td>\n",
       "    </tr>\n",
       "    <tr>\n",
       "      <th>4</th>\n",
       "      <td>NY-MA</td>\n",
       "      <td>2</td>\n",
       "    </tr>\n",
       "    <tr>\n",
       "      <th>5</th>\n",
       "      <td>PA-PH</td>\n",
       "      <td>8</td>\n",
       "    </tr>\n",
       "  </tbody>\n",
       "</table>\n",
       "</div>"
      ],
      "text/plain": [
       "  Pharmacy loc  Rx count for IBD > 2k\n",
       "0        MD-BA                     12\n",
       "1        NC-RA                      2\n",
       "2        NJ-SO                      8\n",
       "3        NY-BK                     76\n",
       "4        NY-MA                      2\n",
       "5        PA-PH                      8"
      ]
     },
     "execution_count": 40,
     "metadata": {},
     "output_type": "execute_result"
    }
   ],
   "source": [
    "#Rx_with_IBD_value_greater_2k\n",
    "Rx_with_IBD_value_greater_2k_count_pivot_billed = pd.pivot_table(Rx_with_IBD_value_greater_2k_billed, values = ['rx_code_key_location'], index = ['pharmacy_loc'], aggfunc = 'count').reset_index()\n",
    "Rx_with_IBD_value_greater_2k_count_pivot_billed.rename(columns = {'rx_code_key_location':'Rx count for IBD > 2k', 'pharmacy_loc': 'Pharmacy loc'}, inplace = True)\n",
    "\n",
    "Rx_with_IBD_value_greater_2k_revenue_pivot_billed = pd.pivot_table(Rx_with_IBD_value_greater_2k_billed, values = ['rx_revenue'], index = ['pharmacy_loc'], aggfunc = 'sum').reset_index()\n",
    "Rx_with_IBD_value_greater_2k_revenue_pivot_billed.rename(columns = {'rx_revenue':'Rx revenue for IBD > 2k($)', 'pharmacy_loc': 'Pharmacy loc'}, inplace = True)\n",
    "\n",
    "Rx_with_IBD_value_greater_2k_count_pivot_billed\n"
   ]
  },
  {
   "cell_type": "code",
   "execution_count": 41,
   "metadata": {},
   "outputs": [],
   "source": [
    "# Modification"
   ]
  },
  {
   "cell_type": "code",
   "execution_count": 42,
   "metadata": {},
   "outputs": [
    {
     "data": {
      "text/html": [
       "<div>\n",
       "<style scoped>\n",
       "    .dataframe tbody tr th:only-of-type {\n",
       "        vertical-align: middle;\n",
       "    }\n",
       "\n",
       "    .dataframe tbody tr th {\n",
       "        vertical-align: top;\n",
       "    }\n",
       "\n",
       "    .dataframe thead th {\n",
       "        text-align: right;\n",
       "    }\n",
       "</style>\n",
       "<table border=\"1\" class=\"dataframe\">\n",
       "  <thead>\n",
       "    <tr style=\"text-align: right;\">\n",
       "      <th></th>\n",
       "      <th>Pharmacy loc</th>\n",
       "      <th>Rx count for IBD &lt; 2k</th>\n",
       "      <th>Rx count for IBD &gt; 2k</th>\n",
       "    </tr>\n",
       "  </thead>\n",
       "  <tbody>\n",
       "    <tr>\n",
       "      <th>0</th>\n",
       "      <td>FL-MI</td>\n",
       "      <td>40</td>\n",
       "      <td>NaN</td>\n",
       "    </tr>\n",
       "    <tr>\n",
       "      <th>1</th>\n",
       "      <td>MD-BA</td>\n",
       "      <td>104</td>\n",
       "      <td>12.0</td>\n",
       "    </tr>\n",
       "    <tr>\n",
       "      <th>2</th>\n",
       "      <td>NC-RA</td>\n",
       "      <td>22</td>\n",
       "      <td>2.0</td>\n",
       "    </tr>\n",
       "    <tr>\n",
       "      <th>3</th>\n",
       "      <td>NJ-SO</td>\n",
       "      <td>305</td>\n",
       "      <td>8.0</td>\n",
       "    </tr>\n",
       "    <tr>\n",
       "      <th>4</th>\n",
       "      <td>NY-BK</td>\n",
       "      <td>691</td>\n",
       "      <td>76.0</td>\n",
       "    </tr>\n",
       "    <tr>\n",
       "      <th>5</th>\n",
       "      <td>NY-MA</td>\n",
       "      <td>62</td>\n",
       "      <td>2.0</td>\n",
       "    </tr>\n",
       "    <tr>\n",
       "      <th>6</th>\n",
       "      <td>PA-PH</td>\n",
       "      <td>69</td>\n",
       "      <td>8.0</td>\n",
       "    </tr>\n",
       "  </tbody>\n",
       "</table>\n",
       "</div>"
      ],
      "text/plain": [
       "  Pharmacy loc  Rx count for IBD < 2k  Rx count for IBD > 2k\n",
       "0        FL-MI                     40                    NaN\n",
       "1        MD-BA                    104                   12.0\n",
       "2        NC-RA                     22                    2.0\n",
       "3        NJ-SO                    305                    8.0\n",
       "4        NY-BK                    691                   76.0\n",
       "5        NY-MA                     62                    2.0\n",
       "6        PA-PH                     69                    8.0"
      ]
     },
     "execution_count": 42,
     "metadata": {},
     "output_type": "execute_result"
    }
   ],
   "source": [
    "Rx_count_IBD_less_and_greater_than_2k = pd.merge(Rx_with_IBD_value_less_2k_count_pivot_billed, Rx_with_IBD_value_greater_2k_count_pivot_billed, on = 'Pharmacy loc', how = 'left')\n",
    "# Rx_count_IBD_less_and_greater_than_2k.loc[6] = ['NC-RA', 0,0] \n",
    "Rx_count_IBD_less_and_greater_than_2k"
   ]
  },
  {
   "cell_type": "code",
   "execution_count": 43,
   "metadata": {},
   "outputs": [
    {
     "data": {
      "text/html": [
       "<div>\n",
       "<style scoped>\n",
       "    .dataframe tbody tr th:only-of-type {\n",
       "        vertical-align: middle;\n",
       "    }\n",
       "\n",
       "    .dataframe tbody tr th {\n",
       "        vertical-align: top;\n",
       "    }\n",
       "\n",
       "    .dataframe thead th {\n",
       "        text-align: right;\n",
       "    }\n",
       "</style>\n",
       "<table border=\"1\" class=\"dataframe\">\n",
       "  <thead>\n",
       "    <tr style=\"text-align: right;\">\n",
       "      <th></th>\n",
       "      <th>Rx count for IBD &lt; 2k</th>\n",
       "      <th>Rx count for IBD &gt; 2k</th>\n",
       "    </tr>\n",
       "    <tr>\n",
       "      <th>Pharmacy loc</th>\n",
       "      <th></th>\n",
       "      <th></th>\n",
       "    </tr>\n",
       "  </thead>\n",
       "  <tbody>\n",
       "    <tr>\n",
       "      <th>FL-MI</th>\n",
       "      <td>6</td>\n",
       "      <td>0</td>\n",
       "    </tr>\n",
       "    <tr>\n",
       "      <th>MD-BA</th>\n",
       "      <td>17</td>\n",
       "      <td>2</td>\n",
       "    </tr>\n",
       "    <tr>\n",
       "      <th>NC-RA</th>\n",
       "      <td>3</td>\n",
       "      <td>0</td>\n",
       "    </tr>\n",
       "    <tr>\n",
       "      <th>NJ-SO</th>\n",
       "      <td>50</td>\n",
       "      <td>1</td>\n",
       "    </tr>\n",
       "    <tr>\n",
       "      <th>NY-BK</th>\n",
       "      <td>115</td>\n",
       "      <td>12</td>\n",
       "    </tr>\n",
       "    <tr>\n",
       "      <th>NY-MA</th>\n",
       "      <td>10</td>\n",
       "      <td>0</td>\n",
       "    </tr>\n",
       "    <tr>\n",
       "      <th>PA-PH</th>\n",
       "      <td>11</td>\n",
       "      <td>1</td>\n",
       "    </tr>\n",
       "    <tr>\n",
       "      <th>Overall</th>\n",
       "      <td>215</td>\n",
       "      <td>18</td>\n",
       "    </tr>\n",
       "  </tbody>\n",
       "</table>\n",
       "</div>"
      ],
      "text/plain": [
       "              Rx count for IBD < 2k  Rx count for IBD > 2k\n",
       "Pharmacy loc                                              \n",
       "FL-MI                             6                      0\n",
       "MD-BA                            17                      2\n",
       "NC-RA                             3                      0\n",
       "NJ-SO                            50                      1\n",
       "NY-BK                           115                     12\n",
       "NY-MA                            10                      0\n",
       "PA-PH                            11                      1\n",
       "Overall                         215                     18"
      ]
     },
     "execution_count": 43,
     "metadata": {},
     "output_type": "execute_result"
    }
   ],
   "source": [
    "Rx_count_IBD_less_and_greater_than_2k = Rx_count_IBD_less_and_greater_than_2k.append(Rx_count_IBD_less_and_greater_than_2k.sum(axis=0), ignore_index = True)\n",
    "Rx_count_IBD_less_and_greater_than_2k.iloc[[len(Rx_count_IBD_less_and_greater_than_2k)-1],[0]] = 'Overall'\n",
    "Rx_count_IBD_less_and_greater_than_2k = Rx_count_IBD_less_and_greater_than_2k.set_index('Pharmacy loc')\n",
    "Rx_count_IBD_less_and_greater_than_2k = Rx_count_IBD_less_and_greater_than_2k.replace(np.nan,0)\n",
    "Rx_count_IBD_less_and_greater_than_2k = Rx_count_IBD_less_and_greater_than_2k[Rx_count_IBD_less_and_greater_than_2k.columns[:]].div(6,0).astype(int)\n",
    "Rx_count_IBD_less_and_greater_than_2k"
   ]
  },
  {
   "cell_type": "code",
   "execution_count": 44,
   "metadata": {},
   "outputs": [
    {
     "data": {
      "text/html": [
       "<div>\n",
       "<style scoped>\n",
       "    .dataframe tbody tr th:only-of-type {\n",
       "        vertical-align: middle;\n",
       "    }\n",
       "\n",
       "    .dataframe tbody tr th {\n",
       "        vertical-align: top;\n",
       "    }\n",
       "\n",
       "    .dataframe thead th {\n",
       "        text-align: right;\n",
       "    }\n",
       "</style>\n",
       "<table border=\"1\" class=\"dataframe\">\n",
       "  <thead>\n",
       "    <tr style=\"text-align: right;\">\n",
       "      <th></th>\n",
       "      <th>Rx count for IBD &lt; 2k</th>\n",
       "      <th>Rx count for IBD &gt; 2k</th>\n",
       "      <th>Total Count</th>\n",
       "    </tr>\n",
       "    <tr>\n",
       "      <th>Pharmacy loc</th>\n",
       "      <th></th>\n",
       "      <th></th>\n",
       "      <th></th>\n",
       "    </tr>\n",
       "  </thead>\n",
       "  <tbody>\n",
       "    <tr>\n",
       "      <th>FL-MI</th>\n",
       "      <td>6</td>\n",
       "      <td>0</td>\n",
       "      <td>6</td>\n",
       "    </tr>\n",
       "    <tr>\n",
       "      <th>MD-BA</th>\n",
       "      <td>17</td>\n",
       "      <td>2</td>\n",
       "      <td>19</td>\n",
       "    </tr>\n",
       "    <tr>\n",
       "      <th>NC-RA</th>\n",
       "      <td>3</td>\n",
       "      <td>0</td>\n",
       "      <td>3</td>\n",
       "    </tr>\n",
       "    <tr>\n",
       "      <th>NJ-SO</th>\n",
       "      <td>50</td>\n",
       "      <td>1</td>\n",
       "      <td>51</td>\n",
       "    </tr>\n",
       "    <tr>\n",
       "      <th>NY-BK</th>\n",
       "      <td>115</td>\n",
       "      <td>12</td>\n",
       "      <td>127</td>\n",
       "    </tr>\n",
       "    <tr>\n",
       "      <th>NY-MA</th>\n",
       "      <td>10</td>\n",
       "      <td>0</td>\n",
       "      <td>10</td>\n",
       "    </tr>\n",
       "    <tr>\n",
       "      <th>PA-PH</th>\n",
       "      <td>11</td>\n",
       "      <td>1</td>\n",
       "      <td>12</td>\n",
       "    </tr>\n",
       "    <tr>\n",
       "      <th>Overall</th>\n",
       "      <td>215</td>\n",
       "      <td>18</td>\n",
       "      <td>233</td>\n",
       "    </tr>\n",
       "  </tbody>\n",
       "</table>\n",
       "</div>"
      ],
      "text/plain": [
       "              Rx count for IBD < 2k  Rx count for IBD > 2k  Total Count\n",
       "Pharmacy loc                                                           \n",
       "FL-MI                             6                      0            6\n",
       "MD-BA                            17                      2           19\n",
       "NC-RA                             3                      0            3\n",
       "NJ-SO                            50                      1           51\n",
       "NY-BK                           115                     12          127\n",
       "NY-MA                            10                      0           10\n",
       "PA-PH                            11                      1           12\n",
       "Overall                         215                     18          233"
      ]
     },
     "execution_count": 44,
     "metadata": {},
     "output_type": "execute_result"
    }
   ],
   "source": [
    "Rx_count_IBD_less_and_greater_than_2k['Total Count'] = Rx_count_IBD_less_and_greater_than_2k[['Rx count for IBD < 2k', 'Rx count for IBD > 2k']].sum(axis=1)\n",
    "Rx_count_IBD_less_and_greater_than_2k"
   ]
  },
  {
   "cell_type": "code",
   "execution_count": 45,
   "metadata": {},
   "outputs": [
    {
     "data": {
      "text/html": [
       "<div>\n",
       "<style scoped>\n",
       "    .dataframe tbody tr th:only-of-type {\n",
       "        vertical-align: middle;\n",
       "    }\n",
       "\n",
       "    .dataframe tbody tr th {\n",
       "        vertical-align: top;\n",
       "    }\n",
       "\n",
       "    .dataframe thead th {\n",
       "        text-align: right;\n",
       "    }\n",
       "</style>\n",
       "<table border=\"1\" class=\"dataframe\">\n",
       "  <thead>\n",
       "    <tr style=\"text-align: right;\">\n",
       "      <th></th>\n",
       "      <th>Rx count for IBD &lt; 2k</th>\n",
       "      <th>Rx count for IBD &gt; 2k</th>\n",
       "      <th>Total Count</th>\n",
       "      <th>Rx count for IBD &lt; 2k %</th>\n",
       "      <th>Rx count for IBD &gt; 2k %</th>\n",
       "    </tr>\n",
       "    <tr>\n",
       "      <th>Pharmacy loc</th>\n",
       "      <th></th>\n",
       "      <th></th>\n",
       "      <th></th>\n",
       "      <th></th>\n",
       "      <th></th>\n",
       "    </tr>\n",
       "  </thead>\n",
       "  <tbody>\n",
       "    <tr>\n",
       "      <th>FL-MI</th>\n",
       "      <td>6</td>\n",
       "      <td>0</td>\n",
       "      <td>6</td>\n",
       "      <td>100</td>\n",
       "      <td>0</td>\n",
       "    </tr>\n",
       "    <tr>\n",
       "      <th>MD-BA</th>\n",
       "      <td>17</td>\n",
       "      <td>2</td>\n",
       "      <td>19</td>\n",
       "      <td>89</td>\n",
       "      <td>11</td>\n",
       "    </tr>\n",
       "    <tr>\n",
       "      <th>NC-RA</th>\n",
       "      <td>3</td>\n",
       "      <td>0</td>\n",
       "      <td>3</td>\n",
       "      <td>100</td>\n",
       "      <td>0</td>\n",
       "    </tr>\n",
       "    <tr>\n",
       "      <th>NJ-SO</th>\n",
       "      <td>50</td>\n",
       "      <td>1</td>\n",
       "      <td>51</td>\n",
       "      <td>98</td>\n",
       "      <td>2</td>\n",
       "    </tr>\n",
       "    <tr>\n",
       "      <th>NY-BK</th>\n",
       "      <td>115</td>\n",
       "      <td>12</td>\n",
       "      <td>127</td>\n",
       "      <td>91</td>\n",
       "      <td>9</td>\n",
       "    </tr>\n",
       "    <tr>\n",
       "      <th>NY-MA</th>\n",
       "      <td>10</td>\n",
       "      <td>0</td>\n",
       "      <td>10</td>\n",
       "      <td>100</td>\n",
       "      <td>0</td>\n",
       "    </tr>\n",
       "    <tr>\n",
       "      <th>PA-PH</th>\n",
       "      <td>11</td>\n",
       "      <td>1</td>\n",
       "      <td>12</td>\n",
       "      <td>92</td>\n",
       "      <td>8</td>\n",
       "    </tr>\n",
       "    <tr>\n",
       "      <th>Overall</th>\n",
       "      <td>215</td>\n",
       "      <td>18</td>\n",
       "      <td>233</td>\n",
       "      <td>92</td>\n",
       "      <td>8</td>\n",
       "    </tr>\n",
       "  </tbody>\n",
       "</table>\n",
       "</div>"
      ],
      "text/plain": [
       "              Rx count for IBD < 2k  Rx count for IBD > 2k  Total Count  \\\n",
       "Pharmacy loc                                                              \n",
       "FL-MI                             6                      0            6   \n",
       "MD-BA                            17                      2           19   \n",
       "NC-RA                             3                      0            3   \n",
       "NJ-SO                            50                      1           51   \n",
       "NY-BK                           115                     12          127   \n",
       "NY-MA                            10                      0           10   \n",
       "PA-PH                            11                      1           12   \n",
       "Overall                         215                     18          233   \n",
       "\n",
       "              Rx count for IBD < 2k %  Rx count for IBD > 2k %  \n",
       "Pharmacy loc                                                    \n",
       "FL-MI                             100                        0  \n",
       "MD-BA                              89                       11  \n",
       "NC-RA                             100                        0  \n",
       "NJ-SO                              98                        2  \n",
       "NY-BK                              91                        9  \n",
       "NY-MA                             100                        0  \n",
       "PA-PH                              92                        8  \n",
       "Overall                            92                        8  "
      ]
     },
     "execution_count": 45,
     "metadata": {},
     "output_type": "execute_result"
    }
   ],
   "source": [
    "\n",
    "Rx_count_IBD_less_and_greater_than_2k['Rx count for IBD < 2k %'] = round(Rx_count_IBD_less_and_greater_than_2k['Rx count for IBD < 2k']/Rx_count_IBD_less_and_greater_than_2k['Total Count']*100,0)#.astype(int)\n",
    "Rx_count_IBD_less_and_greater_than_2k['Rx count for IBD > 2k %'] = round(Rx_count_IBD_less_and_greater_than_2k['Rx count for IBD > 2k']/Rx_count_IBD_less_and_greater_than_2k['Total Count']*100,0)#.astype(int)\n",
    "Rx_count_IBD_less_and_greater_than_2k = Rx_count_IBD_less_and_greater_than_2k.replace(np.nan,0)\n",
    "Rx_count_IBD_less_and_greater_than_2k['Rx count for IBD < 2k %'] = Rx_count_IBD_less_and_greater_than_2k['Rx count for IBD < 2k %'].astype(int)\n",
    "Rx_count_IBD_less_and_greater_than_2k['Rx count for IBD > 2k %'] = Rx_count_IBD_less_and_greater_than_2k['Rx count for IBD > 2k %'].astype(int)\n",
    "Rx_count_IBD_less_and_greater_than_2k\n"
   ]
  },
  {
   "cell_type": "code",
   "execution_count": 46,
   "metadata": {},
   "outputs": [
    {
     "data": {
      "text/html": [
       "<div>\n",
       "<style scoped>\n",
       "    .dataframe tbody tr th:only-of-type {\n",
       "        vertical-align: middle;\n",
       "    }\n",
       "\n",
       "    .dataframe tbody tr th {\n",
       "        vertical-align: top;\n",
       "    }\n",
       "\n",
       "    .dataframe thead th {\n",
       "        text-align: right;\n",
       "    }\n",
       "</style>\n",
       "<table border=\"1\" class=\"dataframe\">\n",
       "  <thead>\n",
       "    <tr style=\"text-align: right;\">\n",
       "      <th></th>\n",
       "      <th>Total Count</th>\n",
       "      <th>Rx count for IBD &lt; 2k</th>\n",
       "      <th>%</th>\n",
       "      <th>Rx count for IBD &gt; 2k</th>\n",
       "      <th>%</th>\n",
       "    </tr>\n",
       "    <tr>\n",
       "      <th>Pharmacy loc</th>\n",
       "      <th></th>\n",
       "      <th></th>\n",
       "      <th></th>\n",
       "      <th></th>\n",
       "      <th></th>\n",
       "    </tr>\n",
       "  </thead>\n",
       "  <tbody>\n",
       "    <tr>\n",
       "      <th>FL-MI</th>\n",
       "      <td>6</td>\n",
       "      <td>6</td>\n",
       "      <td>100</td>\n",
       "      <td>0</td>\n",
       "      <td>0</td>\n",
       "    </tr>\n",
       "    <tr>\n",
       "      <th>MD-BA</th>\n",
       "      <td>19</td>\n",
       "      <td>17</td>\n",
       "      <td>89</td>\n",
       "      <td>2</td>\n",
       "      <td>11</td>\n",
       "    </tr>\n",
       "    <tr>\n",
       "      <th>NC-RA</th>\n",
       "      <td>3</td>\n",
       "      <td>3</td>\n",
       "      <td>100</td>\n",
       "      <td>0</td>\n",
       "      <td>0</td>\n",
       "    </tr>\n",
       "    <tr>\n",
       "      <th>NJ-SO</th>\n",
       "      <td>51</td>\n",
       "      <td>50</td>\n",
       "      <td>98</td>\n",
       "      <td>1</td>\n",
       "      <td>2</td>\n",
       "    </tr>\n",
       "    <tr>\n",
       "      <th>NY-BK</th>\n",
       "      <td>127</td>\n",
       "      <td>115</td>\n",
       "      <td>91</td>\n",
       "      <td>12</td>\n",
       "      <td>9</td>\n",
       "    </tr>\n",
       "    <tr>\n",
       "      <th>NY-MA</th>\n",
       "      <td>10</td>\n",
       "      <td>10</td>\n",
       "      <td>100</td>\n",
       "      <td>0</td>\n",
       "      <td>0</td>\n",
       "    </tr>\n",
       "    <tr>\n",
       "      <th>PA-PH</th>\n",
       "      <td>12</td>\n",
       "      <td>11</td>\n",
       "      <td>92</td>\n",
       "      <td>1</td>\n",
       "      <td>8</td>\n",
       "    </tr>\n",
       "    <tr>\n",
       "      <th>Overall</th>\n",
       "      <td>233</td>\n",
       "      <td>215</td>\n",
       "      <td>92</td>\n",
       "      <td>18</td>\n",
       "      <td>8</td>\n",
       "    </tr>\n",
       "  </tbody>\n",
       "</table>\n",
       "</div>"
      ],
      "text/plain": [
       "              Total Count  Rx count for IBD < 2k    %  Rx count for IBD > 2k  \\\n",
       "Pharmacy loc                                                                   \n",
       "FL-MI                   6                      6  100                      0   \n",
       "MD-BA                  19                     17   89                      2   \n",
       "NC-RA                   3                      3  100                      0   \n",
       "NJ-SO                  51                     50   98                      1   \n",
       "NY-BK                 127                    115   91                     12   \n",
       "NY-MA                  10                     10  100                      0   \n",
       "PA-PH                  12                     11   92                      1   \n",
       "Overall               233                    215   92                     18   \n",
       "\n",
       "              %   \n",
       "Pharmacy loc      \n",
       "FL-MI          0  \n",
       "MD-BA         11  \n",
       "NC-RA          0  \n",
       "NJ-SO          2  \n",
       "NY-BK          9  \n",
       "NY-MA          0  \n",
       "PA-PH          8  \n",
       "Overall        8  "
      ]
     },
     "execution_count": 46,
     "metadata": {},
     "output_type": "execute_result"
    }
   ],
   "source": [
    "Rx_count_IBD_less_and_greater_than_2k_final = Rx_count_IBD_less_and_greater_than_2k[['Total Count','Rx count for IBD < 2k', 'Rx count for IBD < 2k %', 'Rx count for IBD > 2k', 'Rx count for IBD > 2k %']]\n",
    "#Rx_count_IBD_less_and_greater_than_2k_final = Rx_count_IBD_less_and_greater_than_2k_final.set_index('Pharmacy loc')\n",
    "Rx_count_IBD_less_and_greater_than_2k_final = Rx_count_IBD_less_and_greater_than_2k_final.rename(columns = {'Rx count for IBD < 2k %': ' %', 'Rx count for IBD > 2k %': '% '})\n",
    "Rx_count_IBD_less_and_greater_than_2k_final"
   ]
  },
  {
   "cell_type": "code",
   "execution_count": 47,
   "metadata": {},
   "outputs": [
    {
     "data": {
      "text/html": [
       "<style  type=\"text/css\" >\n",
       "    #T_70e2e_ th {\n",
       "          background-color: #F1F1F1;\n",
       "          border-style: solid;\n",
       "          font-family: Nunito;\n",
       "          font-size: 10;\n",
       "          border-width: 0.5px;\n",
       "          text-align: center;\n",
       "          border-color: #B0BCC8;\n",
       "    }#T_70e2e_row0_col0,#T_70e2e_row0_col2,#T_70e2e_row0_col4,#T_70e2e_row1_col0,#T_70e2e_row1_col2,#T_70e2e_row1_col4,#T_70e2e_row2_col0,#T_70e2e_row2_col2,#T_70e2e_row2_col4,#T_70e2e_row3_col0,#T_70e2e_row3_col2,#T_70e2e_row3_col4,#T_70e2e_row4_col0,#T_70e2e_row4_col2,#T_70e2e_row4_col4,#T_70e2e_row5_col0,#T_70e2e_row5_col2,#T_70e2e_row5_col4,#T_70e2e_row6_col0,#T_70e2e_row6_col2,#T_70e2e_row6_col4,#T_70e2e_row7_col0,#T_70e2e_row7_col1,#T_70e2e_row7_col2,#T_70e2e_row7_col3,#T_70e2e_row7_col4{\n",
       "            background:  white;\n",
       "            color:  black;\n",
       "            border-color:  #B0BCC8;\n",
       "            border-width:  0.5px;\n",
       "            border-style:  solid;\n",
       "            font-family:  Nunito;\n",
       "            font-size:  10;\n",
       "            text-align:  center;\n",
       "        }#T_70e2e_row0_col1,#T_70e2e_row1_col1,#T_70e2e_row2_col1,#T_70e2e_row3_col1,#T_70e2e_row4_col1,#T_70e2e_row5_col1,#T_70e2e_row6_col1{\n",
       "            background:  white;\n",
       "            color:  black;\n",
       "            border-color:  #B0BCC8;\n",
       "            border-width:  0.5px;\n",
       "            border-style:  solid;\n",
       "            font-family:  Nunito;\n",
       "            font-size:  10;\n",
       "            text-align:  center;\n",
       "            background-color:  #a50026;\n",
       "            color:  #f1f1f1;\n",
       "        }#T_70e2e_row0_col3,#T_70e2e_row1_col3,#T_70e2e_row2_col3,#T_70e2e_row3_col3,#T_70e2e_row4_col3,#T_70e2e_row5_col3,#T_70e2e_row6_col3{\n",
       "            background:  white;\n",
       "            color:  black;\n",
       "            border-color:  #B0BCC8;\n",
       "            border-width:  0.5px;\n",
       "            border-style:  solid;\n",
       "            font-family:  Nunito;\n",
       "            font-size:  10;\n",
       "            text-align:  center;\n",
       "            background-color:  #006837;\n",
       "            color:  #f1f1f1;\n",
       "        }</style><table id=\"T_70e2e_\" ><thead>    <tr>        <th class=\"blank level0\" ></th>        <th class=\"col_heading level0 col0\" >Total Count</th>        <th class=\"col_heading level0 col1\" >Rx count for IBD < 2k</th>        <th class=\"col_heading level0 col2\" > %</th>        <th class=\"col_heading level0 col3\" >Rx count for IBD > 2k</th>        <th class=\"col_heading level0 col4\" >% </th>    </tr>    <tr>        <th class=\"index_name level0\" >Pharmacy loc</th>        <th class=\"blank\" ></th>        <th class=\"blank\" ></th>        <th class=\"blank\" ></th>        <th class=\"blank\" ></th>        <th class=\"blank\" ></th>    </tr></thead><tbody>\n",
       "                <tr>\n",
       "                        <th id=\"T_70e2e_level0_row0\" class=\"row_heading level0 row0\" >FL-MI</th>\n",
       "                        <td id=\"T_70e2e_row0_col0\" class=\"data row0 col0\" >6</td>\n",
       "                        <td id=\"T_70e2e_row0_col1\" class=\"data row0 col1\" >6</td>\n",
       "                        <td id=\"T_70e2e_row0_col2\" class=\"data row0 col2\" >100</td>\n",
       "                        <td id=\"T_70e2e_row0_col3\" class=\"data row0 col3\" >0</td>\n",
       "                        <td id=\"T_70e2e_row0_col4\" class=\"data row0 col4\" >0</td>\n",
       "            </tr>\n",
       "            <tr>\n",
       "                        <th id=\"T_70e2e_level0_row1\" class=\"row_heading level0 row1\" >MD-BA</th>\n",
       "                        <td id=\"T_70e2e_row1_col0\" class=\"data row1 col0\" >19</td>\n",
       "                        <td id=\"T_70e2e_row1_col1\" class=\"data row1 col1\" >17</td>\n",
       "                        <td id=\"T_70e2e_row1_col2\" class=\"data row1 col2\" >89</td>\n",
       "                        <td id=\"T_70e2e_row1_col3\" class=\"data row1 col3\" >2</td>\n",
       "                        <td id=\"T_70e2e_row1_col4\" class=\"data row1 col4\" >11</td>\n",
       "            </tr>\n",
       "            <tr>\n",
       "                        <th id=\"T_70e2e_level0_row2\" class=\"row_heading level0 row2\" >NC-RA</th>\n",
       "                        <td id=\"T_70e2e_row2_col0\" class=\"data row2 col0\" >3</td>\n",
       "                        <td id=\"T_70e2e_row2_col1\" class=\"data row2 col1\" >3</td>\n",
       "                        <td id=\"T_70e2e_row2_col2\" class=\"data row2 col2\" >100</td>\n",
       "                        <td id=\"T_70e2e_row2_col3\" class=\"data row2 col3\" >0</td>\n",
       "                        <td id=\"T_70e2e_row2_col4\" class=\"data row2 col4\" >0</td>\n",
       "            </tr>\n",
       "            <tr>\n",
       "                        <th id=\"T_70e2e_level0_row3\" class=\"row_heading level0 row3\" >NJ-SO</th>\n",
       "                        <td id=\"T_70e2e_row3_col0\" class=\"data row3 col0\" >51</td>\n",
       "                        <td id=\"T_70e2e_row3_col1\" class=\"data row3 col1\" >50</td>\n",
       "                        <td id=\"T_70e2e_row3_col2\" class=\"data row3 col2\" >98</td>\n",
       "                        <td id=\"T_70e2e_row3_col3\" class=\"data row3 col3\" >1</td>\n",
       "                        <td id=\"T_70e2e_row3_col4\" class=\"data row3 col4\" >2</td>\n",
       "            </tr>\n",
       "            <tr>\n",
       "                        <th id=\"T_70e2e_level0_row4\" class=\"row_heading level0 row4\" >NY-BK</th>\n",
       "                        <td id=\"T_70e2e_row4_col0\" class=\"data row4 col0\" >127</td>\n",
       "                        <td id=\"T_70e2e_row4_col1\" class=\"data row4 col1\" >115</td>\n",
       "                        <td id=\"T_70e2e_row4_col2\" class=\"data row4 col2\" >91</td>\n",
       "                        <td id=\"T_70e2e_row4_col3\" class=\"data row4 col3\" >12</td>\n",
       "                        <td id=\"T_70e2e_row4_col4\" class=\"data row4 col4\" >9</td>\n",
       "            </tr>\n",
       "            <tr>\n",
       "                        <th id=\"T_70e2e_level0_row5\" class=\"row_heading level0 row5\" >NY-MA</th>\n",
       "                        <td id=\"T_70e2e_row5_col0\" class=\"data row5 col0\" >10</td>\n",
       "                        <td id=\"T_70e2e_row5_col1\" class=\"data row5 col1\" >10</td>\n",
       "                        <td id=\"T_70e2e_row5_col2\" class=\"data row5 col2\" >100</td>\n",
       "                        <td id=\"T_70e2e_row5_col3\" class=\"data row5 col3\" >0</td>\n",
       "                        <td id=\"T_70e2e_row5_col4\" class=\"data row5 col4\" >0</td>\n",
       "            </tr>\n",
       "            <tr>\n",
       "                        <th id=\"T_70e2e_level0_row6\" class=\"row_heading level0 row6\" >PA-PH</th>\n",
       "                        <td id=\"T_70e2e_row6_col0\" class=\"data row6 col0\" >12</td>\n",
       "                        <td id=\"T_70e2e_row6_col1\" class=\"data row6 col1\" >11</td>\n",
       "                        <td id=\"T_70e2e_row6_col2\" class=\"data row6 col2\" >92</td>\n",
       "                        <td id=\"T_70e2e_row6_col3\" class=\"data row6 col3\" >1</td>\n",
       "                        <td id=\"T_70e2e_row6_col4\" class=\"data row6 col4\" >8</td>\n",
       "            </tr>\n",
       "            <tr>\n",
       "                        <th id=\"T_70e2e_level0_row7\" class=\"row_heading level0 row7\" >Overall</th>\n",
       "                        <td id=\"T_70e2e_row7_col0\" class=\"data row7 col0\" >233</td>\n",
       "                        <td id=\"T_70e2e_row7_col1\" class=\"data row7 col1\" >215</td>\n",
       "                        <td id=\"T_70e2e_row7_col2\" class=\"data row7 col2\" >92</td>\n",
       "                        <td id=\"T_70e2e_row7_col3\" class=\"data row7 col3\" >18</td>\n",
       "                        <td id=\"T_70e2e_row7_col4\" class=\"data row7 col4\" >8</td>\n",
       "            </tr>\n",
       "    </tbody></table>"
      ],
      "text/plain": [
       "<pandas.io.formats.style.Styler at 0x168589445b0>"
      ]
     },
     "execution_count": 47,
     "metadata": {},
     "output_type": "execute_result"
    }
   ],
   "source": [
    "subset_value = (Rx_count_IBD_less_and_greater_than_2k_final.index.tolist()[:-1],['Rx count for IBD < 2k', 'Rx count for IBD > 2k'])\n",
    "\n",
    "df_style1 = Rx_count_IBD_less_and_greater_than_2k_final.style.set_properties(**body_design).background_gradient(cmap='RdYlGn_r',axis=1, subset = subset_value).format(\"{:,}\")\n",
    "df_style1.set_table_styles([border_design])\n",
    "\n",
    "df_style1"
   ]
  },
  {
   "cell_type": "code",
   "execution_count": 48,
   "metadata": {},
   "outputs": [],
   "source": [
    "dfi.export(df_style1, ibd_images+'rx_count_ibd_less_and_greater_than_2k_final_refill.png')"
   ]
  },
  {
   "cell_type": "code",
   "execution_count": 49,
   "metadata": {},
   "outputs": [],
   "source": [
    "# Modification"
   ]
  },
  {
   "cell_type": "code",
   "execution_count": 50,
   "metadata": {},
   "outputs": [
    {
     "data": {
      "text/html": [
       "<div>\n",
       "<style scoped>\n",
       "    .dataframe tbody tr th:only-of-type {\n",
       "        vertical-align: middle;\n",
       "    }\n",
       "\n",
       "    .dataframe tbody tr th {\n",
       "        vertical-align: top;\n",
       "    }\n",
       "\n",
       "    .dataframe thead th {\n",
       "        text-align: right;\n",
       "    }\n",
       "</style>\n",
       "<table border=\"1\" class=\"dataframe\">\n",
       "  <thead>\n",
       "    <tr style=\"text-align: right;\">\n",
       "      <th></th>\n",
       "      <th>Pharmacy loc</th>\n",
       "      <th>Rx revenue for IBD &lt; 2k($)</th>\n",
       "      <th>Rx revenue for IBD &gt; 2k($)</th>\n",
       "    </tr>\n",
       "  </thead>\n",
       "  <tbody>\n",
       "    <tr>\n",
       "      <th>0</th>\n",
       "      <td>FL-MI</td>\n",
       "      <td>78038.18</td>\n",
       "      <td>NaN</td>\n",
       "    </tr>\n",
       "    <tr>\n",
       "      <th>1</th>\n",
       "      <td>MD-BA</td>\n",
       "      <td>145172.19</td>\n",
       "      <td>21484.41</td>\n",
       "    </tr>\n",
       "    <tr>\n",
       "      <th>2</th>\n",
       "      <td>NC-RA</td>\n",
       "      <td>56408.13</td>\n",
       "      <td>11675.41</td>\n",
       "    </tr>\n",
       "    <tr>\n",
       "      <th>3</th>\n",
       "      <td>NJ-SO</td>\n",
       "      <td>443585.24</td>\n",
       "      <td>24381.81</td>\n",
       "    </tr>\n",
       "    <tr>\n",
       "      <th>4</th>\n",
       "      <td>NY-BK</td>\n",
       "      <td>854342.38</td>\n",
       "      <td>294168.98</td>\n",
       "    </tr>\n",
       "    <tr>\n",
       "      <th>5</th>\n",
       "      <td>NY-MA</td>\n",
       "      <td>4885.79</td>\n",
       "      <td>0.00</td>\n",
       "    </tr>\n",
       "    <tr>\n",
       "      <th>6</th>\n",
       "      <td>PA-PH</td>\n",
       "      <td>110662.20</td>\n",
       "      <td>15563.83</td>\n",
       "    </tr>\n",
       "  </tbody>\n",
       "</table>\n",
       "</div>"
      ],
      "text/plain": [
       "  Pharmacy loc  Rx revenue for IBD < 2k($)  Rx revenue for IBD > 2k($)\n",
       "0        FL-MI                    78038.18                         NaN\n",
       "1        MD-BA                   145172.19                    21484.41\n",
       "2        NC-RA                    56408.13                    11675.41\n",
       "3        NJ-SO                   443585.24                    24381.81\n",
       "4        NY-BK                   854342.38                   294168.98\n",
       "5        NY-MA                     4885.79                        0.00\n",
       "6        PA-PH                   110662.20                    15563.83"
      ]
     },
     "execution_count": 50,
     "metadata": {},
     "output_type": "execute_result"
    }
   ],
   "source": [
    "Rx_Revenue_IBD_less_and_greater_than_2k = pd.merge(Rx_with_IBD_value_less_2k_revenue_pivot_billed, Rx_with_IBD_value_greater_2k_revenue_pivot_billed, on = 'Pharmacy loc', how = 'left')\n",
    "# Rx_Revenue_IBD_less_and_greater_than_2k.loc[6] = ['NC-RA',0,0]\n",
    "Rx_Revenue_IBD_less_and_greater_than_2k"
   ]
  },
  {
   "cell_type": "code",
   "execution_count": 51,
   "metadata": {},
   "outputs": [
    {
     "data": {
      "text/html": [
       "<div>\n",
       "<style scoped>\n",
       "    .dataframe tbody tr th:only-of-type {\n",
       "        vertical-align: middle;\n",
       "    }\n",
       "\n",
       "    .dataframe tbody tr th {\n",
       "        vertical-align: top;\n",
       "    }\n",
       "\n",
       "    .dataframe thead th {\n",
       "        text-align: right;\n",
       "    }\n",
       "</style>\n",
       "<table border=\"1\" class=\"dataframe\">\n",
       "  <thead>\n",
       "    <tr style=\"text-align: right;\">\n",
       "      <th></th>\n",
       "      <th>Pharmacy loc</th>\n",
       "      <th>Rx revenue for IBD &lt; 2k($)</th>\n",
       "      <th>Rx revenue for IBD &gt; 2k($)</th>\n",
       "    </tr>\n",
       "  </thead>\n",
       "  <tbody>\n",
       "    <tr>\n",
       "      <th>0</th>\n",
       "      <td>FL-MI</td>\n",
       "      <td>78038.18</td>\n",
       "      <td>0.00</td>\n",
       "    </tr>\n",
       "    <tr>\n",
       "      <th>1</th>\n",
       "      <td>MD-BA</td>\n",
       "      <td>145172.19</td>\n",
       "      <td>21484.41</td>\n",
       "    </tr>\n",
       "    <tr>\n",
       "      <th>2</th>\n",
       "      <td>NC-RA</td>\n",
       "      <td>56408.13</td>\n",
       "      <td>11675.41</td>\n",
       "    </tr>\n",
       "    <tr>\n",
       "      <th>3</th>\n",
       "      <td>NJ-SO</td>\n",
       "      <td>443585.24</td>\n",
       "      <td>24381.81</td>\n",
       "    </tr>\n",
       "    <tr>\n",
       "      <th>4</th>\n",
       "      <td>NY-BK</td>\n",
       "      <td>854342.38</td>\n",
       "      <td>294168.98</td>\n",
       "    </tr>\n",
       "    <tr>\n",
       "      <th>5</th>\n",
       "      <td>NY-MA</td>\n",
       "      <td>4885.79</td>\n",
       "      <td>0.00</td>\n",
       "    </tr>\n",
       "    <tr>\n",
       "      <th>6</th>\n",
       "      <td>PA-PH</td>\n",
       "      <td>110662.20</td>\n",
       "      <td>15563.83</td>\n",
       "    </tr>\n",
       "    <tr>\n",
       "      <th>7</th>\n",
       "      <td>Overall</td>\n",
       "      <td>1693094.11</td>\n",
       "      <td>367274.44</td>\n",
       "    </tr>\n",
       "  </tbody>\n",
       "</table>\n",
       "</div>"
      ],
      "text/plain": [
       "  Pharmacy loc  Rx revenue for IBD < 2k($)  Rx revenue for IBD > 2k($)\n",
       "0        FL-MI                    78038.18                        0.00\n",
       "1        MD-BA                   145172.19                    21484.41\n",
       "2        NC-RA                    56408.13                    11675.41\n",
       "3        NJ-SO                   443585.24                    24381.81\n",
       "4        NY-BK                   854342.38                   294168.98\n",
       "5        NY-MA                     4885.79                        0.00\n",
       "6        PA-PH                   110662.20                    15563.83\n",
       "7      Overall                  1693094.11                   367274.44"
      ]
     },
     "execution_count": 51,
     "metadata": {},
     "output_type": "execute_result"
    }
   ],
   "source": [
    "# revenue\n",
    "Rx_Revenue_IBD_less_and_greater_than_2k = Rx_Revenue_IBD_less_and_greater_than_2k.append(Rx_Revenue_IBD_less_and_greater_than_2k.sum(axis = 0), ignore_index = True)\n",
    "Rx_Revenue_IBD_less_and_greater_than_2k.iloc[[7],[0]] = 'Overall'\n",
    "Rx_Revenue_IBD_less_and_greater_than_2k = Rx_Revenue_IBD_less_and_greater_than_2k.fillna(0)\n",
    "Rx_Revenue_IBD_less_and_greater_than_2k"
   ]
  },
  {
   "cell_type": "code",
   "execution_count": 52,
   "metadata": {},
   "outputs": [],
   "source": [
    "for i in Rx_Revenue_IBD_less_and_greater_than_2k.columns[1:]:\n",
    "    Rx_Revenue_IBD_less_and_greater_than_2k[i] = Rx_Revenue_IBD_less_and_greater_than_2k[i].astype(int)"
   ]
  },
  {
   "cell_type": "code",
   "execution_count": 53,
   "metadata": {},
   "outputs": [
    {
     "data": {
      "text/html": [
       "<div>\n",
       "<style scoped>\n",
       "    .dataframe tbody tr th:only-of-type {\n",
       "        vertical-align: middle;\n",
       "    }\n",
       "\n",
       "    .dataframe tbody tr th {\n",
       "        vertical-align: top;\n",
       "    }\n",
       "\n",
       "    .dataframe thead th {\n",
       "        text-align: right;\n",
       "    }\n",
       "</style>\n",
       "<table border=\"1\" class=\"dataframe\">\n",
       "  <thead>\n",
       "    <tr style=\"text-align: right;\">\n",
       "      <th></th>\n",
       "      <th>Rx revenue for IBD &lt; 2k($)</th>\n",
       "      <th>Rx revenue for IBD &gt; 2k($)</th>\n",
       "    </tr>\n",
       "    <tr>\n",
       "      <th>Pharmacy loc</th>\n",
       "      <th></th>\n",
       "      <th></th>\n",
       "    </tr>\n",
       "  </thead>\n",
       "  <tbody>\n",
       "    <tr>\n",
       "      <th>FL-MI</th>\n",
       "      <td>13006</td>\n",
       "      <td>0</td>\n",
       "    </tr>\n",
       "    <tr>\n",
       "      <th>MD-BA</th>\n",
       "      <td>24195</td>\n",
       "      <td>3580</td>\n",
       "    </tr>\n",
       "    <tr>\n",
       "      <th>NC-RA</th>\n",
       "      <td>9401</td>\n",
       "      <td>1945</td>\n",
       "    </tr>\n",
       "    <tr>\n",
       "      <th>NJ-SO</th>\n",
       "      <td>73930</td>\n",
       "      <td>4063</td>\n",
       "    </tr>\n",
       "    <tr>\n",
       "      <th>NY-BK</th>\n",
       "      <td>142390</td>\n",
       "      <td>49028</td>\n",
       "    </tr>\n",
       "    <tr>\n",
       "      <th>NY-MA</th>\n",
       "      <td>814</td>\n",
       "      <td>0</td>\n",
       "    </tr>\n",
       "    <tr>\n",
       "      <th>PA-PH</th>\n",
       "      <td>18443</td>\n",
       "      <td>2593</td>\n",
       "    </tr>\n",
       "    <tr>\n",
       "      <th>Overall</th>\n",
       "      <td>282182</td>\n",
       "      <td>61212</td>\n",
       "    </tr>\n",
       "  </tbody>\n",
       "</table>\n",
       "</div>"
      ],
      "text/plain": [
       "              Rx revenue for IBD < 2k($)  Rx revenue for IBD > 2k($)\n",
       "Pharmacy loc                                                        \n",
       "FL-MI                              13006                           0\n",
       "MD-BA                              24195                        3580\n",
       "NC-RA                               9401                        1945\n",
       "NJ-SO                              73930                        4063\n",
       "NY-BK                             142390                       49028\n",
       "NY-MA                                814                           0\n",
       "PA-PH                              18443                        2593\n",
       "Overall                           282182                       61212"
      ]
     },
     "execution_count": 53,
     "metadata": {},
     "output_type": "execute_result"
    }
   ],
   "source": [
    "Rx_Revenue_IBD_less_and_greater_than_2k = Rx_Revenue_IBD_less_and_greater_than_2k.set_index('Pharmacy loc')\n",
    "Rx_Revenue_IBD_less_and_greater_than_2k = Rx_Revenue_IBD_less_and_greater_than_2k[Rx_Revenue_IBD_less_and_greater_than_2k.columns[:]].div(6,0).astype(int)\n",
    "Rx_Revenue_IBD_less_and_greater_than_2k"
   ]
  },
  {
   "cell_type": "code",
   "execution_count": 54,
   "metadata": {},
   "outputs": [
    {
     "data": {
      "text/html": [
       "<div>\n",
       "<style scoped>\n",
       "    .dataframe tbody tr th:only-of-type {\n",
       "        vertical-align: middle;\n",
       "    }\n",
       "\n",
       "    .dataframe tbody tr th {\n",
       "        vertical-align: top;\n",
       "    }\n",
       "\n",
       "    .dataframe thead th {\n",
       "        text-align: right;\n",
       "    }\n",
       "</style>\n",
       "<table border=\"1\" class=\"dataframe\">\n",
       "  <thead>\n",
       "    <tr style=\"text-align: right;\">\n",
       "      <th></th>\n",
       "      <th>Rx revenue for IBD &lt; 2k($)</th>\n",
       "      <th>Rx revenue for IBD &gt; 2k($)</th>\n",
       "      <th>Total Revenue($)</th>\n",
       "    </tr>\n",
       "    <tr>\n",
       "      <th>Pharmacy loc</th>\n",
       "      <th></th>\n",
       "      <th></th>\n",
       "      <th></th>\n",
       "    </tr>\n",
       "  </thead>\n",
       "  <tbody>\n",
       "    <tr>\n",
       "      <th>FL-MI</th>\n",
       "      <td>13006</td>\n",
       "      <td>0</td>\n",
       "      <td>13006</td>\n",
       "    </tr>\n",
       "    <tr>\n",
       "      <th>MD-BA</th>\n",
       "      <td>24195</td>\n",
       "      <td>3580</td>\n",
       "      <td>27775</td>\n",
       "    </tr>\n",
       "    <tr>\n",
       "      <th>NC-RA</th>\n",
       "      <td>9401</td>\n",
       "      <td>1945</td>\n",
       "      <td>11346</td>\n",
       "    </tr>\n",
       "    <tr>\n",
       "      <th>NJ-SO</th>\n",
       "      <td>73930</td>\n",
       "      <td>4063</td>\n",
       "      <td>77993</td>\n",
       "    </tr>\n",
       "    <tr>\n",
       "      <th>NY-BK</th>\n",
       "      <td>142390</td>\n",
       "      <td>49028</td>\n",
       "      <td>191418</td>\n",
       "    </tr>\n",
       "    <tr>\n",
       "      <th>NY-MA</th>\n",
       "      <td>814</td>\n",
       "      <td>0</td>\n",
       "      <td>814</td>\n",
       "    </tr>\n",
       "    <tr>\n",
       "      <th>PA-PH</th>\n",
       "      <td>18443</td>\n",
       "      <td>2593</td>\n",
       "      <td>21036</td>\n",
       "    </tr>\n",
       "    <tr>\n",
       "      <th>Overall</th>\n",
       "      <td>282182</td>\n",
       "      <td>61212</td>\n",
       "      <td>343394</td>\n",
       "    </tr>\n",
       "  </tbody>\n",
       "</table>\n",
       "</div>"
      ],
      "text/plain": [
       "              Rx revenue for IBD < 2k($)  Rx revenue for IBD > 2k($)  \\\n",
       "Pharmacy loc                                                           \n",
       "FL-MI                              13006                           0   \n",
       "MD-BA                              24195                        3580   \n",
       "NC-RA                               9401                        1945   \n",
       "NJ-SO                              73930                        4063   \n",
       "NY-BK                             142390                       49028   \n",
       "NY-MA                                814                           0   \n",
       "PA-PH                              18443                        2593   \n",
       "Overall                           282182                       61212   \n",
       "\n",
       "              Total Revenue($)  \n",
       "Pharmacy loc                    \n",
       "FL-MI                    13006  \n",
       "MD-BA                    27775  \n",
       "NC-RA                    11346  \n",
       "NJ-SO                    77993  \n",
       "NY-BK                   191418  \n",
       "NY-MA                      814  \n",
       "PA-PH                    21036  \n",
       "Overall                 343394  "
      ]
     },
     "execution_count": 54,
     "metadata": {},
     "output_type": "execute_result"
    }
   ],
   "source": [
    "Rx_Revenue_IBD_less_and_greater_than_2k['Total Revenue($)'] = Rx_Revenue_IBD_less_and_greater_than_2k[['Rx revenue for IBD < 2k($)', 'Rx revenue for IBD > 2k($)']].sum(axis=1)\n",
    "Rx_Revenue_IBD_less_and_greater_than_2k"
   ]
  },
  {
   "cell_type": "code",
   "execution_count": 55,
   "metadata": {},
   "outputs": [
    {
     "data": {
      "text/html": [
       "<div>\n",
       "<style scoped>\n",
       "    .dataframe tbody tr th:only-of-type {\n",
       "        vertical-align: middle;\n",
       "    }\n",
       "\n",
       "    .dataframe tbody tr th {\n",
       "        vertical-align: top;\n",
       "    }\n",
       "\n",
       "    .dataframe thead th {\n",
       "        text-align: right;\n",
       "    }\n",
       "</style>\n",
       "<table border=\"1\" class=\"dataframe\">\n",
       "  <thead>\n",
       "    <tr style=\"text-align: right;\">\n",
       "      <th></th>\n",
       "      <th>Rx revenue for IBD &lt; 2k($)</th>\n",
       "      <th>Rx revenue for IBD &gt; 2k($)</th>\n",
       "      <th>Total Revenue($)</th>\n",
       "      <th>Rx revenue for IBD &lt; 2k %</th>\n",
       "      <th>Rx revenue for IBD &gt; 2k %</th>\n",
       "    </tr>\n",
       "    <tr>\n",
       "      <th>Pharmacy loc</th>\n",
       "      <th></th>\n",
       "      <th></th>\n",
       "      <th></th>\n",
       "      <th></th>\n",
       "      <th></th>\n",
       "    </tr>\n",
       "  </thead>\n",
       "  <tbody>\n",
       "    <tr>\n",
       "      <th>FL-MI</th>\n",
       "      <td>13006</td>\n",
       "      <td>0</td>\n",
       "      <td>13006</td>\n",
       "      <td>100</td>\n",
       "      <td>0</td>\n",
       "    </tr>\n",
       "    <tr>\n",
       "      <th>MD-BA</th>\n",
       "      <td>24195</td>\n",
       "      <td>3580</td>\n",
       "      <td>27775</td>\n",
       "      <td>87</td>\n",
       "      <td>13</td>\n",
       "    </tr>\n",
       "    <tr>\n",
       "      <th>NC-RA</th>\n",
       "      <td>9401</td>\n",
       "      <td>1945</td>\n",
       "      <td>11346</td>\n",
       "      <td>83</td>\n",
       "      <td>17</td>\n",
       "    </tr>\n",
       "    <tr>\n",
       "      <th>NJ-SO</th>\n",
       "      <td>73930</td>\n",
       "      <td>4063</td>\n",
       "      <td>77993</td>\n",
       "      <td>95</td>\n",
       "      <td>5</td>\n",
       "    </tr>\n",
       "    <tr>\n",
       "      <th>NY-BK</th>\n",
       "      <td>142390</td>\n",
       "      <td>49028</td>\n",
       "      <td>191418</td>\n",
       "      <td>74</td>\n",
       "      <td>26</td>\n",
       "    </tr>\n",
       "    <tr>\n",
       "      <th>NY-MA</th>\n",
       "      <td>814</td>\n",
       "      <td>0</td>\n",
       "      <td>814</td>\n",
       "      <td>100</td>\n",
       "      <td>0</td>\n",
       "    </tr>\n",
       "    <tr>\n",
       "      <th>PA-PH</th>\n",
       "      <td>18443</td>\n",
       "      <td>2593</td>\n",
       "      <td>21036</td>\n",
       "      <td>88</td>\n",
       "      <td>12</td>\n",
       "    </tr>\n",
       "    <tr>\n",
       "      <th>Overall</th>\n",
       "      <td>282182</td>\n",
       "      <td>61212</td>\n",
       "      <td>343394</td>\n",
       "      <td>82</td>\n",
       "      <td>18</td>\n",
       "    </tr>\n",
       "  </tbody>\n",
       "</table>\n",
       "</div>"
      ],
      "text/plain": [
       "              Rx revenue for IBD < 2k($)  Rx revenue for IBD > 2k($)  \\\n",
       "Pharmacy loc                                                           \n",
       "FL-MI                              13006                           0   \n",
       "MD-BA                              24195                        3580   \n",
       "NC-RA                               9401                        1945   \n",
       "NJ-SO                              73930                        4063   \n",
       "NY-BK                             142390                       49028   \n",
       "NY-MA                                814                           0   \n",
       "PA-PH                              18443                        2593   \n",
       "Overall                           282182                       61212   \n",
       "\n",
       "              Total Revenue($)  Rx revenue for IBD < 2k %  \\\n",
       "Pharmacy loc                                                \n",
       "FL-MI                    13006                        100   \n",
       "MD-BA                    27775                         87   \n",
       "NC-RA                    11346                         83   \n",
       "NJ-SO                    77993                         95   \n",
       "NY-BK                   191418                         74   \n",
       "NY-MA                      814                        100   \n",
       "PA-PH                    21036                         88   \n",
       "Overall                 343394                         82   \n",
       "\n",
       "              Rx revenue for IBD > 2k %  \n",
       "Pharmacy loc                             \n",
       "FL-MI                                 0  \n",
       "MD-BA                                13  \n",
       "NC-RA                                17  \n",
       "NJ-SO                                 5  \n",
       "NY-BK                                26  \n",
       "NY-MA                                 0  \n",
       "PA-PH                                12  \n",
       "Overall                              18  "
      ]
     },
     "execution_count": 55,
     "metadata": {},
     "output_type": "execute_result"
    }
   ],
   "source": [
    "Rx_Revenue_IBD_less_and_greater_than_2k['Rx revenue for IBD < 2k %'] = round(Rx_Revenue_IBD_less_and_greater_than_2k['Rx revenue for IBD < 2k($)']/Rx_Revenue_IBD_less_and_greater_than_2k['Total Revenue($)']*100,0)\n",
    "Rx_Revenue_IBD_less_and_greater_than_2k['Rx revenue for IBD > 2k %'] = round(Rx_Revenue_IBD_less_and_greater_than_2k['Rx revenue for IBD > 2k($)']/Rx_Revenue_IBD_less_and_greater_than_2k['Total Revenue($)']*100,0)\n",
    "Rx_Revenue_IBD_less_and_greater_than_2k.fillna(0,inplace=True)\n",
    "\n",
    "Rx_Revenue_IBD_less_and_greater_than_2k['Rx revenue for IBD < 2k %'] = Rx_Revenue_IBD_less_and_greater_than_2k['Rx revenue for IBD < 2k %'].astype(int)\n",
    "Rx_Revenue_IBD_less_and_greater_than_2k['Rx revenue for IBD > 2k %'] = Rx_Revenue_IBD_less_and_greater_than_2k['Rx revenue for IBD > 2k %'].astype(int)\n",
    "Rx_Revenue_IBD_less_and_greater_than_2k"
   ]
  },
  {
   "cell_type": "code",
   "execution_count": 56,
   "metadata": {},
   "outputs": [
    {
     "data": {
      "text/html": [
       "<div>\n",
       "<style scoped>\n",
       "    .dataframe tbody tr th:only-of-type {\n",
       "        vertical-align: middle;\n",
       "    }\n",
       "\n",
       "    .dataframe tbody tr th {\n",
       "        vertical-align: top;\n",
       "    }\n",
       "\n",
       "    .dataframe thead th {\n",
       "        text-align: right;\n",
       "    }\n",
       "</style>\n",
       "<table border=\"1\" class=\"dataframe\">\n",
       "  <thead>\n",
       "    <tr style=\"text-align: right;\">\n",
       "      <th></th>\n",
       "      <th>Total Revenue($)</th>\n",
       "      <th>Rx revenue for IBD &lt; 2k($)</th>\n",
       "      <th>%</th>\n",
       "      <th>Rx revenue for IBD &gt; 2k($)</th>\n",
       "      <th>%</th>\n",
       "    </tr>\n",
       "    <tr>\n",
       "      <th>Pharmacy loc</th>\n",
       "      <th></th>\n",
       "      <th></th>\n",
       "      <th></th>\n",
       "      <th></th>\n",
       "      <th></th>\n",
       "    </tr>\n",
       "  </thead>\n",
       "  <tbody>\n",
       "    <tr>\n",
       "      <th>FL-MI</th>\n",
       "      <td>13006</td>\n",
       "      <td>13006</td>\n",
       "      <td>100</td>\n",
       "      <td>0</td>\n",
       "      <td>0</td>\n",
       "    </tr>\n",
       "    <tr>\n",
       "      <th>MD-BA</th>\n",
       "      <td>27775</td>\n",
       "      <td>24195</td>\n",
       "      <td>87</td>\n",
       "      <td>3580</td>\n",
       "      <td>13</td>\n",
       "    </tr>\n",
       "    <tr>\n",
       "      <th>NC-RA</th>\n",
       "      <td>11346</td>\n",
       "      <td>9401</td>\n",
       "      <td>83</td>\n",
       "      <td>1945</td>\n",
       "      <td>17</td>\n",
       "    </tr>\n",
       "    <tr>\n",
       "      <th>NJ-SO</th>\n",
       "      <td>77993</td>\n",
       "      <td>73930</td>\n",
       "      <td>95</td>\n",
       "      <td>4063</td>\n",
       "      <td>5</td>\n",
       "    </tr>\n",
       "    <tr>\n",
       "      <th>NY-BK</th>\n",
       "      <td>191418</td>\n",
       "      <td>142390</td>\n",
       "      <td>74</td>\n",
       "      <td>49028</td>\n",
       "      <td>26</td>\n",
       "    </tr>\n",
       "    <tr>\n",
       "      <th>NY-MA</th>\n",
       "      <td>814</td>\n",
       "      <td>814</td>\n",
       "      <td>100</td>\n",
       "      <td>0</td>\n",
       "      <td>0</td>\n",
       "    </tr>\n",
       "    <tr>\n",
       "      <th>PA-PH</th>\n",
       "      <td>21036</td>\n",
       "      <td>18443</td>\n",
       "      <td>88</td>\n",
       "      <td>2593</td>\n",
       "      <td>12</td>\n",
       "    </tr>\n",
       "    <tr>\n",
       "      <th>Overall</th>\n",
       "      <td>343394</td>\n",
       "      <td>282182</td>\n",
       "      <td>82</td>\n",
       "      <td>61212</td>\n",
       "      <td>18</td>\n",
       "    </tr>\n",
       "  </tbody>\n",
       "</table>\n",
       "</div>"
      ],
      "text/plain": [
       "              Total Revenue($)  Rx revenue for IBD < 2k($)    %  \\\n",
       "Pharmacy loc                                                      \n",
       "FL-MI                    13006                       13006  100   \n",
       "MD-BA                    27775                       24195   87   \n",
       "NC-RA                    11346                        9401   83   \n",
       "NJ-SO                    77993                       73930   95   \n",
       "NY-BK                   191418                      142390   74   \n",
       "NY-MA                      814                         814  100   \n",
       "PA-PH                    21036                       18443   88   \n",
       "Overall                 343394                      282182   82   \n",
       "\n",
       "              Rx revenue for IBD > 2k($)  %   \n",
       "Pharmacy loc                                  \n",
       "FL-MI                                  0   0  \n",
       "MD-BA                               3580  13  \n",
       "NC-RA                               1945  17  \n",
       "NJ-SO                               4063   5  \n",
       "NY-BK                              49028  26  \n",
       "NY-MA                                  0   0  \n",
       "PA-PH                               2593  12  \n",
       "Overall                            61212  18  "
      ]
     },
     "execution_count": 56,
     "metadata": {},
     "output_type": "execute_result"
    }
   ],
   "source": [
    "Rx_Revenue_IBD_less_and_greater_than_2k_final = Rx_Revenue_IBD_less_and_greater_than_2k[['Total Revenue($)', 'Rx revenue for IBD < 2k($)', 'Rx revenue for IBD < 2k %', 'Rx revenue for IBD > 2k($)', 'Rx revenue for IBD > 2k %']]\n",
    "#Rx_Revenue_IBD_less_and_greater_than_2k_final = Rx_Revenue_IBD_less_and_greater_than_2k_final.set_index('Pharmacy loc')\n",
    "Rx_Revenue_IBD_less_and_greater_than_2k_final = Rx_Revenue_IBD_less_and_greater_than_2k_final.rename(columns = {'Rx revenue for IBD < 2k %': ' %', 'Rx revenue for IBD > 2k %': '% '})\n",
    "Rx_Revenue_IBD_less_and_greater_than_2k_final"
   ]
  },
  {
   "cell_type": "code",
   "execution_count": 57,
   "metadata": {},
   "outputs": [
    {
     "data": {
      "text/html": [
       "<style  type=\"text/css\" >\n",
       "    #T_d6ee2_ th {\n",
       "          background-color: #F1F1F1;\n",
       "          border-style: solid;\n",
       "          font-family: Nunito;\n",
       "          font-size: 10;\n",
       "          border-width: 0.5px;\n",
       "          text-align: center;\n",
       "          border-color: #B0BCC8;\n",
       "    }#T_d6ee2_row0_col0,#T_d6ee2_row0_col2,#T_d6ee2_row0_col4,#T_d6ee2_row1_col0,#T_d6ee2_row1_col2,#T_d6ee2_row1_col4,#T_d6ee2_row2_col0,#T_d6ee2_row2_col2,#T_d6ee2_row2_col4,#T_d6ee2_row3_col0,#T_d6ee2_row3_col2,#T_d6ee2_row3_col4,#T_d6ee2_row4_col0,#T_d6ee2_row4_col2,#T_d6ee2_row4_col4,#T_d6ee2_row5_col0,#T_d6ee2_row5_col2,#T_d6ee2_row5_col4,#T_d6ee2_row6_col0,#T_d6ee2_row6_col2,#T_d6ee2_row6_col4,#T_d6ee2_row7_col0,#T_d6ee2_row7_col1,#T_d6ee2_row7_col2,#T_d6ee2_row7_col3,#T_d6ee2_row7_col4{\n",
       "            background:  white;\n",
       "            color:  black;\n",
       "            border-color:  #B0BCC8;\n",
       "            border-width:  0.5px;\n",
       "            border-style:  solid;\n",
       "            font-family:  Nunito;\n",
       "            font-size:  10;\n",
       "            text-align:  center;\n",
       "        }#T_d6ee2_row0_col1,#T_d6ee2_row1_col1,#T_d6ee2_row2_col1,#T_d6ee2_row3_col1,#T_d6ee2_row4_col1,#T_d6ee2_row5_col1,#T_d6ee2_row6_col1{\n",
       "            background:  white;\n",
       "            color:  black;\n",
       "            border-color:  #B0BCC8;\n",
       "            border-width:  0.5px;\n",
       "            border-style:  solid;\n",
       "            font-family:  Nunito;\n",
       "            font-size:  10;\n",
       "            text-align:  center;\n",
       "            background-color:  #006837;\n",
       "            color:  #f1f1f1;\n",
       "        }#T_d6ee2_row0_col3,#T_d6ee2_row1_col3,#T_d6ee2_row2_col3,#T_d6ee2_row3_col3,#T_d6ee2_row4_col3,#T_d6ee2_row5_col3,#T_d6ee2_row6_col3{\n",
       "            background:  white;\n",
       "            color:  black;\n",
       "            border-color:  #B0BCC8;\n",
       "            border-width:  0.5px;\n",
       "            border-style:  solid;\n",
       "            font-family:  Nunito;\n",
       "            font-size:  10;\n",
       "            text-align:  center;\n",
       "            background-color:  #a50026;\n",
       "            color:  #f1f1f1;\n",
       "        }</style><table id=\"T_d6ee2_\" ><thead>    <tr>        <th class=\"blank level0\" ></th>        <th class=\"col_heading level0 col0\" >Total Revenue($)</th>        <th class=\"col_heading level0 col1\" >Rx revenue for IBD < 2k($)</th>        <th class=\"col_heading level0 col2\" > %</th>        <th class=\"col_heading level0 col3\" >Rx revenue for IBD > 2k($)</th>        <th class=\"col_heading level0 col4\" >% </th>    </tr>    <tr>        <th class=\"index_name level0\" >Pharmacy loc</th>        <th class=\"blank\" ></th>        <th class=\"blank\" ></th>        <th class=\"blank\" ></th>        <th class=\"blank\" ></th>        <th class=\"blank\" ></th>    </tr></thead><tbody>\n",
       "                <tr>\n",
       "                        <th id=\"T_d6ee2_level0_row0\" class=\"row_heading level0 row0\" >FL-MI</th>\n",
       "                        <td id=\"T_d6ee2_row0_col0\" class=\"data row0 col0\" >13,006</td>\n",
       "                        <td id=\"T_d6ee2_row0_col1\" class=\"data row0 col1\" >13,006</td>\n",
       "                        <td id=\"T_d6ee2_row0_col2\" class=\"data row0 col2\" >100</td>\n",
       "                        <td id=\"T_d6ee2_row0_col3\" class=\"data row0 col3\" >0</td>\n",
       "                        <td id=\"T_d6ee2_row0_col4\" class=\"data row0 col4\" >0</td>\n",
       "            </tr>\n",
       "            <tr>\n",
       "                        <th id=\"T_d6ee2_level0_row1\" class=\"row_heading level0 row1\" >MD-BA</th>\n",
       "                        <td id=\"T_d6ee2_row1_col0\" class=\"data row1 col0\" >27,775</td>\n",
       "                        <td id=\"T_d6ee2_row1_col1\" class=\"data row1 col1\" >24,195</td>\n",
       "                        <td id=\"T_d6ee2_row1_col2\" class=\"data row1 col2\" >87</td>\n",
       "                        <td id=\"T_d6ee2_row1_col3\" class=\"data row1 col3\" >3,580</td>\n",
       "                        <td id=\"T_d6ee2_row1_col4\" class=\"data row1 col4\" >13</td>\n",
       "            </tr>\n",
       "            <tr>\n",
       "                        <th id=\"T_d6ee2_level0_row2\" class=\"row_heading level0 row2\" >NC-RA</th>\n",
       "                        <td id=\"T_d6ee2_row2_col0\" class=\"data row2 col0\" >11,346</td>\n",
       "                        <td id=\"T_d6ee2_row2_col1\" class=\"data row2 col1\" >9,401</td>\n",
       "                        <td id=\"T_d6ee2_row2_col2\" class=\"data row2 col2\" >83</td>\n",
       "                        <td id=\"T_d6ee2_row2_col3\" class=\"data row2 col3\" >1,945</td>\n",
       "                        <td id=\"T_d6ee2_row2_col4\" class=\"data row2 col4\" >17</td>\n",
       "            </tr>\n",
       "            <tr>\n",
       "                        <th id=\"T_d6ee2_level0_row3\" class=\"row_heading level0 row3\" >NJ-SO</th>\n",
       "                        <td id=\"T_d6ee2_row3_col0\" class=\"data row3 col0\" >77,993</td>\n",
       "                        <td id=\"T_d6ee2_row3_col1\" class=\"data row3 col1\" >73,930</td>\n",
       "                        <td id=\"T_d6ee2_row3_col2\" class=\"data row3 col2\" >95</td>\n",
       "                        <td id=\"T_d6ee2_row3_col3\" class=\"data row3 col3\" >4,063</td>\n",
       "                        <td id=\"T_d6ee2_row3_col4\" class=\"data row3 col4\" >5</td>\n",
       "            </tr>\n",
       "            <tr>\n",
       "                        <th id=\"T_d6ee2_level0_row4\" class=\"row_heading level0 row4\" >NY-BK</th>\n",
       "                        <td id=\"T_d6ee2_row4_col0\" class=\"data row4 col0\" >191,418</td>\n",
       "                        <td id=\"T_d6ee2_row4_col1\" class=\"data row4 col1\" >142,390</td>\n",
       "                        <td id=\"T_d6ee2_row4_col2\" class=\"data row4 col2\" >74</td>\n",
       "                        <td id=\"T_d6ee2_row4_col3\" class=\"data row4 col3\" >49,028</td>\n",
       "                        <td id=\"T_d6ee2_row4_col4\" class=\"data row4 col4\" >26</td>\n",
       "            </tr>\n",
       "            <tr>\n",
       "                        <th id=\"T_d6ee2_level0_row5\" class=\"row_heading level0 row5\" >NY-MA</th>\n",
       "                        <td id=\"T_d6ee2_row5_col0\" class=\"data row5 col0\" >814</td>\n",
       "                        <td id=\"T_d6ee2_row5_col1\" class=\"data row5 col1\" >814</td>\n",
       "                        <td id=\"T_d6ee2_row5_col2\" class=\"data row5 col2\" >100</td>\n",
       "                        <td id=\"T_d6ee2_row5_col3\" class=\"data row5 col3\" >0</td>\n",
       "                        <td id=\"T_d6ee2_row5_col4\" class=\"data row5 col4\" >0</td>\n",
       "            </tr>\n",
       "            <tr>\n",
       "                        <th id=\"T_d6ee2_level0_row6\" class=\"row_heading level0 row6\" >PA-PH</th>\n",
       "                        <td id=\"T_d6ee2_row6_col0\" class=\"data row6 col0\" >21,036</td>\n",
       "                        <td id=\"T_d6ee2_row6_col1\" class=\"data row6 col1\" >18,443</td>\n",
       "                        <td id=\"T_d6ee2_row6_col2\" class=\"data row6 col2\" >88</td>\n",
       "                        <td id=\"T_d6ee2_row6_col3\" class=\"data row6 col3\" >2,593</td>\n",
       "                        <td id=\"T_d6ee2_row6_col4\" class=\"data row6 col4\" >12</td>\n",
       "            </tr>\n",
       "            <tr>\n",
       "                        <th id=\"T_d6ee2_level0_row7\" class=\"row_heading level0 row7\" >Overall</th>\n",
       "                        <td id=\"T_d6ee2_row7_col0\" class=\"data row7 col0\" >343,394</td>\n",
       "                        <td id=\"T_d6ee2_row7_col1\" class=\"data row7 col1\" >282,182</td>\n",
       "                        <td id=\"T_d6ee2_row7_col2\" class=\"data row7 col2\" >82</td>\n",
       "                        <td id=\"T_d6ee2_row7_col3\" class=\"data row7 col3\" >61,212</td>\n",
       "                        <td id=\"T_d6ee2_row7_col4\" class=\"data row7 col4\" >18</td>\n",
       "            </tr>\n",
       "    </tbody></table>"
      ],
      "text/plain": [
       "<pandas.io.formats.style.Styler at 0x16855478f40>"
      ]
     },
     "execution_count": 57,
     "metadata": {},
     "output_type": "execute_result"
    }
   ],
   "source": [
    "subset_value = (Rx_Revenue_IBD_less_and_greater_than_2k_final.index.tolist()[:-1],['Rx revenue for IBD < 2k($)', 'Rx revenue for IBD > 2k($)'])\n",
    "df_style2 = Rx_Revenue_IBD_less_and_greater_than_2k_final.style.set_properties(**body_design).background_gradient(cmap='RdYlGn',axis=1, subset = subset_value).format(\"{:,}\")\n",
    "df_style2.set_table_styles([border_design])\n",
    "\n",
    "df_style2"
   ]
  },
  {
   "cell_type": "code",
   "execution_count": 58,
   "metadata": {},
   "outputs": [],
   "source": [
    "dfi.export(df_style2, ibd_images+'rx_revenue_ibd_less_and_greater_than_2k_final_refill.png')"
   ]
  },
  {
   "cell_type": "raw",
   "metadata": {},
   "source": [
    "# IBD Denied"
   ]
  },
  {
   "cell_type": "raw",
   "metadata": {},
   "source": [
    "ibd_not_possible_list = ['IBD DENIED CALL MD TO SWITCH', 'IBD DENIED 2K+ (AMT)', 'IBD NOT POSSIBLE']"
   ]
  },
  {
   "cell_type": "raw",
   "metadata": {},
   "source": [
    "### Rx_with_IBD_value_less_2k"
   ]
  },
  {
   "cell_type": "raw",
   "metadata": {},
   "source": [
    "Rx_with_IBD_value_less_2k_denied = Rx_with_IBD_value_less_2k[Rx_with_IBD_value_less_2k['trackrx_last_ibdtag'].isin(ibd_not_possible_list)]"
   ]
  },
  {
   "cell_type": "raw",
   "metadata": {},
   "source": [
    "Rx_with_IBD_value_less_2k_denied"
   ]
  },
  {
   "cell_type": "raw",
   "metadata": {},
   "source": [
    "Rx_with_IBD_value_less_2k_denied_count_pivot = pd.pivot_table(Rx_with_IBD_value_less_2k_denied, values = ['rx_code_key_location'], index = ['pharmacy_loc'], aggfunc = 'count').reset_index()\n",
    "Rx_with_IBD_value_less_2k_denied_count_pivot.rename(columns = {'rx_code_key_location':'rx_count_IBD_Denied'}, inplace = True)\n",
    "Rx_with_IBD_value_less_2k_denied_count_pivot\n"
   ]
  },
  {
   "cell_type": "raw",
   "metadata": {},
   "source": [
    "Rx_with_IBD_value_less_2k_denied_revenue_pivot = pd.pivot_table(Rx_with_IBD_value_less_2k_denied, values = ['rx_revenue'], index = ['pharmacy_loc'], aggfunc = 'sum').reset_index()\n",
    "Rx_with_IBD_value_less_2k_denied_revenue_pivot.rename(columns = {'rx_revenue':'rx_revenue_IBD_Denied'}, inplace = True)\n",
    "Rx_with_IBD_value_less_2k_denied_revenue_pivot"
   ]
  },
  {
   "cell_type": "raw",
   "metadata": {},
   "source": [
    "Rx_with_IBD_value_less_2k_denied_pivot = pd.merge(Rx_with_IBD_value_less_2k_denied_count_pivot, Rx_with_IBD_value_less_2k_denied_revenue_pivot, on='pharmacy_loc', how='left')\n",
    "Rx_with_IBD_value_less_2k_denied_pivot"
   ]
  },
  {
   "cell_type": "raw",
   "metadata": {},
   "source": [
    "Rx_with_IBD_value_less_2k_denied_pivot.append(Rx_with_IBD_value_less_2k_denied_pivot.sum(axis=0), ignore_index=True).to_clipboard(index=False)"
   ]
  },
  {
   "cell_type": "raw",
   "metadata": {},
   "source": [
    "### Rx_with_IBD_value_greater_2k_denied"
   ]
  },
  {
   "cell_type": "raw",
   "metadata": {},
   "source": [
    "Rx_with_IBD_value_greater_2k_denied = Rx_with_IBD_value_greater_2k[Rx_with_IBD_value_greater_2k['trackrx_last_ibdtag'].isin(ibd_not_possible_list)]\n",
    "\n",
    "#Rx_with_IBD_value_greater_2k_IBD_df['IBD_status'] = Rx_with_IBD_value_greater_2k_IBD_df"
   ]
  },
  {
   "cell_type": "raw",
   "metadata": {},
   "source": [
    "Rx_with_IBD_value_greater_2k_denied"
   ]
  },
  {
   "cell_type": "raw",
   "metadata": {},
   "source": [
    "Rx_with_IBD_value_greater_2k_denied_count_pivot = pd.pivot_table(Rx_with_IBD_value_greater_2k_denied, values = ['rx_code_key_location'], index = ['pharmacy_loc'], aggfunc = 'count').reset_index()\n",
    "Rx_with_IBD_value_greater_2k_denied_count_pivot.rename(columns = {'rx_code_key_location':'rx_count_IBD_Denied'}, inplace = True)\n",
    "Rx_with_IBD_value_greater_2k_denied_count_pivot\n"
   ]
  },
  {
   "cell_type": "raw",
   "metadata": {},
   "source": [
    "Rx_with_IBD_value_greater_2k_denied_revenue_pivot = pd.pivot_table(Rx_with_IBD_value_greater_2k_denied, values = ['rx_revenue'], index = ['pharmacy_loc'], aggfunc = 'sum').reset_index()\n",
    "Rx_with_IBD_value_greater_2k_denied_revenue_pivot.rename(columns = {'rx_revenue':'rx_revenue_IBD_Denied'}, inplace = True)\n",
    "Rx_with_IBD_value_greater_2k_denied_revenue_pivot"
   ]
  },
  {
   "cell_type": "raw",
   "metadata": {},
   "source": [
    "Rx_with_IBD_value_greater_2k_denied_pivot = pd.merge(Rx_with_IBD_value_greater_2k_denied_count_pivot, Rx_with_IBD_value_greater_2k_denied_revenue_pivot, on='pharmacy_loc', how='left')\n",
    "Rx_with_IBD_value_greater_2k_denied_pivot"
   ]
  },
  {
   "cell_type": "raw",
   "metadata": {},
   "source": [
    "Rx_with_IBD_value_greater_2k_denied_pivot.append(Rx_with_IBD_value_greater_2k_denied_pivot.sum(axis=0), ignore_index=True).to_clipboard(index=False)"
   ]
  },
  {
   "cell_type": "raw",
   "metadata": {},
   "source": [
    "# IBD not possible"
   ]
  },
  {
   "cell_type": "raw",
   "metadata": {},
   "source": [
    "ibd_possible_list = ['TO BE BILLED', 'CALL FOR INS', 'CALL MD (SEE NOTES)',\n",
    "       'SPEAK WITH INSURANCE', \n",
    "        'IBD IS 2K+',\n",
    "       'IBD IN PROCESS â€“ DARSHI', 'IBD IN PROCESS - MITCHELL', '0',\n",
    "       'HIV', 'HORIZON-BILL', 'HORIZON-CALL', 'O/O', 'IBD IS $2K+',\n",
    "       'IBD IN PROCESS - DANIEL', 'COPAY COUNSELING (SEE NOTES)',\n",
    "       'CALL FOR INS DAY 2', 'COMPLICATED RX ( SEE NOTES)',\n",
    "       'REFIL-CALLING', 'SALES-FOLLOWUP', 'HORIZON-OK TO BILL',\n",
    "       'COUPON BILL', 'IBD DONE BY MD', 'SPEAK WITH INS',\n",
    "       'IBD IN PROCESS - KARIM', 'IBD CHART NOTES REQ - 2K+',\n",
    "       'DELIVER TO MD OFFICE', 'IBD CHART NOTES REQ - TIARA',\n",
    "        'COMPLICATED RX (NOTES)',\n",
    "       'COPAY SPECIALTY', 'DERM GROUP', 'CALL MD TO SWITCH',\n",
    "       'REFILL CALLING OPTUMRX', 'IBD REQUIRED', 'DE-PD DERMATOLOGY',\n",
    "       'IBD IN PROCESS - DARSHI', 'IBD IN PROCESS - KATHERINE',\n",
    "       'NEW PX APP', 'CALL MD TO SWITCH-ACCT. MGT', 'RH-I RHEUMATOLOGY',\n",
    "       'HUMIRA NURSE AMBASSADOR', 'SMS NRBP 1',\n",
    "       'COMPLICATED RX (SEE NOTES)', 'IBD CHART NOTES REQ- CHRISTINE',\n",
    "       \"WORKER'S COMP\", 'IBD FIDELIS', 'IBD IN PROCESS - TAMIKAH',\n",
    "       'CX LANGUAGE SPANISH', 'IBD IN PROCESS - CHIARA',\n",
    "       'REFILL-CALLING OPTUMRX', 'IBD IN PROCESS - ASHLEY',\n",
    "       'COPAY COUNSELLING', 'IBD CHART NOTES REQ',\n",
    "       'IBD IN PROCESS - TATYANNA', 'DEL REVERSALS']"
   ]
  },
  {
   "cell_type": "raw",
   "metadata": {},
   "source": [
    "Rx_with_IBD_value_less_2k_possible = Rx_with_IBD_value_less_2k[Rx_with_IBD_value_less_2k['trackrx_last_ibdtag'].isin(ibd_possible_list)]"
   ]
  },
  {
   "cell_type": "raw",
   "metadata": {},
   "source": [
    "Rx_with_IBD_value_less_2k_possible_count_pivot = pd.pivot_table(Rx_with_IBD_value_less_2k_possible, values = ['rx_code_key_location'], index = ['pharmacy_loc'], aggfunc = 'count').reset_index()\n",
    "Rx_with_IBD_value_less_2k_possible_count_pivot.rename(columns = {'rx_code_key_location':'rx_count_IBD_Denied'}, inplace = True)\n",
    "Rx_with_IBD_value_less_2k_possible_count_pivot\n"
   ]
  },
  {
   "cell_type": "raw",
   "metadata": {},
   "source": [
    "Rx_with_IBD_value_less_2k_possible_revenue_pivot = pd.pivot_table(Rx_with_IBD_value_less_2k_possible, values = ['rx_revenue'], index = ['pharmacy_loc'], aggfunc = 'sum').reset_index()\n",
    "Rx_with_IBD_value_less_2k_possible_revenue_pivot.rename(columns = {'rx_revenue':'rx_revenue_IBD_Denied'}, inplace = True)\n",
    "Rx_with_IBD_value_less_2k_possible_revenue_pivot"
   ]
  },
  {
   "cell_type": "raw",
   "metadata": {},
   "source": [
    "Rx_with_IBD_value_less_2k_possible_pivot = pd.merge(Rx_with_IBD_value_less_2k_possible_count_pivot, Rx_with_IBD_value_less_2k_possible_revenue_pivot, on='pharmacy_loc', how='left')\n",
    "Rx_with_IBD_value_less_2k_possible_pivot"
   ]
  },
  {
   "cell_type": "raw",
   "metadata": {},
   "source": [
    "Rx_with_IBD_value_less_2k_possible_pivot.append(Rx_with_IBD_value_less_2k_possible_pivot.sum(axis=0), ignore_index=True).to_clipboard(index=False)"
   ]
  },
  {
   "cell_type": "raw",
   "metadata": {},
   "source": [
    "### Rx_with_IBD_value_greater_2k_possible"
   ]
  },
  {
   "cell_type": "raw",
   "metadata": {},
   "source": [
    "Rx_with_IBD_value_greater_2k_possible = Rx_with_IBD_value_greater_2k[Rx_with_IBD_value_greater_2k['trackrx_last_ibdtag'].isin(ibd_possible_list)]"
   ]
  },
  {
   "cell_type": "raw",
   "metadata": {},
   "source": [
    "Rx_with_IBD_value_greater_2k_possible_count_pivot = pd.pivot_table(Rx_with_IBD_value_greater_2k_possible, values = ['rx_code_key_location'], index = ['pharmacy_loc'], aggfunc = 'count').reset_index()\n",
    "Rx_with_IBD_value_greater_2k_possible_count_pivot.rename(columns = {'rx_code_key_location':'rx_count_IBD_possible'}, inplace = True)\n",
    "Rx_with_IBD_value_greater_2k_possible_count_pivot\n"
   ]
  },
  {
   "cell_type": "raw",
   "metadata": {},
   "source": [
    "Rx_with_IBD_value_greater_2k_possible_revenue_pivot = pd.pivot_table(Rx_with_IBD_value_greater_2k_possible, values = ['rx_revenue'], index = ['pharmacy_loc'], aggfunc = 'sum').reset_index()\n",
    "Rx_with_IBD_value_greater_2k_possible_revenue_pivot.rename(columns = {'rx_revenue':'rx_revenue_IBD_possible'}, inplace = True)\n",
    "Rx_with_IBD_value_greater_2k_possible_revenue_pivot\n"
   ]
  },
  {
   "cell_type": "raw",
   "metadata": {},
   "source": [
    "Rx_with_IBD_value_greater_2k_denied_pivot = pd.merge(Rx_with_IBD_value_greater_2k_possible_count_pivot, Rx_with_IBD_value_greater_2k_possible_revenue_pivot, on='pharmacy_loc', how='left')\n",
    "Rx_with_IBD_value_greater_2k_denied_pivot"
   ]
  },
  {
   "cell_type": "raw",
   "metadata": {},
   "source": [
    "Rx_with_IBD_value_greater_2k_denied_pivot.append(Rx_with_IBD_value_greater_2k_denied_pivot.sum(axis=0), ignore_index=True).to_clipboard(index=False)"
   ]
  },
  {
   "cell_type": "raw",
   "metadata": {},
   "source": [
    "# IBD billed & unbilled"
   ]
  },
  {
   "cell_type": "raw",
   "metadata": {},
   "source": [
    "# Rx_with_IBD_value_less_2k_denied\n",
    "# Rx_with_IBD_value_greater_2k_denied\n",
    "# Rx_with_IBD_value_less_2k_possible\n",
    "# Rx_with_IBD_value_greater_2k_possible"
   ]
  },
  {
   "cell_type": "raw",
   "metadata": {},
   "source": [
    "# Rx_with_IBD_value_less_2k_denied billed & unbilled"
   ]
  },
  {
   "cell_type": "raw",
   "metadata": {},
   "source": [
    "Rx_with_IBD_value_less_2k_denied_billed = Rx_with_IBD_value_less_2k_denied[Rx_with_IBD_value_less_2k_denied['trackrx_last_status_new']=='B']"
   ]
  },
  {
   "cell_type": "raw",
   "metadata": {},
   "source": [
    "Rx_with_IBD_value_less_2k_denied_billed_count_pivot = pd.pivot_table(Rx_with_IBD_value_less_2k_denied_billed, values = ['rx_code_key_location'], index = ['pharmacy_loc'], aggfunc = 'count').reset_index()\n",
    "Rx_with_IBD_value_less_2k_denied_billed_count_pivot.rename(columns = {'pharmacy_loc': 'pharmacy loc', 'rx_code_key_location':'Rx count for IBD < 2k'}, inplace = True)\n",
    "#Rx_with_IBD_value_less_2k_denied_billed_count_pivot\n",
    "\n",
    "Rx_with_IBD_value_less_2k_denied_billed_revenue_pivot = pd.pivot_table(Rx_with_IBD_value_less_2k_denied_billed, values = ['rx_revenue'], index = ['pharmacy_loc'], aggfunc = 'sum').reset_index()\n",
    "Rx_with_IBD_value_less_2k_denied_billed_revenue_pivot.rename(columns = {'pharmacy_loc': 'pharmacy loc', 'rx_revenue':'Rx revenue for IBD < 2k($)'}, inplace = True)\n",
    "#Rx_with_IBD_value_less_2k_denied_billed_revenue_pivot\n",
    "\n",
    "Rx_with_IBD_value_less_2k_denied_billed_pivot = pd.merge(Rx_with_IBD_value_less_2k_denied_billed_count_pivot, Rx_with_IBD_value_less_2k_denied_billed_revenue_pivot, on='pharmacy loc', how='left')\n",
    "Rx_with_IBD_value_less_2k_denied_billed_pivot\n"
   ]
  },
  {
   "cell_type": "raw",
   "metadata": {},
   "source": [
    "Rx_with_IBD_value_less_2k_denied_billed_pivot.append(Rx_with_IBD_value_less_2k_denied_billed_pivot.sum(axis=0), ignore_index=True).to_clipboard(index=False)"
   ]
  },
  {
   "cell_type": "raw",
   "metadata": {},
   "source": [
    "# Rx_with_IBD_value_less_2k_denied_unbilled"
   ]
  },
  {
   "cell_type": "raw",
   "metadata": {},
   "source": [
    "Rx_with_IBD_value_less_2k_denied_unbilled = Rx_with_IBD_value_less_2k_denied[Rx_with_IBD_value_less_2k_denied['trackrx_last_status_new']=='NB']"
   ]
  },
  {
   "cell_type": "raw",
   "metadata": {},
   "source": [
    "Rx_with_IBD_value_less_2k_denied_unbilled_count_pivot = pd.pivot_table(Rx_with_IBD_value_less_2k_denied_unbilled, values = ['rx_code_key_location'], index = ['pharmacy_loc'], aggfunc = 'count').reset_index()\n",
    "Rx_with_IBD_value_less_2k_denied_unbilled_count_pivot.rename(columns = {'rx_code_key_location':'rx_count_IBD_Denied_unbilled'}, inplace = True)\n",
    "#Rx_with_IBD_value_less_2k_denied_unbilled_count_pivot\n",
    "\n",
    "Rx_with_IBD_value_less_2k_denied_unbilled_revenue_pivot = pd.pivot_table(Rx_with_IBD_value_less_2k_denied_unbilled, values = ['rx_revenue'], index = ['pharmacy_loc'], aggfunc = 'sum').reset_index()\n",
    "Rx_with_IBD_value_less_2k_denied_unbilled_revenue_pivot.rename(columns = {'rx_revenue':'rx_revenue_IBD_Denied_unbilled'}, inplace = True)\n",
    "#Rx_with_IBD_value_less_2k_denied_unbilled_revenue_pivot\n",
    "\n",
    "Rx_with_IBD_value_less_2k_denied_unbilled_pivot = pd.merge(Rx_with_IBD_value_less_2k_denied_unbilled_count_pivot, Rx_with_IBD_value_less_2k_denied_unbilled_revenue_pivot, on='pharmacy_loc', how='left')\n",
    "Rx_with_IBD_value_less_2k_denied_unbilled_pivot"
   ]
  },
  {
   "cell_type": "raw",
   "metadata": {},
   "source": [
    "Rx_with_IBD_value_less_2k_denied_unbilled_pivot.append(Rx_with_IBD_value_less_2k_denied_unbilled_pivot.sum(axis=0), ignore_index=True).to_clipboard(index=False)"
   ]
  },
  {
   "cell_type": "raw",
   "metadata": {},
   "source": [
    "### Rx_with_IBD_value_less_2k_possible billed & unbilled"
   ]
  },
  {
   "cell_type": "raw",
   "metadata": {},
   "source": [
    "Rx_with_IBD_value_less_2k_possible_billed = Rx_with_IBD_value_less_2k_possible[Rx_with_IBD_value_less_2k_possible['trackrx_last_status_new']=='B']"
   ]
  },
  {
   "cell_type": "raw",
   "metadata": {},
   "source": [
    "Rx_with_IBD_value_less_2k_possible_billed_count_pivot = pd.pivot_table(Rx_with_IBD_value_less_2k_possible_billed, values = ['rx_code_key_location'], index = ['pharmacy_loc'], aggfunc = 'count').reset_index()\n",
    "Rx_with_IBD_value_less_2k_possible_billed_count_pivot.rename(columns = {'pharmacy_loc': 'pharmacy loc', 'rx_code_key_location':'Rx count for IBD < 2k'}, inplace = True)\n",
    "#Rx_with_IBD_value_less_2k_possible_billed_count_pivot\n",
    "\n",
    "Rx_with_IBD_value_less_2k_possible_billed_revenue_pivot = pd.pivot_table(Rx_with_IBD_value_less_2k_possible_billed, values = ['rx_revenue'], index = ['pharmacy_loc'], aggfunc = 'sum').reset_index()\n",
    "Rx_with_IBD_value_less_2k_possible_billed_revenue_pivot.rename(columns = {'pharmacy_loc': 'pharmacy loc', 'rx_revenue':'Rx revenue for IBD < 2k($)'}, inplace = True)\n",
    "#Rx_with_IBD_value_less_2k_possible_billed_revenue_pivot\n",
    "\n",
    "Rx_with_IBD_value_less_2k_possible_billed_pivot = pd.merge(Rx_with_IBD_value_less_2k_possible_billed_count_pivot, Rx_with_IBD_value_less_2k_possible_billed_revenue_pivot, on='pharmacy loc', how='left')\n",
    "Rx_with_IBD_value_less_2k_possible_billed_pivot"
   ]
  },
  {
   "cell_type": "raw",
   "metadata": {},
   "source": [
    "Rx_with_IBD_value_less_2k_possible_billed_pivot.append(Rx_with_IBD_value_less_2k_possible_billed_pivot.sum(axis=0), ignore_index=True).to_clipboard(index=False)"
   ]
  },
  {
   "cell_type": "raw",
   "metadata": {},
   "source": [
    "Rx_with_IBD_value_less_2k_possible_unbilled = Rx_with_IBD_value_less_2k_possible[Rx_with_IBD_value_less_2k_possible['trackrx_last_status_new']=='NB']"
   ]
  },
  {
   "cell_type": "raw",
   "metadata": {},
   "source": [
    "Rx_with_IBD_value_less_2k_possible_unbilled_count_pivot = pd.pivot_table(Rx_with_IBD_value_less_2k_possible_unbilled, values = ['rx_code_key_location'], index = ['pharmacy_loc'], aggfunc = 'count').reset_index()\n",
    "Rx_with_IBD_value_less_2k_possible_unbilled_count_pivot.rename(columns = {'rx_code_key_location':'rx_count_IBD_possible_unbilled'}, inplace = True)\n",
    "\n",
    "Rx_with_IBD_value_less_2k_possible_unbilled_revenue_pivot = pd.pivot_table(Rx_with_IBD_value_less_2k_possible_unbilled, values = ['rx_revenue'], index = ['pharmacy_loc'], aggfunc = 'sum').reset_index()\n",
    "Rx_with_IBD_value_less_2k_possible_unbilled_revenue_pivot.rename(columns = {'rx_revenue':'rx_revenue_IBD_possible_unbilled'}, inplace = True)\n",
    "\n",
    "Rx_with_IBD_value_less_2k_possible_unbilled_pivot = pd.merge(Rx_with_IBD_value_less_2k_possible_unbilled_count_pivot, Rx_with_IBD_value_less_2k_possible_unbilled_revenue_pivot, on='pharmacy_loc', how='left')\n",
    "Rx_with_IBD_value_less_2k_possible_unbilled_pivot"
   ]
  },
  {
   "cell_type": "raw",
   "metadata": {},
   "source": [
    "Rx_with_IBD_value_less_2k_possible_unbilled_pivot.append(Rx_with_IBD_value_less_2k_possible_unbilled_pivot.sum(axis=0), ignore_index=True).to_clipboard(index=False)"
   ]
  },
  {
   "cell_type": "raw",
   "metadata": {},
   "source": [
    "## Rx_with_IBD_value_greater_2k_denied billed & unbilled"
   ]
  },
  {
   "cell_type": "raw",
   "metadata": {},
   "source": [
    "Rx_with_IBD_value_greater_2k_denied_billed = Rx_with_IBD_value_greater_2k_denied[Rx_with_IBD_value_greater_2k_denied['trackrx_last_status_new']=='B']"
   ]
  },
  {
   "cell_type": "raw",
   "metadata": {},
   "source": [
    "Rx_with_IBD_value_greater_2k_denied_billed_count_pivot = pd.pivot_table(Rx_with_IBD_value_greater_2k_denied_billed, values = ['rx_code_key_location'], index = ['pharmacy_loc'], aggfunc = 'count').reset_index()\n",
    "Rx_with_IBD_value_greater_2k_denied_billed_count_pivot.rename(columns = {'pharmacy_loc': 'pharmacy loc','rx_code_key_location':'Rx count for IBD > 2k'}, inplace = True)\n",
    "#Rx_with_IBD_value_greater_2k_denied_billed_count_pivot\n",
    "\n",
    "Rx_with_IBD_value_greater_2k_denied_billed_revenue_pivot = pd.pivot_table(Rx_with_IBD_value_greater_2k_denied_billed, values = ['rx_revenue'], index = ['pharmacy_loc'], aggfunc = 'sum').reset_index()\n",
    "Rx_with_IBD_value_greater_2k_denied_billed_revenue_pivot.rename(columns = {'pharmacy_loc': 'pharmacy loc','rx_revenue':'Rx revenue for IBD > 2k($)'}, inplace = True)\n",
    "#Rx_with_IBD_value_greater_2k_denied_billed_revenue_pivot\n",
    "\n",
    "Rx_with_IBD_value_greater_2k_denied_billed_pivot = pd.merge(Rx_with_IBD_value_greater_2k_denied_billed_count_pivot, Rx_with_IBD_value_greater_2k_denied_billed_revenue_pivot, on='pharmacy loc', how='left')\n",
    "Rx_with_IBD_value_greater_2k_denied_billed_pivot"
   ]
  },
  {
   "cell_type": "raw",
   "metadata": {},
   "source": [
    "Rx_with_IBD_value_greater_2k_denied_unbilled = Rx_with_IBD_value_greater_2k_denied[Rx_with_IBD_value_greater_2k_denied['trackrx_last_status_new']=='NB']"
   ]
  },
  {
   "cell_type": "raw",
   "metadata": {},
   "source": [
    "Rx_with_IBD_value_greater_2k_denied_unbilled_count_pivot = pd.pivot_table(Rx_with_IBD_value_greater_2k_denied_unbilled, values = ['rx_code_key_location'], index = ['pharmacy_loc'], aggfunc = 'count').reset_index()\n",
    "Rx_with_IBD_value_greater_2k_denied_unbilled_count_pivot.rename(columns = {'rx_code_key_location':'rx_count_IBD_denied_unbilled'}, inplace = True)\n",
    "\n",
    "Rx_with_IBD_value_greater_2k_denied_unbilled_revenue_pivot = pd.pivot_table(Rx_with_IBD_value_greater_2k_denied_unbilled, values = ['rx_revenue'], index = ['pharmacy_loc'], aggfunc = 'sum').reset_index()\n",
    "Rx_with_IBD_value_greater_2k_denied_unbilled_revenue_pivot.rename(columns = {'rx_revenue':'rx_revenue_IBD_denied_unbilled'}, inplace = True)\n",
    "\n",
    "Rx_with_IBD_value_greater_2k_denied_unbilled_pivot = pd.merge(Rx_with_IBD_value_greater_2k_denied_unbilled_count_pivot, Rx_with_IBD_value_greater_2k_denied_unbilled_revenue_pivot, on='pharmacy_loc', how='left')\n",
    "Rx_with_IBD_value_greater_2k_denied_unbilled_pivot"
   ]
  },
  {
   "cell_type": "raw",
   "metadata": {},
   "source": [
    "Rx_with_IBD_value_greater_2k_denied_unbilled_pivot.append(Rx_with_IBD_value_greater_2k_denied_unbilled_pivot.sum(axis=0),ignore_index=True).to_clipboard(index=False)"
   ]
  },
  {
   "cell_type": "raw",
   "metadata": {},
   "source": [
    "## Rx_with_IBD_value_greater_2k_possible billed & unbilled"
   ]
  },
  {
   "cell_type": "raw",
   "metadata": {},
   "source": [
    "Rx_with_IBD_value_greater_2k_possible_billed = Rx_with_IBD_value_greater_2k_possible[Rx_with_IBD_value_greater_2k_possible['trackrx_last_status_new']=='B']"
   ]
  },
  {
   "cell_type": "raw",
   "metadata": {},
   "source": [
    "Rx_with_IBD_value_greater_2k_possible_billed_count_pivot = pd.pivot_table(Rx_with_IBD_value_greater_2k_possible_billed, values = ['rx_code_key_location'], index = ['pharmacy_loc'], aggfunc = 'count').reset_index()\n",
    "Rx_with_IBD_value_greater_2k_possible_billed_count_pivot.rename(columns = {'pharmacy_loc':'pharmacy loc','rx_code_key_location':'Rx count for IBD > 2k'}, inplace = True)\n",
    "#Rx_with_IBD_value_greater_2k_possible_billed_count_pivot\n",
    "\n",
    "Rx_with_IBD_value_greater_2k_possible_billed_revenue_pivot = pd.pivot_table(Rx_with_IBD_value_greater_2k_possible_billed, values = ['rx_revenue'], index = ['pharmacy_loc'], aggfunc = 'sum').reset_index()\n",
    "Rx_with_IBD_value_greater_2k_possible_billed_revenue_pivot.rename(columns = {'pharmacy_loc':'pharmacy loc', 'rx_revenue':'Rx revenue for IBD > 2k($)'}, inplace = True)\n",
    "#Rx_with_IBD_value_greater_2k_possible_billed_revenue_pivot\n",
    "\n",
    "Rx_with_IBD_value_greater_2k_possible_billed_pivot = pd.merge(Rx_with_IBD_value_greater_2k_possible_billed_count_pivot, Rx_with_IBD_value_greater_2k_possible_billed_revenue_pivot, on='pharmacy loc', how='left')\n",
    "Rx_with_IBD_value_greater_2k_possible_billed_pivot"
   ]
  },
  {
   "cell_type": "raw",
   "metadata": {},
   "source": [
    "Rx_with_IBD_value_greater_2k_possible_billed_pivot.append(Rx_with_IBD_value_greater_2k_possible_billed_pivot.sum(axis=0),ignore_index=True).to_clipboard(index=False)"
   ]
  },
  {
   "cell_type": "raw",
   "metadata": {},
   "source": [
    "Rx_with_IBD_value_greater_2k_possible_unbilled = Rx_with_IBD_value_greater_2k_possible[Rx_with_IBD_value_greater_2k_possible['trackrx_last_status_new']=='NB']"
   ]
  },
  {
   "cell_type": "raw",
   "metadata": {},
   "source": [
    "Rx_with_IBD_value_greater_2k_possible_unbilled_count_pivot = pd.pivot_table(Rx_with_IBD_value_greater_2k_possible_unbilled, values = ['rx_code_key_location'], index = ['pharmacy_loc'], aggfunc = 'count').reset_index()\n",
    "Rx_with_IBD_value_greater_2k_possible_unbilled_count_pivot.rename(columns = {'rx_code_key_location':'rx_count_IBD_possible_unbilled'}, inplace = True)\n",
    "\n",
    "Rx_with_IBD_value_greater_2k_possible_unbilled_revenue_pivot = pd.pivot_table(Rx_with_IBD_value_greater_2k_possible_unbilled, values = ['rx_revenue'], index = ['pharmacy_loc'], aggfunc = 'sum').reset_index()\n",
    "Rx_with_IBD_value_greater_2k_possible_unbilled_revenue_pivot.rename(columns = {'rx_revenue':'rx_revenue_IBD_possible_unbilled'}, inplace = True)\n",
    "\n",
    "Rx_with_IBD_value_greater_2k_possible_unbilled_pivot = pd.merge(Rx_with_IBD_value_greater_2k_possible_unbilled_count_pivot, Rx_with_IBD_value_greater_2k_possible_unbilled_revenue_pivot, on='pharmacy_loc', how='left')\n",
    "Rx_with_IBD_value_greater_2k_possible_unbilled_pivot"
   ]
  },
  {
   "cell_type": "raw",
   "metadata": {},
   "source": [
    "#final data frames for Count & Revenue"
   ]
  },
  {
   "cell_type": "raw",
   "metadata": {},
   "source": [
    "# IBD denied count"
   ]
  },
  {
   "cell_type": "raw",
   "metadata": {},
   "source": [
    "Rx_with_IBD_value_greater_2k_possible_unbilled_pivot.append(Rx_with_IBD_value_greater_2k_possible_unbilled_pivot.sum(axis=0),ignore_index=True)"
   ]
  },
  {
   "cell_type": "raw",
   "metadata": {},
   "source": [
    "# IBD_denied_count_less_and_greater_than_2k = pd.merge(Rx_with_IBD_value_less_2k_denied_billed_count_pivot, Rx_with_IBD_value_greater_2k_denied_billed_count_pivot, on = 'pharmacy loc', how = 'outer')\n",
    "# IBD_denied_count_less_and_greater_than_2k = IBD_denied_count_less_and_greater_than_2k.append(IBD_denied_count_less_and_greater_than_2k.sum(axis = 0), ignore_index = True)\n",
    "# IBD_denied_count_less_and_greater_than_2k.iloc[[len(IBD_denied_count_less_and_greater_than_2k)-1],[0]] = 'Overall'\n",
    "# IBD_denied_count_less_and_greater_than_2k = IBD_denied_count_less_and_greater_than_2k.fillna(0)\n",
    "# IBD_denied_count_less_and_greater_than_2k = IBD_denied_count_less_and_greater_than_2k.set_index('pharmacy loc')\n",
    "# IBD_denied_count_less_and_greater_than_2k = IBD_denied_count_less_and_greater_than_2k[IBD_denied_count_less_and_greater_than_2k.columns[:]].div(6,0).astype(int)\n",
    "# IBD_denied_count_less_and_greater_than_2k\n"
   ]
  },
  {
   "cell_type": "raw",
   "metadata": {},
   "source": [
    "#IBD_denied_count_less_and_greater_than_2k = IBD_denied_count_less_and_greater_than_2k.fillna(0)\n",
    "#IBD_denied_count_less_and_greater_than_2k = IBD_denied_count_less_and_greater_than_2k.set_index('pharmacy loc')\n",
    "# IBD_denied_count_less_and_greater_than_2k['Total Count'] = IBD_denied_count_less_and_greater_than_2k[['Rx count for IBD < 2k', 'Rx count for IBD > 2k']].sum(axis=1)\n",
    "# IBD_denied_count_less_and_greater_than_2k['Rx count for IBD < 2k %'] = round(IBD_denied_count_less_and_greater_than_2k['Rx count for IBD < 2k']/IBD_denied_count_less_and_greater_than_2k['Total Count']*100,0).astype(int)\n",
    "# IBD_denied_count_less_and_greater_than_2k['Rx count for IBD > 2k %'] = round(IBD_denied_count_less_and_greater_than_2k['Rx count for IBD > 2k']/IBD_denied_count_less_and_greater_than_2k['Total Count']*100,0).astype(int)\n",
    "# IBD_denied_count_less_and_greater_than_2k"
   ]
  },
  {
   "cell_type": "raw",
   "metadata": {},
   "source": [
    "# IBD_denied_count_less_and_greater_than_2k_final = IBD_denied_count_less_and_greater_than_2k[['Total Count', 'Rx count for IBD < 2k', 'Rx count for IBD < 2k %', 'Rx count for IBD > 2k', 'Rx count for IBD > 2k %']]\n",
    "# #IBD_denied_count_less_and_greater_than_2k_final = IBD_denied_count_less_and_greater_than_2k_final.set_index('pharmacy loc')\n",
    "# IBD_denied_count_less_and_greater_than_2k_final = IBD_denied_count_less_and_greater_than_2k_final.rename(columns = {'Rx count for IBD < 2k %': ' %', 'Rx count for IBD > 2k %': '% '})\n",
    "# IBD_denied_count_less_and_greater_than_2k_final"
   ]
  },
  {
   "cell_type": "raw",
   "metadata": {},
   "source": [
    "# for i in IBD_denied_count_less_and_greater_than_2k_final.columns:\n",
    "#     IBD_denied_count_less_and_greater_than_2k_final[i] = IBD_denied_count_less_and_greater_than_2k_final[i].astype(int)"
   ]
  },
  {
   "cell_type": "raw",
   "metadata": {},
   "source": [
    "# subset_value = (IBD_denied_count_less_and_greater_than_2k_final.index.to_list()[:-1], ['Rx count for IBD < 2k', 'Rx count for IBD > 2k'])\n",
    "# df_style3 = IBD_denied_count_less_and_greater_than_2k_final.style.set_properties(**{'text-align': 'center','border-color':'white','border-width':'thin','border-style':'solid'}).background_gradient(cmap='RdYlGn',axis=1, subset = subset_value).format(\"{:,}\")\n",
    "# df_style3"
   ]
  },
  {
   "cell_type": "raw",
   "metadata": {},
   "source": [
    "# dfi.export(df_style3, ibd_images+'ibd_denied_count_less_and_greater_than_2k_final.png')"
   ]
  },
  {
   "cell_type": "raw",
   "metadata": {},
   "source": [
    "# IBD denied revenue"
   ]
  },
  {
   "cell_type": "raw",
   "metadata": {},
   "source": [
    "# IBD_denied_revenue_less_and_greater_than_2k = pd.merge(Rx_with_IBD_value_less_2k_denied_billed_revenue_pivot, Rx_with_IBD_value_greater_2k_denied_billed_revenue_pivot, on = 'pharmacy loc', how = 'outer')\n",
    "# IBD_denied_revenue_less_and_greater_than_2k = IBD_denied_revenue_less_and_greater_than_2k.append(IBD_denied_revenue_less_and_greater_than_2k.sum(axis = 0), ignore_index = True)\n",
    "# IBD_denied_revenue_less_and_greater_than_2k.iloc[[len(IBD_denied_revenue_less_and_greater_than_2k)-1],[0]] = 'Overall'\n",
    "# IBD_denied_revenue_less_and_greater_than_2k = IBD_denied_revenue_less_and_greater_than_2k.fillna(0)\n",
    "# IBD_denied_revenue_less_and_greater_than_2k = IBD_denied_revenue_less_and_greater_than_2k.set_index('pharmacy loc')\n",
    "# IBD_denied_revenue_less_and_greater_than_2k = IBD_denied_revenue_less_and_greater_than_2k.astype(int)\n",
    "# IBD_denied_revenue_less_and_greater_than_2k = IBD_denied_revenue_less_and_greater_than_2k[IBD_denied_revenue_less_and_greater_than_2k.columns[:]].div(6,0).astype(int)\n",
    "# IBD_denied_revenue_less_and_greater_than_2k"
   ]
  },
  {
   "cell_type": "raw",
   "metadata": {},
   "source": [
    "# IBD_denied_revenue_less_and_greater_than_2k['Total Revenue($)'] = IBD_denied_revenue_less_and_greater_than_2k[['Rx revenue for IBD < 2k($)', 'Rx revenue for IBD > 2k($)']].sum(axis=1)\n",
    "# IBD_denied_revenue_less_and_greater_than_2k['Rx revenue for IBD < 2k %'] = round(IBD_denied_revenue_less_and_greater_than_2k['Rx revenue for IBD < 2k($)']/IBD_denied_revenue_less_and_greater_than_2k['Total Revenue($)']*100,0).astype(int)\n",
    "# IBD_denied_revenue_less_and_greater_than_2k['Rx revenue for IBD > 2k %'] = round(IBD_denied_revenue_less_and_greater_than_2k['Rx revenue for IBD > 2k($)']/IBD_denied_revenue_less_and_greater_than_2k['Total Revenue($)']*100,0).astype(int)\n",
    "# IBD_denied_revenue_less_and_greater_than_2k"
   ]
  },
  {
   "cell_type": "raw",
   "metadata": {},
   "source": [
    "# IBD_denied_revenue_less_and_greater_than_2k_final = IBD_denied_revenue_less_and_greater_than_2k[['Total Revenue($)', 'Rx revenue for IBD < 2k($)', 'Rx revenue for IBD < 2k %', 'Rx revenue for IBD > 2k($)', 'Rx revenue for IBD > 2k %']]\n",
    "# #IBD_denied_revenue_less_and_greater_than_2k_final = IBD_denied_revenue_less_and_greater_than_2k_final.set_index('pharmacy loc')\n",
    "# IBD_denied_revenue_less_and_greater_than_2k_final = IBD_denied_revenue_less_and_greater_than_2k_final.rename(columns = {'Rx revenue for IBD < 2k %': ' %', 'Rx revenue for IBD > 2k %': '% '})\n",
    "# IBD_denied_revenue_less_and_greater_than_2k_final"
   ]
  },
  {
   "cell_type": "raw",
   "metadata": {},
   "source": [
    "# for i in IBD_denied_revenue_less_and_greater_than_2k_final.columns:\n",
    "#     IBD_denied_revenue_less_and_greater_than_2k_final[i] = IBD_denied_revenue_less_and_greater_than_2k_final[i].astype(int)"
   ]
  },
  {
   "cell_type": "raw",
   "metadata": {},
   "source": [
    "# subset_value = (IBD_denied_revenue_less_and_greater_than_2k_final.index.to_list()[:-1], ['Rx revenue for IBD < 2k($)', 'Rx revenue for IBD > 2k($)'])\n",
    "# df_style4 = IBD_denied_revenue_less_and_greater_than_2k_final.style.set_properties(**{'text-align': 'center','border-color':'white','border-width':'thin','border-style':'solid'}).background_gradient(cmap='RdYlGn',axis=1, subset = subset_value).format(\"{:,}\")\n",
    "# # dfi.export(df_style4, ibd_images+'ibd_denied_revenue_less_and_greater_than_2k_final.png')\n",
    "# df_style4"
   ]
  },
  {
   "cell_type": "raw",
   "metadata": {},
   "source": [
    "# IBD not possible count"
   ]
  },
  {
   "cell_type": "raw",
   "metadata": {},
   "source": [
    "# IBD_not_possible_count_less_and_greater_than_2k = pd.merge(Rx_with_IBD_value_less_2k_possible_billed_count_pivot, Rx_with_IBD_value_greater_2k_possible_billed_count_pivot, on = 'pharmacy loc', how = 'outer')\n",
    "# IBD_not_possible_count_less_and_greater_than_2k = IBD_not_possible_count_less_and_greater_than_2k.append(IBD_not_possible_count_less_and_greater_than_2k.sum(axis = 0), ignore_index = True)\n",
    "# IBD_not_possible_count_less_and_greater_than_2k = IBD_not_possible_count_less_and_greater_than_2k.fillna(0)\n",
    "# IBD_not_possible_count_less_and_greater_than_2k.iloc[[7],[0]] = 'Overall'\n",
    "# IBD_not_possible_count_less_and_greater_than_2k = IBD_not_possible_count_less_and_greater_than_2k.set_index('pharmacy loc')\n",
    "# IBD_not_possible_count_less_and_greater_than_2k = IBD_not_possible_count_less_and_greater_than_2k[IBD_not_possible_count_less_and_greater_than_2k.columns[:]].div(6,0).astype(int)\n",
    "# IBD_not_possible_count_less_and_greater_than_2k['Total count'] = IBD_not_possible_count_less_and_greater_than_2k[['Rx count for IBD < 2k', 'Rx count for IBD > 2k']].sum(axis=1)\n",
    "# IBD_not_possible_count_less_and_greater_than_2k"
   ]
  },
  {
   "cell_type": "raw",
   "metadata": {},
   "source": [
    "# #IBD_not_possible_count_less_and_greater_than_2k['Total count'] = IBD_not_possible_count_less_and_greater_than_2k[['Rx count for IBD < 2k', 'Rx count for IBD > 2k']].sum(axis=1)\n",
    "# IBD_not_possible_count_less_and_greater_than_2k['Rx count for IBD < 2k %'] = round(IBD_not_possible_count_less_and_greater_than_2k['Rx count for IBD < 2k']/IBD_not_possible_count_less_and_greater_than_2k['Total count']*100,0).astype(int)\n",
    "# IBD_not_possible_count_less_and_greater_than_2k['Rx count for IBD > 2k %'] = round(IBD_not_possible_count_less_and_greater_than_2k['Rx count for IBD > 2k']/IBD_not_possible_count_less_and_greater_than_2k['Total count']*100,0).astype(int)\n",
    "# IBD_not_possible_count_less_and_greater_than_2k"
   ]
  },
  {
   "cell_type": "raw",
   "metadata": {},
   "source": [
    "# IBD_not_possible_count_less_and_greater_than_2k_final = IBD_not_possible_count_less_and_greater_than_2k[['Total count', 'Rx count for IBD < 2k', 'Rx count for IBD < 2k %', 'Rx count for IBD > 2k', 'Rx count for IBD > 2k %']]\n",
    "# #IBD_not_possible_count_less_and_greater_than_2k_final = IBD_not_possible_count_less_and_greater_than_2k_final.set_index('pharmacy loc')\n",
    "# IBD_not_possible_count_less_and_greater_than_2k_final = IBD_not_possible_count_less_and_greater_than_2k_final.rename(columns = {'Rx count for IBD < 2k %': ' %', 'Rx count for IBD > 2k %': '% '})\n",
    "# IBD_not_possible_count_less_and_greater_than_2k_final"
   ]
  },
  {
   "cell_type": "raw",
   "metadata": {},
   "source": [
    "# subset_value = (IBD_not_possible_count_less_and_greater_than_2k_final.index.to_list()[:-1], ['Rx count for IBD < 2k', 'Rx count for IBD > 2k'])\n",
    "# df_style5 = IBD_not_possible_count_less_and_greater_than_2k_final.style.set_properties(**{'text-align': 'center','border-color':'white','border-width':'thin','border-style':'solid'}).background_gradient(cmap='RdYlGn',axis=1, subset = subset_value).format(\"{:,}\")\n",
    "# # dfi.export(df_style5, ibd_images+'ibd_not_possible_count_less_and_greater_than_2k_final.png')\n",
    "# df_style5"
   ]
  },
  {
   "cell_type": "raw",
   "metadata": {},
   "source": [
    "# IBD not possible revenue"
   ]
  },
  {
   "cell_type": "raw",
   "metadata": {
    "scrolled": true
   },
   "source": [
    "# IBD_not_possible_revenue_less_and_greater_than_2k = pd.merge(Rx_with_IBD_value_less_2k_possible_billed_revenue_pivot, Rx_with_IBD_value_greater_2k_possible_billed_revenue_pivot, on = 'pharmacy loc', how = 'outer')\n",
    "# IBD_not_possible_revenue_less_and_greater_than_2k = IBD_not_possible_revenue_less_and_greater_than_2k.append(IBD_not_possible_revenue_less_and_greater_than_2k.sum(axis = 0), ignore_index = True)\n",
    "# IBD_not_possible_revenue_less_and_greater_than_2k = IBD_not_possible_revenue_less_and_greater_than_2k.fillna(0)\n",
    "# IBD_not_possible_revenue_less_and_greater_than_2k.iloc[[len(IBD_not_possible_revenue_less_and_greater_than_2k)-1],[0]] = 'Overall'\n",
    "\n",
    "# IBD_not_possible_revenue_less_and_greater_than_2k = IBD_not_possible_revenue_less_and_greater_than_2k.set_index('pharmacy loc')\n",
    "# IBD_not_possible_revenue_less_and_greater_than_2k = IBD_not_possible_revenue_less_and_greater_than_2k[IBD_not_possible_revenue_less_and_greater_than_2k.columns[:]].div(6,0).astype(int)\n",
    "# IBD_not_possible_revenue_less_and_greater_than_2k"
   ]
  },
  {
   "cell_type": "raw",
   "metadata": {
    "scrolled": true
   },
   "source": [
    "# IBD_not_possible_revenue_less_and_greater_than_2k['Total Revenue ($)'] = IBD_not_possible_revenue_less_and_greater_than_2k[['Rx revenue for IBD < 2k($)', 'Rx revenue for IBD > 2k($)']].sum(axis=1)\n",
    "# IBD_not_possible_revenue_less_and_greater_than_2k['Rx revenue for IBD < 2k %'] = round(IBD_not_possible_revenue_less_and_greater_than_2k['Rx revenue for IBD < 2k($)']/IBD_not_possible_revenue_less_and_greater_than_2k['Total Revenue ($)']*100,0).astype(int)\n",
    "# IBD_not_possible_revenue_less_and_greater_than_2k['Rx revenue for IBD > 2k %'] = round(IBD_not_possible_revenue_less_and_greater_than_2k['Rx revenue for IBD > 2k($)']/IBD_not_possible_revenue_less_and_greater_than_2k['Total Revenue ($)']*100,0).astype(int)\n",
    "# IBD_not_possible_revenue_less_and_greater_than_2k"
   ]
  },
  {
   "cell_type": "raw",
   "metadata": {
    "scrolled": true
   },
   "source": [
    "# IBD_not_possible_revenue_less_and_greater_than_2k_final = IBD_not_possible_revenue_less_and_greater_than_2k[['Total Revenue ($)', 'Rx revenue for IBD < 2k($)', 'Rx revenue for IBD < 2k %', 'Rx revenue for IBD > 2k($)', 'Rx revenue for IBD > 2k %']]\n",
    "# #IBD_not_possible_revenue_less_and_greater_than_2k_final = IBD_not_possible_revenue_less_and_greater_than_2k_final.set_index('pharmacy loc')\n",
    "# IBD_not_possible_revenue_less_and_greater_than_2k_final = IBD_not_possible_revenue_less_and_greater_than_2k_final.rename(columns = {'Rx revenue for IBD < 2k %': ' %', 'Rx revenue for IBD > 2k %': '% '})\n",
    "# IBD_not_possible_revenue_less_and_greater_than_2k_final"
   ]
  },
  {
   "cell_type": "raw",
   "metadata": {},
   "source": [
    "# for i in IBD_not_possible_revenue_less_and_greater_than_2k_final.columns:\n",
    "#     IBD_not_possible_revenue_less_and_greater_than_2k_final[i] = IBD_not_possible_revenue_less_and_greater_than_2k_final[i].astype(int)"
   ]
  },
  {
   "cell_type": "raw",
   "metadata": {},
   "source": [
    "# subset_value = (IBD_not_possible_revenue_less_and_greater_than_2k_final.index.to_list()[:-1], ['Rx revenue for IBD < 2k($)', 'Rx revenue for IBD > 2k($)'])\n",
    "# df_style6 = IBD_not_possible_revenue_less_and_greater_than_2k_final.style.set_properties(**{'text-align': 'center','border-color':'white','border-width':'thin','border-style':'solid'}).background_gradient(cmap='RdYlGn',axis=1, subset = subset_value).format(\"{:,}\")\n",
    "# # dfi.export(df_style6, ibd_images+'ibd_not_possible_revenue_less_and_greater_than_2k_final.png')\n",
    "# df_style6"
   ]
  },
  {
   "cell_type": "raw",
   "metadata": {},
   "source": []
  }
 ],
 "metadata": {
  "kernelspec": {
   "display_name": "Python 3",
   "language": "python",
   "name": "python3"
  },
  "language_info": {
   "codemirror_mode": {
    "name": "ipython",
    "version": 3
   },
   "file_extension": ".py",
   "mimetype": "text/x-python",
   "name": "python",
   "nbconvert_exporter": "python",
   "pygments_lexer": "ipython3",
   "version": "3.8.8"
  }
 },
 "nbformat": 4,
 "nbformat_minor": 4
}
