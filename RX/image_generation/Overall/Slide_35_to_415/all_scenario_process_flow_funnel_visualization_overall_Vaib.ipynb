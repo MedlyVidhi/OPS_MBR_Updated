{
 "cells": [
  {
   "cell_type": "code",
   "execution_count": 1,
   "metadata": {},
   "outputs": [],
   "source": [
    "# !pip uninstall kaleido"
   ]
  },
  {
   "cell_type": "code",
   "execution_count": 2,
   "metadata": {},
   "outputs": [],
   "source": [
    "# pip uninstall plotly"
   ]
  },
  {
   "cell_type": "code",
   "execution_count": 3,
   "metadata": {},
   "outputs": [],
   "source": [
    "import numpy as np\n",
    "import pandas as pd\n",
    "\n",
    "import plotly.express as px\n",
    "import plotly.graph_objects as go\n",
    "from plotly.subplots import make_subplots\n",
    "\n",
    "# plt.rcParams['font.family'] = 'Nunito'\n",
    "# plt.rcParams['font.size'] = 10"
   ]
  },
  {
   "cell_type": "code",
   "execution_count": 4,
   "metadata": {},
   "outputs": [],
   "source": [
    "blue_color = '#80ADF7'\n",
    "green_color = '#9EEDE0'"
   ]
  },
  {
   "cell_type": "code",
   "execution_count": 5,
   "metadata": {},
   "outputs": [],
   "source": [
    "%run path_changer_overall.py"
   ]
  },
  {
   "cell_type": "code",
   "execution_count": 6,
   "metadata": {},
   "outputs": [],
   "source": [
    "df1 = pd.read_excel(output_file_path+'Scenario-1_city-wise_mean_median.xlsx',sheet_name='City median')\n",
    "\n",
    "df2 = pd.read_excel(output_file_path+'Scenario-2_city-wise_mean_median.xlsx',sheet_name='City median')\n",
    "\n",
    "df3 = pd.read_excel(output_file_path+'Scenario-3_city-wise_mean_median.xlsx',sheet_name='City median')\n",
    "\n",
    "df4 = pd.read_excel(output_file_path+'Scenario-4_city-wise_mean_median.xlsx',sheet_name='City median')\n"
   ]
  },
  {
   "cell_type": "code",
   "execution_count": 7,
   "metadata": {},
   "outputs": [],
   "source": [
    "list_scen_1_seqs = ['pharmacy_loc','median_time_received_to_entered_time',\n",
    "'median_time_entered_to_first_billed',\n",
    "'median_time_first_billed_to_last_billed',\n",
    "'median_time_last_billed_to_label_printed',\n",
    "'median_time_label_printed_to_drug_picked',\n",
    "'median_time_drug_picked_to_rph_verified',\n",
    "'median_time_rph_verified_to_pharmacy_pickedup',\n",
    "'median_time_rph_verified_to_delivered',\n",
    "'median_time_final_received_to_delivered'\n",
    "]"
   ]
  },
  {
   "cell_type": "code",
   "execution_count": 8,
   "metadata": {},
   "outputs": [],
   "source": [
    "list_scen_2_seqs = ['pharmacy_loc','median_time_received_to_entered_time',\n",
    "'median_time_time_to_identify_pa_is_required',\n",
    "'median_time_time_taken_by_rx_to_be_picked_up_by_IBD_team',\n",
    "'median_time_time_taken_by_IBD_team_to_process_rx',\n",
    "'median_time_ibd_processing_end_to_first_billed',\n",
    "'median_time_first_billed_to_last_billed',\n",
    "'median_time_last_billed_to_label_printed',\n",
    "'median_time_label_printed_to_drug_picked',\n",
    "'median_time_drug_picked_to_rph_verified',\n",
    "'median_time_rph_verified_to_pharmacy_pickedup',\n",
    "'median_time_rph_verified_to_delivered',\n",
    "'median_time_final_received_to_delivered'\n",
    "]"
   ]
  },
  {
   "cell_type": "code",
   "execution_count": 9,
   "metadata": {},
   "outputs": [],
   "source": [
    "list_scen_3_seqs = ['pharmacy_loc','median_time_received_to_entered_time',\n",
    "'median_time_rx_entered_to_callins_processing_start',\n",
    "'median_time_time_taken_for_call_for_insurance_process',\n",
    "'median_time_time_taken_by_rx_to_be_picked_up_by_IBD_team',\n",
    "'median_time_time_taken_by_IBD_team_to_process_rx',\n",
    "'median_time_ibd_processing_end_to_first_billed',\n",
    "'median_time_first_billed_to_last_billed',\n",
    "'median_time_last_billed_to_label_printed',\n",
    "'median_time_label_printed_to_drug_picked',\n",
    "'median_time_drug_picked_to_rph_verified',\n",
    "'median_time_rph_verified_to_pharmacy_pickedup',\n",
    "'median_time_rph_verified_to_delivered',\n",
    "'median_time_final_received_to_delivered'\n",
    "]"
   ]
  },
  {
   "cell_type": "code",
   "execution_count": 10,
   "metadata": {},
   "outputs": [],
   "source": [
    "list_scen_4_seqs = ['pharmacy_loc','median_time_received_to_entered_time',\n",
    "'median_time_rx_entered_to_callins_processing_start',\n",
    "'median_time_time_taken_for_call_for_insurance_process',\n",
    "'median_time_first_billed_to_last_billed',\n",
    "'median_time_last_billed_to_label_printed',\n",
    "'median_time_label_printed_to_drug_picked',\n",
    "'median_time_drug_picked_to_rph_verified',\n",
    "'median_time_rph_verified_to_pharmacy_pickedup',\n",
    "'median_time_rph_verified_to_delivered',\n",
    "'median_time_final_received_to_delivered',\n",
    "]"
   ]
  },
  {
   "cell_type": "code",
   "execution_count": 11,
   "metadata": {},
   "outputs": [],
   "source": [
    "scenario_1_df = df1[list_scen_1_seqs]     \n",
    "# scenario_1_df\n",
    "scenario_2_df = df2[list_scen_2_seqs]     \n",
    "# scenario_2_df\n",
    "scenario_3_df = df3[list_scen_3_seqs]     \n",
    "# scenario_3_df\n",
    "scenario_4_df = df4[list_scen_4_seqs]     \n",
    "# scenario_4_df"
   ]
  },
  {
   "cell_type": "code",
   "execution_count": 12,
   "metadata": {},
   "outputs": [],
   "source": [
    "# scenario_df_list = [scenario_1_df, scenario_2_df, scenario_3_df, scenario_4_df]\n",
    "# funnel_title = ['Scenario-1 Process Time Delta', 'Scenario-2 Process Time Delta', 'Scenario-3 Process Time Delta', 'Scenario-4 Process Time Delta']\n",
    "# funnel_path = [scenario_1_funnel_path, scenario_2_funnel_path, scenario_3_funnel_path, scenario_4_funnel_path]"
   ]
  },
  {
   "cell_type": "markdown",
   "metadata": {},
   "source": [
    "# scenario 1"
   ]
  },
  {
   "cell_type": "code",
   "execution_count": 13,
   "metadata": {},
   "outputs": [],
   "source": [
    "scenario_1_df_time = scenario_1_df.set_index('pharmacy_loc')  #Nan --->Total\n",
    "scenario_1_df_time\n",
    "\n",
    "#####\n",
    "scenario_1_df_time.rename(index={np.nan:'Total'},inplace=True)\n",
    "scenario_1_df_time\n",
    "\n",
    "#####\n",
    "my_string  = scenario_1_df_time.columns.str[12:]\n",
    "new_column_names = []\n",
    "for i in my_string:\n",
    "    nn = i.replace(\"_\", \" \")\n",
    "    new_column_names.append(nn)\n",
    "\n",
    "scenario_1_df_time.columns = new_column_names\n",
    "\n",
    "#####\n",
    "for i in scenario_1_df_time.columns:\n",
    "    #scenario_1_df_time[i] = scenario_1_df_time[i].astype(str).str[0:15]\n",
    "\n",
    "    scenario_1_df_time[i] = pd.to_timedelta(scenario_1_df_time[i]).dt.round('s')"
   ]
  },
  {
   "cell_type": "code",
   "execution_count": 14,
   "metadata": {},
   "outputs": [
    {
     "data": {
      "text/html": [
       "<div>\n",
       "<style scoped>\n",
       "    .dataframe tbody tr th:only-of-type {\n",
       "        vertical-align: middle;\n",
       "    }\n",
       "\n",
       "    .dataframe tbody tr th {\n",
       "        vertical-align: top;\n",
       "    }\n",
       "\n",
       "    .dataframe thead th {\n",
       "        text-align: right;\n",
       "    }\n",
       "</style>\n",
       "<table border=\"1\" class=\"dataframe\">\n",
       "  <thead>\n",
       "    <tr style=\"text-align: right;\">\n",
       "      <th></th>\n",
       "      <th>received to entered time</th>\n",
       "      <th>entered to first billed</th>\n",
       "      <th>first billed to last billed</th>\n",
       "      <th>last billed to label printed</th>\n",
       "      <th>label printed to drug picked</th>\n",
       "      <th>drug picked to rph verified</th>\n",
       "      <th>rph verified to pharmacy pickedup</th>\n",
       "      <th>rph verified to delivered</th>\n",
       "      <th>final received to delivered</th>\n",
       "    </tr>\n",
       "    <tr>\n",
       "      <th>pharmacy_loc</th>\n",
       "      <th></th>\n",
       "      <th></th>\n",
       "      <th></th>\n",
       "      <th></th>\n",
       "      <th></th>\n",
       "      <th></th>\n",
       "      <th></th>\n",
       "      <th></th>\n",
       "      <th></th>\n",
       "    </tr>\n",
       "  </thead>\n",
       "  <tbody>\n",
       "    <tr>\n",
       "      <th>FL-MI</th>\n",
       "      <td>0 days 03:01:00</td>\n",
       "      <td>0 days 00:05:45</td>\n",
       "      <td>0 days 00:00:00</td>\n",
       "      <td>0 days 00:42:28</td>\n",
       "      <td>0 days 01:29:12</td>\n",
       "      <td>0 days 00:58:50</td>\n",
       "      <td>0 days 02:12:12</td>\n",
       "      <td>1 days 01:47:58</td>\n",
       "      <td>4 days 04:35:36</td>\n",
       "    </tr>\n",
       "    <tr>\n",
       "      <th>MD-BA</th>\n",
       "      <td>0 days 01:07:00</td>\n",
       "      <td>0 days 00:08:35</td>\n",
       "      <td>0 days 00:00:13</td>\n",
       "      <td>0 days 00:17:19</td>\n",
       "      <td>0 days 00:20:25</td>\n",
       "      <td>0 days 00:52:40</td>\n",
       "      <td>0 days 02:39:33</td>\n",
       "      <td>2 days 00:32:43</td>\n",
       "      <td>6 days 22:44:12</td>\n",
       "    </tr>\n",
       "    <tr>\n",
       "      <th>NC-RA</th>\n",
       "      <td>0 days 01:59:56</td>\n",
       "      <td>0 days 00:54:50</td>\n",
       "      <td>0 days 00:00:00</td>\n",
       "      <td>0 days 00:00:08</td>\n",
       "      <td>0 days 00:25:06</td>\n",
       "      <td>0 days 00:02:12</td>\n",
       "      <td>0 days 22:56:14</td>\n",
       "      <td>2 days 00:31:33</td>\n",
       "      <td>4 days 22:04:03</td>\n",
       "    </tr>\n",
       "    <tr>\n",
       "      <th>NJ-SO</th>\n",
       "      <td>0 days 01:30:00</td>\n",
       "      <td>0 days 04:30:02</td>\n",
       "      <td>0 days 00:00:06</td>\n",
       "      <td>0 days 00:46:49</td>\n",
       "      <td>0 days 00:41:49</td>\n",
       "      <td>0 days 00:40:02</td>\n",
       "      <td>0 days 05:32:14</td>\n",
       "      <td>2 days 21:13:16</td>\n",
       "      <td>7 days 23:53:29</td>\n",
       "    </tr>\n",
       "    <tr>\n",
       "      <th>NY-BK</th>\n",
       "      <td>0 days 00:22:31</td>\n",
       "      <td>0 days 03:54:53</td>\n",
       "      <td>0 days 00:00:05</td>\n",
       "      <td>0 days 01:41:04</td>\n",
       "      <td>0 days 01:15:38</td>\n",
       "      <td>0 days 00:55:51</td>\n",
       "      <td>0 days 05:06:25</td>\n",
       "      <td>1 days 21:27:22</td>\n",
       "      <td>7 days 12:54:18</td>\n",
       "    </tr>\n",
       "    <tr>\n",
       "      <th>NY-MA</th>\n",
       "      <td>0 days 00:50:00</td>\n",
       "      <td>0 days 00:02:41</td>\n",
       "      <td>0 days 00:00:00</td>\n",
       "      <td>0 days 00:00:13</td>\n",
       "      <td>0 days 01:07:17</td>\n",
       "      <td>0 days 01:12:58</td>\n",
       "      <td>0 days 22:35:34</td>\n",
       "      <td>1 days 20:58:12</td>\n",
       "      <td>5 days 22:07:43</td>\n",
       "    </tr>\n",
       "    <tr>\n",
       "      <th>PA-PH</th>\n",
       "      <td>0 days 01:01:00</td>\n",
       "      <td>0 days 00:30:30</td>\n",
       "      <td>0 days 00:00:00</td>\n",
       "      <td>0 days 01:49:42</td>\n",
       "      <td>0 days 00:47:50</td>\n",
       "      <td>0 days 01:08:49</td>\n",
       "      <td>0 days 23:16:58</td>\n",
       "      <td>3 days 03:36:47</td>\n",
       "      <td>7 days 03:15:07</td>\n",
       "    </tr>\n",
       "    <tr>\n",
       "      <th>Total</th>\n",
       "      <td>0 days 01:07:00</td>\n",
       "      <td>0 days 00:30:30</td>\n",
       "      <td>0 days 00:00:00</td>\n",
       "      <td>0 days 00:42:28</td>\n",
       "      <td>0 days 00:47:50</td>\n",
       "      <td>0 days 00:55:51</td>\n",
       "      <td>0 days 05:32:14</td>\n",
       "      <td>2 days 00:31:33</td>\n",
       "      <td>6 days 22:44:12</td>\n",
       "    </tr>\n",
       "  </tbody>\n",
       "</table>\n",
       "</div>"
      ],
      "text/plain": [
       "             received to entered time entered to first billed  \\\n",
       "pharmacy_loc                                                    \n",
       "FL-MI                 0 days 03:01:00         0 days 00:05:45   \n",
       "MD-BA                 0 days 01:07:00         0 days 00:08:35   \n",
       "NC-RA                 0 days 01:59:56         0 days 00:54:50   \n",
       "NJ-SO                 0 days 01:30:00         0 days 04:30:02   \n",
       "NY-BK                 0 days 00:22:31         0 days 03:54:53   \n",
       "NY-MA                 0 days 00:50:00         0 days 00:02:41   \n",
       "PA-PH                 0 days 01:01:00         0 days 00:30:30   \n",
       "Total                 0 days 01:07:00         0 days 00:30:30   \n",
       "\n",
       "             first billed to last billed last billed to label printed  \\\n",
       "pharmacy_loc                                                            \n",
       "FL-MI                    0 days 00:00:00              0 days 00:42:28   \n",
       "MD-BA                    0 days 00:00:13              0 days 00:17:19   \n",
       "NC-RA                    0 days 00:00:00              0 days 00:00:08   \n",
       "NJ-SO                    0 days 00:00:06              0 days 00:46:49   \n",
       "NY-BK                    0 days 00:00:05              0 days 01:41:04   \n",
       "NY-MA                    0 days 00:00:00              0 days 00:00:13   \n",
       "PA-PH                    0 days 00:00:00              0 days 01:49:42   \n",
       "Total                    0 days 00:00:00              0 days 00:42:28   \n",
       "\n",
       "             label printed to drug picked drug picked to rph verified  \\\n",
       "pharmacy_loc                                                            \n",
       "FL-MI                     0 days 01:29:12             0 days 00:58:50   \n",
       "MD-BA                     0 days 00:20:25             0 days 00:52:40   \n",
       "NC-RA                     0 days 00:25:06             0 days 00:02:12   \n",
       "NJ-SO                     0 days 00:41:49             0 days 00:40:02   \n",
       "NY-BK                     0 days 01:15:38             0 days 00:55:51   \n",
       "NY-MA                     0 days 01:07:17             0 days 01:12:58   \n",
       "PA-PH                     0 days 00:47:50             0 days 01:08:49   \n",
       "Total                     0 days 00:47:50             0 days 00:55:51   \n",
       "\n",
       "             rph verified to pharmacy pickedup rph verified to delivered  \\\n",
       "pharmacy_loc                                                               \n",
       "FL-MI                          0 days 02:12:12           1 days 01:47:58   \n",
       "MD-BA                          0 days 02:39:33           2 days 00:32:43   \n",
       "NC-RA                          0 days 22:56:14           2 days 00:31:33   \n",
       "NJ-SO                          0 days 05:32:14           2 days 21:13:16   \n",
       "NY-BK                          0 days 05:06:25           1 days 21:27:22   \n",
       "NY-MA                          0 days 22:35:34           1 days 20:58:12   \n",
       "PA-PH                          0 days 23:16:58           3 days 03:36:47   \n",
       "Total                          0 days 05:32:14           2 days 00:31:33   \n",
       "\n",
       "             final received to delivered  \n",
       "pharmacy_loc                              \n",
       "FL-MI                    4 days 04:35:36  \n",
       "MD-BA                    6 days 22:44:12  \n",
       "NC-RA                    4 days 22:04:03  \n",
       "NJ-SO                    7 days 23:53:29  \n",
       "NY-BK                    7 days 12:54:18  \n",
       "NY-MA                    5 days 22:07:43  \n",
       "PA-PH                    7 days 03:15:07  \n",
       "Total                    6 days 22:44:12  "
      ]
     },
     "execution_count": 14,
     "metadata": {},
     "output_type": "execute_result"
    }
   ],
   "source": [
    "scenario_1_df_time"
   ]
  },
  {
   "cell_type": "code",
   "execution_count": 15,
   "metadata": {},
   "outputs": [
    {
     "data": {
      "application/vnd.plotly.v1+json": {
       "config": {
        "plotlyServerURL": "https://plot.ly"
       },
       "data": [
        {
         "marker": {
          "color": [
           "#80ADF7",
           "#80ADF7",
           "#80ADF7",
           "#80ADF7",
           "#80ADF7",
           "#80ADF7",
           "#80ADF7",
           "#80ADF7"
          ]
         },
         "textposition": "none",
         "type": "funnel",
         "x": [
          4020000000000,
          1830000000000,
          0,
          2548000000000,
          2870000000000,
          3351000000000,
          19934000000000,
          174693000000000
         ],
         "y": [
          "received to entered time",
          "entered to first billed",
          "first billed to last billed",
          "last billed to label printed",
          "label printed to drug picked",
          "drug picked to rph verified",
          "rph verified to pharmacy pickedup",
          "rph verified to delivered"
         ]
        }
       ],
       "layout": {
        "annotations": [
         {
          "align": "right",
          "showarrow": false,
          "text": "0 days 01:07-->2%",
          "xanchor": "left",
          "y": "received to entered time"
         },
         {
          "align": "right",
          "showarrow": false,
          "text": "0 days 00:30-->1%",
          "xanchor": "left",
          "y": "entered to first billed"
         },
         {
          "align": "right",
          "showarrow": false,
          "text": "0 days 00:00-->0%",
          "xanchor": "left",
          "y": "first billed to last billed"
         },
         {
          "align": "right",
          "showarrow": false,
          "text": "0 days 00:42-->1%",
          "xanchor": "left",
          "y": "last billed to label printed"
         },
         {
          "align": "right",
          "showarrow": false,
          "text": "0 days 00:47-->1%",
          "xanchor": "left",
          "y": "label printed to drug picked"
         },
         {
          "align": "right",
          "showarrow": false,
          "text": "0 days 00:55-->2%",
          "xanchor": "left",
          "y": "drug picked to rph verified"
         },
         {
          "align": "right",
          "showarrow": false,
          "text": "0 days 05:32-->10%",
          "xanchor": "left",
          "y": "rph verified to pharmacy pickedup"
         },
         {
          "align": "right",
          "showarrow": false,
          "text": "2 days 00:31-->83%",
          "xanchor": "left",
          "y": "rph verified to delivered"
         }
        ],
        "font": {
         "color": "black"
        },
        "margin": {
         "b": 0,
         "l": 0,
         "r": 0,
         "t": 24
        },
        "paper_bgcolor": "rgb(255,255,255)",
        "plot_bgcolor": "rgba(0,0,0,0)",
        "template": {
         "data": {
          "bar": [
           {
            "error_x": {
             "color": "#2a3f5f"
            },
            "error_y": {
             "color": "#2a3f5f"
            },
            "marker": {
             "line": {
              "color": "#E5ECF6",
              "width": 0.5
             },
             "pattern": {
              "fillmode": "overlay",
              "size": 10,
              "solidity": 0.2
             }
            },
            "type": "bar"
           }
          ],
          "barpolar": [
           {
            "marker": {
             "line": {
              "color": "#E5ECF6",
              "width": 0.5
             },
             "pattern": {
              "fillmode": "overlay",
              "size": 10,
              "solidity": 0.2
             }
            },
            "type": "barpolar"
           }
          ],
          "carpet": [
           {
            "aaxis": {
             "endlinecolor": "#2a3f5f",
             "gridcolor": "white",
             "linecolor": "white",
             "minorgridcolor": "white",
             "startlinecolor": "#2a3f5f"
            },
            "baxis": {
             "endlinecolor": "#2a3f5f",
             "gridcolor": "white",
             "linecolor": "white",
             "minorgridcolor": "white",
             "startlinecolor": "#2a3f5f"
            },
            "type": "carpet"
           }
          ],
          "choropleth": [
           {
            "colorbar": {
             "outlinewidth": 0,
             "ticks": ""
            },
            "type": "choropleth"
           }
          ],
          "contour": [
           {
            "colorbar": {
             "outlinewidth": 0,
             "ticks": ""
            },
            "colorscale": [
             [
              0,
              "#0d0887"
             ],
             [
              0.1111111111111111,
              "#46039f"
             ],
             [
              0.2222222222222222,
              "#7201a8"
             ],
             [
              0.3333333333333333,
              "#9c179e"
             ],
             [
              0.4444444444444444,
              "#bd3786"
             ],
             [
              0.5555555555555556,
              "#d8576b"
             ],
             [
              0.6666666666666666,
              "#ed7953"
             ],
             [
              0.7777777777777778,
              "#fb9f3a"
             ],
             [
              0.8888888888888888,
              "#fdca26"
             ],
             [
              1,
              "#f0f921"
             ]
            ],
            "type": "contour"
           }
          ],
          "contourcarpet": [
           {
            "colorbar": {
             "outlinewidth": 0,
             "ticks": ""
            },
            "type": "contourcarpet"
           }
          ],
          "heatmap": [
           {
            "colorbar": {
             "outlinewidth": 0,
             "ticks": ""
            },
            "colorscale": [
             [
              0,
              "#0d0887"
             ],
             [
              0.1111111111111111,
              "#46039f"
             ],
             [
              0.2222222222222222,
              "#7201a8"
             ],
             [
              0.3333333333333333,
              "#9c179e"
             ],
             [
              0.4444444444444444,
              "#bd3786"
             ],
             [
              0.5555555555555556,
              "#d8576b"
             ],
             [
              0.6666666666666666,
              "#ed7953"
             ],
             [
              0.7777777777777778,
              "#fb9f3a"
             ],
             [
              0.8888888888888888,
              "#fdca26"
             ],
             [
              1,
              "#f0f921"
             ]
            ],
            "type": "heatmap"
           }
          ],
          "heatmapgl": [
           {
            "colorbar": {
             "outlinewidth": 0,
             "ticks": ""
            },
            "colorscale": [
             [
              0,
              "#0d0887"
             ],
             [
              0.1111111111111111,
              "#46039f"
             ],
             [
              0.2222222222222222,
              "#7201a8"
             ],
             [
              0.3333333333333333,
              "#9c179e"
             ],
             [
              0.4444444444444444,
              "#bd3786"
             ],
             [
              0.5555555555555556,
              "#d8576b"
             ],
             [
              0.6666666666666666,
              "#ed7953"
             ],
             [
              0.7777777777777778,
              "#fb9f3a"
             ],
             [
              0.8888888888888888,
              "#fdca26"
             ],
             [
              1,
              "#f0f921"
             ]
            ],
            "type": "heatmapgl"
           }
          ],
          "histogram": [
           {
            "marker": {
             "pattern": {
              "fillmode": "overlay",
              "size": 10,
              "solidity": 0.2
             }
            },
            "type": "histogram"
           }
          ],
          "histogram2d": [
           {
            "colorbar": {
             "outlinewidth": 0,
             "ticks": ""
            },
            "colorscale": [
             [
              0,
              "#0d0887"
             ],
             [
              0.1111111111111111,
              "#46039f"
             ],
             [
              0.2222222222222222,
              "#7201a8"
             ],
             [
              0.3333333333333333,
              "#9c179e"
             ],
             [
              0.4444444444444444,
              "#bd3786"
             ],
             [
              0.5555555555555556,
              "#d8576b"
             ],
             [
              0.6666666666666666,
              "#ed7953"
             ],
             [
              0.7777777777777778,
              "#fb9f3a"
             ],
             [
              0.8888888888888888,
              "#fdca26"
             ],
             [
              1,
              "#f0f921"
             ]
            ],
            "type": "histogram2d"
           }
          ],
          "histogram2dcontour": [
           {
            "colorbar": {
             "outlinewidth": 0,
             "ticks": ""
            },
            "colorscale": [
             [
              0,
              "#0d0887"
             ],
             [
              0.1111111111111111,
              "#46039f"
             ],
             [
              0.2222222222222222,
              "#7201a8"
             ],
             [
              0.3333333333333333,
              "#9c179e"
             ],
             [
              0.4444444444444444,
              "#bd3786"
             ],
             [
              0.5555555555555556,
              "#d8576b"
             ],
             [
              0.6666666666666666,
              "#ed7953"
             ],
             [
              0.7777777777777778,
              "#fb9f3a"
             ],
             [
              0.8888888888888888,
              "#fdca26"
             ],
             [
              1,
              "#f0f921"
             ]
            ],
            "type": "histogram2dcontour"
           }
          ],
          "mesh3d": [
           {
            "colorbar": {
             "outlinewidth": 0,
             "ticks": ""
            },
            "type": "mesh3d"
           }
          ],
          "parcoords": [
           {
            "line": {
             "colorbar": {
              "outlinewidth": 0,
              "ticks": ""
             }
            },
            "type": "parcoords"
           }
          ],
          "pie": [
           {
            "automargin": true,
            "type": "pie"
           }
          ],
          "scatter": [
           {
            "marker": {
             "colorbar": {
              "outlinewidth": 0,
              "ticks": ""
             }
            },
            "type": "scatter"
           }
          ],
          "scatter3d": [
           {
            "line": {
             "colorbar": {
              "outlinewidth": 0,
              "ticks": ""
             }
            },
            "marker": {
             "colorbar": {
              "outlinewidth": 0,
              "ticks": ""
             }
            },
            "type": "scatter3d"
           }
          ],
          "scattercarpet": [
           {
            "marker": {
             "colorbar": {
              "outlinewidth": 0,
              "ticks": ""
             }
            },
            "type": "scattercarpet"
           }
          ],
          "scattergeo": [
           {
            "marker": {
             "colorbar": {
              "outlinewidth": 0,
              "ticks": ""
             }
            },
            "type": "scattergeo"
           }
          ],
          "scattergl": [
           {
            "marker": {
             "colorbar": {
              "outlinewidth": 0,
              "ticks": ""
             }
            },
            "type": "scattergl"
           }
          ],
          "scattermapbox": [
           {
            "marker": {
             "colorbar": {
              "outlinewidth": 0,
              "ticks": ""
             }
            },
            "type": "scattermapbox"
           }
          ],
          "scatterpolar": [
           {
            "marker": {
             "colorbar": {
              "outlinewidth": 0,
              "ticks": ""
             }
            },
            "type": "scatterpolar"
           }
          ],
          "scatterpolargl": [
           {
            "marker": {
             "colorbar": {
              "outlinewidth": 0,
              "ticks": ""
             }
            },
            "type": "scatterpolargl"
           }
          ],
          "scatterternary": [
           {
            "marker": {
             "colorbar": {
              "outlinewidth": 0,
              "ticks": ""
             }
            },
            "type": "scatterternary"
           }
          ],
          "surface": [
           {
            "colorbar": {
             "outlinewidth": 0,
             "ticks": ""
            },
            "colorscale": [
             [
              0,
              "#0d0887"
             ],
             [
              0.1111111111111111,
              "#46039f"
             ],
             [
              0.2222222222222222,
              "#7201a8"
             ],
             [
              0.3333333333333333,
              "#9c179e"
             ],
             [
              0.4444444444444444,
              "#bd3786"
             ],
             [
              0.5555555555555556,
              "#d8576b"
             ],
             [
              0.6666666666666666,
              "#ed7953"
             ],
             [
              0.7777777777777778,
              "#fb9f3a"
             ],
             [
              0.8888888888888888,
              "#fdca26"
             ],
             [
              1,
              "#f0f921"
             ]
            ],
            "type": "surface"
           }
          ],
          "table": [
           {
            "cells": {
             "fill": {
              "color": "#EBF0F8"
             },
             "line": {
              "color": "white"
             }
            },
            "header": {
             "fill": {
              "color": "#C8D4E3"
             },
             "line": {
              "color": "white"
             }
            },
            "type": "table"
           }
          ]
         },
         "layout": {
          "annotationdefaults": {
           "arrowcolor": "#2a3f5f",
           "arrowhead": 0,
           "arrowwidth": 1
          },
          "autotypenumbers": "strict",
          "coloraxis": {
           "colorbar": {
            "outlinewidth": 0,
            "ticks": ""
           }
          },
          "colorscale": {
           "diverging": [
            [
             0,
             "#8e0152"
            ],
            [
             0.1,
             "#c51b7d"
            ],
            [
             0.2,
             "#de77ae"
            ],
            [
             0.3,
             "#f1b6da"
            ],
            [
             0.4,
             "#fde0ef"
            ],
            [
             0.5,
             "#f7f7f7"
            ],
            [
             0.6,
             "#e6f5d0"
            ],
            [
             0.7,
             "#b8e186"
            ],
            [
             0.8,
             "#7fbc41"
            ],
            [
             0.9,
             "#4d9221"
            ],
            [
             1,
             "#276419"
            ]
           ],
           "sequential": [
            [
             0,
             "#0d0887"
            ],
            [
             0.1111111111111111,
             "#46039f"
            ],
            [
             0.2222222222222222,
             "#7201a8"
            ],
            [
             0.3333333333333333,
             "#9c179e"
            ],
            [
             0.4444444444444444,
             "#bd3786"
            ],
            [
             0.5555555555555556,
             "#d8576b"
            ],
            [
             0.6666666666666666,
             "#ed7953"
            ],
            [
             0.7777777777777778,
             "#fb9f3a"
            ],
            [
             0.8888888888888888,
             "#fdca26"
            ],
            [
             1,
             "#f0f921"
            ]
           ],
           "sequentialminus": [
            [
             0,
             "#0d0887"
            ],
            [
             0.1111111111111111,
             "#46039f"
            ],
            [
             0.2222222222222222,
             "#7201a8"
            ],
            [
             0.3333333333333333,
             "#9c179e"
            ],
            [
             0.4444444444444444,
             "#bd3786"
            ],
            [
             0.5555555555555556,
             "#d8576b"
            ],
            [
             0.6666666666666666,
             "#ed7953"
            ],
            [
             0.7777777777777778,
             "#fb9f3a"
            ],
            [
             0.8888888888888888,
             "#fdca26"
            ],
            [
             1,
             "#f0f921"
            ]
           ]
          },
          "colorway": [
           "#636efa",
           "#EF553B",
           "#00cc96",
           "#ab63fa",
           "#FFA15A",
           "#19d3f3",
           "#FF6692",
           "#B6E880",
           "#FF97FF",
           "#FECB52"
          ],
          "font": {
           "color": "#2a3f5f"
          },
          "geo": {
           "bgcolor": "white",
           "lakecolor": "white",
           "landcolor": "#E5ECF6",
           "showlakes": true,
           "showland": true,
           "subunitcolor": "white"
          },
          "hoverlabel": {
           "align": "left"
          },
          "hovermode": "closest",
          "mapbox": {
           "style": "light"
          },
          "paper_bgcolor": "white",
          "plot_bgcolor": "#E5ECF6",
          "polar": {
           "angularaxis": {
            "gridcolor": "white",
            "linecolor": "white",
            "ticks": ""
           },
           "bgcolor": "#E5ECF6",
           "radialaxis": {
            "gridcolor": "white",
            "linecolor": "white",
            "ticks": ""
           }
          },
          "scene": {
           "xaxis": {
            "backgroundcolor": "#E5ECF6",
            "gridcolor": "white",
            "gridwidth": 2,
            "linecolor": "white",
            "showbackground": true,
            "ticks": "",
            "zerolinecolor": "white"
           },
           "yaxis": {
            "backgroundcolor": "#E5ECF6",
            "gridcolor": "white",
            "gridwidth": 2,
            "linecolor": "white",
            "showbackground": true,
            "ticks": "",
            "zerolinecolor": "white"
           },
           "zaxis": {
            "backgroundcolor": "#E5ECF6",
            "gridcolor": "white",
            "gridwidth": 2,
            "linecolor": "white",
            "showbackground": true,
            "ticks": "",
            "zerolinecolor": "white"
           }
          },
          "shapedefaults": {
           "line": {
            "color": "#2a3f5f"
           }
          },
          "ternary": {
           "aaxis": {
            "gridcolor": "white",
            "linecolor": "white",
            "ticks": ""
           },
           "baxis": {
            "gridcolor": "white",
            "linecolor": "white",
            "ticks": ""
           },
           "bgcolor": "#E5ECF6",
           "caxis": {
            "gridcolor": "white",
            "linecolor": "white",
            "ticks": ""
           }
          },
          "title": {
           "x": 0.05
          },
          "xaxis": {
           "automargin": true,
           "gridcolor": "white",
           "linecolor": "white",
           "ticks": "",
           "title": {
            "standoff": 15
           },
           "zerolinecolor": "white",
           "zerolinewidth": 2
          },
          "yaxis": {
           "automargin": true,
           "gridcolor": "white",
           "linecolor": "white",
           "ticks": "",
           "title": {
            "standoff": 15
           },
           "zerolinecolor": "white",
           "zerolinewidth": 2
          }
         }
        },
        "title": {
         "text": "Total Process Flow",
         "x": 0.6,
         "xanchor": "center"
        },
        "xaxis": {
         "anchor": "y",
         "domain": [
          0,
          1
         ],
         "title": {
          "font": {
           "color": "Black",
           "family": "Arial",
           "size": 18
          },
          "text": "x Axis"
         }
        },
        "yaxis": {
         "anchor": "x",
         "domain": [
          0,
          1
         ],
         "title": {
          "font": {
           "color": "black",
           "family": "Arial",
           "size": 18
          },
          "text": "Scenario-1 Process Time Delta"
         }
        }
       }
      }
     },
     "metadata": {},
     "output_type": "display_data"
    }
   ],
   "source": [
    "row_wise_percent_df = scenario_1_df_time[scenario_1_df_time.columns[:-1]]\n",
    "\n",
    "row_wise_percent_df = row_wise_percent_df.div(row_wise_percent_df.sum(axis=1), axis=0).round(2)\n",
    "# print(row_wise_percent_df)\n",
    "\n",
    "try:\n",
    "    row_wise_percent_df = row_wise_percent_df.multiply(100).astype(int)\n",
    "except:\n",
    "    pass\n",
    "# row_wise_percent_df = row_wise_percent_df.multiply(100).astype(int)\n",
    "\n",
    "scenario_1_df_time_object = scenario_1_df_time.copy()\n",
    "\n",
    "for i in scenario_1_df_time_object.columns:\n",
    "    scenario_1_df_time_object[i] = scenario_1_df_time_object[i].astype(str)\n",
    "    \n",
    "for idx, val in enumerate(row_wise_percent_df.index):\n",
    "    values_to_be_used = scenario_1_df_time.values.tolist()[idx]\n",
    "    variable_names = scenario_1_df_time.columns\n",
    "    #variable_names = [x[12:] for x in variable_names]\n",
    "#     print(1)\n",
    "    annotation_names = scenario_1_df_time_object.values.tolist()[idx]\n",
    "    annotation_names = [x[:-3] for x in annotation_names]\n",
    "\n",
    "#     print(2)\n",
    "\n",
    "    per_annot = row_wise_percent_df.values.tolist()[idx]\n",
    "#     print(3)\n",
    "    fig = make_subplots()\n",
    "\n",
    "    fig.add_trace(\n",
    "        go.Funnel(\n",
    "        y = variable_names[:-1],\n",
    "        x = values_to_be_used[:-1],\n",
    "        textposition='none',\n",
    "            marker = {\"color\": [blue_color, blue_color, blue_color, blue_color, blue_color,\\\n",
    "                           blue_color, blue_color, blue_color]}))\n",
    "\n",
    "#     print(4)\n",
    "    for i,y,k in zip(variable_names[:-1],annotation_names[:-1],per_annot):\n",
    "        fig.add_annotation(y=i,xanchor='left',\n",
    "                    text=y+'-->'+str(k)+'%',align='right',showarrow=False)\n",
    "#     print(5)\n",
    "\n",
    "    fig.update_layout(margin={\"r\":0,\"t\":24,\"l\":0,\"b\":0},paper_bgcolor='rgb(255,255,255)',plot_bgcolor='rgba(0,0,0,0)',\n",
    "                      title={'text':str(val)+' Process Flow','xanchor': 'center','x':0.6\n",
    "    },font=dict(color='black'),\n",
    "\n",
    "    xaxis=dict(\n",
    "        title='x Axis',\n",
    "        titlefont=dict(\n",
    "            family='Arial',\n",
    "            size=18,\n",
    "            color='Black'\n",
    "        )\n",
    "    ),\n",
    "    yaxis=dict(\n",
    "        title='Scenario-1 Process Time Delta',\n",
    "        titlefont=dict(\n",
    "            family='Arial',\n",
    "            size=18,\n",
    "            color='black'\n",
    "        )\n",
    "    ))\n",
    "\n",
    "#     print(6)\n",
    "#     fig.show()\n",
    "    fig.write_image(output_distribution_sce_1+str(val)+\"_overall.png\") #pip install -U kaleido & restart jupyter\n",
    "#     fig.write_image(r\"C:\\Users\\vidhi.mittal\\Documents\\Automation\\Aug_Automation\\All_files\\image_generation\\Overall\\Slide_34\\scenario1\\img1.png\",)\n",
    "fig.show()"
   ]
  },
  {
   "cell_type": "code",
   "execution_count": null,
   "metadata": {},
   "outputs": [],
   "source": []
  },
  {
   "cell_type": "markdown",
   "metadata": {},
   "source": [
    "# Scenario - 2"
   ]
  },
  {
   "cell_type": "code",
   "execution_count": 16,
   "metadata": {},
   "outputs": [],
   "source": [
    "scenario_2_df_time = scenario_2_df.set_index('pharmacy_loc')  #Nan --->Total\n",
    "scenario_2_df_time\n",
    "\n",
    "#####\n",
    "scenario_2_df_time.rename(index={np.nan:'Total'},inplace=True)\n",
    "scenario_2_df_time\n",
    "\n",
    "#####\n",
    "my_string  = scenario_2_df_time.columns.str[12:]\n",
    "new_column_names = []\n",
    "for i in my_string:\n",
    "    nn = i.replace(\"_\", \" \")\n",
    "    new_column_names.append(nn)\n",
    "\n",
    "scenario_2_df_time.columns = new_column_names\n",
    "\n",
    "#####\n",
    "for i in scenario_2_df_time.columns:\n",
    "    #scenario_2_df_time[i] = scenario_2_df_time[i].astype(str).str[0:15]\n",
    "\n",
    "    scenario_2_df_time[i] = pd.to_timedelta(scenario_2_df_time[i]).dt.round('s')"
   ]
  },
  {
   "cell_type": "code",
   "execution_count": 17,
   "metadata": {},
   "outputs": [
    {
     "data": {
      "application/vnd.plotly.v1+json": {
       "config": {
        "plotlyServerURL": "https://plot.ly"
       },
       "data": [
        {
         "marker": {
          "color": [
           "#80ADF7",
           "#80ADF7",
           "#80ADF7",
           "#80ADF7",
           "#80ADF7",
           "#80ADF7",
           "#80ADF7",
           "#80ADF7",
           "#80ADF7",
           "#80ADF7",
           "#80ADF7"
          ]
         },
         "textposition": "none",
         "type": "funnel",
         "x": [
          4800000000000,
          5814000000000,
          78364000000000,
          370699000000000,
          425682000000000,
          1430000000000,
          656000000000,
          2409000000000,
          2605000000000,
          163945000000000,
          186050000000000
         ],
         "y": [
          "received to entered time",
          "time to identify pa is required",
          "time taken by rx to be picked up by IBD team",
          "time taken by IBD team to process rx",
          "ibd processing end to first billed",
          "first billed to last billed",
          "last billed to label printed",
          "label printed to drug picked",
          "drug picked to rph verified",
          "rph verified to pharmacy pickedup",
          "rph verified to delivered"
         ]
        }
       ],
       "layout": {
        "annotations": [
         {
          "align": "right",
          "showarrow": false,
          "text": "0 days 01:20-->0%",
          "xanchor": "left",
          "y": "received to entered time"
         },
         {
          "align": "right",
          "showarrow": false,
          "text": "0 days 01:36-->0%",
          "xanchor": "left",
          "y": "time to identify pa is required"
         },
         {
          "align": "right",
          "showarrow": false,
          "text": "0 days 21:46-->6%",
          "xanchor": "left",
          "y": "time taken by rx to be picked up by IBD team"
         },
         {
          "align": "right",
          "showarrow": false,
          "text": "4 days 06:58-->30%",
          "xanchor": "left",
          "y": "time taken by IBD team to process rx"
         },
         {
          "align": "right",
          "showarrow": false,
          "text": "4 days 22:14-->34%",
          "xanchor": "left",
          "y": "ibd processing end to first billed"
         },
         {
          "align": "right",
          "showarrow": false,
          "text": "0 days 00:23-->0%",
          "xanchor": "left",
          "y": "first billed to last billed"
         },
         {
          "align": "right",
          "showarrow": false,
          "text": "0 days 00:10-->0%",
          "xanchor": "left",
          "y": "last billed to label printed"
         },
         {
          "align": "right",
          "showarrow": false,
          "text": "0 days 00:40-->0%",
          "xanchor": "left",
          "y": "label printed to drug picked"
         },
         {
          "align": "right",
          "showarrow": false,
          "text": "0 days 00:43-->0%",
          "xanchor": "left",
          "y": "drug picked to rph verified"
         },
         {
          "align": "right",
          "showarrow": false,
          "text": "1 days 21:32-->13%",
          "xanchor": "left",
          "y": "rph verified to pharmacy pickedup"
         },
         {
          "align": "right",
          "showarrow": false,
          "text": "2 days 03:40-->15%",
          "xanchor": "left",
          "y": "rph verified to delivered"
         }
        ],
        "font": {
         "color": "black"
        },
        "margin": {
         "b": 0,
         "l": 0,
         "r": 0,
         "t": 24
        },
        "paper_bgcolor": "rgb(255,255,255)",
        "plot_bgcolor": "rgba(0,0,0,0)",
        "template": {
         "data": {
          "bar": [
           {
            "error_x": {
             "color": "#2a3f5f"
            },
            "error_y": {
             "color": "#2a3f5f"
            },
            "marker": {
             "line": {
              "color": "#E5ECF6",
              "width": 0.5
             },
             "pattern": {
              "fillmode": "overlay",
              "size": 10,
              "solidity": 0.2
             }
            },
            "type": "bar"
           }
          ],
          "barpolar": [
           {
            "marker": {
             "line": {
              "color": "#E5ECF6",
              "width": 0.5
             },
             "pattern": {
              "fillmode": "overlay",
              "size": 10,
              "solidity": 0.2
             }
            },
            "type": "barpolar"
           }
          ],
          "carpet": [
           {
            "aaxis": {
             "endlinecolor": "#2a3f5f",
             "gridcolor": "white",
             "linecolor": "white",
             "minorgridcolor": "white",
             "startlinecolor": "#2a3f5f"
            },
            "baxis": {
             "endlinecolor": "#2a3f5f",
             "gridcolor": "white",
             "linecolor": "white",
             "minorgridcolor": "white",
             "startlinecolor": "#2a3f5f"
            },
            "type": "carpet"
           }
          ],
          "choropleth": [
           {
            "colorbar": {
             "outlinewidth": 0,
             "ticks": ""
            },
            "type": "choropleth"
           }
          ],
          "contour": [
           {
            "colorbar": {
             "outlinewidth": 0,
             "ticks": ""
            },
            "colorscale": [
             [
              0,
              "#0d0887"
             ],
             [
              0.1111111111111111,
              "#46039f"
             ],
             [
              0.2222222222222222,
              "#7201a8"
             ],
             [
              0.3333333333333333,
              "#9c179e"
             ],
             [
              0.4444444444444444,
              "#bd3786"
             ],
             [
              0.5555555555555556,
              "#d8576b"
             ],
             [
              0.6666666666666666,
              "#ed7953"
             ],
             [
              0.7777777777777778,
              "#fb9f3a"
             ],
             [
              0.8888888888888888,
              "#fdca26"
             ],
             [
              1,
              "#f0f921"
             ]
            ],
            "type": "contour"
           }
          ],
          "contourcarpet": [
           {
            "colorbar": {
             "outlinewidth": 0,
             "ticks": ""
            },
            "type": "contourcarpet"
           }
          ],
          "heatmap": [
           {
            "colorbar": {
             "outlinewidth": 0,
             "ticks": ""
            },
            "colorscale": [
             [
              0,
              "#0d0887"
             ],
             [
              0.1111111111111111,
              "#46039f"
             ],
             [
              0.2222222222222222,
              "#7201a8"
             ],
             [
              0.3333333333333333,
              "#9c179e"
             ],
             [
              0.4444444444444444,
              "#bd3786"
             ],
             [
              0.5555555555555556,
              "#d8576b"
             ],
             [
              0.6666666666666666,
              "#ed7953"
             ],
             [
              0.7777777777777778,
              "#fb9f3a"
             ],
             [
              0.8888888888888888,
              "#fdca26"
             ],
             [
              1,
              "#f0f921"
             ]
            ],
            "type": "heatmap"
           }
          ],
          "heatmapgl": [
           {
            "colorbar": {
             "outlinewidth": 0,
             "ticks": ""
            },
            "colorscale": [
             [
              0,
              "#0d0887"
             ],
             [
              0.1111111111111111,
              "#46039f"
             ],
             [
              0.2222222222222222,
              "#7201a8"
             ],
             [
              0.3333333333333333,
              "#9c179e"
             ],
             [
              0.4444444444444444,
              "#bd3786"
             ],
             [
              0.5555555555555556,
              "#d8576b"
             ],
             [
              0.6666666666666666,
              "#ed7953"
             ],
             [
              0.7777777777777778,
              "#fb9f3a"
             ],
             [
              0.8888888888888888,
              "#fdca26"
             ],
             [
              1,
              "#f0f921"
             ]
            ],
            "type": "heatmapgl"
           }
          ],
          "histogram": [
           {
            "marker": {
             "pattern": {
              "fillmode": "overlay",
              "size": 10,
              "solidity": 0.2
             }
            },
            "type": "histogram"
           }
          ],
          "histogram2d": [
           {
            "colorbar": {
             "outlinewidth": 0,
             "ticks": ""
            },
            "colorscale": [
             [
              0,
              "#0d0887"
             ],
             [
              0.1111111111111111,
              "#46039f"
             ],
             [
              0.2222222222222222,
              "#7201a8"
             ],
             [
              0.3333333333333333,
              "#9c179e"
             ],
             [
              0.4444444444444444,
              "#bd3786"
             ],
             [
              0.5555555555555556,
              "#d8576b"
             ],
             [
              0.6666666666666666,
              "#ed7953"
             ],
             [
              0.7777777777777778,
              "#fb9f3a"
             ],
             [
              0.8888888888888888,
              "#fdca26"
             ],
             [
              1,
              "#f0f921"
             ]
            ],
            "type": "histogram2d"
           }
          ],
          "histogram2dcontour": [
           {
            "colorbar": {
             "outlinewidth": 0,
             "ticks": ""
            },
            "colorscale": [
             [
              0,
              "#0d0887"
             ],
             [
              0.1111111111111111,
              "#46039f"
             ],
             [
              0.2222222222222222,
              "#7201a8"
             ],
             [
              0.3333333333333333,
              "#9c179e"
             ],
             [
              0.4444444444444444,
              "#bd3786"
             ],
             [
              0.5555555555555556,
              "#d8576b"
             ],
             [
              0.6666666666666666,
              "#ed7953"
             ],
             [
              0.7777777777777778,
              "#fb9f3a"
             ],
             [
              0.8888888888888888,
              "#fdca26"
             ],
             [
              1,
              "#f0f921"
             ]
            ],
            "type": "histogram2dcontour"
           }
          ],
          "mesh3d": [
           {
            "colorbar": {
             "outlinewidth": 0,
             "ticks": ""
            },
            "type": "mesh3d"
           }
          ],
          "parcoords": [
           {
            "line": {
             "colorbar": {
              "outlinewidth": 0,
              "ticks": ""
             }
            },
            "type": "parcoords"
           }
          ],
          "pie": [
           {
            "automargin": true,
            "type": "pie"
           }
          ],
          "scatter": [
           {
            "marker": {
             "colorbar": {
              "outlinewidth": 0,
              "ticks": ""
             }
            },
            "type": "scatter"
           }
          ],
          "scatter3d": [
           {
            "line": {
             "colorbar": {
              "outlinewidth": 0,
              "ticks": ""
             }
            },
            "marker": {
             "colorbar": {
              "outlinewidth": 0,
              "ticks": ""
             }
            },
            "type": "scatter3d"
           }
          ],
          "scattercarpet": [
           {
            "marker": {
             "colorbar": {
              "outlinewidth": 0,
              "ticks": ""
             }
            },
            "type": "scattercarpet"
           }
          ],
          "scattergeo": [
           {
            "marker": {
             "colorbar": {
              "outlinewidth": 0,
              "ticks": ""
             }
            },
            "type": "scattergeo"
           }
          ],
          "scattergl": [
           {
            "marker": {
             "colorbar": {
              "outlinewidth": 0,
              "ticks": ""
             }
            },
            "type": "scattergl"
           }
          ],
          "scattermapbox": [
           {
            "marker": {
             "colorbar": {
              "outlinewidth": 0,
              "ticks": ""
             }
            },
            "type": "scattermapbox"
           }
          ],
          "scatterpolar": [
           {
            "marker": {
             "colorbar": {
              "outlinewidth": 0,
              "ticks": ""
             }
            },
            "type": "scatterpolar"
           }
          ],
          "scatterpolargl": [
           {
            "marker": {
             "colorbar": {
              "outlinewidth": 0,
              "ticks": ""
             }
            },
            "type": "scatterpolargl"
           }
          ],
          "scatterternary": [
           {
            "marker": {
             "colorbar": {
              "outlinewidth": 0,
              "ticks": ""
             }
            },
            "type": "scatterternary"
           }
          ],
          "surface": [
           {
            "colorbar": {
             "outlinewidth": 0,
             "ticks": ""
            },
            "colorscale": [
             [
              0,
              "#0d0887"
             ],
             [
              0.1111111111111111,
              "#46039f"
             ],
             [
              0.2222222222222222,
              "#7201a8"
             ],
             [
              0.3333333333333333,
              "#9c179e"
             ],
             [
              0.4444444444444444,
              "#bd3786"
             ],
             [
              0.5555555555555556,
              "#d8576b"
             ],
             [
              0.6666666666666666,
              "#ed7953"
             ],
             [
              0.7777777777777778,
              "#fb9f3a"
             ],
             [
              0.8888888888888888,
              "#fdca26"
             ],
             [
              1,
              "#f0f921"
             ]
            ],
            "type": "surface"
           }
          ],
          "table": [
           {
            "cells": {
             "fill": {
              "color": "#EBF0F8"
             },
             "line": {
              "color": "white"
             }
            },
            "header": {
             "fill": {
              "color": "#C8D4E3"
             },
             "line": {
              "color": "white"
             }
            },
            "type": "table"
           }
          ]
         },
         "layout": {
          "annotationdefaults": {
           "arrowcolor": "#2a3f5f",
           "arrowhead": 0,
           "arrowwidth": 1
          },
          "autotypenumbers": "strict",
          "coloraxis": {
           "colorbar": {
            "outlinewidth": 0,
            "ticks": ""
           }
          },
          "colorscale": {
           "diverging": [
            [
             0,
             "#8e0152"
            ],
            [
             0.1,
             "#c51b7d"
            ],
            [
             0.2,
             "#de77ae"
            ],
            [
             0.3,
             "#f1b6da"
            ],
            [
             0.4,
             "#fde0ef"
            ],
            [
             0.5,
             "#f7f7f7"
            ],
            [
             0.6,
             "#e6f5d0"
            ],
            [
             0.7,
             "#b8e186"
            ],
            [
             0.8,
             "#7fbc41"
            ],
            [
             0.9,
             "#4d9221"
            ],
            [
             1,
             "#276419"
            ]
           ],
           "sequential": [
            [
             0,
             "#0d0887"
            ],
            [
             0.1111111111111111,
             "#46039f"
            ],
            [
             0.2222222222222222,
             "#7201a8"
            ],
            [
             0.3333333333333333,
             "#9c179e"
            ],
            [
             0.4444444444444444,
             "#bd3786"
            ],
            [
             0.5555555555555556,
             "#d8576b"
            ],
            [
             0.6666666666666666,
             "#ed7953"
            ],
            [
             0.7777777777777778,
             "#fb9f3a"
            ],
            [
             0.8888888888888888,
             "#fdca26"
            ],
            [
             1,
             "#f0f921"
            ]
           ],
           "sequentialminus": [
            [
             0,
             "#0d0887"
            ],
            [
             0.1111111111111111,
             "#46039f"
            ],
            [
             0.2222222222222222,
             "#7201a8"
            ],
            [
             0.3333333333333333,
             "#9c179e"
            ],
            [
             0.4444444444444444,
             "#bd3786"
            ],
            [
             0.5555555555555556,
             "#d8576b"
            ],
            [
             0.6666666666666666,
             "#ed7953"
            ],
            [
             0.7777777777777778,
             "#fb9f3a"
            ],
            [
             0.8888888888888888,
             "#fdca26"
            ],
            [
             1,
             "#f0f921"
            ]
           ]
          },
          "colorway": [
           "#636efa",
           "#EF553B",
           "#00cc96",
           "#ab63fa",
           "#FFA15A",
           "#19d3f3",
           "#FF6692",
           "#B6E880",
           "#FF97FF",
           "#FECB52"
          ],
          "font": {
           "color": "#2a3f5f"
          },
          "geo": {
           "bgcolor": "white",
           "lakecolor": "white",
           "landcolor": "#E5ECF6",
           "showlakes": true,
           "showland": true,
           "subunitcolor": "white"
          },
          "hoverlabel": {
           "align": "left"
          },
          "hovermode": "closest",
          "mapbox": {
           "style": "light"
          },
          "paper_bgcolor": "white",
          "plot_bgcolor": "#E5ECF6",
          "polar": {
           "angularaxis": {
            "gridcolor": "white",
            "linecolor": "white",
            "ticks": ""
           },
           "bgcolor": "#E5ECF6",
           "radialaxis": {
            "gridcolor": "white",
            "linecolor": "white",
            "ticks": ""
           }
          },
          "scene": {
           "xaxis": {
            "backgroundcolor": "#E5ECF6",
            "gridcolor": "white",
            "gridwidth": 2,
            "linecolor": "white",
            "showbackground": true,
            "ticks": "",
            "zerolinecolor": "white"
           },
           "yaxis": {
            "backgroundcolor": "#E5ECF6",
            "gridcolor": "white",
            "gridwidth": 2,
            "linecolor": "white",
            "showbackground": true,
            "ticks": "",
            "zerolinecolor": "white"
           },
           "zaxis": {
            "backgroundcolor": "#E5ECF6",
            "gridcolor": "white",
            "gridwidth": 2,
            "linecolor": "white",
            "showbackground": true,
            "ticks": "",
            "zerolinecolor": "white"
           }
          },
          "shapedefaults": {
           "line": {
            "color": "#2a3f5f"
           }
          },
          "ternary": {
           "aaxis": {
            "gridcolor": "white",
            "linecolor": "white",
            "ticks": ""
           },
           "baxis": {
            "gridcolor": "white",
            "linecolor": "white",
            "ticks": ""
           },
           "bgcolor": "#E5ECF6",
           "caxis": {
            "gridcolor": "white",
            "linecolor": "white",
            "ticks": ""
           }
          },
          "title": {
           "x": 0.05
          },
          "xaxis": {
           "automargin": true,
           "gridcolor": "white",
           "linecolor": "white",
           "ticks": "",
           "title": {
            "standoff": 15
           },
           "zerolinecolor": "white",
           "zerolinewidth": 2
          },
          "yaxis": {
           "automargin": true,
           "gridcolor": "white",
           "linecolor": "white",
           "ticks": "",
           "title": {
            "standoff": 15
           },
           "zerolinecolor": "white",
           "zerolinewidth": 2
          }
         }
        },
        "title": {
         "text": "Total Process Flow",
         "x": 0.6,
         "xanchor": "center"
        },
        "xaxis": {
         "anchor": "y",
         "domain": [
          0,
          1
         ],
         "title": {
          "font": {
           "color": "Black",
           "family": "Arial",
           "size": 18
          },
          "text": "x Axis"
         }
        },
        "yaxis": {
         "anchor": "x",
         "domain": [
          0,
          1
         ],
         "title": {
          "font": {
           "color": "black",
           "family": "Arial",
           "size": 18
          },
          "text": "Scenario-2 Process Time Delta"
         }
        }
       }
      }
     },
     "metadata": {},
     "output_type": "display_data"
    }
   ],
   "source": [
    "row_wise_percent_df = scenario_2_df_time[scenario_2_df_time.columns[:-1]]\n",
    "\n",
    "row_wise_percent_df = row_wise_percent_df.div(row_wise_percent_df.sum(axis=1), axis=0).round(2)\n",
    "row_wise_percent_df = row_wise_percent_df.replace(np.nan,0)\n",
    "try:\n",
    "    row_wise_percent_df = row_wise_percent_df.multiply(100).astype(int)\n",
    "except:\n",
    "    pass\n",
    "# row_wise_percent_df = row_wise_percent_df.multiply(100).astype(int)\n",
    "\n",
    "scenario_2_df_time_object = scenario_2_df_time.copy()\n",
    "\n",
    "for i in scenario_2_df_time_object.columns:\n",
    "    scenario_2_df_time_object[i] = scenario_2_df_time_object[i].astype(str)\n",
    "    \n",
    "for idx, val in enumerate(row_wise_percent_df.index):\n",
    "    values_to_be_used = scenario_2_df_time.values.tolist()[idx]\n",
    "    variable_names = scenario_2_df_time.columns\n",
    "    #variable_names = [x[12:] for x in variable_names]\n",
    "\n",
    "    annotation_names = scenario_2_df_time_object.values.tolist()[idx]\n",
    "    annotation_names = [x[:-3] for x in annotation_names]\n",
    "\n",
    "\n",
    "    per_annot = row_wise_percent_df.values.tolist()[idx]\n",
    "\n",
    "    fig = make_subplots()\n",
    "\n",
    "    fig.add_trace(\n",
    "        go.Funnel(\n",
    "        y = variable_names[:-1],\n",
    "        x = values_to_be_used[:-1],\n",
    "        textposition='none',\n",
    "            marker = {\"color\": [blue_color, blue_color, blue_color, blue_color, blue_color,\\\n",
    "                           blue_color, blue_color, blue_color,blue_color, blue_color, blue_color]}))\n",
    "\n",
    "\n",
    "    for i,y,k in zip(variable_names[:-1],annotation_names[:-1],per_annot):\n",
    "        fig.add_annotation(y=i,xanchor='left',\n",
    "                    text=y+'-->'+str(k)+'%',align='right',showarrow=False)\n",
    "\n",
    "    fig.update_layout(margin={\"r\":0,\"t\":24,\"l\":0,\"b\":0},paper_bgcolor='rgb(255,255,255)',plot_bgcolor='rgba(0,0,0,0)',\n",
    "                      title={'text':str(val)+' Process Flow','xanchor': 'center','x':0.6\n",
    "    },font=dict(color='black'),\n",
    "\n",
    "    xaxis=dict(\n",
    "        title='x Axis',\n",
    "        titlefont=dict(\n",
    "            family='Arial',\n",
    "            size=18,\n",
    "            color='Black'\n",
    "        )\n",
    "    ),\n",
    "    yaxis=dict(\n",
    "        title='Scenario-2 Process Time Delta',\n",
    "        titlefont=dict(\n",
    "            family='Arial',\n",
    "            size=18,\n",
    "            color='black'\n",
    "        )\n",
    "    ))\n",
    "\n",
    "#     fig.show()\n",
    "    fig.write_image(output_distribution_sce_2+str(val)+\"_overall.png\") #pip install -U kaleido & restart jupyter\n",
    "\n",
    "fig.show()"
   ]
  },
  {
   "cell_type": "markdown",
   "metadata": {},
   "source": [
    "# Scenario - 3"
   ]
  },
  {
   "cell_type": "code",
   "execution_count": 18,
   "metadata": {},
   "outputs": [],
   "source": [
    "scenario_3_df_time = scenario_3_df.set_index('pharmacy_loc')  #Nan --->Total\n",
    "scenario_3_df_time\n",
    "\n",
    "#####\n",
    "scenario_3_df_time.rename(index={np.nan:'Total'},inplace=True)\n",
    "scenario_3_df_time\n",
    "\n",
    "#####\n",
    "my_string  = scenario_3_df_time.columns.str[12:]\n",
    "new_column_names = []\n",
    "for i in my_string:\n",
    "    nn = i.replace(\"_\", \" \")\n",
    "    new_column_names.append(nn)\n",
    "\n",
    "scenario_3_df_time.columns = new_column_names\n",
    "\n",
    "#####\n",
    "for i in scenario_3_df_time.columns:\n",
    "    #scenario_3_df_time[i] = scenario_3_df_time[i].astype(str).str[0:15]\n",
    "\n",
    "    scenario_3_df_time[i] = pd.to_timedelta(scenario_3_df_time[i]).dt.round('s')"
   ]
  },
  {
   "cell_type": "code",
   "execution_count": 19,
   "metadata": {},
   "outputs": [
    {
     "data": {
      "application/vnd.plotly.v1+json": {
       "config": {
        "plotlyServerURL": "https://plot.ly"
       },
       "data": [
        {
         "marker": {
          "color": [
           "#80ADF7",
           "#80ADF7",
           "#80ADF7",
           "#80ADF7",
           "#80ADF7",
           "#80ADF7",
           "#80ADF7",
           "#80ADF7",
           "#80ADF7",
           "#80ADF7",
           "#80ADF7",
           "#80ADF7"
          ]
         },
         "textposition": "none",
         "type": "funnel",
         "x": [
          4890000000000,
          2766000000000,
          141886000000000,
          78468000000000,
          363672000000000,
          356895000000000,
          906000000000,
          386000000000,
          2349000000000,
          2737000000000,
          67428000000000,
          203948000000000
         ],
         "y": [
          "received to entered time",
          "rx entered to callins processing start",
          "time taken for call for insurance process",
          "time taken by rx to be picked up by IBD team",
          "time taken by IBD team to process rx",
          "ibd processing end to first billed",
          "first billed to last billed",
          "last billed to label printed",
          "label printed to drug picked",
          "drug picked to rph verified",
          "rph verified to pharmacy pickedup",
          "rph verified to delivered"
         ]
        }
       ],
       "layout": {
        "annotations": [
         {
          "align": "right",
          "showarrow": false,
          "text": "0 days 01:21-->0%",
          "xanchor": "left",
          "y": "received to entered time"
         },
         {
          "align": "right",
          "showarrow": false,
          "text": "0 days 00:46-->0%",
          "xanchor": "left",
          "y": "rx entered to callins processing start"
         },
         {
          "align": "right",
          "showarrow": false,
          "text": "1 days 15:24-->12%",
          "xanchor": "left",
          "y": "time taken for call for insurance process"
         },
         {
          "align": "right",
          "showarrow": false,
          "text": "0 days 21:47-->6%",
          "xanchor": "left",
          "y": "time taken by rx to be picked up by IBD team"
         },
         {
          "align": "right",
          "showarrow": false,
          "text": "4 days 05:01-->30%",
          "xanchor": "left",
          "y": "time taken by IBD team to process rx"
         },
         {
          "align": "right",
          "showarrow": false,
          "text": "4 days 03:08-->28%",
          "xanchor": "left",
          "y": "ibd processing end to first billed"
         },
         {
          "align": "right",
          "showarrow": false,
          "text": "0 days 00:15-->0%",
          "xanchor": "left",
          "y": "first billed to last billed"
         },
         {
          "align": "right",
          "showarrow": false,
          "text": "0 days 00:06-->0%",
          "xanchor": "left",
          "y": "last billed to label printed"
         },
         {
          "align": "right",
          "showarrow": false,
          "text": "0 days 00:39-->0%",
          "xanchor": "left",
          "y": "label printed to drug picked"
         },
         {
          "align": "right",
          "showarrow": false,
          "text": "0 days 00:45-->0%",
          "xanchor": "left",
          "y": "drug picked to rph verified"
         },
         {
          "align": "right",
          "showarrow": false,
          "text": "0 days 18:43-->5%",
          "xanchor": "left",
          "y": "rph verified to pharmacy pickedup"
         },
         {
          "align": "right",
          "showarrow": false,
          "text": "2 days 08:39-->17%",
          "xanchor": "left",
          "y": "rph verified to delivered"
         }
        ],
        "font": {
         "color": "black"
        },
        "margin": {
         "b": 0,
         "l": 0,
         "r": 0,
         "t": 34
        },
        "paper_bgcolor": "rgb(355,355,355)",
        "plot_bgcolor": "rgba(0,0,0,0)",
        "template": {
         "data": {
          "bar": [
           {
            "error_x": {
             "color": "#2a3f5f"
            },
            "error_y": {
             "color": "#2a3f5f"
            },
            "marker": {
             "line": {
              "color": "#E5ECF6",
              "width": 0.5
             },
             "pattern": {
              "fillmode": "overlay",
              "size": 10,
              "solidity": 0.2
             }
            },
            "type": "bar"
           }
          ],
          "barpolar": [
           {
            "marker": {
             "line": {
              "color": "#E5ECF6",
              "width": 0.5
             },
             "pattern": {
              "fillmode": "overlay",
              "size": 10,
              "solidity": 0.2
             }
            },
            "type": "barpolar"
           }
          ],
          "carpet": [
           {
            "aaxis": {
             "endlinecolor": "#2a3f5f",
             "gridcolor": "white",
             "linecolor": "white",
             "minorgridcolor": "white",
             "startlinecolor": "#2a3f5f"
            },
            "baxis": {
             "endlinecolor": "#2a3f5f",
             "gridcolor": "white",
             "linecolor": "white",
             "minorgridcolor": "white",
             "startlinecolor": "#2a3f5f"
            },
            "type": "carpet"
           }
          ],
          "choropleth": [
           {
            "colorbar": {
             "outlinewidth": 0,
             "ticks": ""
            },
            "type": "choropleth"
           }
          ],
          "contour": [
           {
            "colorbar": {
             "outlinewidth": 0,
             "ticks": ""
            },
            "colorscale": [
             [
              0,
              "#0d0887"
             ],
             [
              0.1111111111111111,
              "#46039f"
             ],
             [
              0.2222222222222222,
              "#7201a8"
             ],
             [
              0.3333333333333333,
              "#9c179e"
             ],
             [
              0.4444444444444444,
              "#bd3786"
             ],
             [
              0.5555555555555556,
              "#d8576b"
             ],
             [
              0.6666666666666666,
              "#ed7953"
             ],
             [
              0.7777777777777778,
              "#fb9f3a"
             ],
             [
              0.8888888888888888,
              "#fdca26"
             ],
             [
              1,
              "#f0f921"
             ]
            ],
            "type": "contour"
           }
          ],
          "contourcarpet": [
           {
            "colorbar": {
             "outlinewidth": 0,
             "ticks": ""
            },
            "type": "contourcarpet"
           }
          ],
          "heatmap": [
           {
            "colorbar": {
             "outlinewidth": 0,
             "ticks": ""
            },
            "colorscale": [
             [
              0,
              "#0d0887"
             ],
             [
              0.1111111111111111,
              "#46039f"
             ],
             [
              0.2222222222222222,
              "#7201a8"
             ],
             [
              0.3333333333333333,
              "#9c179e"
             ],
             [
              0.4444444444444444,
              "#bd3786"
             ],
             [
              0.5555555555555556,
              "#d8576b"
             ],
             [
              0.6666666666666666,
              "#ed7953"
             ],
             [
              0.7777777777777778,
              "#fb9f3a"
             ],
             [
              0.8888888888888888,
              "#fdca26"
             ],
             [
              1,
              "#f0f921"
             ]
            ],
            "type": "heatmap"
           }
          ],
          "heatmapgl": [
           {
            "colorbar": {
             "outlinewidth": 0,
             "ticks": ""
            },
            "colorscale": [
             [
              0,
              "#0d0887"
             ],
             [
              0.1111111111111111,
              "#46039f"
             ],
             [
              0.2222222222222222,
              "#7201a8"
             ],
             [
              0.3333333333333333,
              "#9c179e"
             ],
             [
              0.4444444444444444,
              "#bd3786"
             ],
             [
              0.5555555555555556,
              "#d8576b"
             ],
             [
              0.6666666666666666,
              "#ed7953"
             ],
             [
              0.7777777777777778,
              "#fb9f3a"
             ],
             [
              0.8888888888888888,
              "#fdca26"
             ],
             [
              1,
              "#f0f921"
             ]
            ],
            "type": "heatmapgl"
           }
          ],
          "histogram": [
           {
            "marker": {
             "pattern": {
              "fillmode": "overlay",
              "size": 10,
              "solidity": 0.2
             }
            },
            "type": "histogram"
           }
          ],
          "histogram2d": [
           {
            "colorbar": {
             "outlinewidth": 0,
             "ticks": ""
            },
            "colorscale": [
             [
              0,
              "#0d0887"
             ],
             [
              0.1111111111111111,
              "#46039f"
             ],
             [
              0.2222222222222222,
              "#7201a8"
             ],
             [
              0.3333333333333333,
              "#9c179e"
             ],
             [
              0.4444444444444444,
              "#bd3786"
             ],
             [
              0.5555555555555556,
              "#d8576b"
             ],
             [
              0.6666666666666666,
              "#ed7953"
             ],
             [
              0.7777777777777778,
              "#fb9f3a"
             ],
             [
              0.8888888888888888,
              "#fdca26"
             ],
             [
              1,
              "#f0f921"
             ]
            ],
            "type": "histogram2d"
           }
          ],
          "histogram2dcontour": [
           {
            "colorbar": {
             "outlinewidth": 0,
             "ticks": ""
            },
            "colorscale": [
             [
              0,
              "#0d0887"
             ],
             [
              0.1111111111111111,
              "#46039f"
             ],
             [
              0.2222222222222222,
              "#7201a8"
             ],
             [
              0.3333333333333333,
              "#9c179e"
             ],
             [
              0.4444444444444444,
              "#bd3786"
             ],
             [
              0.5555555555555556,
              "#d8576b"
             ],
             [
              0.6666666666666666,
              "#ed7953"
             ],
             [
              0.7777777777777778,
              "#fb9f3a"
             ],
             [
              0.8888888888888888,
              "#fdca26"
             ],
             [
              1,
              "#f0f921"
             ]
            ],
            "type": "histogram2dcontour"
           }
          ],
          "mesh3d": [
           {
            "colorbar": {
             "outlinewidth": 0,
             "ticks": ""
            },
            "type": "mesh3d"
           }
          ],
          "parcoords": [
           {
            "line": {
             "colorbar": {
              "outlinewidth": 0,
              "ticks": ""
             }
            },
            "type": "parcoords"
           }
          ],
          "pie": [
           {
            "automargin": true,
            "type": "pie"
           }
          ],
          "scatter": [
           {
            "marker": {
             "colorbar": {
              "outlinewidth": 0,
              "ticks": ""
             }
            },
            "type": "scatter"
           }
          ],
          "scatter3d": [
           {
            "line": {
             "colorbar": {
              "outlinewidth": 0,
              "ticks": ""
             }
            },
            "marker": {
             "colorbar": {
              "outlinewidth": 0,
              "ticks": ""
             }
            },
            "type": "scatter3d"
           }
          ],
          "scattercarpet": [
           {
            "marker": {
             "colorbar": {
              "outlinewidth": 0,
              "ticks": ""
             }
            },
            "type": "scattercarpet"
           }
          ],
          "scattergeo": [
           {
            "marker": {
             "colorbar": {
              "outlinewidth": 0,
              "ticks": ""
             }
            },
            "type": "scattergeo"
           }
          ],
          "scattergl": [
           {
            "marker": {
             "colorbar": {
              "outlinewidth": 0,
              "ticks": ""
             }
            },
            "type": "scattergl"
           }
          ],
          "scattermapbox": [
           {
            "marker": {
             "colorbar": {
              "outlinewidth": 0,
              "ticks": ""
             }
            },
            "type": "scattermapbox"
           }
          ],
          "scatterpolar": [
           {
            "marker": {
             "colorbar": {
              "outlinewidth": 0,
              "ticks": ""
             }
            },
            "type": "scatterpolar"
           }
          ],
          "scatterpolargl": [
           {
            "marker": {
             "colorbar": {
              "outlinewidth": 0,
              "ticks": ""
             }
            },
            "type": "scatterpolargl"
           }
          ],
          "scatterternary": [
           {
            "marker": {
             "colorbar": {
              "outlinewidth": 0,
              "ticks": ""
             }
            },
            "type": "scatterternary"
           }
          ],
          "surface": [
           {
            "colorbar": {
             "outlinewidth": 0,
             "ticks": ""
            },
            "colorscale": [
             [
              0,
              "#0d0887"
             ],
             [
              0.1111111111111111,
              "#46039f"
             ],
             [
              0.2222222222222222,
              "#7201a8"
             ],
             [
              0.3333333333333333,
              "#9c179e"
             ],
             [
              0.4444444444444444,
              "#bd3786"
             ],
             [
              0.5555555555555556,
              "#d8576b"
             ],
             [
              0.6666666666666666,
              "#ed7953"
             ],
             [
              0.7777777777777778,
              "#fb9f3a"
             ],
             [
              0.8888888888888888,
              "#fdca26"
             ],
             [
              1,
              "#f0f921"
             ]
            ],
            "type": "surface"
           }
          ],
          "table": [
           {
            "cells": {
             "fill": {
              "color": "#EBF0F8"
             },
             "line": {
              "color": "white"
             }
            },
            "header": {
             "fill": {
              "color": "#C8D4E3"
             },
             "line": {
              "color": "white"
             }
            },
            "type": "table"
           }
          ]
         },
         "layout": {
          "annotationdefaults": {
           "arrowcolor": "#2a3f5f",
           "arrowhead": 0,
           "arrowwidth": 1
          },
          "autotypenumbers": "strict",
          "coloraxis": {
           "colorbar": {
            "outlinewidth": 0,
            "ticks": ""
           }
          },
          "colorscale": {
           "diverging": [
            [
             0,
             "#8e0152"
            ],
            [
             0.1,
             "#c51b7d"
            ],
            [
             0.2,
             "#de77ae"
            ],
            [
             0.3,
             "#f1b6da"
            ],
            [
             0.4,
             "#fde0ef"
            ],
            [
             0.5,
             "#f7f7f7"
            ],
            [
             0.6,
             "#e6f5d0"
            ],
            [
             0.7,
             "#b8e186"
            ],
            [
             0.8,
             "#7fbc41"
            ],
            [
             0.9,
             "#4d9221"
            ],
            [
             1,
             "#276419"
            ]
           ],
           "sequential": [
            [
             0,
             "#0d0887"
            ],
            [
             0.1111111111111111,
             "#46039f"
            ],
            [
             0.2222222222222222,
             "#7201a8"
            ],
            [
             0.3333333333333333,
             "#9c179e"
            ],
            [
             0.4444444444444444,
             "#bd3786"
            ],
            [
             0.5555555555555556,
             "#d8576b"
            ],
            [
             0.6666666666666666,
             "#ed7953"
            ],
            [
             0.7777777777777778,
             "#fb9f3a"
            ],
            [
             0.8888888888888888,
             "#fdca26"
            ],
            [
             1,
             "#f0f921"
            ]
           ],
           "sequentialminus": [
            [
             0,
             "#0d0887"
            ],
            [
             0.1111111111111111,
             "#46039f"
            ],
            [
             0.2222222222222222,
             "#7201a8"
            ],
            [
             0.3333333333333333,
             "#9c179e"
            ],
            [
             0.4444444444444444,
             "#bd3786"
            ],
            [
             0.5555555555555556,
             "#d8576b"
            ],
            [
             0.6666666666666666,
             "#ed7953"
            ],
            [
             0.7777777777777778,
             "#fb9f3a"
            ],
            [
             0.8888888888888888,
             "#fdca26"
            ],
            [
             1,
             "#f0f921"
            ]
           ]
          },
          "colorway": [
           "#636efa",
           "#EF553B",
           "#00cc96",
           "#ab63fa",
           "#FFA15A",
           "#19d3f3",
           "#FF6692",
           "#B6E880",
           "#FF97FF",
           "#FECB52"
          ],
          "font": {
           "color": "#2a3f5f"
          },
          "geo": {
           "bgcolor": "white",
           "lakecolor": "white",
           "landcolor": "#E5ECF6",
           "showlakes": true,
           "showland": true,
           "subunitcolor": "white"
          },
          "hoverlabel": {
           "align": "left"
          },
          "hovermode": "closest",
          "mapbox": {
           "style": "light"
          },
          "paper_bgcolor": "white",
          "plot_bgcolor": "#E5ECF6",
          "polar": {
           "angularaxis": {
            "gridcolor": "white",
            "linecolor": "white",
            "ticks": ""
           },
           "bgcolor": "#E5ECF6",
           "radialaxis": {
            "gridcolor": "white",
            "linecolor": "white",
            "ticks": ""
           }
          },
          "scene": {
           "xaxis": {
            "backgroundcolor": "#E5ECF6",
            "gridcolor": "white",
            "gridwidth": 2,
            "linecolor": "white",
            "showbackground": true,
            "ticks": "",
            "zerolinecolor": "white"
           },
           "yaxis": {
            "backgroundcolor": "#E5ECF6",
            "gridcolor": "white",
            "gridwidth": 2,
            "linecolor": "white",
            "showbackground": true,
            "ticks": "",
            "zerolinecolor": "white"
           },
           "zaxis": {
            "backgroundcolor": "#E5ECF6",
            "gridcolor": "white",
            "gridwidth": 2,
            "linecolor": "white",
            "showbackground": true,
            "ticks": "",
            "zerolinecolor": "white"
           }
          },
          "shapedefaults": {
           "line": {
            "color": "#2a3f5f"
           }
          },
          "ternary": {
           "aaxis": {
            "gridcolor": "white",
            "linecolor": "white",
            "ticks": ""
           },
           "baxis": {
            "gridcolor": "white",
            "linecolor": "white",
            "ticks": ""
           },
           "bgcolor": "#E5ECF6",
           "caxis": {
            "gridcolor": "white",
            "linecolor": "white",
            "ticks": ""
           }
          },
          "title": {
           "x": 0.05
          },
          "xaxis": {
           "automargin": true,
           "gridcolor": "white",
           "linecolor": "white",
           "ticks": "",
           "title": {
            "standoff": 15
           },
           "zerolinecolor": "white",
           "zerolinewidth": 2
          },
          "yaxis": {
           "automargin": true,
           "gridcolor": "white",
           "linecolor": "white",
           "ticks": "",
           "title": {
            "standoff": 15
           },
           "zerolinecolor": "white",
           "zerolinewidth": 2
          }
         }
        },
        "title": {
         "text": "Total Process Flow",
         "x": 0.6,
         "xanchor": "center"
        },
        "xaxis": {
         "anchor": "y",
         "domain": [
          0,
          1
         ],
         "title": {
          "font": {
           "color": "Black",
           "family": "Arial",
           "size": 18
          },
          "text": "x Axis"
         }
        },
        "yaxis": {
         "anchor": "x",
         "domain": [
          0,
          1
         ],
         "title": {
          "font": {
           "color": "black",
           "family": "Arial",
           "size": 18
          },
          "text": "Scenario-3 Process Time Delta"
         }
        }
       }
      }
     },
     "metadata": {},
     "output_type": "display_data"
    }
   ],
   "source": [
    "row_wise_percent_df = scenario_3_df_time[scenario_3_df_time.columns[:-1]]\n",
    "\n",
    "row_wise_percent_df = row_wise_percent_df.div(row_wise_percent_df.sum(axis=1), axis=0).round(2)\n",
    "\n",
    "row_wise_percent_df = row_wise_percent_df.fillna(0)\n",
    "try:\n",
    "    row_wise_percent_df = row_wise_percent_df.multiply(100).astype(int)\n",
    "except:\n",
    "    pass\n",
    "# row_wise_percent_df = row_wise_percent_df.multiply(100).astype(int)\n",
    "\n",
    "scenario_3_df_time_object = scenario_3_df_time.copy()\n",
    "\n",
    "for i in scenario_3_df_time_object.columns:\n",
    "    scenario_3_df_time_object[i] = scenario_3_df_time_object[i].astype(str)\n",
    "    \n",
    "for idx, val in enumerate(row_wise_percent_df.index):\n",
    "    values_to_be_used = scenario_3_df_time.values.tolist()[idx]\n",
    "    variable_names = scenario_3_df_time.columns\n",
    "    #variable_names = [x[13:] for x in variable_names]\n",
    "\n",
    "    annotation_names = scenario_3_df_time_object.values.tolist()[idx]\n",
    "    annotation_names = [x[:-3] for x in annotation_names]\n",
    "\n",
    "\n",
    "    per_annot = row_wise_percent_df.values.tolist()[idx]\n",
    "\n",
    "    fig = make_subplots()\n",
    "\n",
    "    fig.add_trace(\n",
    "        go.Funnel(\n",
    "        y = variable_names[:-1],\n",
    "        x = values_to_be_used[:-1],\n",
    "        textposition='none',\n",
    "            marker = {\"color\": [blue_color, blue_color, blue_color, blue_color, blue_color,\\\n",
    "                           blue_color, blue_color, blue_color,blue_color, blue_color, blue_color,blue_color]}))\n",
    "\n",
    "\n",
    "    for i,y,k in zip(variable_names[:-1],annotation_names[:-1],per_annot):\n",
    "        fig.add_annotation(y=i,xanchor='left',\n",
    "                    text=y+'-->'+str(k)+'%',align='right',showarrow=False)\n",
    "\n",
    "    fig.update_layout(margin={\"r\":0,\"t\":34,\"l\":0,\"b\":0},paper_bgcolor='rgb(355,355,355)',plot_bgcolor='rgba(0,0,0,0)',\n",
    "                      title={'text':str(val)+' Process Flow','xanchor': 'center','x':0.6\n",
    "    },font=dict(color='black'),\n",
    "\n",
    "    xaxis=dict(\n",
    "        title='x Axis',\n",
    "        titlefont=dict(\n",
    "            family='Arial',\n",
    "            size=18,\n",
    "            color='Black'\n",
    "        )\n",
    "    ),\n",
    "    yaxis=dict(\n",
    "        title='Scenario-3 Process Time Delta',\n",
    "        titlefont=dict(\n",
    "            family='Arial',\n",
    "            size=18,\n",
    "            color='black'\n",
    "        )\n",
    "    ))\n",
    "\n",
    "#     print(6)\n",
    "    fig.write_image(output_distribution_sce_3+str(val)+\"_overall.png\") #pip install -U kaleido & restart jupyter\n",
    "\n",
    "\n",
    "fig.show()"
   ]
  },
  {
   "cell_type": "markdown",
   "metadata": {},
   "source": [
    "# Scenario - 4"
   ]
  },
  {
   "cell_type": "code",
   "execution_count": 20,
   "metadata": {},
   "outputs": [],
   "source": [
    "scenario_4_df_time = scenario_4_df.set_index('pharmacy_loc')  #Nan --->Total\n",
    "scenario_4_df_time\n",
    "\n",
    "#####\n",
    "scenario_4_df_time.rename(index={np.nan:'Total'},inplace=True)\n",
    "scenario_4_df_time\n",
    "\n",
    "#####\n",
    "my_string  = scenario_4_df_time.columns.str[12:]\n",
    "new_column_names = []\n",
    "for i in my_string:\n",
    "    nn = i.replace(\"_\", \" \")\n",
    "    new_column_names.append(nn)\n",
    "\n",
    "scenario_4_df_time.columns = new_column_names\n",
    "\n",
    "#####\n",
    "for i in scenario_4_df_time.columns:\n",
    "    #scenario_4_df_time[i] = scenario_4_df_time[i].astype(str).str[0:15]\n",
    "\n",
    "    scenario_4_df_time[i] = pd.to_timedelta(scenario_4_df_time[i]).dt.round('s')"
   ]
  },
  {
   "cell_type": "code",
   "execution_count": 21,
   "metadata": {},
   "outputs": [
    {
     "data": {
      "application/vnd.plotly.v1+json": {
       "config": {
        "plotlyServerURL": "https://plot.ly"
       },
       "data": [
        {
         "marker": {
          "color": [
           "#80ADF7",
           "#80ADF7",
           "#80ADF7",
           "#80ADF7",
           "#80ADF7",
           "#80ADF7",
           "#80ADF7",
           "#80ADF7",
           "#80ADF7",
           "#80ADF7",
           "#80ADF7"
          ]
         },
         "textposition": "none",
         "type": "funnel",
         "x": [
          4208000000000,
          3165000000000,
          158158000000000,
          10000000000,
          874000000000,
          2367000000000,
          3225000000000,
          10600000000000,
          255376000000000
         ],
         "y": [
          "received to entered time",
          "rx entered to callins processing start",
          "time taken for call for insurance process",
          "first billed to last billed",
          "last billed to label printed",
          "label printed to drug picked",
          "drug picked to rph verified",
          "rph verified to pharmacy pickedup",
          "rph verified to delivered"
         ]
        }
       ],
       "layout": {
        "annotations": [
         {
          "align": "right",
          "showarrow": false,
          "text": "0 days 01:10-->1%",
          "xanchor": "left",
          "y": "received to entered time"
         },
         {
          "align": "right",
          "showarrow": false,
          "text": "0 days 00:52-->1%",
          "xanchor": "left",
          "y": "rx entered to callins processing start"
         },
         {
          "align": "right",
          "showarrow": false,
          "text": "1 days 19:55-->36%",
          "xanchor": "left",
          "y": "time taken for call for insurance process"
         },
         {
          "align": "right",
          "showarrow": false,
          "text": "0 days 00:00-->0%",
          "xanchor": "left",
          "y": "first billed to last billed"
         },
         {
          "align": "right",
          "showarrow": false,
          "text": "0 days 00:14-->0%",
          "xanchor": "left",
          "y": "last billed to label printed"
         },
         {
          "align": "right",
          "showarrow": false,
          "text": "0 days 00:39-->1%",
          "xanchor": "left",
          "y": "label printed to drug picked"
         },
         {
          "align": "right",
          "showarrow": false,
          "text": "0 days 00:53-->1%",
          "xanchor": "left",
          "y": "drug picked to rph verified"
         },
         {
          "align": "right",
          "showarrow": false,
          "text": "0 days 02:56-->2%",
          "xanchor": "left",
          "y": "rph verified to pharmacy pickedup"
         },
         {
          "align": "right",
          "showarrow": false,
          "text": "2 days 22:56-->57%",
          "xanchor": "left",
          "y": "rph verified to delivered"
         }
        ],
        "font": {
         "color": "black"
        },
        "margin": {
         "b": 0,
         "l": 0,
         "r": 0,
         "t": 44
        },
        "paper_bgcolor": "rgb(455,455,455)",
        "plot_bgcolor": "rgba(0,0,0,0)",
        "template": {
         "data": {
          "bar": [
           {
            "error_x": {
             "color": "#2a3f5f"
            },
            "error_y": {
             "color": "#2a3f5f"
            },
            "marker": {
             "line": {
              "color": "#E5ECF6",
              "width": 0.5
             },
             "pattern": {
              "fillmode": "overlay",
              "size": 10,
              "solidity": 0.2
             }
            },
            "type": "bar"
           }
          ],
          "barpolar": [
           {
            "marker": {
             "line": {
              "color": "#E5ECF6",
              "width": 0.5
             },
             "pattern": {
              "fillmode": "overlay",
              "size": 10,
              "solidity": 0.2
             }
            },
            "type": "barpolar"
           }
          ],
          "carpet": [
           {
            "aaxis": {
             "endlinecolor": "#2a3f5f",
             "gridcolor": "white",
             "linecolor": "white",
             "minorgridcolor": "white",
             "startlinecolor": "#2a3f5f"
            },
            "baxis": {
             "endlinecolor": "#2a3f5f",
             "gridcolor": "white",
             "linecolor": "white",
             "minorgridcolor": "white",
             "startlinecolor": "#2a3f5f"
            },
            "type": "carpet"
           }
          ],
          "choropleth": [
           {
            "colorbar": {
             "outlinewidth": 0,
             "ticks": ""
            },
            "type": "choropleth"
           }
          ],
          "contour": [
           {
            "colorbar": {
             "outlinewidth": 0,
             "ticks": ""
            },
            "colorscale": [
             [
              0,
              "#0d0887"
             ],
             [
              0.1111111111111111,
              "#46039f"
             ],
             [
              0.2222222222222222,
              "#7201a8"
             ],
             [
              0.3333333333333333,
              "#9c179e"
             ],
             [
              0.4444444444444444,
              "#bd3786"
             ],
             [
              0.5555555555555556,
              "#d8576b"
             ],
             [
              0.6666666666666666,
              "#ed7953"
             ],
             [
              0.7777777777777778,
              "#fb9f3a"
             ],
             [
              0.8888888888888888,
              "#fdca26"
             ],
             [
              1,
              "#f0f921"
             ]
            ],
            "type": "contour"
           }
          ],
          "contourcarpet": [
           {
            "colorbar": {
             "outlinewidth": 0,
             "ticks": ""
            },
            "type": "contourcarpet"
           }
          ],
          "heatmap": [
           {
            "colorbar": {
             "outlinewidth": 0,
             "ticks": ""
            },
            "colorscale": [
             [
              0,
              "#0d0887"
             ],
             [
              0.1111111111111111,
              "#46039f"
             ],
             [
              0.2222222222222222,
              "#7201a8"
             ],
             [
              0.3333333333333333,
              "#9c179e"
             ],
             [
              0.4444444444444444,
              "#bd3786"
             ],
             [
              0.5555555555555556,
              "#d8576b"
             ],
             [
              0.6666666666666666,
              "#ed7953"
             ],
             [
              0.7777777777777778,
              "#fb9f3a"
             ],
             [
              0.8888888888888888,
              "#fdca26"
             ],
             [
              1,
              "#f0f921"
             ]
            ],
            "type": "heatmap"
           }
          ],
          "heatmapgl": [
           {
            "colorbar": {
             "outlinewidth": 0,
             "ticks": ""
            },
            "colorscale": [
             [
              0,
              "#0d0887"
             ],
             [
              0.1111111111111111,
              "#46039f"
             ],
             [
              0.2222222222222222,
              "#7201a8"
             ],
             [
              0.3333333333333333,
              "#9c179e"
             ],
             [
              0.4444444444444444,
              "#bd3786"
             ],
             [
              0.5555555555555556,
              "#d8576b"
             ],
             [
              0.6666666666666666,
              "#ed7953"
             ],
             [
              0.7777777777777778,
              "#fb9f3a"
             ],
             [
              0.8888888888888888,
              "#fdca26"
             ],
             [
              1,
              "#f0f921"
             ]
            ],
            "type": "heatmapgl"
           }
          ],
          "histogram": [
           {
            "marker": {
             "pattern": {
              "fillmode": "overlay",
              "size": 10,
              "solidity": 0.2
             }
            },
            "type": "histogram"
           }
          ],
          "histogram2d": [
           {
            "colorbar": {
             "outlinewidth": 0,
             "ticks": ""
            },
            "colorscale": [
             [
              0,
              "#0d0887"
             ],
             [
              0.1111111111111111,
              "#46039f"
             ],
             [
              0.2222222222222222,
              "#7201a8"
             ],
             [
              0.3333333333333333,
              "#9c179e"
             ],
             [
              0.4444444444444444,
              "#bd3786"
             ],
             [
              0.5555555555555556,
              "#d8576b"
             ],
             [
              0.6666666666666666,
              "#ed7953"
             ],
             [
              0.7777777777777778,
              "#fb9f3a"
             ],
             [
              0.8888888888888888,
              "#fdca26"
             ],
             [
              1,
              "#f0f921"
             ]
            ],
            "type": "histogram2d"
           }
          ],
          "histogram2dcontour": [
           {
            "colorbar": {
             "outlinewidth": 0,
             "ticks": ""
            },
            "colorscale": [
             [
              0,
              "#0d0887"
             ],
             [
              0.1111111111111111,
              "#46039f"
             ],
             [
              0.2222222222222222,
              "#7201a8"
             ],
             [
              0.3333333333333333,
              "#9c179e"
             ],
             [
              0.4444444444444444,
              "#bd3786"
             ],
             [
              0.5555555555555556,
              "#d8576b"
             ],
             [
              0.6666666666666666,
              "#ed7953"
             ],
             [
              0.7777777777777778,
              "#fb9f3a"
             ],
             [
              0.8888888888888888,
              "#fdca26"
             ],
             [
              1,
              "#f0f921"
             ]
            ],
            "type": "histogram2dcontour"
           }
          ],
          "mesh3d": [
           {
            "colorbar": {
             "outlinewidth": 0,
             "ticks": ""
            },
            "type": "mesh3d"
           }
          ],
          "parcoords": [
           {
            "line": {
             "colorbar": {
              "outlinewidth": 0,
              "ticks": ""
             }
            },
            "type": "parcoords"
           }
          ],
          "pie": [
           {
            "automargin": true,
            "type": "pie"
           }
          ],
          "scatter": [
           {
            "marker": {
             "colorbar": {
              "outlinewidth": 0,
              "ticks": ""
             }
            },
            "type": "scatter"
           }
          ],
          "scatter3d": [
           {
            "line": {
             "colorbar": {
              "outlinewidth": 0,
              "ticks": ""
             }
            },
            "marker": {
             "colorbar": {
              "outlinewidth": 0,
              "ticks": ""
             }
            },
            "type": "scatter3d"
           }
          ],
          "scattercarpet": [
           {
            "marker": {
             "colorbar": {
              "outlinewidth": 0,
              "ticks": ""
             }
            },
            "type": "scattercarpet"
           }
          ],
          "scattergeo": [
           {
            "marker": {
             "colorbar": {
              "outlinewidth": 0,
              "ticks": ""
             }
            },
            "type": "scattergeo"
           }
          ],
          "scattergl": [
           {
            "marker": {
             "colorbar": {
              "outlinewidth": 0,
              "ticks": ""
             }
            },
            "type": "scattergl"
           }
          ],
          "scattermapbox": [
           {
            "marker": {
             "colorbar": {
              "outlinewidth": 0,
              "ticks": ""
             }
            },
            "type": "scattermapbox"
           }
          ],
          "scatterpolar": [
           {
            "marker": {
             "colorbar": {
              "outlinewidth": 0,
              "ticks": ""
             }
            },
            "type": "scatterpolar"
           }
          ],
          "scatterpolargl": [
           {
            "marker": {
             "colorbar": {
              "outlinewidth": 0,
              "ticks": ""
             }
            },
            "type": "scatterpolargl"
           }
          ],
          "scatterternary": [
           {
            "marker": {
             "colorbar": {
              "outlinewidth": 0,
              "ticks": ""
             }
            },
            "type": "scatterternary"
           }
          ],
          "surface": [
           {
            "colorbar": {
             "outlinewidth": 0,
             "ticks": ""
            },
            "colorscale": [
             [
              0,
              "#0d0887"
             ],
             [
              0.1111111111111111,
              "#46039f"
             ],
             [
              0.2222222222222222,
              "#7201a8"
             ],
             [
              0.3333333333333333,
              "#9c179e"
             ],
             [
              0.4444444444444444,
              "#bd3786"
             ],
             [
              0.5555555555555556,
              "#d8576b"
             ],
             [
              0.6666666666666666,
              "#ed7953"
             ],
             [
              0.7777777777777778,
              "#fb9f3a"
             ],
             [
              0.8888888888888888,
              "#fdca26"
             ],
             [
              1,
              "#f0f921"
             ]
            ],
            "type": "surface"
           }
          ],
          "table": [
           {
            "cells": {
             "fill": {
              "color": "#EBF0F8"
             },
             "line": {
              "color": "white"
             }
            },
            "header": {
             "fill": {
              "color": "#C8D4E3"
             },
             "line": {
              "color": "white"
             }
            },
            "type": "table"
           }
          ]
         },
         "layout": {
          "annotationdefaults": {
           "arrowcolor": "#2a3f5f",
           "arrowhead": 0,
           "arrowwidth": 1
          },
          "autotypenumbers": "strict",
          "coloraxis": {
           "colorbar": {
            "outlinewidth": 0,
            "ticks": ""
           }
          },
          "colorscale": {
           "diverging": [
            [
             0,
             "#8e0152"
            ],
            [
             0.1,
             "#c51b7d"
            ],
            [
             0.2,
             "#de77ae"
            ],
            [
             0.3,
             "#f1b6da"
            ],
            [
             0.4,
             "#fde0ef"
            ],
            [
             0.5,
             "#f7f7f7"
            ],
            [
             0.6,
             "#e6f5d0"
            ],
            [
             0.7,
             "#b8e186"
            ],
            [
             0.8,
             "#7fbc41"
            ],
            [
             0.9,
             "#4d9221"
            ],
            [
             1,
             "#276419"
            ]
           ],
           "sequential": [
            [
             0,
             "#0d0887"
            ],
            [
             0.1111111111111111,
             "#46039f"
            ],
            [
             0.2222222222222222,
             "#7201a8"
            ],
            [
             0.3333333333333333,
             "#9c179e"
            ],
            [
             0.4444444444444444,
             "#bd3786"
            ],
            [
             0.5555555555555556,
             "#d8576b"
            ],
            [
             0.6666666666666666,
             "#ed7953"
            ],
            [
             0.7777777777777778,
             "#fb9f3a"
            ],
            [
             0.8888888888888888,
             "#fdca26"
            ],
            [
             1,
             "#f0f921"
            ]
           ],
           "sequentialminus": [
            [
             0,
             "#0d0887"
            ],
            [
             0.1111111111111111,
             "#46039f"
            ],
            [
             0.2222222222222222,
             "#7201a8"
            ],
            [
             0.3333333333333333,
             "#9c179e"
            ],
            [
             0.4444444444444444,
             "#bd3786"
            ],
            [
             0.5555555555555556,
             "#d8576b"
            ],
            [
             0.6666666666666666,
             "#ed7953"
            ],
            [
             0.7777777777777778,
             "#fb9f3a"
            ],
            [
             0.8888888888888888,
             "#fdca26"
            ],
            [
             1,
             "#f0f921"
            ]
           ]
          },
          "colorway": [
           "#636efa",
           "#EF553B",
           "#00cc96",
           "#ab63fa",
           "#FFA15A",
           "#19d3f3",
           "#FF6692",
           "#B6E880",
           "#FF97FF",
           "#FECB52"
          ],
          "font": {
           "color": "#2a3f5f"
          },
          "geo": {
           "bgcolor": "white",
           "lakecolor": "white",
           "landcolor": "#E5ECF6",
           "showlakes": true,
           "showland": true,
           "subunitcolor": "white"
          },
          "hoverlabel": {
           "align": "left"
          },
          "hovermode": "closest",
          "mapbox": {
           "style": "light"
          },
          "paper_bgcolor": "white",
          "plot_bgcolor": "#E5ECF6",
          "polar": {
           "angularaxis": {
            "gridcolor": "white",
            "linecolor": "white",
            "ticks": ""
           },
           "bgcolor": "#E5ECF6",
           "radialaxis": {
            "gridcolor": "white",
            "linecolor": "white",
            "ticks": ""
           }
          },
          "scene": {
           "xaxis": {
            "backgroundcolor": "#E5ECF6",
            "gridcolor": "white",
            "gridwidth": 2,
            "linecolor": "white",
            "showbackground": true,
            "ticks": "",
            "zerolinecolor": "white"
           },
           "yaxis": {
            "backgroundcolor": "#E5ECF6",
            "gridcolor": "white",
            "gridwidth": 2,
            "linecolor": "white",
            "showbackground": true,
            "ticks": "",
            "zerolinecolor": "white"
           },
           "zaxis": {
            "backgroundcolor": "#E5ECF6",
            "gridcolor": "white",
            "gridwidth": 2,
            "linecolor": "white",
            "showbackground": true,
            "ticks": "",
            "zerolinecolor": "white"
           }
          },
          "shapedefaults": {
           "line": {
            "color": "#2a3f5f"
           }
          },
          "ternary": {
           "aaxis": {
            "gridcolor": "white",
            "linecolor": "white",
            "ticks": ""
           },
           "baxis": {
            "gridcolor": "white",
            "linecolor": "white",
            "ticks": ""
           },
           "bgcolor": "#E5ECF6",
           "caxis": {
            "gridcolor": "white",
            "linecolor": "white",
            "ticks": ""
           }
          },
          "title": {
           "x": 0.05
          },
          "xaxis": {
           "automargin": true,
           "gridcolor": "white",
           "linecolor": "white",
           "ticks": "",
           "title": {
            "standoff": 15
           },
           "zerolinecolor": "white",
           "zerolinewidth": 2
          },
          "yaxis": {
           "automargin": true,
           "gridcolor": "white",
           "linecolor": "white",
           "ticks": "",
           "title": {
            "standoff": 15
           },
           "zerolinecolor": "white",
           "zerolinewidth": 2
          }
         }
        },
        "title": {
         "text": "Total Process Flow",
         "x": 0.6,
         "xanchor": "center"
        },
        "xaxis": {
         "anchor": "y",
         "domain": [
          0,
          1
         ],
         "title": {
          "font": {
           "color": "Black",
           "family": "Arial",
           "size": 18
          },
          "text": "x Axis"
         }
        },
        "yaxis": {
         "anchor": "x",
         "domain": [
          0,
          1
         ],
         "title": {
          "font": {
           "color": "black",
           "family": "Arial",
           "size": 18
          },
          "text": "Scenario-4 Process Time Delta"
         }
        }
       }
      }
     },
     "metadata": {},
     "output_type": "display_data"
    }
   ],
   "source": [
    "row_wise_percent_df = scenario_4_df_time[scenario_4_df_time.columns[:-1]]\n",
    "\n",
    "row_wise_percent_df = row_wise_percent_df.div(row_wise_percent_df.sum(axis=1), axis=0).round(2)\n",
    "# print(row_wise_percent_df)\n",
    "try:\n",
    "    row_wise_percent_df = row_wise_percent_df.multiply(100).astype(int)\n",
    "except:\n",
    "    pass\n",
    "\n",
    "scenario_4_df_time_object = scenario_4_df_time.copy()\n",
    "\n",
    "for i in scenario_4_df_time_object.columns:\n",
    "    scenario_4_df_time_object[i] = scenario_4_df_time_object[i].astype(str)\n",
    "    \n",
    "for idx, val in enumerate(row_wise_percent_df.index):\n",
    "    values_to_be_used = scenario_4_df_time.values.tolist()[idx]\n",
    "    variable_names = scenario_4_df_time.columns\n",
    "    #variable_names = [x[14:] for x in variable_names]\n",
    "\n",
    "    annotation_names = scenario_4_df_time_object.values.tolist()[idx]\n",
    "    annotation_names = [x[:-3] for x in annotation_names]\n",
    "\n",
    "\n",
    "    per_annot = row_wise_percent_df.values.tolist()[idx]\n",
    "\n",
    "    fig = make_subplots()\n",
    "\n",
    "    fig.add_trace(\n",
    "        go.Funnel(\n",
    "        y = variable_names[:-1],\n",
    "        x = values_to_be_used[:-1],\n",
    "        textposition='none',\n",
    "            marker = {\"color\": [blue_color, blue_color, blue_color, blue_color, blue_color,\\\n",
    "                           blue_color, blue_color, blue_color,blue_color, blue_color, blue_color]}))\n",
    "\n",
    "\n",
    "    for i,y,k in zip(variable_names[:-1],annotation_names[:-1],per_annot):\n",
    "        fig.add_annotation(y=i,xanchor='left',\n",
    "                    text=y+'-->'+str(k)+'%',align='right',showarrow=False)\n",
    "\n",
    "    fig.update_layout(margin={\"r\":0,\"t\":44,\"l\":0,\"b\":0},paper_bgcolor='rgb(455,455,455)',plot_bgcolor='rgba(0,0,0,0)',\n",
    "                      title={'text':str(val)+' Process Flow','xanchor': 'center','x':0.6\n",
    "    },font=dict(color='black'),\n",
    "\n",
    "    xaxis=dict(\n",
    "        title='x Axis',\n",
    "        titlefont=dict(\n",
    "            family='Arial',\n",
    "            size=18,\n",
    "            color='Black'\n",
    "        )\n",
    "    ),\n",
    "    yaxis=dict(\n",
    "        title='Scenario-4 Process Time Delta',\n",
    "        titlefont=dict(\n",
    "            family='Arial',\n",
    "            size=18,\n",
    "            color='black'\n",
    "        )\n",
    "    ))\n",
    "\n",
    "\n",
    "    fig.write_image(output_distribution_sce_4+str(val)+\"_overall.png\") #pip install -U kaleido & restart jupyter\n",
    "\n",
    "\n",
    "fig.show()"
   ]
  },
  {
   "cell_type": "markdown",
   "metadata": {},
   "source": [
    "# Minimum value visualization"
   ]
  },
  {
   "cell_type": "markdown",
   "metadata": {},
   "source": [
    "# Scenario-1"
   ]
  },
  {
   "cell_type": "code",
   "execution_count": 22,
   "metadata": {},
   "outputs": [],
   "source": [
    "scenario_1_df_mintime = scenario_1_df.set_index('pharmacy_loc')  #Nan --->Total\n",
    "scenario_1_df_mintime\n",
    "\n",
    "#####\n",
    "scenario_1_df_mintime.rename(index={np.nan:'Total'},inplace=True)\n",
    "scenario_1_df_mintime\n",
    "\n",
    "#####\n",
    "my_string  = scenario_1_df_mintime.columns.str[12:]\n",
    "new_column_names = []\n",
    "for i in my_string:\n",
    "    nn = i.replace(\"_\", \" \")\n",
    "    new_column_names.append(nn)\n",
    "\n",
    "scenario_1_df_mintime.columns = new_column_names\n",
    "\n",
    "#####\n",
    "for i in scenario_1_df_mintime.columns:\n",
    "    #scenario_1_df_mintime[i] = scenario_1_df_mintime[i].astype(str).str[0:15]\n",
    "\n",
    "    scenario_1_df_mintime[i] = pd.to_timedelta(scenario_1_df_mintime[i]).dt.round('s')"
   ]
  },
  {
   "cell_type": "code",
   "execution_count": 23,
   "metadata": {},
   "outputs": [
    {
     "data": {
      "text/html": [
       "<div>\n",
       "<style scoped>\n",
       "    .dataframe tbody tr th:only-of-type {\n",
       "        vertical-align: middle;\n",
       "    }\n",
       "\n",
       "    .dataframe tbody tr th {\n",
       "        vertical-align: top;\n",
       "    }\n",
       "\n",
       "    .dataframe thead th {\n",
       "        text-align: right;\n",
       "    }\n",
       "</style>\n",
       "<table border=\"1\" class=\"dataframe\">\n",
       "  <thead>\n",
       "    <tr style=\"text-align: right;\">\n",
       "      <th></th>\n",
       "      <th>received to entered time</th>\n",
       "      <th>entered to first billed</th>\n",
       "      <th>first billed to last billed</th>\n",
       "      <th>last billed to label printed</th>\n",
       "      <th>label printed to drug picked</th>\n",
       "      <th>drug picked to rph verified</th>\n",
       "      <th>rph verified to pharmacy pickedup</th>\n",
       "      <th>rph verified to delivered</th>\n",
       "      <th>final received to delivered</th>\n",
       "    </tr>\n",
       "    <tr>\n",
       "      <th>pharmacy_loc</th>\n",
       "      <th></th>\n",
       "      <th></th>\n",
       "      <th></th>\n",
       "      <th></th>\n",
       "      <th></th>\n",
       "      <th></th>\n",
       "      <th></th>\n",
       "      <th></th>\n",
       "      <th></th>\n",
       "    </tr>\n",
       "  </thead>\n",
       "  <tbody>\n",
       "    <tr>\n",
       "      <th>FL-MI</th>\n",
       "      <td>0 days 03:01:00</td>\n",
       "      <td>0 days 00:05:45</td>\n",
       "      <td>0 days 00:00:00</td>\n",
       "      <td>0 days 00:42:28</td>\n",
       "      <td>0 days 01:29:12</td>\n",
       "      <td>0 days 00:58:50</td>\n",
       "      <td>0 days 02:12:12</td>\n",
       "      <td>1 days 01:47:58</td>\n",
       "      <td>4 days 04:35:36</td>\n",
       "    </tr>\n",
       "    <tr>\n",
       "      <th>MD-BA</th>\n",
       "      <td>0 days 01:07:00</td>\n",
       "      <td>0 days 00:08:35</td>\n",
       "      <td>0 days 00:00:13</td>\n",
       "      <td>0 days 00:17:19</td>\n",
       "      <td>0 days 00:20:25</td>\n",
       "      <td>0 days 00:52:40</td>\n",
       "      <td>0 days 02:39:33</td>\n",
       "      <td>2 days 00:32:43</td>\n",
       "      <td>6 days 22:44:12</td>\n",
       "    </tr>\n",
       "    <tr>\n",
       "      <th>NC-RA</th>\n",
       "      <td>0 days 01:59:56</td>\n",
       "      <td>0 days 00:54:50</td>\n",
       "      <td>0 days 00:00:00</td>\n",
       "      <td>0 days 00:00:08</td>\n",
       "      <td>0 days 00:25:06</td>\n",
       "      <td>0 days 00:02:12</td>\n",
       "      <td>0 days 22:56:14</td>\n",
       "      <td>2 days 00:31:33</td>\n",
       "      <td>4 days 22:04:03</td>\n",
       "    </tr>\n",
       "    <tr>\n",
       "      <th>NJ-SO</th>\n",
       "      <td>0 days 01:30:00</td>\n",
       "      <td>0 days 04:30:02</td>\n",
       "      <td>0 days 00:00:06</td>\n",
       "      <td>0 days 00:46:49</td>\n",
       "      <td>0 days 00:41:49</td>\n",
       "      <td>0 days 00:40:02</td>\n",
       "      <td>0 days 05:32:14</td>\n",
       "      <td>2 days 21:13:16</td>\n",
       "      <td>7 days 23:53:29</td>\n",
       "    </tr>\n",
       "    <tr>\n",
       "      <th>NY-BK</th>\n",
       "      <td>0 days 00:22:31</td>\n",
       "      <td>0 days 03:54:53</td>\n",
       "      <td>0 days 00:00:05</td>\n",
       "      <td>0 days 01:41:04</td>\n",
       "      <td>0 days 01:15:38</td>\n",
       "      <td>0 days 00:55:51</td>\n",
       "      <td>0 days 05:06:25</td>\n",
       "      <td>1 days 21:27:22</td>\n",
       "      <td>7 days 12:54:18</td>\n",
       "    </tr>\n",
       "    <tr>\n",
       "      <th>NY-MA</th>\n",
       "      <td>0 days 00:50:00</td>\n",
       "      <td>0 days 00:02:41</td>\n",
       "      <td>0 days 00:00:00</td>\n",
       "      <td>0 days 00:00:13</td>\n",
       "      <td>0 days 01:07:17</td>\n",
       "      <td>0 days 01:12:58</td>\n",
       "      <td>0 days 22:35:34</td>\n",
       "      <td>1 days 20:58:12</td>\n",
       "      <td>5 days 22:07:43</td>\n",
       "    </tr>\n",
       "    <tr>\n",
       "      <th>PA-PH</th>\n",
       "      <td>0 days 01:01:00</td>\n",
       "      <td>0 days 00:30:30</td>\n",
       "      <td>0 days 00:00:00</td>\n",
       "      <td>0 days 01:49:42</td>\n",
       "      <td>0 days 00:47:50</td>\n",
       "      <td>0 days 01:08:49</td>\n",
       "      <td>0 days 23:16:58</td>\n",
       "      <td>3 days 03:36:47</td>\n",
       "      <td>7 days 03:15:07</td>\n",
       "    </tr>\n",
       "  </tbody>\n",
       "</table>\n",
       "</div>"
      ],
      "text/plain": [
       "             received to entered time entered to first billed  \\\n",
       "pharmacy_loc                                                    \n",
       "FL-MI                 0 days 03:01:00         0 days 00:05:45   \n",
       "MD-BA                 0 days 01:07:00         0 days 00:08:35   \n",
       "NC-RA                 0 days 01:59:56         0 days 00:54:50   \n",
       "NJ-SO                 0 days 01:30:00         0 days 04:30:02   \n",
       "NY-BK                 0 days 00:22:31         0 days 03:54:53   \n",
       "NY-MA                 0 days 00:50:00         0 days 00:02:41   \n",
       "PA-PH                 0 days 01:01:00         0 days 00:30:30   \n",
       "\n",
       "             first billed to last billed last billed to label printed  \\\n",
       "pharmacy_loc                                                            \n",
       "FL-MI                    0 days 00:00:00              0 days 00:42:28   \n",
       "MD-BA                    0 days 00:00:13              0 days 00:17:19   \n",
       "NC-RA                    0 days 00:00:00              0 days 00:00:08   \n",
       "NJ-SO                    0 days 00:00:06              0 days 00:46:49   \n",
       "NY-BK                    0 days 00:00:05              0 days 01:41:04   \n",
       "NY-MA                    0 days 00:00:00              0 days 00:00:13   \n",
       "PA-PH                    0 days 00:00:00              0 days 01:49:42   \n",
       "\n",
       "             label printed to drug picked drug picked to rph verified  \\\n",
       "pharmacy_loc                                                            \n",
       "FL-MI                     0 days 01:29:12             0 days 00:58:50   \n",
       "MD-BA                     0 days 00:20:25             0 days 00:52:40   \n",
       "NC-RA                     0 days 00:25:06             0 days 00:02:12   \n",
       "NJ-SO                     0 days 00:41:49             0 days 00:40:02   \n",
       "NY-BK                     0 days 01:15:38             0 days 00:55:51   \n",
       "NY-MA                     0 days 01:07:17             0 days 01:12:58   \n",
       "PA-PH                     0 days 00:47:50             0 days 01:08:49   \n",
       "\n",
       "             rph verified to pharmacy pickedup rph verified to delivered  \\\n",
       "pharmacy_loc                                                               \n",
       "FL-MI                          0 days 02:12:12           1 days 01:47:58   \n",
       "MD-BA                          0 days 02:39:33           2 days 00:32:43   \n",
       "NC-RA                          0 days 22:56:14           2 days 00:31:33   \n",
       "NJ-SO                          0 days 05:32:14           2 days 21:13:16   \n",
       "NY-BK                          0 days 05:06:25           1 days 21:27:22   \n",
       "NY-MA                          0 days 22:35:34           1 days 20:58:12   \n",
       "PA-PH                          0 days 23:16:58           3 days 03:36:47   \n",
       "\n",
       "             final received to delivered  \n",
       "pharmacy_loc                              \n",
       "FL-MI                    4 days 04:35:36  \n",
       "MD-BA                    6 days 22:44:12  \n",
       "NC-RA                    4 days 22:04:03  \n",
       "NJ-SO                    7 days 23:53:29  \n",
       "NY-BK                    7 days 12:54:18  \n",
       "NY-MA                    5 days 22:07:43  \n",
       "PA-PH                    7 days 03:15:07  "
      ]
     },
     "execution_count": 23,
     "metadata": {},
     "output_type": "execute_result"
    }
   ],
   "source": [
    "scen_1_min_df = scenario_1_df_mintime.iloc[:-1,:]\n",
    "scen_1_min_df"
   ]
  },
  {
   "cell_type": "code",
   "execution_count": 24,
   "metadata": {},
   "outputs": [],
   "source": [
    "scen_1_min_df_final = pd.DataFrame(columns=['min value','pharmacy loc'],index=range(0,len(scen_1_min_df.columns)))\n",
    "scen_1_min_df_final['min value'] = scen_1_min_df.min(axis=0).values\n",
    "scen_1_min_df_final['pharmacy loc'] = scen_1_min_df.idxmin().values\n",
    "scen_1_min_df_final['deltatime'] = scen_1_min_df.columns\n",
    "\n",
    "#####\n",
    "scen_1_min_df_final['text'] = scen_1_min_df_final['pharmacy loc']+' - '+scen_1_min_df_final['min value'].astype(str)"
   ]
  },
  {
   "cell_type": "code",
   "execution_count": 25,
   "metadata": {},
   "outputs": [
    {
     "data": {
      "text/plain": [
       "received to entered time             NY-BK\n",
       "entered to first billed              NY-MA\n",
       "first billed to last billed          FL-MI\n",
       "last billed to label printed         NC-RA\n",
       "label printed to drug picked         MD-BA\n",
       "drug picked to rph verified          NC-RA\n",
       "rph verified to pharmacy pickedup    FL-MI\n",
       "rph verified to delivered            FL-MI\n",
       "final received to delivered          FL-MI\n",
       "dtype: object"
      ]
     },
     "execution_count": 25,
     "metadata": {},
     "output_type": "execute_result"
    }
   ],
   "source": [
    "scen_1_min_df.min(axis=0)\n",
    "#####\n",
    "scen_1_min_df.idxmin()"
   ]
  },
  {
   "cell_type": "code",
   "execution_count": 26,
   "metadata": {},
   "outputs": [
    {
     "data": {
      "text/html": [
       "<div>\n",
       "<style scoped>\n",
       "    .dataframe tbody tr th:only-of-type {\n",
       "        vertical-align: middle;\n",
       "    }\n",
       "\n",
       "    .dataframe tbody tr th {\n",
       "        vertical-align: top;\n",
       "    }\n",
       "\n",
       "    .dataframe thead th {\n",
       "        text-align: right;\n",
       "    }\n",
       "</style>\n",
       "<table border=\"1\" class=\"dataframe\">\n",
       "  <thead>\n",
       "    <tr style=\"text-align: right;\">\n",
       "      <th></th>\n",
       "      <th>min value</th>\n",
       "      <th>pharmacy loc</th>\n",
       "      <th>deltatime</th>\n",
       "      <th>text</th>\n",
       "    </tr>\n",
       "  </thead>\n",
       "  <tbody>\n",
       "    <tr>\n",
       "      <th>0</th>\n",
       "      <td>0 days 00:22:31</td>\n",
       "      <td>NY-BK</td>\n",
       "      <td>received to entered time</td>\n",
       "      <td>NY-BK - 0 days 00:22:31</td>\n",
       "    </tr>\n",
       "    <tr>\n",
       "      <th>1</th>\n",
       "      <td>0 days 00:02:41</td>\n",
       "      <td>NY-MA</td>\n",
       "      <td>entered to first billed</td>\n",
       "      <td>NY-MA - 0 days 00:02:41</td>\n",
       "    </tr>\n",
       "    <tr>\n",
       "      <th>2</th>\n",
       "      <td>0 days 00:00:00</td>\n",
       "      <td>FL-MI</td>\n",
       "      <td>first billed to last billed</td>\n",
       "      <td>FL-MI - 0 days 00:00:00</td>\n",
       "    </tr>\n",
       "    <tr>\n",
       "      <th>3</th>\n",
       "      <td>0 days 00:00:08</td>\n",
       "      <td>NC-RA</td>\n",
       "      <td>last billed to label printed</td>\n",
       "      <td>NC-RA - 0 days 00:00:08</td>\n",
       "    </tr>\n",
       "    <tr>\n",
       "      <th>4</th>\n",
       "      <td>0 days 00:20:25</td>\n",
       "      <td>MD-BA</td>\n",
       "      <td>label printed to drug picked</td>\n",
       "      <td>MD-BA - 0 days 00:20:25</td>\n",
       "    </tr>\n",
       "    <tr>\n",
       "      <th>5</th>\n",
       "      <td>0 days 00:02:12</td>\n",
       "      <td>NC-RA</td>\n",
       "      <td>drug picked to rph verified</td>\n",
       "      <td>NC-RA - 0 days 00:02:12</td>\n",
       "    </tr>\n",
       "    <tr>\n",
       "      <th>6</th>\n",
       "      <td>0 days 02:12:12</td>\n",
       "      <td>FL-MI</td>\n",
       "      <td>rph verified to pharmacy pickedup</td>\n",
       "      <td>FL-MI - 0 days 02:12:12</td>\n",
       "    </tr>\n",
       "    <tr>\n",
       "      <th>7</th>\n",
       "      <td>1 days 01:47:58</td>\n",
       "      <td>FL-MI</td>\n",
       "      <td>rph verified to delivered</td>\n",
       "      <td>FL-MI - 1 days 01:47:58</td>\n",
       "    </tr>\n",
       "  </tbody>\n",
       "</table>\n",
       "</div>"
      ],
      "text/plain": [
       "        min value pharmacy loc                          deltatime  \\\n",
       "0 0 days 00:22:31        NY-BK           received to entered time   \n",
       "1 0 days 00:02:41        NY-MA            entered to first billed   \n",
       "2 0 days 00:00:00        FL-MI        first billed to last billed   \n",
       "3 0 days 00:00:08        NC-RA       last billed to label printed   \n",
       "4 0 days 00:20:25        MD-BA       label printed to drug picked   \n",
       "5 0 days 00:02:12        NC-RA        drug picked to rph verified   \n",
       "6 0 days 02:12:12        FL-MI  rph verified to pharmacy pickedup   \n",
       "7 1 days 01:47:58        FL-MI          rph verified to delivered   \n",
       "\n",
       "                      text  \n",
       "0  NY-BK - 0 days 00:22:31  \n",
       "1  NY-MA - 0 days 00:02:41  \n",
       "2  FL-MI - 0 days 00:00:00  \n",
       "3  NC-RA - 0 days 00:00:08  \n",
       "4  MD-BA - 0 days 00:20:25  \n",
       "5  NC-RA - 0 days 00:02:12  \n",
       "6  FL-MI - 0 days 02:12:12  \n",
       "7  FL-MI - 1 days 01:47:58  "
      ]
     },
     "execution_count": 26,
     "metadata": {},
     "output_type": "execute_result"
    }
   ],
   "source": [
    "min_scenario_1_df = scen_1_min_df_final.iloc[:-1,:]\n",
    "min_scenario_1_df"
   ]
  },
  {
   "cell_type": "code",
   "execution_count": 27,
   "metadata": {},
   "outputs": [
    {
     "name": "stderr",
     "output_type": "stream",
     "text": [
      "<ipython-input-27-0ea25d0746d7>:21: SettingWithCopyWarning:\n",
      "\n",
      "\n",
      "A value is trying to be set on a copy of a slice from a DataFrame.\n",
      "Try using .loc[row_indexer,col_indexer] = value instead\n",
      "\n",
      "See the caveats in the documentation: https://pandas.pydata.org/pandas-docs/stable/user_guide/indexing.html#returning-a-view-versus-a-copy\n",
      "\n",
      "<ipython-input-27-0ea25d0746d7>:23: SettingWithCopyWarning:\n",
      "\n",
      "\n",
      "A value is trying to be set on a copy of a slice from a DataFrame.\n",
      "Try using .loc[row_indexer,col_indexer] = value instead\n",
      "\n",
      "See the caveats in the documentation: https://pandas.pydata.org/pandas-docs/stable/user_guide/indexing.html#returning-a-view-versus-a-copy\n",
      "\n"
     ]
    }
   ],
   "source": [
    "variable_names = min_scenario_1_df.deltatime.values\n",
    "#variable_names\n",
    "\n",
    "#####\n",
    "variable_names = variable_names\n",
    "# variable_names\n",
    "\n",
    "#####\n",
    "values_to_be_used = min_scenario_1_df['min value'].values.tolist()\n",
    "# values_to_be_used\n",
    "\n",
    "#####\n",
    "annotation_names = min_scenario_1_df['text'].values.tolist()\n",
    "# annotation_names\n",
    "\n",
    "#####\n",
    "annotation_names = [x[:-3] for x in annotation_names]\n",
    "# annotation_names\n",
    "\n",
    "#####\n",
    "min_scenario_1_df['min value'] = round(min_scenario_1_df['min value']/(min_scenario_1_df['min value'].sum())*100,2)\n",
    "# print(min_scenario_1_df['min value'])\n",
    "min_scenario_1_df['min value'] = round(min_scenario_1_df['min value'],0).astype('int')\n",
    "#####\n",
    "per_annot = min_scenario_1_df['min value'].values.tolist()\n",
    "# per_annot"
   ]
  },
  {
   "cell_type": "code",
   "execution_count": 28,
   "metadata": {},
   "outputs": [
    {
     "data": {
      "application/vnd.plotly.v1+json": {
       "config": {
        "plotlyServerURL": "https://plot.ly"
       },
       "data": [
        {
         "marker": {
          "color": [
           "#9EEDE0",
           "#9EEDE0",
           "#9EEDE0",
           "#9EEDE0",
           "#9EEDE0",
           "#9EEDE0",
           "#9EEDE0",
           "#9EEDE0",
           "#9EEDE0"
          ]
         },
         "showlegend": false,
         "textposition": "none",
         "type": "funnel",
         "x": [
          1351000000000,
          161000000000,
          0,
          8000000000,
          1225000000000,
          132000000000,
          7932000000000,
          92878000000000
         ],
         "y": [
          "received to entered time",
          "entered to first billed",
          "first billed to last billed",
          "last billed to label printed",
          "label printed to drug picked",
          "drug picked to rph verified",
          "rph verified to pharmacy pickedup",
          "rph verified to delivered"
         ]
        }
       ],
       "layout": {
        "annotations": [
         {
          "align": "right",
          "showarrow": false,
          "text": "NY-BK - 0 days 00:22-->1%",
          "xanchor": "left",
          "y": "received to entered time"
         },
         {
          "align": "right",
          "showarrow": false,
          "text": "NY-MA - 0 days 00:02-->0%",
          "xanchor": "left",
          "y": "entered to first billed"
         },
         {
          "align": "right",
          "showarrow": false,
          "text": "FL-MI - 0 days 00:00-->0%",
          "xanchor": "left",
          "y": "first billed to last billed"
         },
         {
          "align": "right",
          "showarrow": false,
          "text": "NC-RA - 0 days 00:00-->0%",
          "xanchor": "left",
          "y": "last billed to label printed"
         },
         {
          "align": "right",
          "showarrow": false,
          "text": "MD-BA - 0 days 00:20-->1%",
          "xanchor": "left",
          "y": "label printed to drug picked"
         },
         {
          "align": "right",
          "showarrow": false,
          "text": "NC-RA - 0 days 00:02-->0%",
          "xanchor": "left",
          "y": "drug picked to rph verified"
         },
         {
          "align": "right",
          "showarrow": false,
          "text": "FL-MI - 0 days 02:12-->8%",
          "xanchor": "left",
          "y": "rph verified to pharmacy pickedup"
         },
         {
          "align": "right",
          "showarrow": false,
          "text": "FL-MI - 1 days 01:47-->90%",
          "xanchor": "left",
          "y": "rph verified to delivered"
         }
        ],
        "coloraxis": {
         "colorbar": {
          "title": {
           "text": "another title"
          }
         }
        },
        "font": {
         "color": "black"
        },
        "margin": {
         "b": 0,
         "l": 0,
         "r": 0,
         "t": 24
        },
        "paper_bgcolor": "rgb(255,255,255)",
        "plot_bgcolor": "rgba(0,0,0,0)",
        "template": {
         "data": {
          "bar": [
           {
            "error_x": {
             "color": "#2a3f5f"
            },
            "error_y": {
             "color": "#2a3f5f"
            },
            "marker": {
             "line": {
              "color": "#E5ECF6",
              "width": 0.5
             },
             "pattern": {
              "fillmode": "overlay",
              "size": 10,
              "solidity": 0.2
             }
            },
            "type": "bar"
           }
          ],
          "barpolar": [
           {
            "marker": {
             "line": {
              "color": "#E5ECF6",
              "width": 0.5
             },
             "pattern": {
              "fillmode": "overlay",
              "size": 10,
              "solidity": 0.2
             }
            },
            "type": "barpolar"
           }
          ],
          "carpet": [
           {
            "aaxis": {
             "endlinecolor": "#2a3f5f",
             "gridcolor": "white",
             "linecolor": "white",
             "minorgridcolor": "white",
             "startlinecolor": "#2a3f5f"
            },
            "baxis": {
             "endlinecolor": "#2a3f5f",
             "gridcolor": "white",
             "linecolor": "white",
             "minorgridcolor": "white",
             "startlinecolor": "#2a3f5f"
            },
            "type": "carpet"
           }
          ],
          "choropleth": [
           {
            "colorbar": {
             "outlinewidth": 0,
             "ticks": ""
            },
            "type": "choropleth"
           }
          ],
          "contour": [
           {
            "colorbar": {
             "outlinewidth": 0,
             "ticks": ""
            },
            "colorscale": [
             [
              0,
              "#0d0887"
             ],
             [
              0.1111111111111111,
              "#46039f"
             ],
             [
              0.2222222222222222,
              "#7201a8"
             ],
             [
              0.3333333333333333,
              "#9c179e"
             ],
             [
              0.4444444444444444,
              "#bd3786"
             ],
             [
              0.5555555555555556,
              "#d8576b"
             ],
             [
              0.6666666666666666,
              "#ed7953"
             ],
             [
              0.7777777777777778,
              "#fb9f3a"
             ],
             [
              0.8888888888888888,
              "#fdca26"
             ],
             [
              1,
              "#f0f921"
             ]
            ],
            "type": "contour"
           }
          ],
          "contourcarpet": [
           {
            "colorbar": {
             "outlinewidth": 0,
             "ticks": ""
            },
            "type": "contourcarpet"
           }
          ],
          "heatmap": [
           {
            "colorbar": {
             "outlinewidth": 0,
             "ticks": ""
            },
            "colorscale": [
             [
              0,
              "#0d0887"
             ],
             [
              0.1111111111111111,
              "#46039f"
             ],
             [
              0.2222222222222222,
              "#7201a8"
             ],
             [
              0.3333333333333333,
              "#9c179e"
             ],
             [
              0.4444444444444444,
              "#bd3786"
             ],
             [
              0.5555555555555556,
              "#d8576b"
             ],
             [
              0.6666666666666666,
              "#ed7953"
             ],
             [
              0.7777777777777778,
              "#fb9f3a"
             ],
             [
              0.8888888888888888,
              "#fdca26"
             ],
             [
              1,
              "#f0f921"
             ]
            ],
            "type": "heatmap"
           }
          ],
          "heatmapgl": [
           {
            "colorbar": {
             "outlinewidth": 0,
             "ticks": ""
            },
            "colorscale": [
             [
              0,
              "#0d0887"
             ],
             [
              0.1111111111111111,
              "#46039f"
             ],
             [
              0.2222222222222222,
              "#7201a8"
             ],
             [
              0.3333333333333333,
              "#9c179e"
             ],
             [
              0.4444444444444444,
              "#bd3786"
             ],
             [
              0.5555555555555556,
              "#d8576b"
             ],
             [
              0.6666666666666666,
              "#ed7953"
             ],
             [
              0.7777777777777778,
              "#fb9f3a"
             ],
             [
              0.8888888888888888,
              "#fdca26"
             ],
             [
              1,
              "#f0f921"
             ]
            ],
            "type": "heatmapgl"
           }
          ],
          "histogram": [
           {
            "marker": {
             "pattern": {
              "fillmode": "overlay",
              "size": 10,
              "solidity": 0.2
             }
            },
            "type": "histogram"
           }
          ],
          "histogram2d": [
           {
            "colorbar": {
             "outlinewidth": 0,
             "ticks": ""
            },
            "colorscale": [
             [
              0,
              "#0d0887"
             ],
             [
              0.1111111111111111,
              "#46039f"
             ],
             [
              0.2222222222222222,
              "#7201a8"
             ],
             [
              0.3333333333333333,
              "#9c179e"
             ],
             [
              0.4444444444444444,
              "#bd3786"
             ],
             [
              0.5555555555555556,
              "#d8576b"
             ],
             [
              0.6666666666666666,
              "#ed7953"
             ],
             [
              0.7777777777777778,
              "#fb9f3a"
             ],
             [
              0.8888888888888888,
              "#fdca26"
             ],
             [
              1,
              "#f0f921"
             ]
            ],
            "type": "histogram2d"
           }
          ],
          "histogram2dcontour": [
           {
            "colorbar": {
             "outlinewidth": 0,
             "ticks": ""
            },
            "colorscale": [
             [
              0,
              "#0d0887"
             ],
             [
              0.1111111111111111,
              "#46039f"
             ],
             [
              0.2222222222222222,
              "#7201a8"
             ],
             [
              0.3333333333333333,
              "#9c179e"
             ],
             [
              0.4444444444444444,
              "#bd3786"
             ],
             [
              0.5555555555555556,
              "#d8576b"
             ],
             [
              0.6666666666666666,
              "#ed7953"
             ],
             [
              0.7777777777777778,
              "#fb9f3a"
             ],
             [
              0.8888888888888888,
              "#fdca26"
             ],
             [
              1,
              "#f0f921"
             ]
            ],
            "type": "histogram2dcontour"
           }
          ],
          "mesh3d": [
           {
            "colorbar": {
             "outlinewidth": 0,
             "ticks": ""
            },
            "type": "mesh3d"
           }
          ],
          "parcoords": [
           {
            "line": {
             "colorbar": {
              "outlinewidth": 0,
              "ticks": ""
             }
            },
            "type": "parcoords"
           }
          ],
          "pie": [
           {
            "automargin": true,
            "type": "pie"
           }
          ],
          "scatter": [
           {
            "marker": {
             "colorbar": {
              "outlinewidth": 0,
              "ticks": ""
             }
            },
            "type": "scatter"
           }
          ],
          "scatter3d": [
           {
            "line": {
             "colorbar": {
              "outlinewidth": 0,
              "ticks": ""
             }
            },
            "marker": {
             "colorbar": {
              "outlinewidth": 0,
              "ticks": ""
             }
            },
            "type": "scatter3d"
           }
          ],
          "scattercarpet": [
           {
            "marker": {
             "colorbar": {
              "outlinewidth": 0,
              "ticks": ""
             }
            },
            "type": "scattercarpet"
           }
          ],
          "scattergeo": [
           {
            "marker": {
             "colorbar": {
              "outlinewidth": 0,
              "ticks": ""
             }
            },
            "type": "scattergeo"
           }
          ],
          "scattergl": [
           {
            "marker": {
             "colorbar": {
              "outlinewidth": 0,
              "ticks": ""
             }
            },
            "type": "scattergl"
           }
          ],
          "scattermapbox": [
           {
            "marker": {
             "colorbar": {
              "outlinewidth": 0,
              "ticks": ""
             }
            },
            "type": "scattermapbox"
           }
          ],
          "scatterpolar": [
           {
            "marker": {
             "colorbar": {
              "outlinewidth": 0,
              "ticks": ""
             }
            },
            "type": "scatterpolar"
           }
          ],
          "scatterpolargl": [
           {
            "marker": {
             "colorbar": {
              "outlinewidth": 0,
              "ticks": ""
             }
            },
            "type": "scatterpolargl"
           }
          ],
          "scatterternary": [
           {
            "marker": {
             "colorbar": {
              "outlinewidth": 0,
              "ticks": ""
             }
            },
            "type": "scatterternary"
           }
          ],
          "surface": [
           {
            "colorbar": {
             "outlinewidth": 0,
             "ticks": ""
            },
            "colorscale": [
             [
              0,
              "#0d0887"
             ],
             [
              0.1111111111111111,
              "#46039f"
             ],
             [
              0.2222222222222222,
              "#7201a8"
             ],
             [
              0.3333333333333333,
              "#9c179e"
             ],
             [
              0.4444444444444444,
              "#bd3786"
             ],
             [
              0.5555555555555556,
              "#d8576b"
             ],
             [
              0.6666666666666666,
              "#ed7953"
             ],
             [
              0.7777777777777778,
              "#fb9f3a"
             ],
             [
              0.8888888888888888,
              "#fdca26"
             ],
             [
              1,
              "#f0f921"
             ]
            ],
            "type": "surface"
           }
          ],
          "table": [
           {
            "cells": {
             "fill": {
              "color": "#EBF0F8"
             },
             "line": {
              "color": "white"
             }
            },
            "header": {
             "fill": {
              "color": "#C8D4E3"
             },
             "line": {
              "color": "white"
             }
            },
            "type": "table"
           }
          ]
         },
         "layout": {
          "annotationdefaults": {
           "arrowcolor": "#2a3f5f",
           "arrowhead": 0,
           "arrowwidth": 1
          },
          "autotypenumbers": "strict",
          "coloraxis": {
           "colorbar": {
            "outlinewidth": 0,
            "ticks": ""
           }
          },
          "colorscale": {
           "diverging": [
            [
             0,
             "#8e0152"
            ],
            [
             0.1,
             "#c51b7d"
            ],
            [
             0.2,
             "#de77ae"
            ],
            [
             0.3,
             "#f1b6da"
            ],
            [
             0.4,
             "#fde0ef"
            ],
            [
             0.5,
             "#f7f7f7"
            ],
            [
             0.6,
             "#e6f5d0"
            ],
            [
             0.7,
             "#b8e186"
            ],
            [
             0.8,
             "#7fbc41"
            ],
            [
             0.9,
             "#4d9221"
            ],
            [
             1,
             "#276419"
            ]
           ],
           "sequential": [
            [
             0,
             "#0d0887"
            ],
            [
             0.1111111111111111,
             "#46039f"
            ],
            [
             0.2222222222222222,
             "#7201a8"
            ],
            [
             0.3333333333333333,
             "#9c179e"
            ],
            [
             0.4444444444444444,
             "#bd3786"
            ],
            [
             0.5555555555555556,
             "#d8576b"
            ],
            [
             0.6666666666666666,
             "#ed7953"
            ],
            [
             0.7777777777777778,
             "#fb9f3a"
            ],
            [
             0.8888888888888888,
             "#fdca26"
            ],
            [
             1,
             "#f0f921"
            ]
           ],
           "sequentialminus": [
            [
             0,
             "#0d0887"
            ],
            [
             0.1111111111111111,
             "#46039f"
            ],
            [
             0.2222222222222222,
             "#7201a8"
            ],
            [
             0.3333333333333333,
             "#9c179e"
            ],
            [
             0.4444444444444444,
             "#bd3786"
            ],
            [
             0.5555555555555556,
             "#d8576b"
            ],
            [
             0.6666666666666666,
             "#ed7953"
            ],
            [
             0.7777777777777778,
             "#fb9f3a"
            ],
            [
             0.8888888888888888,
             "#fdca26"
            ],
            [
             1,
             "#f0f921"
            ]
           ]
          },
          "colorway": [
           "#636efa",
           "#EF553B",
           "#00cc96",
           "#ab63fa",
           "#FFA15A",
           "#19d3f3",
           "#FF6692",
           "#B6E880",
           "#FF97FF",
           "#FECB52"
          ],
          "font": {
           "color": "#2a3f5f"
          },
          "geo": {
           "bgcolor": "white",
           "lakecolor": "white",
           "landcolor": "#E5ECF6",
           "showlakes": true,
           "showland": true,
           "subunitcolor": "white"
          },
          "hoverlabel": {
           "align": "left"
          },
          "hovermode": "closest",
          "mapbox": {
           "style": "light"
          },
          "paper_bgcolor": "white",
          "plot_bgcolor": "#E5ECF6",
          "polar": {
           "angularaxis": {
            "gridcolor": "white",
            "linecolor": "white",
            "ticks": ""
           },
           "bgcolor": "#E5ECF6",
           "radialaxis": {
            "gridcolor": "white",
            "linecolor": "white",
            "ticks": ""
           }
          },
          "scene": {
           "xaxis": {
            "backgroundcolor": "#E5ECF6",
            "gridcolor": "white",
            "gridwidth": 2,
            "linecolor": "white",
            "showbackground": true,
            "ticks": "",
            "zerolinecolor": "white"
           },
           "yaxis": {
            "backgroundcolor": "#E5ECF6",
            "gridcolor": "white",
            "gridwidth": 2,
            "linecolor": "white",
            "showbackground": true,
            "ticks": "",
            "zerolinecolor": "white"
           },
           "zaxis": {
            "backgroundcolor": "#E5ECF6",
            "gridcolor": "white",
            "gridwidth": 2,
            "linecolor": "white",
            "showbackground": true,
            "ticks": "",
            "zerolinecolor": "white"
           }
          },
          "shapedefaults": {
           "line": {
            "color": "#2a3f5f"
           }
          },
          "ternary": {
           "aaxis": {
            "gridcolor": "white",
            "linecolor": "white",
            "ticks": ""
           },
           "baxis": {
            "gridcolor": "white",
            "linecolor": "white",
            "ticks": ""
           },
           "bgcolor": "#E5ECF6",
           "caxis": {
            "gridcolor": "white",
            "linecolor": "white",
            "ticks": ""
           }
          },
          "title": {
           "x": 0.05
          },
          "xaxis": {
           "automargin": true,
           "gridcolor": "white",
           "linecolor": "white",
           "ticks": "",
           "title": {
            "standoff": 15
           },
           "zerolinecolor": "white",
           "zerolinewidth": 2
          },
          "yaxis": {
           "automargin": true,
           "gridcolor": "white",
           "linecolor": "white",
           "ticks": "",
           "title": {
            "standoff": 15
           },
           "zerolinecolor": "white",
           "zerolinewidth": 2
          }
         }
        },
        "title": {
         "text": "Process Flow Benchmark Time Duration",
         "x": 0.6,
         "xanchor": "center"
        },
        "xaxis": {
         "anchor": "y",
         "domain": [
          0,
          1
         ],
         "title": {
          "font": {
           "color": "black",
           "family": "Arial",
           "size": 18
          },
          "text": "x Axis"
         }
        },
        "yaxis": {
         "anchor": "x",
         "domain": [
          0,
          1
         ],
         "title": {
          "font": {
           "color": "black",
           "family": "Arial",
           "size": 18
          },
          "text": "Scenario-1 Process Time Delta"
         }
        }
       }
      }
     },
     "metadata": {},
     "output_type": "display_data"
    }
   ],
   "source": [
    "fig = make_subplots()\n",
    "fig.layout.coloraxis.colorbar.title = 'another title'\n",
    "\n",
    "fig.add_trace(\n",
    "    go.Funnel(\n",
    "    y = variable_names,\n",
    "    x = values_to_be_used,showlegend=False,\n",
    "    textposition='none',\n",
    "        #name='Continous Process',\n",
    "        marker = {\"color\": [green_color, green_color, green_color, green_color, green_color,\\\n",
    "                           green_color, green_color, green_color,green_color]}))\n",
    "\n",
    "\n",
    "for i,y,k in zip(variable_names,annotation_names,per_annot):\n",
    "    fig.add_annotation(y=i,xanchor='left',\n",
    "                text=y+'-->'+str(k)+'%',align='right',showarrow=False)\n",
    "\n",
    "fig.update_layout(margin={\"r\":0,\"t\":24,\"l\":0,\"b\":0},paper_bgcolor='rgb(255,255,255)',plot_bgcolor='rgba(0,0,0,0)',\n",
    "                  title={'text':'Process Flow Benchmark Time Duration','xanchor': 'center','x':0.6,\n",
    "},font=dict(color='black'),\n",
    "                  \n",
    "xaxis=dict(\n",
    "    title='x Axis',\n",
    "    titlefont=dict(\n",
    "        family='Arial',\n",
    "        size=18,\n",
    "        color='black'\n",
    "    )\n",
    "),\n",
    "yaxis=dict(\n",
    "    title='Scenario-1 Process Time Delta',\n",
    "    titlefont=dict(\n",
    "        family='Arial',\n",
    "        size=18,\n",
    "        color='black'\n",
    "    )\n",
    "))\n",
    "\n",
    "\n",
    "fig.write_image(output_distribution_sce_1+\"Scenario_1_min_overall.png\") #pip install -U kaleido & restart jupyter\n",
    "\n",
    "fig.show()\n"
   ]
  },
  {
   "cell_type": "markdown",
   "metadata": {},
   "source": [
    "# scenario-2"
   ]
  },
  {
   "cell_type": "code",
   "execution_count": 29,
   "metadata": {},
   "outputs": [],
   "source": [
    "scenario_2_df_mintime = scenario_2_df.set_index('pharmacy_loc')  #Nan --->Total\n",
    "scenario_2_df_mintime\n",
    "\n",
    "#####\n",
    "scenario_2_df_mintime.rename(index={np.nan:'Total'},inplace=True)\n",
    "scenario_2_df_mintime\n",
    "\n",
    "#####\n",
    "my_string  = scenario_2_df_mintime.columns.str[12:]\n",
    "new_column_names = []\n",
    "for i in my_string:\n",
    "    nn = i.replace(\"_\", \" \")\n",
    "    new_column_names.append(nn)\n",
    "\n",
    "scenario_2_df_mintime.columns = new_column_names\n",
    "\n",
    "#####\n",
    "for i in scenario_2_df_mintime.columns:\n",
    "    #scenario_2_df_mintime[i] = scenario_2_df_mintime[i].astype(str).str[0:15]\n",
    "\n",
    "    scenario_2_df_mintime[i] = pd.to_timedelta(scenario_2_df_mintime[i]).dt.round('s')"
   ]
  },
  {
   "cell_type": "code",
   "execution_count": 30,
   "metadata": {},
   "outputs": [
    {
     "data": {
      "text/html": [
       "<div>\n",
       "<style scoped>\n",
       "    .dataframe tbody tr th:only-of-type {\n",
       "        vertical-align: middle;\n",
       "    }\n",
       "\n",
       "    .dataframe tbody tr th {\n",
       "        vertical-align: top;\n",
       "    }\n",
       "\n",
       "    .dataframe thead th {\n",
       "        text-align: right;\n",
       "    }\n",
       "</style>\n",
       "<table border=\"1\" class=\"dataframe\">\n",
       "  <thead>\n",
       "    <tr style=\"text-align: right;\">\n",
       "      <th></th>\n",
       "      <th>received to entered time</th>\n",
       "      <th>time to identify pa is required</th>\n",
       "      <th>time taken by rx to be picked up by IBD team</th>\n",
       "      <th>time taken by IBD team to process rx</th>\n",
       "      <th>ibd processing end to first billed</th>\n",
       "      <th>first billed to last billed</th>\n",
       "      <th>last billed to label printed</th>\n",
       "      <th>label printed to drug picked</th>\n",
       "      <th>drug picked to rph verified</th>\n",
       "      <th>rph verified to pharmacy pickedup</th>\n",
       "      <th>rph verified to delivered</th>\n",
       "      <th>final received to delivered</th>\n",
       "    </tr>\n",
       "    <tr>\n",
       "      <th>pharmacy_loc</th>\n",
       "      <th></th>\n",
       "      <th></th>\n",
       "      <th></th>\n",
       "      <th></th>\n",
       "      <th></th>\n",
       "      <th></th>\n",
       "      <th></th>\n",
       "      <th></th>\n",
       "      <th></th>\n",
       "      <th></th>\n",
       "      <th></th>\n",
       "      <th></th>\n",
       "    </tr>\n",
       "  </thead>\n",
       "  <tbody>\n",
       "    <tr>\n",
       "      <th>FL-MI</th>\n",
       "      <td>0 days 02:40:00</td>\n",
       "      <td>0 days 02:27:02</td>\n",
       "      <td>NaT</td>\n",
       "      <td>7 days 02:51:20</td>\n",
       "      <td>6 days 00:20:06</td>\n",
       "      <td>0 days 00:00:00</td>\n",
       "      <td>0 days 00:08:09</td>\n",
       "      <td>0 days 00:44:03</td>\n",
       "      <td>0 days 00:35:24</td>\n",
       "      <td>0 days 05:41:17</td>\n",
       "      <td>1 days 01:32:24</td>\n",
       "      <td>12 days 04:45:25</td>\n",
       "    </tr>\n",
       "    <tr>\n",
       "      <th>MD-BA</th>\n",
       "      <td>0 days 01:20:00</td>\n",
       "      <td>0 days 00:21:01</td>\n",
       "      <td>0 days 06:17:20</td>\n",
       "      <td>4 days 01:04:22</td>\n",
       "      <td>4 days 22:14:42</td>\n",
       "      <td>0 days 19:59:25</td>\n",
       "      <td>0 days 00:10:56</td>\n",
       "      <td>0 days 00:22:49</td>\n",
       "      <td>0 days 01:01:31</td>\n",
       "      <td>2 days 23:34:49</td>\n",
       "      <td>2 days 03:40:50</td>\n",
       "      <td>19 days 21:19:19</td>\n",
       "    </tr>\n",
       "    <tr>\n",
       "      <th>NC-RA</th>\n",
       "      <td>0 days 01:59:00</td>\n",
       "      <td>0 days 00:01:46</td>\n",
       "      <td>0 days 21:28:41</td>\n",
       "      <td>4 days 19:57:42</td>\n",
       "      <td>4 days 23:15:00</td>\n",
       "      <td>0 days 00:00:00</td>\n",
       "      <td>0 days 00:00:10</td>\n",
       "      <td>0 days 00:03:06</td>\n",
       "      <td>0 days 00:03:00</td>\n",
       "      <td>1 days 01:46:21</td>\n",
       "      <td>0 days 23:58:01</td>\n",
       "      <td>12 days 16:43:24</td>\n",
       "    </tr>\n",
       "    <tr>\n",
       "      <th>NJ-SO</th>\n",
       "      <td>0 days 02:04:00</td>\n",
       "      <td>0 days 04:34:36</td>\n",
       "      <td>0 days 16:38:37</td>\n",
       "      <td>3 days 03:48:06</td>\n",
       "      <td>2 days 06:32:24</td>\n",
       "      <td>0 days 02:29:24</td>\n",
       "      <td>0 days 00:58:36</td>\n",
       "      <td>0 days 00:37:52</td>\n",
       "      <td>0 days 00:34:41</td>\n",
       "      <td>2 days 00:48:42</td>\n",
       "      <td>3 days 00:03:43</td>\n",
       "      <td>17 days 02:19:30</td>\n",
       "    </tr>\n",
       "    <tr>\n",
       "      <th>NY-BK</th>\n",
       "      <td>0 days 00:37:00</td>\n",
       "      <td>0 days 00:34:30</td>\n",
       "      <td>0 days 23:17:07</td>\n",
       "      <td>4 days 00:30:49</td>\n",
       "      <td>2 days 23:18:56</td>\n",
       "      <td>0 days 02:46:27</td>\n",
       "      <td>0 days 01:00:26</td>\n",
       "      <td>0 days 01:20:08</td>\n",
       "      <td>0 days 00:45:36</td>\n",
       "      <td>0 days 22:39:39</td>\n",
       "      <td>2 days 17:11:35</td>\n",
       "      <td>18 days 22:12:02</td>\n",
       "    </tr>\n",
       "    <tr>\n",
       "      <th>NY-MA</th>\n",
       "      <td>0 days 01:13:00</td>\n",
       "      <td>0 days 19:09:28</td>\n",
       "      <td>3 days 12:33:58</td>\n",
       "      <td>6 days 03:10:52</td>\n",
       "      <td>7 days 12:26:25</td>\n",
       "      <td>0 days 00:23:50</td>\n",
       "      <td>0 days 00:00:16</td>\n",
       "      <td>0 days 01:16:24</td>\n",
       "      <td>0 days 00:43:25</td>\n",
       "      <td>1 days 22:05:18</td>\n",
       "      <td>2 days 00:47:59</td>\n",
       "      <td>22 days 19:45:00</td>\n",
       "    </tr>\n",
       "    <tr>\n",
       "      <th>PA-PH</th>\n",
       "      <td>0 days 00:50:00</td>\n",
       "      <td>0 days 01:36:54</td>\n",
       "      <td>0 days 22:03:28</td>\n",
       "      <td>4 days 06:58:19</td>\n",
       "      <td>3 days 22:31:52</td>\n",
       "      <td>0 days 00:21:32</td>\n",
       "      <td>0 days 02:35:52</td>\n",
       "      <td>0 days 00:40:09</td>\n",
       "      <td>0 days 00:58:31</td>\n",
       "      <td>1 days 21:32:25</td>\n",
       "      <td>3 days 21:42:26</td>\n",
       "      <td>18 days 20:07:18</td>\n",
       "    </tr>\n",
       "  </tbody>\n",
       "</table>\n",
       "</div>"
      ],
      "text/plain": [
       "             received to entered time time to identify pa is required  \\\n",
       "pharmacy_loc                                                            \n",
       "FL-MI                 0 days 02:40:00                 0 days 02:27:02   \n",
       "MD-BA                 0 days 01:20:00                 0 days 00:21:01   \n",
       "NC-RA                 0 days 01:59:00                 0 days 00:01:46   \n",
       "NJ-SO                 0 days 02:04:00                 0 days 04:34:36   \n",
       "NY-BK                 0 days 00:37:00                 0 days 00:34:30   \n",
       "NY-MA                 0 days 01:13:00                 0 days 19:09:28   \n",
       "PA-PH                 0 days 00:50:00                 0 days 01:36:54   \n",
       "\n",
       "             time taken by rx to be picked up by IBD team  \\\n",
       "pharmacy_loc                                                \n",
       "FL-MI                                                 NaT   \n",
       "MD-BA                                     0 days 06:17:20   \n",
       "NC-RA                                     0 days 21:28:41   \n",
       "NJ-SO                                     0 days 16:38:37   \n",
       "NY-BK                                     0 days 23:17:07   \n",
       "NY-MA                                     3 days 12:33:58   \n",
       "PA-PH                                     0 days 22:03:28   \n",
       "\n",
       "             time taken by IBD team to process rx  \\\n",
       "pharmacy_loc                                        \n",
       "FL-MI                             7 days 02:51:20   \n",
       "MD-BA                             4 days 01:04:22   \n",
       "NC-RA                             4 days 19:57:42   \n",
       "NJ-SO                             3 days 03:48:06   \n",
       "NY-BK                             4 days 00:30:49   \n",
       "NY-MA                             6 days 03:10:52   \n",
       "PA-PH                             4 days 06:58:19   \n",
       "\n",
       "             ibd processing end to first billed first billed to last billed  \\\n",
       "pharmacy_loc                                                                  \n",
       "FL-MI                           6 days 00:20:06             0 days 00:00:00   \n",
       "MD-BA                           4 days 22:14:42             0 days 19:59:25   \n",
       "NC-RA                           4 days 23:15:00             0 days 00:00:00   \n",
       "NJ-SO                           2 days 06:32:24             0 days 02:29:24   \n",
       "NY-BK                           2 days 23:18:56             0 days 02:46:27   \n",
       "NY-MA                           7 days 12:26:25             0 days 00:23:50   \n",
       "PA-PH                           3 days 22:31:52             0 days 00:21:32   \n",
       "\n",
       "             last billed to label printed label printed to drug picked  \\\n",
       "pharmacy_loc                                                             \n",
       "FL-MI                     0 days 00:08:09              0 days 00:44:03   \n",
       "MD-BA                     0 days 00:10:56              0 days 00:22:49   \n",
       "NC-RA                     0 days 00:00:10              0 days 00:03:06   \n",
       "NJ-SO                     0 days 00:58:36              0 days 00:37:52   \n",
       "NY-BK                     0 days 01:00:26              0 days 01:20:08   \n",
       "NY-MA                     0 days 00:00:16              0 days 01:16:24   \n",
       "PA-PH                     0 days 02:35:52              0 days 00:40:09   \n",
       "\n",
       "             drug picked to rph verified rph verified to pharmacy pickedup  \\\n",
       "pharmacy_loc                                                                 \n",
       "FL-MI                    0 days 00:35:24                   0 days 05:41:17   \n",
       "MD-BA                    0 days 01:01:31                   2 days 23:34:49   \n",
       "NC-RA                    0 days 00:03:00                   1 days 01:46:21   \n",
       "NJ-SO                    0 days 00:34:41                   2 days 00:48:42   \n",
       "NY-BK                    0 days 00:45:36                   0 days 22:39:39   \n",
       "NY-MA                    0 days 00:43:25                   1 days 22:05:18   \n",
       "PA-PH                    0 days 00:58:31                   1 days 21:32:25   \n",
       "\n",
       "             rph verified to delivered final received to delivered  \n",
       "pharmacy_loc                                                        \n",
       "FL-MI                  1 days 01:32:24            12 days 04:45:25  \n",
       "MD-BA                  2 days 03:40:50            19 days 21:19:19  \n",
       "NC-RA                  0 days 23:58:01            12 days 16:43:24  \n",
       "NJ-SO                  3 days 00:03:43            17 days 02:19:30  \n",
       "NY-BK                  2 days 17:11:35            18 days 22:12:02  \n",
       "NY-MA                  2 days 00:47:59            22 days 19:45:00  \n",
       "PA-PH                  3 days 21:42:26            18 days 20:07:18  "
      ]
     },
     "execution_count": 30,
     "metadata": {},
     "output_type": "execute_result"
    }
   ],
   "source": [
    "scen_2_min_df = scenario_2_df_mintime.iloc[:-1,:]\n",
    "scen_2_min_df"
   ]
  },
  {
   "cell_type": "code",
   "execution_count": 31,
   "metadata": {},
   "outputs": [],
   "source": [
    "scen_2_min_df_final = pd.DataFrame(columns=['min value','pharmacy loc'],index=range(0,len(scen_2_min_df.columns)))\n",
    "scen_2_min_df_final['min value'] = scen_2_min_df.min(axis=0).values\n",
    "scen_2_min_df_final['pharmacy loc'] = scen_2_min_df.idxmin().values\n",
    "scen_2_min_df_final['deltatime'] = scen_2_min_df.columns\n",
    "\n",
    "#####\n",
    "scen_2_min_df_final['text'] = scen_2_min_df_final['pharmacy loc']+' - '+scen_2_min_df_final['min value'].astype(str)"
   ]
  },
  {
   "cell_type": "code",
   "execution_count": 32,
   "metadata": {},
   "outputs": [
    {
     "data": {
      "text/plain": [
       "received to entered time                        NY-BK\n",
       "time to identify pa is required                 NC-RA\n",
       "time taken by rx to be picked up by IBD team    MD-BA\n",
       "time taken by IBD team to process rx            NJ-SO\n",
       "ibd processing end to first billed              NJ-SO\n",
       "first billed to last billed                     FL-MI\n",
       "last billed to label printed                    NC-RA\n",
       "label printed to drug picked                    NC-RA\n",
       "drug picked to rph verified                     NC-RA\n",
       "rph verified to pharmacy pickedup               FL-MI\n",
       "rph verified to delivered                       NC-RA\n",
       "final received to delivered                     FL-MI\n",
       "dtype: object"
      ]
     },
     "execution_count": 32,
     "metadata": {},
     "output_type": "execute_result"
    }
   ],
   "source": [
    "scen_2_min_df.min(axis=0)\n",
    "#####\n",
    "scen_2_min_df.idxmin()"
   ]
  },
  {
   "cell_type": "code",
   "execution_count": 33,
   "metadata": {},
   "outputs": [
    {
     "data": {
      "text/html": [
       "<div>\n",
       "<style scoped>\n",
       "    .dataframe tbody tr th:only-of-type {\n",
       "        vertical-align: middle;\n",
       "    }\n",
       "\n",
       "    .dataframe tbody tr th {\n",
       "        vertical-align: top;\n",
       "    }\n",
       "\n",
       "    .dataframe thead th {\n",
       "        text-align: right;\n",
       "    }\n",
       "</style>\n",
       "<table border=\"1\" class=\"dataframe\">\n",
       "  <thead>\n",
       "    <tr style=\"text-align: right;\">\n",
       "      <th></th>\n",
       "      <th>min value</th>\n",
       "      <th>pharmacy loc</th>\n",
       "      <th>deltatime</th>\n",
       "      <th>text</th>\n",
       "    </tr>\n",
       "  </thead>\n",
       "  <tbody>\n",
       "    <tr>\n",
       "      <th>0</th>\n",
       "      <td>0 days 00:37:00</td>\n",
       "      <td>NY-BK</td>\n",
       "      <td>received to entered time</td>\n",
       "      <td>NY-BK - 0 days 00:37:00</td>\n",
       "    </tr>\n",
       "    <tr>\n",
       "      <th>1</th>\n",
       "      <td>0 days 00:01:46</td>\n",
       "      <td>NC-RA</td>\n",
       "      <td>time to identify pa is required</td>\n",
       "      <td>NC-RA - 0 days 00:01:46</td>\n",
       "    </tr>\n",
       "    <tr>\n",
       "      <th>2</th>\n",
       "      <td>0 days 06:17:20</td>\n",
       "      <td>MD-BA</td>\n",
       "      <td>time taken by rx to be picked up by IBD team</td>\n",
       "      <td>MD-BA - 0 days 06:17:20</td>\n",
       "    </tr>\n",
       "    <tr>\n",
       "      <th>3</th>\n",
       "      <td>3 days 03:48:06</td>\n",
       "      <td>NJ-SO</td>\n",
       "      <td>time taken by IBD team to process rx</td>\n",
       "      <td>NJ-SO - 3 days 03:48:06</td>\n",
       "    </tr>\n",
       "    <tr>\n",
       "      <th>4</th>\n",
       "      <td>2 days 06:32:24</td>\n",
       "      <td>NJ-SO</td>\n",
       "      <td>ibd processing end to first billed</td>\n",
       "      <td>NJ-SO - 2 days 06:32:24</td>\n",
       "    </tr>\n",
       "    <tr>\n",
       "      <th>5</th>\n",
       "      <td>0 days 00:00:00</td>\n",
       "      <td>FL-MI</td>\n",
       "      <td>first billed to last billed</td>\n",
       "      <td>FL-MI - 0 days 00:00:00</td>\n",
       "    </tr>\n",
       "    <tr>\n",
       "      <th>6</th>\n",
       "      <td>0 days 00:00:10</td>\n",
       "      <td>NC-RA</td>\n",
       "      <td>last billed to label printed</td>\n",
       "      <td>NC-RA - 0 days 00:00:10</td>\n",
       "    </tr>\n",
       "    <tr>\n",
       "      <th>7</th>\n",
       "      <td>0 days 00:03:06</td>\n",
       "      <td>NC-RA</td>\n",
       "      <td>label printed to drug picked</td>\n",
       "      <td>NC-RA - 0 days 00:03:06</td>\n",
       "    </tr>\n",
       "    <tr>\n",
       "      <th>8</th>\n",
       "      <td>0 days 00:03:00</td>\n",
       "      <td>NC-RA</td>\n",
       "      <td>drug picked to rph verified</td>\n",
       "      <td>NC-RA - 0 days 00:03:00</td>\n",
       "    </tr>\n",
       "    <tr>\n",
       "      <th>9</th>\n",
       "      <td>0 days 05:41:17</td>\n",
       "      <td>FL-MI</td>\n",
       "      <td>rph verified to pharmacy pickedup</td>\n",
       "      <td>FL-MI - 0 days 05:41:17</td>\n",
       "    </tr>\n",
       "    <tr>\n",
       "      <th>10</th>\n",
       "      <td>0 days 23:58:01</td>\n",
       "      <td>NC-RA</td>\n",
       "      <td>rph verified to delivered</td>\n",
       "      <td>NC-RA - 0 days 23:58:01</td>\n",
       "    </tr>\n",
       "  </tbody>\n",
       "</table>\n",
       "</div>"
      ],
      "text/plain": [
       "         min value pharmacy loc                                     deltatime  \\\n",
       "0  0 days 00:37:00        NY-BK                      received to entered time   \n",
       "1  0 days 00:01:46        NC-RA               time to identify pa is required   \n",
       "2  0 days 06:17:20        MD-BA  time taken by rx to be picked up by IBD team   \n",
       "3  3 days 03:48:06        NJ-SO          time taken by IBD team to process rx   \n",
       "4  2 days 06:32:24        NJ-SO            ibd processing end to first billed   \n",
       "5  0 days 00:00:00        FL-MI                   first billed to last billed   \n",
       "6  0 days 00:00:10        NC-RA                  last billed to label printed   \n",
       "7  0 days 00:03:06        NC-RA                  label printed to drug picked   \n",
       "8  0 days 00:03:00        NC-RA                   drug picked to rph verified   \n",
       "9  0 days 05:41:17        FL-MI             rph verified to pharmacy pickedup   \n",
       "10 0 days 23:58:01        NC-RA                     rph verified to delivered   \n",
       "\n",
       "                       text  \n",
       "0   NY-BK - 0 days 00:37:00  \n",
       "1   NC-RA - 0 days 00:01:46  \n",
       "2   MD-BA - 0 days 06:17:20  \n",
       "3   NJ-SO - 3 days 03:48:06  \n",
       "4   NJ-SO - 2 days 06:32:24  \n",
       "5   FL-MI - 0 days 00:00:00  \n",
       "6   NC-RA - 0 days 00:00:10  \n",
       "7   NC-RA - 0 days 00:03:06  \n",
       "8   NC-RA - 0 days 00:03:00  \n",
       "9   FL-MI - 0 days 05:41:17  \n",
       "10  NC-RA - 0 days 23:58:01  "
      ]
     },
     "execution_count": 33,
     "metadata": {},
     "output_type": "execute_result"
    }
   ],
   "source": [
    "min_scenario_2_df = scen_2_min_df_final.iloc[:-1,:]\n",
    "min_scenario_2_df"
   ]
  },
  {
   "cell_type": "code",
   "execution_count": 34,
   "metadata": {},
   "outputs": [
    {
     "name": "stderr",
     "output_type": "stream",
     "text": [
      "<ipython-input-34-5499ff03f872>:21: SettingWithCopyWarning:\n",
      "\n",
      "\n",
      "A value is trying to be set on a copy of a slice from a DataFrame.\n",
      "Try using .loc[row_indexer,col_indexer] = value instead\n",
      "\n",
      "See the caveats in the documentation: https://pandas.pydata.org/pandas-docs/stable/user_guide/indexing.html#returning-a-view-versus-a-copy\n",
      "\n",
      "<ipython-input-34-5499ff03f872>:22: SettingWithCopyWarning:\n",
      "\n",
      "\n",
      "A value is trying to be set on a copy of a slice from a DataFrame.\n",
      "Try using .loc[row_indexer,col_indexer] = value instead\n",
      "\n",
      "See the caveats in the documentation: https://pandas.pydata.org/pandas-docs/stable/user_guide/indexing.html#returning-a-view-versus-a-copy\n",
      "\n"
     ]
    }
   ],
   "source": [
    "variable_names = min_scenario_2_df.deltatime.values\n",
    "#variable_names\n",
    "\n",
    "#####\n",
    "variable_names = variable_names\n",
    "# variable_names\n",
    "\n",
    "#####\n",
    "values_to_be_used = min_scenario_2_df['min value'].values.tolist()\n",
    "# values_to_be_used\n",
    "\n",
    "#####\n",
    "annotation_names = min_scenario_2_df['text'].values.tolist()\n",
    "# annotation_names\n",
    "\n",
    "#####\n",
    "annotation_names = [x[:-3] for x in annotation_names]\n",
    "# annotation_names\n",
    "\n",
    "#####\n",
    "min_scenario_2_df['min value'] = round(min_scenario_2_df['min value']/(min_scenario_2_df['min value'].sum())*100,2)\n",
    "min_scenario_2_df['min value'] = round(min_scenario_2_df['min value'],0).astype('int')\n",
    "\n",
    "#####\n",
    "per_annot = min_scenario_2_df['min value'].values.tolist()\n",
    "# per_annot"
   ]
  },
  {
   "cell_type": "code",
   "execution_count": 35,
   "metadata": {},
   "outputs": [
    {
     "data": {
      "application/vnd.plotly.v1+json": {
       "config": {
        "plotlyServerURL": "https://plot.ly"
       },
       "data": [
        {
         "marker": {
          "color": [
           "#9EEDE0",
           "#9EEDE0",
           "#9EEDE0",
           "#9EEDE0",
           "#9EEDE0",
           "#9EEDE0",
           "#9EEDE0",
           "#9EEDE0",
           "#9EEDE0",
           "#9EEDE0",
           "#9EEDE0"
          ]
         },
         "showlegend": false,
         "textposition": "none",
         "type": "funnel",
         "x": [
          2220000000000,
          106000000000,
          22640000000000,
          272886000000000,
          196344000000000,
          0,
          10000000000,
          186000000000,
          180000000000,
          20477000000000,
          86281000000000
         ],
         "y": [
          "received to entered time",
          "time to identify pa is required",
          "time taken by rx to be picked up by IBD team",
          "time taken by IBD team to process rx",
          "ibd processing end to first billed",
          "first billed to last billed",
          "last billed to label printed",
          "label printed to drug picked",
          "drug picked to rph verified",
          "rph verified to pharmacy pickedup",
          "rph verified to delivered"
         ]
        }
       ],
       "layout": {
        "annotations": [
         {
          "align": "right",
          "showarrow": false,
          "text": "NY-BK - 0 days 00:37-->0%",
          "xanchor": "left",
          "y": "received to entered time"
         },
         {
          "align": "right",
          "showarrow": false,
          "text": "NC-RA - 0 days 00:01-->0%",
          "xanchor": "left",
          "y": "time to identify pa is required"
         },
         {
          "align": "right",
          "showarrow": false,
          "text": "MD-BA - 0 days 06:17-->4%",
          "xanchor": "left",
          "y": "time taken by rx to be picked up by IBD team"
         },
         {
          "align": "right",
          "showarrow": false,
          "text": "NJ-SO - 3 days 03:48-->45%",
          "xanchor": "left",
          "y": "time taken by IBD team to process rx"
         },
         {
          "align": "right",
          "showarrow": false,
          "text": "NJ-SO - 2 days 06:32-->33%",
          "xanchor": "left",
          "y": "ibd processing end to first billed"
         },
         {
          "align": "right",
          "showarrow": false,
          "text": "FL-MI - 0 days 00:00-->0%",
          "xanchor": "left",
          "y": "first billed to last billed"
         },
         {
          "align": "right",
          "showarrow": false,
          "text": "NC-RA - 0 days 00:00-->0%",
          "xanchor": "left",
          "y": "last billed to label printed"
         },
         {
          "align": "right",
          "showarrow": false,
          "text": "NC-RA - 0 days 00:03-->0%",
          "xanchor": "left",
          "y": "label printed to drug picked"
         },
         {
          "align": "right",
          "showarrow": false,
          "text": "NC-RA - 0 days 00:03-->0%",
          "xanchor": "left",
          "y": "drug picked to rph verified"
         },
         {
          "align": "right",
          "showarrow": false,
          "text": "FL-MI - 0 days 05:41-->3%",
          "xanchor": "left",
          "y": "rph verified to pharmacy pickedup"
         },
         {
          "align": "right",
          "showarrow": false,
          "text": "NC-RA - 0 days 23:58-->14%",
          "xanchor": "left",
          "y": "rph verified to delivered"
         }
        ],
        "coloraxis": {
         "colorbar": {
          "title": {
           "text": "another title"
          }
         }
        },
        "font": {
         "color": "black"
        },
        "margin": {
         "b": 0,
         "l": 0,
         "r": 0,
         "t": 24
        },
        "paper_bgcolor": "rgb(255,255,255)",
        "plot_bgcolor": "rgba(0,0,0,0)",
        "template": {
         "data": {
          "bar": [
           {
            "error_x": {
             "color": "#2a3f5f"
            },
            "error_y": {
             "color": "#2a3f5f"
            },
            "marker": {
             "line": {
              "color": "#E5ECF6",
              "width": 0.5
             },
             "pattern": {
              "fillmode": "overlay",
              "size": 10,
              "solidity": 0.2
             }
            },
            "type": "bar"
           }
          ],
          "barpolar": [
           {
            "marker": {
             "line": {
              "color": "#E5ECF6",
              "width": 0.5
             },
             "pattern": {
              "fillmode": "overlay",
              "size": 10,
              "solidity": 0.2
             }
            },
            "type": "barpolar"
           }
          ],
          "carpet": [
           {
            "aaxis": {
             "endlinecolor": "#2a3f5f",
             "gridcolor": "white",
             "linecolor": "white",
             "minorgridcolor": "white",
             "startlinecolor": "#2a3f5f"
            },
            "baxis": {
             "endlinecolor": "#2a3f5f",
             "gridcolor": "white",
             "linecolor": "white",
             "minorgridcolor": "white",
             "startlinecolor": "#2a3f5f"
            },
            "type": "carpet"
           }
          ],
          "choropleth": [
           {
            "colorbar": {
             "outlinewidth": 0,
             "ticks": ""
            },
            "type": "choropleth"
           }
          ],
          "contour": [
           {
            "colorbar": {
             "outlinewidth": 0,
             "ticks": ""
            },
            "colorscale": [
             [
              0,
              "#0d0887"
             ],
             [
              0.1111111111111111,
              "#46039f"
             ],
             [
              0.2222222222222222,
              "#7201a8"
             ],
             [
              0.3333333333333333,
              "#9c179e"
             ],
             [
              0.4444444444444444,
              "#bd3786"
             ],
             [
              0.5555555555555556,
              "#d8576b"
             ],
             [
              0.6666666666666666,
              "#ed7953"
             ],
             [
              0.7777777777777778,
              "#fb9f3a"
             ],
             [
              0.8888888888888888,
              "#fdca26"
             ],
             [
              1,
              "#f0f921"
             ]
            ],
            "type": "contour"
           }
          ],
          "contourcarpet": [
           {
            "colorbar": {
             "outlinewidth": 0,
             "ticks": ""
            },
            "type": "contourcarpet"
           }
          ],
          "heatmap": [
           {
            "colorbar": {
             "outlinewidth": 0,
             "ticks": ""
            },
            "colorscale": [
             [
              0,
              "#0d0887"
             ],
             [
              0.1111111111111111,
              "#46039f"
             ],
             [
              0.2222222222222222,
              "#7201a8"
             ],
             [
              0.3333333333333333,
              "#9c179e"
             ],
             [
              0.4444444444444444,
              "#bd3786"
             ],
             [
              0.5555555555555556,
              "#d8576b"
             ],
             [
              0.6666666666666666,
              "#ed7953"
             ],
             [
              0.7777777777777778,
              "#fb9f3a"
             ],
             [
              0.8888888888888888,
              "#fdca26"
             ],
             [
              1,
              "#f0f921"
             ]
            ],
            "type": "heatmap"
           }
          ],
          "heatmapgl": [
           {
            "colorbar": {
             "outlinewidth": 0,
             "ticks": ""
            },
            "colorscale": [
             [
              0,
              "#0d0887"
             ],
             [
              0.1111111111111111,
              "#46039f"
             ],
             [
              0.2222222222222222,
              "#7201a8"
             ],
             [
              0.3333333333333333,
              "#9c179e"
             ],
             [
              0.4444444444444444,
              "#bd3786"
             ],
             [
              0.5555555555555556,
              "#d8576b"
             ],
             [
              0.6666666666666666,
              "#ed7953"
             ],
             [
              0.7777777777777778,
              "#fb9f3a"
             ],
             [
              0.8888888888888888,
              "#fdca26"
             ],
             [
              1,
              "#f0f921"
             ]
            ],
            "type": "heatmapgl"
           }
          ],
          "histogram": [
           {
            "marker": {
             "pattern": {
              "fillmode": "overlay",
              "size": 10,
              "solidity": 0.2
             }
            },
            "type": "histogram"
           }
          ],
          "histogram2d": [
           {
            "colorbar": {
             "outlinewidth": 0,
             "ticks": ""
            },
            "colorscale": [
             [
              0,
              "#0d0887"
             ],
             [
              0.1111111111111111,
              "#46039f"
             ],
             [
              0.2222222222222222,
              "#7201a8"
             ],
             [
              0.3333333333333333,
              "#9c179e"
             ],
             [
              0.4444444444444444,
              "#bd3786"
             ],
             [
              0.5555555555555556,
              "#d8576b"
             ],
             [
              0.6666666666666666,
              "#ed7953"
             ],
             [
              0.7777777777777778,
              "#fb9f3a"
             ],
             [
              0.8888888888888888,
              "#fdca26"
             ],
             [
              1,
              "#f0f921"
             ]
            ],
            "type": "histogram2d"
           }
          ],
          "histogram2dcontour": [
           {
            "colorbar": {
             "outlinewidth": 0,
             "ticks": ""
            },
            "colorscale": [
             [
              0,
              "#0d0887"
             ],
             [
              0.1111111111111111,
              "#46039f"
             ],
             [
              0.2222222222222222,
              "#7201a8"
             ],
             [
              0.3333333333333333,
              "#9c179e"
             ],
             [
              0.4444444444444444,
              "#bd3786"
             ],
             [
              0.5555555555555556,
              "#d8576b"
             ],
             [
              0.6666666666666666,
              "#ed7953"
             ],
             [
              0.7777777777777778,
              "#fb9f3a"
             ],
             [
              0.8888888888888888,
              "#fdca26"
             ],
             [
              1,
              "#f0f921"
             ]
            ],
            "type": "histogram2dcontour"
           }
          ],
          "mesh3d": [
           {
            "colorbar": {
             "outlinewidth": 0,
             "ticks": ""
            },
            "type": "mesh3d"
           }
          ],
          "parcoords": [
           {
            "line": {
             "colorbar": {
              "outlinewidth": 0,
              "ticks": ""
             }
            },
            "type": "parcoords"
           }
          ],
          "pie": [
           {
            "automargin": true,
            "type": "pie"
           }
          ],
          "scatter": [
           {
            "marker": {
             "colorbar": {
              "outlinewidth": 0,
              "ticks": ""
             }
            },
            "type": "scatter"
           }
          ],
          "scatter3d": [
           {
            "line": {
             "colorbar": {
              "outlinewidth": 0,
              "ticks": ""
             }
            },
            "marker": {
             "colorbar": {
              "outlinewidth": 0,
              "ticks": ""
             }
            },
            "type": "scatter3d"
           }
          ],
          "scattercarpet": [
           {
            "marker": {
             "colorbar": {
              "outlinewidth": 0,
              "ticks": ""
             }
            },
            "type": "scattercarpet"
           }
          ],
          "scattergeo": [
           {
            "marker": {
             "colorbar": {
              "outlinewidth": 0,
              "ticks": ""
             }
            },
            "type": "scattergeo"
           }
          ],
          "scattergl": [
           {
            "marker": {
             "colorbar": {
              "outlinewidth": 0,
              "ticks": ""
             }
            },
            "type": "scattergl"
           }
          ],
          "scattermapbox": [
           {
            "marker": {
             "colorbar": {
              "outlinewidth": 0,
              "ticks": ""
             }
            },
            "type": "scattermapbox"
           }
          ],
          "scatterpolar": [
           {
            "marker": {
             "colorbar": {
              "outlinewidth": 0,
              "ticks": ""
             }
            },
            "type": "scatterpolar"
           }
          ],
          "scatterpolargl": [
           {
            "marker": {
             "colorbar": {
              "outlinewidth": 0,
              "ticks": ""
             }
            },
            "type": "scatterpolargl"
           }
          ],
          "scatterternary": [
           {
            "marker": {
             "colorbar": {
              "outlinewidth": 0,
              "ticks": ""
             }
            },
            "type": "scatterternary"
           }
          ],
          "surface": [
           {
            "colorbar": {
             "outlinewidth": 0,
             "ticks": ""
            },
            "colorscale": [
             [
              0,
              "#0d0887"
             ],
             [
              0.1111111111111111,
              "#46039f"
             ],
             [
              0.2222222222222222,
              "#7201a8"
             ],
             [
              0.3333333333333333,
              "#9c179e"
             ],
             [
              0.4444444444444444,
              "#bd3786"
             ],
             [
              0.5555555555555556,
              "#d8576b"
             ],
             [
              0.6666666666666666,
              "#ed7953"
             ],
             [
              0.7777777777777778,
              "#fb9f3a"
             ],
             [
              0.8888888888888888,
              "#fdca26"
             ],
             [
              1,
              "#f0f921"
             ]
            ],
            "type": "surface"
           }
          ],
          "table": [
           {
            "cells": {
             "fill": {
              "color": "#EBF0F8"
             },
             "line": {
              "color": "white"
             }
            },
            "header": {
             "fill": {
              "color": "#C8D4E3"
             },
             "line": {
              "color": "white"
             }
            },
            "type": "table"
           }
          ]
         },
         "layout": {
          "annotationdefaults": {
           "arrowcolor": "#2a3f5f",
           "arrowhead": 0,
           "arrowwidth": 1
          },
          "autotypenumbers": "strict",
          "coloraxis": {
           "colorbar": {
            "outlinewidth": 0,
            "ticks": ""
           }
          },
          "colorscale": {
           "diverging": [
            [
             0,
             "#8e0152"
            ],
            [
             0.1,
             "#c51b7d"
            ],
            [
             0.2,
             "#de77ae"
            ],
            [
             0.3,
             "#f1b6da"
            ],
            [
             0.4,
             "#fde0ef"
            ],
            [
             0.5,
             "#f7f7f7"
            ],
            [
             0.6,
             "#e6f5d0"
            ],
            [
             0.7,
             "#b8e186"
            ],
            [
             0.8,
             "#7fbc41"
            ],
            [
             0.9,
             "#4d9221"
            ],
            [
             1,
             "#276419"
            ]
           ],
           "sequential": [
            [
             0,
             "#0d0887"
            ],
            [
             0.1111111111111111,
             "#46039f"
            ],
            [
             0.2222222222222222,
             "#7201a8"
            ],
            [
             0.3333333333333333,
             "#9c179e"
            ],
            [
             0.4444444444444444,
             "#bd3786"
            ],
            [
             0.5555555555555556,
             "#d8576b"
            ],
            [
             0.6666666666666666,
             "#ed7953"
            ],
            [
             0.7777777777777778,
             "#fb9f3a"
            ],
            [
             0.8888888888888888,
             "#fdca26"
            ],
            [
             1,
             "#f0f921"
            ]
           ],
           "sequentialminus": [
            [
             0,
             "#0d0887"
            ],
            [
             0.1111111111111111,
             "#46039f"
            ],
            [
             0.2222222222222222,
             "#7201a8"
            ],
            [
             0.3333333333333333,
             "#9c179e"
            ],
            [
             0.4444444444444444,
             "#bd3786"
            ],
            [
             0.5555555555555556,
             "#d8576b"
            ],
            [
             0.6666666666666666,
             "#ed7953"
            ],
            [
             0.7777777777777778,
             "#fb9f3a"
            ],
            [
             0.8888888888888888,
             "#fdca26"
            ],
            [
             1,
             "#f0f921"
            ]
           ]
          },
          "colorway": [
           "#636efa",
           "#EF553B",
           "#00cc96",
           "#ab63fa",
           "#FFA15A",
           "#19d3f3",
           "#FF6692",
           "#B6E880",
           "#FF97FF",
           "#FECB52"
          ],
          "font": {
           "color": "#2a3f5f"
          },
          "geo": {
           "bgcolor": "white",
           "lakecolor": "white",
           "landcolor": "#E5ECF6",
           "showlakes": true,
           "showland": true,
           "subunitcolor": "white"
          },
          "hoverlabel": {
           "align": "left"
          },
          "hovermode": "closest",
          "mapbox": {
           "style": "light"
          },
          "paper_bgcolor": "white",
          "plot_bgcolor": "#E5ECF6",
          "polar": {
           "angularaxis": {
            "gridcolor": "white",
            "linecolor": "white",
            "ticks": ""
           },
           "bgcolor": "#E5ECF6",
           "radialaxis": {
            "gridcolor": "white",
            "linecolor": "white",
            "ticks": ""
           }
          },
          "scene": {
           "xaxis": {
            "backgroundcolor": "#E5ECF6",
            "gridcolor": "white",
            "gridwidth": 2,
            "linecolor": "white",
            "showbackground": true,
            "ticks": "",
            "zerolinecolor": "white"
           },
           "yaxis": {
            "backgroundcolor": "#E5ECF6",
            "gridcolor": "white",
            "gridwidth": 2,
            "linecolor": "white",
            "showbackground": true,
            "ticks": "",
            "zerolinecolor": "white"
           },
           "zaxis": {
            "backgroundcolor": "#E5ECF6",
            "gridcolor": "white",
            "gridwidth": 2,
            "linecolor": "white",
            "showbackground": true,
            "ticks": "",
            "zerolinecolor": "white"
           }
          },
          "shapedefaults": {
           "line": {
            "color": "#2a3f5f"
           }
          },
          "ternary": {
           "aaxis": {
            "gridcolor": "white",
            "linecolor": "white",
            "ticks": ""
           },
           "baxis": {
            "gridcolor": "white",
            "linecolor": "white",
            "ticks": ""
           },
           "bgcolor": "#E5ECF6",
           "caxis": {
            "gridcolor": "white",
            "linecolor": "white",
            "ticks": ""
           }
          },
          "title": {
           "x": 0.05
          },
          "xaxis": {
           "automargin": true,
           "gridcolor": "white",
           "linecolor": "white",
           "ticks": "",
           "title": {
            "standoff": 15
           },
           "zerolinecolor": "white",
           "zerolinewidth": 2
          },
          "yaxis": {
           "automargin": true,
           "gridcolor": "white",
           "linecolor": "white",
           "ticks": "",
           "title": {
            "standoff": 15
           },
           "zerolinecolor": "white",
           "zerolinewidth": 2
          }
         }
        },
        "title": {
         "text": "Process Flow Benchmark Time Duration",
         "x": 0.6,
         "xanchor": "center"
        },
        "xaxis": {
         "anchor": "y",
         "domain": [
          0,
          1
         ],
         "title": {
          "font": {
           "color": "black",
           "family": "Arial",
           "size": 18
          },
          "text": "x Axis"
         }
        },
        "yaxis": {
         "anchor": "x",
         "domain": [
          0,
          1
         ],
         "title": {
          "font": {
           "color": "black",
           "family": "Arial",
           "size": 18
          },
          "text": "Scenario-2 Process Time Delta"
         }
        }
       }
      }
     },
     "metadata": {},
     "output_type": "display_data"
    }
   ],
   "source": [
    "fig = make_subplots()\n",
    "fig.layout.coloraxis.colorbar.title = 'another title'\n",
    "\n",
    "fig.add_trace(\n",
    "    go.Funnel(\n",
    "    y = variable_names,\n",
    "    x = values_to_be_used,showlegend=False,\n",
    "    textposition='none',\n",
    "        #name='Continous Process',\n",
    "        marker = {\"color\": [green_color, green_color, green_color, green_color, green_color,\\\n",
    "                           green_color, green_color, green_color,green_color,green_color,green_color]}))\n",
    "\n",
    "\n",
    "for i,y,k in zip(variable_names,annotation_names,per_annot):\n",
    "    fig.add_annotation(y=i,xanchor='left',\n",
    "                text=y+'-->'+str(k)+'%',align='right',showarrow=False)\n",
    "\n",
    "fig.update_layout(margin={\"r\":0,\"t\":24,\"l\":0,\"b\":0},paper_bgcolor='rgb(255,255,255)',plot_bgcolor='rgba(0,0,0,0)',\n",
    "                  title={'text':'Process Flow Benchmark Time Duration','xanchor': 'center','x':0.6,\n",
    "},font=dict(color='black'),\n",
    "                  \n",
    "xaxis=dict(\n",
    "    title='x Axis',\n",
    "    titlefont=dict(\n",
    "        family='Arial',\n",
    "        size=18,\n",
    "        color='black'\n",
    "    )\n",
    "),\n",
    "yaxis=dict(\n",
    "    title='Scenario-2 Process Time Delta',\n",
    "    titlefont=dict(\n",
    "        family='Arial',\n",
    "        size=18,\n",
    "        color='black'\n",
    "    )\n",
    "))\n",
    "\n",
    "\n",
    "fig.write_image(output_distribution_sce_2+\"Scenario_2_min_overall.png\") #pip install -U kaleido & restart jupyter\n",
    "\n",
    "fig.show()\n"
   ]
  },
  {
   "cell_type": "markdown",
   "metadata": {},
   "source": [
    "# scenario-3"
   ]
  },
  {
   "cell_type": "code",
   "execution_count": 36,
   "metadata": {},
   "outputs": [],
   "source": [
    "scenario_3_df_mintime = scenario_3_df.set_index('pharmacy_loc')  #Nan --->Total\n",
    "scenario_3_df_mintime\n",
    "\n",
    "#####\n",
    "scenario_3_df_mintime.rename(index={np.nan:'Total'},inplace=True)\n",
    "scenario_3_df_mintime\n",
    "\n",
    "#####\n",
    "my_string  = scenario_3_df_mintime.columns.str[12:]\n",
    "new_column_names = []\n",
    "for i in my_string:\n",
    "    nn = i.replace(\"_\", \" \")\n",
    "    new_column_names.append(nn)\n",
    "\n",
    "scenario_3_df_mintime.columns = new_column_names\n",
    "\n",
    "#####\n",
    "for i in scenario_3_df_mintime.columns:\n",
    "    #scenario_3_df_mintime[i] = scenario_3_df_mintime[i].astype(str).str[0:12]\n",
    "\n",
    "    scenario_3_df_mintime[i] = pd.to_timedelta(scenario_3_df_mintime[i]).dt.round('s')"
   ]
  },
  {
   "cell_type": "code",
   "execution_count": 37,
   "metadata": {},
   "outputs": [
    {
     "data": {
      "text/html": [
       "<div>\n",
       "<style scoped>\n",
       "    .dataframe tbody tr th:only-of-type {\n",
       "        vertical-align: middle;\n",
       "    }\n",
       "\n",
       "    .dataframe tbody tr th {\n",
       "        vertical-align: top;\n",
       "    }\n",
       "\n",
       "    .dataframe thead th {\n",
       "        text-align: right;\n",
       "    }\n",
       "</style>\n",
       "<table border=\"1\" class=\"dataframe\">\n",
       "  <thead>\n",
       "    <tr style=\"text-align: right;\">\n",
       "      <th></th>\n",
       "      <th>min value</th>\n",
       "      <th>pharmacy loc</th>\n",
       "      <th>deltatime</th>\n",
       "      <th>text</th>\n",
       "    </tr>\n",
       "  </thead>\n",
       "  <tbody>\n",
       "    <tr>\n",
       "      <th>0</th>\n",
       "      <td>0 days 00:39:00</td>\n",
       "      <td>NY-BK</td>\n",
       "      <td>received to entered time</td>\n",
       "      <td>NY-BK - 0 days 00:39:00</td>\n",
       "    </tr>\n",
       "    <tr>\n",
       "      <th>1</th>\n",
       "      <td>0 days 00:07:17</td>\n",
       "      <td>NC-RA</td>\n",
       "      <td>rx entered to callins processing start</td>\n",
       "      <td>NC-RA - 0 days 00:07:17</td>\n",
       "    </tr>\n",
       "    <tr>\n",
       "      <th>2</th>\n",
       "      <td>1 days 01:53:43</td>\n",
       "      <td>NY-BK</td>\n",
       "      <td>time taken for call for insurance process</td>\n",
       "      <td>NY-BK - 1 days 01:53:43</td>\n",
       "    </tr>\n",
       "    <tr>\n",
       "      <th>3</th>\n",
       "      <td>0 days 00:06:16</td>\n",
       "      <td>NC-RA</td>\n",
       "      <td>time taken by rx to be picked up by IBD team</td>\n",
       "      <td>NC-RA - 0 days 00:06:16</td>\n",
       "    </tr>\n",
       "    <tr>\n",
       "      <th>4</th>\n",
       "      <td>3 days 09:48:35</td>\n",
       "      <td>NC-RA</td>\n",
       "      <td>time taken by IBD team to process rx</td>\n",
       "      <td>NC-RA - 3 days 09:48:35</td>\n",
       "    </tr>\n",
       "    <tr>\n",
       "      <th>5</th>\n",
       "      <td>2 days 22:46:00</td>\n",
       "      <td>NJ-SO</td>\n",
       "      <td>ibd processing end to first billed</td>\n",
       "      <td>NJ-SO - 2 days 22:46:00</td>\n",
       "    </tr>\n",
       "    <tr>\n",
       "      <th>6</th>\n",
       "      <td>0 days 00:00:00</td>\n",
       "      <td>FL-MI</td>\n",
       "      <td>first billed to last billed</td>\n",
       "      <td>FL-MI - 0 days 00:00:00</td>\n",
       "    </tr>\n",
       "    <tr>\n",
       "      <th>7</th>\n",
       "      <td>0 days 00:00:11</td>\n",
       "      <td>NC-RA</td>\n",
       "      <td>last billed to label printed</td>\n",
       "      <td>NC-RA - 0 days 00:00:11</td>\n",
       "    </tr>\n",
       "    <tr>\n",
       "      <th>8</th>\n",
       "      <td>0 days 00:05:21</td>\n",
       "      <td>NC-RA</td>\n",
       "      <td>label printed to drug picked</td>\n",
       "      <td>NC-RA - 0 days 00:05:21</td>\n",
       "    </tr>\n",
       "    <tr>\n",
       "      <th>9</th>\n",
       "      <td>0 days 00:02:55</td>\n",
       "      <td>NC-RA</td>\n",
       "      <td>drug picked to rph verified</td>\n",
       "      <td>NC-RA - 0 days 00:02:55</td>\n",
       "    </tr>\n",
       "    <tr>\n",
       "      <th>10</th>\n",
       "      <td>0 days 01:43:31</td>\n",
       "      <td>NY-MA</td>\n",
       "      <td>rph verified to pharmacy pickedup</td>\n",
       "      <td>NY-MA - 0 days 01:43:31</td>\n",
       "    </tr>\n",
       "    <tr>\n",
       "      <th>11</th>\n",
       "      <td>1 days 01:34:32</td>\n",
       "      <td>NC-RA</td>\n",
       "      <td>rph verified to delivered</td>\n",
       "      <td>NC-RA - 1 days 01:34:32</td>\n",
       "    </tr>\n",
       "  </tbody>\n",
       "</table>\n",
       "</div>"
      ],
      "text/plain": [
       "         min value pharmacy loc                                     deltatime  \\\n",
       "0  0 days 00:39:00        NY-BK                      received to entered time   \n",
       "1  0 days 00:07:17        NC-RA        rx entered to callins processing start   \n",
       "2  1 days 01:53:43        NY-BK     time taken for call for insurance process   \n",
       "3  0 days 00:06:16        NC-RA  time taken by rx to be picked up by IBD team   \n",
       "4  3 days 09:48:35        NC-RA          time taken by IBD team to process rx   \n",
       "5  2 days 22:46:00        NJ-SO            ibd processing end to first billed   \n",
       "6  0 days 00:00:00        FL-MI                   first billed to last billed   \n",
       "7  0 days 00:00:11        NC-RA                  last billed to label printed   \n",
       "8  0 days 00:05:21        NC-RA                  label printed to drug picked   \n",
       "9  0 days 00:02:55        NC-RA                   drug picked to rph verified   \n",
       "10 0 days 01:43:31        NY-MA             rph verified to pharmacy pickedup   \n",
       "11 1 days 01:34:32        NC-RA                     rph verified to delivered   \n",
       "\n",
       "                       text  \n",
       "0   NY-BK - 0 days 00:39:00  \n",
       "1   NC-RA - 0 days 00:07:17  \n",
       "2   NY-BK - 1 days 01:53:43  \n",
       "3   NC-RA - 0 days 00:06:16  \n",
       "4   NC-RA - 3 days 09:48:35  \n",
       "5   NJ-SO - 2 days 22:46:00  \n",
       "6   FL-MI - 0 days 00:00:00  \n",
       "7   NC-RA - 0 days 00:00:11  \n",
       "8   NC-RA - 0 days 00:05:21  \n",
       "9   NC-RA - 0 days 00:02:55  \n",
       "10  NY-MA - 0 days 01:43:31  \n",
       "11  NC-RA - 1 days 01:34:32  "
      ]
     },
     "execution_count": 37,
     "metadata": {},
     "output_type": "execute_result"
    }
   ],
   "source": [
    "scen_3_min_df = scenario_3_df_mintime.iloc[:-1,:]\n",
    "scen_3_min_df\n",
    "\n",
    "#####\n",
    "scen_3_min_df_final = pd.DataFrame(columns=['min value','pharmacy loc'],index=range(0,len(scen_3_min_df.columns)))\n",
    "scen_3_min_df_final['min value'] = scen_3_min_df.min(axis=0).values\n",
    "scen_3_min_df_final['pharmacy loc'] = scen_3_min_df.idxmin().values\n",
    "scen_3_min_df_final['deltatime'] = scen_3_min_df.columns\n",
    "\n",
    "#####\n",
    "scen_3_min_df_final['text'] = scen_3_min_df_final['pharmacy loc']+' - '+scen_3_min_df_final['min value'].astype(str)\n",
    "\n",
    "#####\n",
    "scen_3_min_df.min(axis=0)\n",
    "#####\n",
    "scen_3_min_df.idxmin()\n",
    "\n",
    "#####\n",
    "min_scenario_3_df = scen_3_min_df_final.iloc[:-1,:]\n",
    "min_scenario_3_df"
   ]
  },
  {
   "cell_type": "code",
   "execution_count": 38,
   "metadata": {},
   "outputs": [
    {
     "name": "stderr",
     "output_type": "stream",
     "text": [
      "<ipython-input-38-bfdcb58f70f3>:21: SettingWithCopyWarning:\n",
      "\n",
      "\n",
      "A value is trying to be set on a copy of a slice from a DataFrame.\n",
      "Try using .loc[row_indexer,col_indexer] = value instead\n",
      "\n",
      "See the caveats in the documentation: https://pandas.pydata.org/pandas-docs/stable/user_guide/indexing.html#returning-a-view-versus-a-copy\n",
      "\n",
      "<ipython-input-38-bfdcb58f70f3>:22: SettingWithCopyWarning:\n",
      "\n",
      "\n",
      "A value is trying to be set on a copy of a slice from a DataFrame.\n",
      "Try using .loc[row_indexer,col_indexer] = value instead\n",
      "\n",
      "See the caveats in the documentation: https://pandas.pydata.org/pandas-docs/stable/user_guide/indexing.html#returning-a-view-versus-a-copy\n",
      "\n"
     ]
    }
   ],
   "source": [
    "variable_names = min_scenario_3_df.deltatime.values\n",
    "#variable_names\n",
    "\n",
    "#####\n",
    "variable_names = variable_names\n",
    "# variable_names\n",
    "\n",
    "#####\n",
    "values_to_be_used = min_scenario_3_df['min value'].values.tolist()\n",
    "# values_to_be_used\n",
    "\n",
    "#####\n",
    "annotation_names = min_scenario_3_df['text'].values.tolist()\n",
    "# annotation_names\n",
    "\n",
    "#####\n",
    "annotation_names = [x[:-3] for x in annotation_names]\n",
    "# annotation_names\n",
    "\n",
    "#####\n",
    "min_scenario_3_df['min value'] = round(min_scenario_3_df['min value']/(min_scenario_3_df['min value'].sum())*100,2)\n",
    "min_scenario_3_df['min value'] = round(min_scenario_3_df['min value'],0).astype('int')\n",
    "\n",
    "#####\n",
    "per_annot = min_scenario_3_df['min value'].values.tolist()\n",
    "# per_annot"
   ]
  },
  {
   "cell_type": "code",
   "execution_count": 39,
   "metadata": {},
   "outputs": [
    {
     "data": {
      "application/vnd.plotly.v1+json": {
       "config": {
        "plotlyServerURL": "https://plot.ly"
       },
       "data": [
        {
         "marker": {
          "color": [
           "#9EEDE0",
           "#9EEDE0",
           "#9EEDE0",
           "#9EEDE0",
           "#9EEDE0",
           "#9EEDE0",
           "#9EEDE0",
           "#9EEDE0",
           "#9EEDE0",
           "#9EEDE0",
           "#9EEDE0",
           "#9EEDE0"
          ]
         },
         "showlegend": false,
         "textposition": "none",
         "type": "funnel",
         "x": [
          2340000000000,
          437000000000,
          93223000000000,
          376000000000,
          294515000000000,
          254760000000000,
          0,
          11000000000,
          321000000000,
          175000000000,
          6211000000000,
          92072000000000
         ],
         "y": [
          "received to entered time",
          "rx entered to callins processing start",
          "time taken for call for insurance process",
          "time taken by rx to be picked up by IBD team",
          "time taken by IBD team to process rx",
          "ibd processing end to first billed",
          "first billed to last billed",
          "last billed to label printed",
          "label printed to drug picked",
          "drug picked to rph verified",
          "rph verified to pharmacy pickedup",
          "rph verified to delivered"
         ]
        }
       ],
       "layout": {
        "annotations": [
         {
          "align": "right",
          "showarrow": false,
          "text": "NY-BK - 0 days 00:39-->0%",
          "xanchor": "left",
          "y": "received to entered time"
         },
         {
          "align": "right",
          "showarrow": false,
          "text": "NC-RA - 0 days 00:07-->0%",
          "xanchor": "left",
          "y": "rx entered to callins processing start"
         },
         {
          "align": "right",
          "showarrow": false,
          "text": "NY-BK - 1 days 01:53-->13%",
          "xanchor": "left",
          "y": "time taken for call for insurance process"
         },
         {
          "align": "right",
          "showarrow": false,
          "text": "NC-RA - 0 days 00:06-->0%",
          "xanchor": "left",
          "y": "time taken by rx to be picked up by IBD team"
         },
         {
          "align": "right",
          "showarrow": false,
          "text": "NC-RA - 3 days 09:48-->40%",
          "xanchor": "left",
          "y": "time taken by IBD team to process rx"
         },
         {
          "align": "right",
          "showarrow": false,
          "text": "NJ-SO - 2 days 22:46-->34%",
          "xanchor": "left",
          "y": "ibd processing end to first billed"
         },
         {
          "align": "right",
          "showarrow": false,
          "text": "FL-MI - 0 days 00:00-->0%",
          "xanchor": "left",
          "y": "first billed to last billed"
         },
         {
          "align": "right",
          "showarrow": false,
          "text": "NC-RA - 0 days 00:00-->0%",
          "xanchor": "left",
          "y": "last billed to label printed"
         },
         {
          "align": "right",
          "showarrow": false,
          "text": "NC-RA - 0 days 00:05-->0%",
          "xanchor": "left",
          "y": "label printed to drug picked"
         },
         {
          "align": "right",
          "showarrow": false,
          "text": "NC-RA - 0 days 00:02-->0%",
          "xanchor": "left",
          "y": "drug picked to rph verified"
         },
         {
          "align": "right",
          "showarrow": false,
          "text": "NY-MA - 0 days 01:43-->1%",
          "xanchor": "left",
          "y": "rph verified to pharmacy pickedup"
         },
         {
          "align": "right",
          "showarrow": false,
          "text": "NC-RA - 1 days 01:34-->12%",
          "xanchor": "left",
          "y": "rph verified to delivered"
         }
        ],
        "coloraxis": {
         "colorbar": {
          "title": {
           "text": "another title"
          }
         }
        },
        "font": {
         "color": "black"
        },
        "margin": {
         "b": 0,
         "l": 0,
         "r": 0,
         "t": 24
        },
        "paper_bgcolor": "rgb(255,255,255)",
        "plot_bgcolor": "rgba(0,0,0,0)",
        "template": {
         "data": {
          "bar": [
           {
            "error_x": {
             "color": "#2a3f5f"
            },
            "error_y": {
             "color": "#2a3f5f"
            },
            "marker": {
             "line": {
              "color": "#E5ECF6",
              "width": 0.5
             },
             "pattern": {
              "fillmode": "overlay",
              "size": 10,
              "solidity": 0.2
             }
            },
            "type": "bar"
           }
          ],
          "barpolar": [
           {
            "marker": {
             "line": {
              "color": "#E5ECF6",
              "width": 0.5
             },
             "pattern": {
              "fillmode": "overlay",
              "size": 10,
              "solidity": 0.2
             }
            },
            "type": "barpolar"
           }
          ],
          "carpet": [
           {
            "aaxis": {
             "endlinecolor": "#2a3f5f",
             "gridcolor": "white",
             "linecolor": "white",
             "minorgridcolor": "white",
             "startlinecolor": "#2a3f5f"
            },
            "baxis": {
             "endlinecolor": "#2a3f5f",
             "gridcolor": "white",
             "linecolor": "white",
             "minorgridcolor": "white",
             "startlinecolor": "#2a3f5f"
            },
            "type": "carpet"
           }
          ],
          "choropleth": [
           {
            "colorbar": {
             "outlinewidth": 0,
             "ticks": ""
            },
            "type": "choropleth"
           }
          ],
          "contour": [
           {
            "colorbar": {
             "outlinewidth": 0,
             "ticks": ""
            },
            "colorscale": [
             [
              0,
              "#0d0887"
             ],
             [
              0.1111111111111111,
              "#46039f"
             ],
             [
              0.2222222222222222,
              "#7201a8"
             ],
             [
              0.3333333333333333,
              "#9c179e"
             ],
             [
              0.4444444444444444,
              "#bd3786"
             ],
             [
              0.5555555555555556,
              "#d8576b"
             ],
             [
              0.6666666666666666,
              "#ed7953"
             ],
             [
              0.7777777777777778,
              "#fb9f3a"
             ],
             [
              0.8888888888888888,
              "#fdca26"
             ],
             [
              1,
              "#f0f921"
             ]
            ],
            "type": "contour"
           }
          ],
          "contourcarpet": [
           {
            "colorbar": {
             "outlinewidth": 0,
             "ticks": ""
            },
            "type": "contourcarpet"
           }
          ],
          "heatmap": [
           {
            "colorbar": {
             "outlinewidth": 0,
             "ticks": ""
            },
            "colorscale": [
             [
              0,
              "#0d0887"
             ],
             [
              0.1111111111111111,
              "#46039f"
             ],
             [
              0.2222222222222222,
              "#7201a8"
             ],
             [
              0.3333333333333333,
              "#9c179e"
             ],
             [
              0.4444444444444444,
              "#bd3786"
             ],
             [
              0.5555555555555556,
              "#d8576b"
             ],
             [
              0.6666666666666666,
              "#ed7953"
             ],
             [
              0.7777777777777778,
              "#fb9f3a"
             ],
             [
              0.8888888888888888,
              "#fdca26"
             ],
             [
              1,
              "#f0f921"
             ]
            ],
            "type": "heatmap"
           }
          ],
          "heatmapgl": [
           {
            "colorbar": {
             "outlinewidth": 0,
             "ticks": ""
            },
            "colorscale": [
             [
              0,
              "#0d0887"
             ],
             [
              0.1111111111111111,
              "#46039f"
             ],
             [
              0.2222222222222222,
              "#7201a8"
             ],
             [
              0.3333333333333333,
              "#9c179e"
             ],
             [
              0.4444444444444444,
              "#bd3786"
             ],
             [
              0.5555555555555556,
              "#d8576b"
             ],
             [
              0.6666666666666666,
              "#ed7953"
             ],
             [
              0.7777777777777778,
              "#fb9f3a"
             ],
             [
              0.8888888888888888,
              "#fdca26"
             ],
             [
              1,
              "#f0f921"
             ]
            ],
            "type": "heatmapgl"
           }
          ],
          "histogram": [
           {
            "marker": {
             "pattern": {
              "fillmode": "overlay",
              "size": 10,
              "solidity": 0.2
             }
            },
            "type": "histogram"
           }
          ],
          "histogram2d": [
           {
            "colorbar": {
             "outlinewidth": 0,
             "ticks": ""
            },
            "colorscale": [
             [
              0,
              "#0d0887"
             ],
             [
              0.1111111111111111,
              "#46039f"
             ],
             [
              0.2222222222222222,
              "#7201a8"
             ],
             [
              0.3333333333333333,
              "#9c179e"
             ],
             [
              0.4444444444444444,
              "#bd3786"
             ],
             [
              0.5555555555555556,
              "#d8576b"
             ],
             [
              0.6666666666666666,
              "#ed7953"
             ],
             [
              0.7777777777777778,
              "#fb9f3a"
             ],
             [
              0.8888888888888888,
              "#fdca26"
             ],
             [
              1,
              "#f0f921"
             ]
            ],
            "type": "histogram2d"
           }
          ],
          "histogram2dcontour": [
           {
            "colorbar": {
             "outlinewidth": 0,
             "ticks": ""
            },
            "colorscale": [
             [
              0,
              "#0d0887"
             ],
             [
              0.1111111111111111,
              "#46039f"
             ],
             [
              0.2222222222222222,
              "#7201a8"
             ],
             [
              0.3333333333333333,
              "#9c179e"
             ],
             [
              0.4444444444444444,
              "#bd3786"
             ],
             [
              0.5555555555555556,
              "#d8576b"
             ],
             [
              0.6666666666666666,
              "#ed7953"
             ],
             [
              0.7777777777777778,
              "#fb9f3a"
             ],
             [
              0.8888888888888888,
              "#fdca26"
             ],
             [
              1,
              "#f0f921"
             ]
            ],
            "type": "histogram2dcontour"
           }
          ],
          "mesh3d": [
           {
            "colorbar": {
             "outlinewidth": 0,
             "ticks": ""
            },
            "type": "mesh3d"
           }
          ],
          "parcoords": [
           {
            "line": {
             "colorbar": {
              "outlinewidth": 0,
              "ticks": ""
             }
            },
            "type": "parcoords"
           }
          ],
          "pie": [
           {
            "automargin": true,
            "type": "pie"
           }
          ],
          "scatter": [
           {
            "marker": {
             "colorbar": {
              "outlinewidth": 0,
              "ticks": ""
             }
            },
            "type": "scatter"
           }
          ],
          "scatter3d": [
           {
            "line": {
             "colorbar": {
              "outlinewidth": 0,
              "ticks": ""
             }
            },
            "marker": {
             "colorbar": {
              "outlinewidth": 0,
              "ticks": ""
             }
            },
            "type": "scatter3d"
           }
          ],
          "scattercarpet": [
           {
            "marker": {
             "colorbar": {
              "outlinewidth": 0,
              "ticks": ""
             }
            },
            "type": "scattercarpet"
           }
          ],
          "scattergeo": [
           {
            "marker": {
             "colorbar": {
              "outlinewidth": 0,
              "ticks": ""
             }
            },
            "type": "scattergeo"
           }
          ],
          "scattergl": [
           {
            "marker": {
             "colorbar": {
              "outlinewidth": 0,
              "ticks": ""
             }
            },
            "type": "scattergl"
           }
          ],
          "scattermapbox": [
           {
            "marker": {
             "colorbar": {
              "outlinewidth": 0,
              "ticks": ""
             }
            },
            "type": "scattermapbox"
           }
          ],
          "scatterpolar": [
           {
            "marker": {
             "colorbar": {
              "outlinewidth": 0,
              "ticks": ""
             }
            },
            "type": "scatterpolar"
           }
          ],
          "scatterpolargl": [
           {
            "marker": {
             "colorbar": {
              "outlinewidth": 0,
              "ticks": ""
             }
            },
            "type": "scatterpolargl"
           }
          ],
          "scatterternary": [
           {
            "marker": {
             "colorbar": {
              "outlinewidth": 0,
              "ticks": ""
             }
            },
            "type": "scatterternary"
           }
          ],
          "surface": [
           {
            "colorbar": {
             "outlinewidth": 0,
             "ticks": ""
            },
            "colorscale": [
             [
              0,
              "#0d0887"
             ],
             [
              0.1111111111111111,
              "#46039f"
             ],
             [
              0.2222222222222222,
              "#7201a8"
             ],
             [
              0.3333333333333333,
              "#9c179e"
             ],
             [
              0.4444444444444444,
              "#bd3786"
             ],
             [
              0.5555555555555556,
              "#d8576b"
             ],
             [
              0.6666666666666666,
              "#ed7953"
             ],
             [
              0.7777777777777778,
              "#fb9f3a"
             ],
             [
              0.8888888888888888,
              "#fdca26"
             ],
             [
              1,
              "#f0f921"
             ]
            ],
            "type": "surface"
           }
          ],
          "table": [
           {
            "cells": {
             "fill": {
              "color": "#EBF0F8"
             },
             "line": {
              "color": "white"
             }
            },
            "header": {
             "fill": {
              "color": "#C8D4E3"
             },
             "line": {
              "color": "white"
             }
            },
            "type": "table"
           }
          ]
         },
         "layout": {
          "annotationdefaults": {
           "arrowcolor": "#2a3f5f",
           "arrowhead": 0,
           "arrowwidth": 1
          },
          "autotypenumbers": "strict",
          "coloraxis": {
           "colorbar": {
            "outlinewidth": 0,
            "ticks": ""
           }
          },
          "colorscale": {
           "diverging": [
            [
             0,
             "#8e0152"
            ],
            [
             0.1,
             "#c51b7d"
            ],
            [
             0.2,
             "#de77ae"
            ],
            [
             0.3,
             "#f1b6da"
            ],
            [
             0.4,
             "#fde0ef"
            ],
            [
             0.5,
             "#f7f7f7"
            ],
            [
             0.6,
             "#e6f5d0"
            ],
            [
             0.7,
             "#b8e186"
            ],
            [
             0.8,
             "#7fbc41"
            ],
            [
             0.9,
             "#4d9221"
            ],
            [
             1,
             "#276419"
            ]
           ],
           "sequential": [
            [
             0,
             "#0d0887"
            ],
            [
             0.1111111111111111,
             "#46039f"
            ],
            [
             0.2222222222222222,
             "#7201a8"
            ],
            [
             0.3333333333333333,
             "#9c179e"
            ],
            [
             0.4444444444444444,
             "#bd3786"
            ],
            [
             0.5555555555555556,
             "#d8576b"
            ],
            [
             0.6666666666666666,
             "#ed7953"
            ],
            [
             0.7777777777777778,
             "#fb9f3a"
            ],
            [
             0.8888888888888888,
             "#fdca26"
            ],
            [
             1,
             "#f0f921"
            ]
           ],
           "sequentialminus": [
            [
             0,
             "#0d0887"
            ],
            [
             0.1111111111111111,
             "#46039f"
            ],
            [
             0.2222222222222222,
             "#7201a8"
            ],
            [
             0.3333333333333333,
             "#9c179e"
            ],
            [
             0.4444444444444444,
             "#bd3786"
            ],
            [
             0.5555555555555556,
             "#d8576b"
            ],
            [
             0.6666666666666666,
             "#ed7953"
            ],
            [
             0.7777777777777778,
             "#fb9f3a"
            ],
            [
             0.8888888888888888,
             "#fdca26"
            ],
            [
             1,
             "#f0f921"
            ]
           ]
          },
          "colorway": [
           "#636efa",
           "#EF553B",
           "#00cc96",
           "#ab63fa",
           "#FFA15A",
           "#19d3f3",
           "#FF6692",
           "#B6E880",
           "#FF97FF",
           "#FECB52"
          ],
          "font": {
           "color": "#2a3f5f"
          },
          "geo": {
           "bgcolor": "white",
           "lakecolor": "white",
           "landcolor": "#E5ECF6",
           "showlakes": true,
           "showland": true,
           "subunitcolor": "white"
          },
          "hoverlabel": {
           "align": "left"
          },
          "hovermode": "closest",
          "mapbox": {
           "style": "light"
          },
          "paper_bgcolor": "white",
          "plot_bgcolor": "#E5ECF6",
          "polar": {
           "angularaxis": {
            "gridcolor": "white",
            "linecolor": "white",
            "ticks": ""
           },
           "bgcolor": "#E5ECF6",
           "radialaxis": {
            "gridcolor": "white",
            "linecolor": "white",
            "ticks": ""
           }
          },
          "scene": {
           "xaxis": {
            "backgroundcolor": "#E5ECF6",
            "gridcolor": "white",
            "gridwidth": 2,
            "linecolor": "white",
            "showbackground": true,
            "ticks": "",
            "zerolinecolor": "white"
           },
           "yaxis": {
            "backgroundcolor": "#E5ECF6",
            "gridcolor": "white",
            "gridwidth": 2,
            "linecolor": "white",
            "showbackground": true,
            "ticks": "",
            "zerolinecolor": "white"
           },
           "zaxis": {
            "backgroundcolor": "#E5ECF6",
            "gridcolor": "white",
            "gridwidth": 2,
            "linecolor": "white",
            "showbackground": true,
            "ticks": "",
            "zerolinecolor": "white"
           }
          },
          "shapedefaults": {
           "line": {
            "color": "#2a3f5f"
           }
          },
          "ternary": {
           "aaxis": {
            "gridcolor": "white",
            "linecolor": "white",
            "ticks": ""
           },
           "baxis": {
            "gridcolor": "white",
            "linecolor": "white",
            "ticks": ""
           },
           "bgcolor": "#E5ECF6",
           "caxis": {
            "gridcolor": "white",
            "linecolor": "white",
            "ticks": ""
           }
          },
          "title": {
           "x": 0.05
          },
          "xaxis": {
           "automargin": true,
           "gridcolor": "white",
           "linecolor": "white",
           "ticks": "",
           "title": {
            "standoff": 15
           },
           "zerolinecolor": "white",
           "zerolinewidth": 2
          },
          "yaxis": {
           "automargin": true,
           "gridcolor": "white",
           "linecolor": "white",
           "ticks": "",
           "title": {
            "standoff": 15
           },
           "zerolinecolor": "white",
           "zerolinewidth": 2
          }
         }
        },
        "title": {
         "text": "Process Flow Benchmark Time Duration",
         "x": 0.6,
         "xanchor": "center"
        },
        "xaxis": {
         "anchor": "y",
         "domain": [
          0,
          1
         ],
         "title": {
          "font": {
           "color": "black",
           "family": "Arial",
           "size": 18
          },
          "text": "x Axis"
         }
        },
        "yaxis": {
         "anchor": "x",
         "domain": [
          0,
          1
         ],
         "title": {
          "font": {
           "color": "black",
           "family": "Arial",
           "size": 18
          },
          "text": "Scenario-3 Process Time Delta"
         }
        }
       }
      }
     },
     "metadata": {},
     "output_type": "display_data"
    }
   ],
   "source": [
    "fig = make_subplots()\n",
    "fig.layout.coloraxis.colorbar.title = 'another title'\n",
    "\n",
    "fig.add_trace(\n",
    "    go.Funnel(\n",
    "    y = variable_names,\n",
    "    x = values_to_be_used,showlegend=False,\n",
    "    textposition='none',\n",
    "        #name='Continous Process',\n",
    "        marker = {\"color\": [green_color, green_color, green_color, green_color, green_color,\\\n",
    "                           green_color, green_color, green_color,green_color,green_color, green_color,green_color]}))\n",
    "\n",
    "\n",
    "for i,y,k in zip(variable_names,annotation_names,per_annot):\n",
    "    fig.add_annotation(y=i,xanchor='left',\n",
    "                text=y+'-->'+str(k)+'%',align='right',showarrow=False)\n",
    "\n",
    "fig.update_layout(margin={\"r\":0,\"t\":24,\"l\":0,\"b\":0},paper_bgcolor='rgb(255,255,255)',plot_bgcolor='rgba(0,0,0,0)',\n",
    "                  title={'text':'Process Flow Benchmark Time Duration','xanchor': 'center','x':0.6,\n",
    "},font=dict(color='black'),\n",
    "                  \n",
    "xaxis=dict(\n",
    "    title='x Axis',\n",
    "    titlefont=dict(\n",
    "        family='Arial',\n",
    "        size=18,\n",
    "        color='black'\n",
    "    )\n",
    "),\n",
    "yaxis=dict(\n",
    "    title='Scenario-3 Process Time Delta',\n",
    "    titlefont=dict(\n",
    "        family='Arial',\n",
    "        size=18,\n",
    "        color='black'\n",
    "    )\n",
    "))\n",
    "\n",
    "\n",
    "fig.write_image(output_distribution_sce_3+\"Scenario_3_min_overall.png\") #pip install -U kaleido & restart jupyter\n",
    "\n",
    "fig.show()\n"
   ]
  },
  {
   "cell_type": "markdown",
   "metadata": {},
   "source": [
    "# scenario-4"
   ]
  },
  {
   "cell_type": "code",
   "execution_count": 40,
   "metadata": {},
   "outputs": [],
   "source": [
    "scenario_4_df_mintime = scenario_4_df.set_index('pharmacy_loc')  #Nan --->Total\n",
    "scenario_4_df_mintime\n",
    "\n",
    "#####\n",
    "scenario_4_df_mintime.rename(index={np.nan:'Total'},inplace=True)\n",
    "scenario_4_df_mintime\n",
    "\n",
    "#####\n",
    "my_string  = scenario_4_df_mintime.columns.str[12:]\n",
    "new_column_names = []\n",
    "for i in my_string:\n",
    "    nn = i.replace(\"_\", \" \")\n",
    "    new_column_names.append(nn)\n",
    "\n",
    "scenario_4_df_mintime.columns = new_column_names\n",
    "\n",
    "#####\n",
    "for i in scenario_4_df_mintime.columns:\n",
    "    #scenario_4_df_mintime[i] = scenario_4_df_mintime[i].astype(str).str[0:12]\n",
    "\n",
    "    scenario_4_df_mintime[i] = pd.to_timedelta(scenario_4_df_mintime[i]).dt.round('s')"
   ]
  },
  {
   "cell_type": "code",
   "execution_count": 41,
   "metadata": {},
   "outputs": [
    {
     "data": {
      "text/html": [
       "<div>\n",
       "<style scoped>\n",
       "    .dataframe tbody tr th:only-of-type {\n",
       "        vertical-align: middle;\n",
       "    }\n",
       "\n",
       "    .dataframe tbody tr th {\n",
       "        vertical-align: top;\n",
       "    }\n",
       "\n",
       "    .dataframe thead th {\n",
       "        text-align: right;\n",
       "    }\n",
       "</style>\n",
       "<table border=\"1\" class=\"dataframe\">\n",
       "  <thead>\n",
       "    <tr style=\"text-align: right;\">\n",
       "      <th></th>\n",
       "      <th>min value</th>\n",
       "      <th>pharmacy loc</th>\n",
       "      <th>deltatime</th>\n",
       "      <th>text</th>\n",
       "    </tr>\n",
       "  </thead>\n",
       "  <tbody>\n",
       "    <tr>\n",
       "      <th>0</th>\n",
       "      <td>0 days 00:28:00</td>\n",
       "      <td>NY-BK</td>\n",
       "      <td>received to entered time</td>\n",
       "      <td>NY-BK - 0 days 00:28:00</td>\n",
       "    </tr>\n",
       "    <tr>\n",
       "      <th>1</th>\n",
       "      <td>0 days 00:01:48</td>\n",
       "      <td>PA-PH</td>\n",
       "      <td>rx entered to callins processing start</td>\n",
       "      <td>PA-PH - 0 days 00:01:48</td>\n",
       "    </tr>\n",
       "    <tr>\n",
       "      <th>2</th>\n",
       "      <td>1 days 03:31:00</td>\n",
       "      <td>NC-RA</td>\n",
       "      <td>time taken for call for insurance process</td>\n",
       "      <td>NC-RA - 1 days 03:31:00</td>\n",
       "    </tr>\n",
       "    <tr>\n",
       "      <th>3</th>\n",
       "      <td>0 days 00:00:00</td>\n",
       "      <td>NC-RA</td>\n",
       "      <td>first billed to last billed</td>\n",
       "      <td>NC-RA - 0 days 00:00:00</td>\n",
       "    </tr>\n",
       "    <tr>\n",
       "      <th>4</th>\n",
       "      <td>0 days 00:00:11</td>\n",
       "      <td>NC-RA</td>\n",
       "      <td>last billed to label printed</td>\n",
       "      <td>NC-RA - 0 days 00:00:11</td>\n",
       "    </tr>\n",
       "    <tr>\n",
       "      <th>5</th>\n",
       "      <td>0 days 00:03:24</td>\n",
       "      <td>NC-RA</td>\n",
       "      <td>label printed to drug picked</td>\n",
       "      <td>NC-RA - 0 days 00:03:24</td>\n",
       "    </tr>\n",
       "    <tr>\n",
       "      <th>6</th>\n",
       "      <td>0 days 00:03:46</td>\n",
       "      <td>NC-RA</td>\n",
       "      <td>drug picked to rph verified</td>\n",
       "      <td>NC-RA - 0 days 00:03:46</td>\n",
       "    </tr>\n",
       "    <tr>\n",
       "      <th>7</th>\n",
       "      <td>0 days 00:26:06</td>\n",
       "      <td>NY-BK</td>\n",
       "      <td>rph verified to pharmacy pickedup</td>\n",
       "      <td>NY-BK - 0 days 00:26:06</td>\n",
       "    </tr>\n",
       "    <tr>\n",
       "      <th>8</th>\n",
       "      <td>1 days 02:24:54</td>\n",
       "      <td>FL-MI</td>\n",
       "      <td>rph verified to delivered</td>\n",
       "      <td>FL-MI - 1 days 02:24:54</td>\n",
       "    </tr>\n",
       "  </tbody>\n",
       "</table>\n",
       "</div>"
      ],
      "text/plain": [
       "        min value pharmacy loc                                  deltatime  \\\n",
       "0 0 days 00:28:00        NY-BK                   received to entered time   \n",
       "1 0 days 00:01:48        PA-PH     rx entered to callins processing start   \n",
       "2 1 days 03:31:00        NC-RA  time taken for call for insurance process   \n",
       "3 0 days 00:00:00        NC-RA                first billed to last billed   \n",
       "4 0 days 00:00:11        NC-RA               last billed to label printed   \n",
       "5 0 days 00:03:24        NC-RA               label printed to drug picked   \n",
       "6 0 days 00:03:46        NC-RA                drug picked to rph verified   \n",
       "7 0 days 00:26:06        NY-BK          rph verified to pharmacy pickedup   \n",
       "8 1 days 02:24:54        FL-MI                  rph verified to delivered   \n",
       "\n",
       "                      text  \n",
       "0  NY-BK - 0 days 00:28:00  \n",
       "1  PA-PH - 0 days 00:01:48  \n",
       "2  NC-RA - 1 days 03:31:00  \n",
       "3  NC-RA - 0 days 00:00:00  \n",
       "4  NC-RA - 0 days 00:00:11  \n",
       "5  NC-RA - 0 days 00:03:24  \n",
       "6  NC-RA - 0 days 00:03:46  \n",
       "7  NY-BK - 0 days 00:26:06  \n",
       "8  FL-MI - 1 days 02:24:54  "
      ]
     },
     "execution_count": 41,
     "metadata": {},
     "output_type": "execute_result"
    }
   ],
   "source": [
    "scen_4_min_df = scenario_4_df_mintime.iloc[:-1,:]\n",
    "scen_4_min_df\n",
    "\n",
    "#####\n",
    "scen_4_min_df_final = pd.DataFrame(columns=['min value','pharmacy loc'],index=range(0,len(scen_4_min_df.columns)))\n",
    "scen_4_min_df_final['min value'] = scen_4_min_df.min(axis=0).values\n",
    "scen_4_min_df_final['pharmacy loc'] = scen_4_min_df.idxmin().values\n",
    "scen_4_min_df_final['deltatime'] = scen_4_min_df.columns\n",
    "\n",
    "#####\n",
    "scen_4_min_df_final['text'] = scen_4_min_df_final['pharmacy loc']+' - '+scen_4_min_df_final['min value'].astype(str)\n",
    "\n",
    "#####\n",
    "scen_4_min_df.min(axis=0)\n",
    "#####\n",
    "scen_4_min_df.idxmin()\n",
    "\n",
    "#####\n",
    "min_scenario_4_df = scen_4_min_df_final.iloc[:-1,:]\n",
    "min_scenario_4_df"
   ]
  },
  {
   "cell_type": "code",
   "execution_count": 42,
   "metadata": {},
   "outputs": [
    {
     "name": "stderr",
     "output_type": "stream",
     "text": [
      "<ipython-input-42-86f576c5a34c>:21: SettingWithCopyWarning:\n",
      "\n",
      "\n",
      "A value is trying to be set on a copy of a slice from a DataFrame.\n",
      "Try using .loc[row_indexer,col_indexer] = value instead\n",
      "\n",
      "See the caveats in the documentation: https://pandas.pydata.org/pandas-docs/stable/user_guide/indexing.html#returning-a-view-versus-a-copy\n",
      "\n",
      "<ipython-input-42-86f576c5a34c>:22: SettingWithCopyWarning:\n",
      "\n",
      "\n",
      "A value is trying to be set on a copy of a slice from a DataFrame.\n",
      "Try using .loc[row_indexer,col_indexer] = value instead\n",
      "\n",
      "See the caveats in the documentation: https://pandas.pydata.org/pandas-docs/stable/user_guide/indexing.html#returning-a-view-versus-a-copy\n",
      "\n"
     ]
    }
   ],
   "source": [
    "variable_names = min_scenario_4_df.deltatime.values\n",
    "#variable_names\n",
    "\n",
    "#####\n",
    "variable_names = variable_names\n",
    "# variable_names\n",
    "\n",
    "#####\n",
    "values_to_be_used = min_scenario_4_df['min value'].values.tolist()\n",
    "# values_to_be_used\n",
    "\n",
    "#####\n",
    "annotation_names = min_scenario_4_df['text'].values.tolist()\n",
    "# annotation_names\n",
    "\n",
    "#####\n",
    "annotation_names = [x[:-3] for x in annotation_names]\n",
    "# annotation_names\n",
    "\n",
    "#####\n",
    "min_scenario_4_df['min value'] = round(min_scenario_4_df['min value']/(min_scenario_4_df['min value'].sum())*100,2)\n",
    "min_scenario_4_df['min value'] = round(min_scenario_4_df['min value'],0).astype('int')\n",
    "\n",
    "#####\n",
    "per_annot = min_scenario_4_df['min value'].values.tolist()\n",
    "# per_annot"
   ]
  },
  {
   "cell_type": "code",
   "execution_count": 43,
   "metadata": {},
   "outputs": [
    {
     "data": {
      "application/vnd.plotly.v1+json": {
       "config": {
        "plotlyServerURL": "https://plot.ly"
       },
       "data": [
        {
         "marker": {
          "color": [
           "#9EEDE0",
           "#9EEDE0",
           "#9EEDE0",
           "#9EEDE0",
           "#9EEDE0",
           "#9EEDE0",
           "#9EEDE0",
           "#9EEDE0",
           "#9EEDE0"
          ]
         },
         "showlegend": false,
         "textposition": "none",
         "type": "funnel",
         "x": [
          1680000000000,
          108000000000,
          99060000000000,
          0,
          11000000000,
          204000000000,
          226000000000,
          1566000000000,
          95094000000000
         ],
         "y": [
          "received to entered time",
          "rx entered to callins processing start",
          "time taken for call for insurance process",
          "first billed to last billed",
          "last billed to label printed",
          "label printed to drug picked",
          "drug picked to rph verified",
          "rph verified to pharmacy pickedup",
          "rph verified to delivered"
         ]
        }
       ],
       "layout": {
        "annotations": [
         {
          "align": "right",
          "showarrow": false,
          "text": "NY-BK - 0 days 00:28-->1%",
          "xanchor": "left",
          "y": "received to entered time"
         },
         {
          "align": "right",
          "showarrow": false,
          "text": "PA-PH - 0 days 00:01-->0%",
          "xanchor": "left",
          "y": "rx entered to callins processing start"
         },
         {
          "align": "right",
          "showarrow": false,
          "text": "NC-RA - 1 days 03:31-->50%",
          "xanchor": "left",
          "y": "time taken for call for insurance process"
         },
         {
          "align": "right",
          "showarrow": false,
          "text": "NC-RA - 0 days 00:00-->0%",
          "xanchor": "left",
          "y": "first billed to last billed"
         },
         {
          "align": "right",
          "showarrow": false,
          "text": "NC-RA - 0 days 00:00-->0%",
          "xanchor": "left",
          "y": "last billed to label printed"
         },
         {
          "align": "right",
          "showarrow": false,
          "text": "NC-RA - 0 days 00:03-->0%",
          "xanchor": "left",
          "y": "label printed to drug picked"
         },
         {
          "align": "right",
          "showarrow": false,
          "text": "NC-RA - 0 days 00:03-->0%",
          "xanchor": "left",
          "y": "drug picked to rph verified"
         },
         {
          "align": "right",
          "showarrow": false,
          "text": "NY-BK - 0 days 00:26-->1%",
          "xanchor": "left",
          "y": "rph verified to pharmacy pickedup"
         },
         {
          "align": "right",
          "showarrow": false,
          "text": "FL-MI - 1 days 02:24-->48%",
          "xanchor": "left",
          "y": "rph verified to delivered"
         }
        ],
        "coloraxis": {
         "colorbar": {
          "title": {
           "text": "another title"
          }
         }
        },
        "font": {
         "color": "black"
        },
        "margin": {
         "b": 0,
         "l": 0,
         "r": 0,
         "t": 24
        },
        "paper_bgcolor": "rgb(255,255,255)",
        "plot_bgcolor": "rgba(0,0,0,0)",
        "template": {
         "data": {
          "bar": [
           {
            "error_x": {
             "color": "#2a3f5f"
            },
            "error_y": {
             "color": "#2a3f5f"
            },
            "marker": {
             "line": {
              "color": "#E5ECF6",
              "width": 0.5
             },
             "pattern": {
              "fillmode": "overlay",
              "size": 10,
              "solidity": 0.2
             }
            },
            "type": "bar"
           }
          ],
          "barpolar": [
           {
            "marker": {
             "line": {
              "color": "#E5ECF6",
              "width": 0.5
             },
             "pattern": {
              "fillmode": "overlay",
              "size": 10,
              "solidity": 0.2
             }
            },
            "type": "barpolar"
           }
          ],
          "carpet": [
           {
            "aaxis": {
             "endlinecolor": "#2a3f5f",
             "gridcolor": "white",
             "linecolor": "white",
             "minorgridcolor": "white",
             "startlinecolor": "#2a3f5f"
            },
            "baxis": {
             "endlinecolor": "#2a3f5f",
             "gridcolor": "white",
             "linecolor": "white",
             "minorgridcolor": "white",
             "startlinecolor": "#2a3f5f"
            },
            "type": "carpet"
           }
          ],
          "choropleth": [
           {
            "colorbar": {
             "outlinewidth": 0,
             "ticks": ""
            },
            "type": "choropleth"
           }
          ],
          "contour": [
           {
            "colorbar": {
             "outlinewidth": 0,
             "ticks": ""
            },
            "colorscale": [
             [
              0,
              "#0d0887"
             ],
             [
              0.1111111111111111,
              "#46039f"
             ],
             [
              0.2222222222222222,
              "#7201a8"
             ],
             [
              0.3333333333333333,
              "#9c179e"
             ],
             [
              0.4444444444444444,
              "#bd3786"
             ],
             [
              0.5555555555555556,
              "#d8576b"
             ],
             [
              0.6666666666666666,
              "#ed7953"
             ],
             [
              0.7777777777777778,
              "#fb9f3a"
             ],
             [
              0.8888888888888888,
              "#fdca26"
             ],
             [
              1,
              "#f0f921"
             ]
            ],
            "type": "contour"
           }
          ],
          "contourcarpet": [
           {
            "colorbar": {
             "outlinewidth": 0,
             "ticks": ""
            },
            "type": "contourcarpet"
           }
          ],
          "heatmap": [
           {
            "colorbar": {
             "outlinewidth": 0,
             "ticks": ""
            },
            "colorscale": [
             [
              0,
              "#0d0887"
             ],
             [
              0.1111111111111111,
              "#46039f"
             ],
             [
              0.2222222222222222,
              "#7201a8"
             ],
             [
              0.3333333333333333,
              "#9c179e"
             ],
             [
              0.4444444444444444,
              "#bd3786"
             ],
             [
              0.5555555555555556,
              "#d8576b"
             ],
             [
              0.6666666666666666,
              "#ed7953"
             ],
             [
              0.7777777777777778,
              "#fb9f3a"
             ],
             [
              0.8888888888888888,
              "#fdca26"
             ],
             [
              1,
              "#f0f921"
             ]
            ],
            "type": "heatmap"
           }
          ],
          "heatmapgl": [
           {
            "colorbar": {
             "outlinewidth": 0,
             "ticks": ""
            },
            "colorscale": [
             [
              0,
              "#0d0887"
             ],
             [
              0.1111111111111111,
              "#46039f"
             ],
             [
              0.2222222222222222,
              "#7201a8"
             ],
             [
              0.3333333333333333,
              "#9c179e"
             ],
             [
              0.4444444444444444,
              "#bd3786"
             ],
             [
              0.5555555555555556,
              "#d8576b"
             ],
             [
              0.6666666666666666,
              "#ed7953"
             ],
             [
              0.7777777777777778,
              "#fb9f3a"
             ],
             [
              0.8888888888888888,
              "#fdca26"
             ],
             [
              1,
              "#f0f921"
             ]
            ],
            "type": "heatmapgl"
           }
          ],
          "histogram": [
           {
            "marker": {
             "pattern": {
              "fillmode": "overlay",
              "size": 10,
              "solidity": 0.2
             }
            },
            "type": "histogram"
           }
          ],
          "histogram2d": [
           {
            "colorbar": {
             "outlinewidth": 0,
             "ticks": ""
            },
            "colorscale": [
             [
              0,
              "#0d0887"
             ],
             [
              0.1111111111111111,
              "#46039f"
             ],
             [
              0.2222222222222222,
              "#7201a8"
             ],
             [
              0.3333333333333333,
              "#9c179e"
             ],
             [
              0.4444444444444444,
              "#bd3786"
             ],
             [
              0.5555555555555556,
              "#d8576b"
             ],
             [
              0.6666666666666666,
              "#ed7953"
             ],
             [
              0.7777777777777778,
              "#fb9f3a"
             ],
             [
              0.8888888888888888,
              "#fdca26"
             ],
             [
              1,
              "#f0f921"
             ]
            ],
            "type": "histogram2d"
           }
          ],
          "histogram2dcontour": [
           {
            "colorbar": {
             "outlinewidth": 0,
             "ticks": ""
            },
            "colorscale": [
             [
              0,
              "#0d0887"
             ],
             [
              0.1111111111111111,
              "#46039f"
             ],
             [
              0.2222222222222222,
              "#7201a8"
             ],
             [
              0.3333333333333333,
              "#9c179e"
             ],
             [
              0.4444444444444444,
              "#bd3786"
             ],
             [
              0.5555555555555556,
              "#d8576b"
             ],
             [
              0.6666666666666666,
              "#ed7953"
             ],
             [
              0.7777777777777778,
              "#fb9f3a"
             ],
             [
              0.8888888888888888,
              "#fdca26"
             ],
             [
              1,
              "#f0f921"
             ]
            ],
            "type": "histogram2dcontour"
           }
          ],
          "mesh3d": [
           {
            "colorbar": {
             "outlinewidth": 0,
             "ticks": ""
            },
            "type": "mesh3d"
           }
          ],
          "parcoords": [
           {
            "line": {
             "colorbar": {
              "outlinewidth": 0,
              "ticks": ""
             }
            },
            "type": "parcoords"
           }
          ],
          "pie": [
           {
            "automargin": true,
            "type": "pie"
           }
          ],
          "scatter": [
           {
            "marker": {
             "colorbar": {
              "outlinewidth": 0,
              "ticks": ""
             }
            },
            "type": "scatter"
           }
          ],
          "scatter3d": [
           {
            "line": {
             "colorbar": {
              "outlinewidth": 0,
              "ticks": ""
             }
            },
            "marker": {
             "colorbar": {
              "outlinewidth": 0,
              "ticks": ""
             }
            },
            "type": "scatter3d"
           }
          ],
          "scattercarpet": [
           {
            "marker": {
             "colorbar": {
              "outlinewidth": 0,
              "ticks": ""
             }
            },
            "type": "scattercarpet"
           }
          ],
          "scattergeo": [
           {
            "marker": {
             "colorbar": {
              "outlinewidth": 0,
              "ticks": ""
             }
            },
            "type": "scattergeo"
           }
          ],
          "scattergl": [
           {
            "marker": {
             "colorbar": {
              "outlinewidth": 0,
              "ticks": ""
             }
            },
            "type": "scattergl"
           }
          ],
          "scattermapbox": [
           {
            "marker": {
             "colorbar": {
              "outlinewidth": 0,
              "ticks": ""
             }
            },
            "type": "scattermapbox"
           }
          ],
          "scatterpolar": [
           {
            "marker": {
             "colorbar": {
              "outlinewidth": 0,
              "ticks": ""
             }
            },
            "type": "scatterpolar"
           }
          ],
          "scatterpolargl": [
           {
            "marker": {
             "colorbar": {
              "outlinewidth": 0,
              "ticks": ""
             }
            },
            "type": "scatterpolargl"
           }
          ],
          "scatterternary": [
           {
            "marker": {
             "colorbar": {
              "outlinewidth": 0,
              "ticks": ""
             }
            },
            "type": "scatterternary"
           }
          ],
          "surface": [
           {
            "colorbar": {
             "outlinewidth": 0,
             "ticks": ""
            },
            "colorscale": [
             [
              0,
              "#0d0887"
             ],
             [
              0.1111111111111111,
              "#46039f"
             ],
             [
              0.2222222222222222,
              "#7201a8"
             ],
             [
              0.3333333333333333,
              "#9c179e"
             ],
             [
              0.4444444444444444,
              "#bd3786"
             ],
             [
              0.5555555555555556,
              "#d8576b"
             ],
             [
              0.6666666666666666,
              "#ed7953"
             ],
             [
              0.7777777777777778,
              "#fb9f3a"
             ],
             [
              0.8888888888888888,
              "#fdca26"
             ],
             [
              1,
              "#f0f921"
             ]
            ],
            "type": "surface"
           }
          ],
          "table": [
           {
            "cells": {
             "fill": {
              "color": "#EBF0F8"
             },
             "line": {
              "color": "white"
             }
            },
            "header": {
             "fill": {
              "color": "#C8D4E3"
             },
             "line": {
              "color": "white"
             }
            },
            "type": "table"
           }
          ]
         },
         "layout": {
          "annotationdefaults": {
           "arrowcolor": "#2a3f5f",
           "arrowhead": 0,
           "arrowwidth": 1
          },
          "autotypenumbers": "strict",
          "coloraxis": {
           "colorbar": {
            "outlinewidth": 0,
            "ticks": ""
           }
          },
          "colorscale": {
           "diverging": [
            [
             0,
             "#8e0152"
            ],
            [
             0.1,
             "#c51b7d"
            ],
            [
             0.2,
             "#de77ae"
            ],
            [
             0.3,
             "#f1b6da"
            ],
            [
             0.4,
             "#fde0ef"
            ],
            [
             0.5,
             "#f7f7f7"
            ],
            [
             0.6,
             "#e6f5d0"
            ],
            [
             0.7,
             "#b8e186"
            ],
            [
             0.8,
             "#7fbc41"
            ],
            [
             0.9,
             "#4d9221"
            ],
            [
             1,
             "#276419"
            ]
           ],
           "sequential": [
            [
             0,
             "#0d0887"
            ],
            [
             0.1111111111111111,
             "#46039f"
            ],
            [
             0.2222222222222222,
             "#7201a8"
            ],
            [
             0.3333333333333333,
             "#9c179e"
            ],
            [
             0.4444444444444444,
             "#bd3786"
            ],
            [
             0.5555555555555556,
             "#d8576b"
            ],
            [
             0.6666666666666666,
             "#ed7953"
            ],
            [
             0.7777777777777778,
             "#fb9f3a"
            ],
            [
             0.8888888888888888,
             "#fdca26"
            ],
            [
             1,
             "#f0f921"
            ]
           ],
           "sequentialminus": [
            [
             0,
             "#0d0887"
            ],
            [
             0.1111111111111111,
             "#46039f"
            ],
            [
             0.2222222222222222,
             "#7201a8"
            ],
            [
             0.3333333333333333,
             "#9c179e"
            ],
            [
             0.4444444444444444,
             "#bd3786"
            ],
            [
             0.5555555555555556,
             "#d8576b"
            ],
            [
             0.6666666666666666,
             "#ed7953"
            ],
            [
             0.7777777777777778,
             "#fb9f3a"
            ],
            [
             0.8888888888888888,
             "#fdca26"
            ],
            [
             1,
             "#f0f921"
            ]
           ]
          },
          "colorway": [
           "#636efa",
           "#EF553B",
           "#00cc96",
           "#ab63fa",
           "#FFA15A",
           "#19d3f3",
           "#FF6692",
           "#B6E880",
           "#FF97FF",
           "#FECB52"
          ],
          "font": {
           "color": "#2a3f5f"
          },
          "geo": {
           "bgcolor": "white",
           "lakecolor": "white",
           "landcolor": "#E5ECF6",
           "showlakes": true,
           "showland": true,
           "subunitcolor": "white"
          },
          "hoverlabel": {
           "align": "left"
          },
          "hovermode": "closest",
          "mapbox": {
           "style": "light"
          },
          "paper_bgcolor": "white",
          "plot_bgcolor": "#E5ECF6",
          "polar": {
           "angularaxis": {
            "gridcolor": "white",
            "linecolor": "white",
            "ticks": ""
           },
           "bgcolor": "#E5ECF6",
           "radialaxis": {
            "gridcolor": "white",
            "linecolor": "white",
            "ticks": ""
           }
          },
          "scene": {
           "xaxis": {
            "backgroundcolor": "#E5ECF6",
            "gridcolor": "white",
            "gridwidth": 2,
            "linecolor": "white",
            "showbackground": true,
            "ticks": "",
            "zerolinecolor": "white"
           },
           "yaxis": {
            "backgroundcolor": "#E5ECF6",
            "gridcolor": "white",
            "gridwidth": 2,
            "linecolor": "white",
            "showbackground": true,
            "ticks": "",
            "zerolinecolor": "white"
           },
           "zaxis": {
            "backgroundcolor": "#E5ECF6",
            "gridcolor": "white",
            "gridwidth": 2,
            "linecolor": "white",
            "showbackground": true,
            "ticks": "",
            "zerolinecolor": "white"
           }
          },
          "shapedefaults": {
           "line": {
            "color": "#2a3f5f"
           }
          },
          "ternary": {
           "aaxis": {
            "gridcolor": "white",
            "linecolor": "white",
            "ticks": ""
           },
           "baxis": {
            "gridcolor": "white",
            "linecolor": "white",
            "ticks": ""
           },
           "bgcolor": "#E5ECF6",
           "caxis": {
            "gridcolor": "white",
            "linecolor": "white",
            "ticks": ""
           }
          },
          "title": {
           "x": 0.05
          },
          "xaxis": {
           "automargin": true,
           "gridcolor": "white",
           "linecolor": "white",
           "ticks": "",
           "title": {
            "standoff": 15
           },
           "zerolinecolor": "white",
           "zerolinewidth": 2
          },
          "yaxis": {
           "automargin": true,
           "gridcolor": "white",
           "linecolor": "white",
           "ticks": "",
           "title": {
            "standoff": 15
           },
           "zerolinecolor": "white",
           "zerolinewidth": 2
          }
         }
        },
        "title": {
         "text": "Process Flow Benchmark Time Duration",
         "x": 0.6,
         "xanchor": "center"
        },
        "xaxis": {
         "anchor": "y",
         "domain": [
          0,
          1
         ],
         "title": {
          "font": {
           "color": "black",
           "family": "Arial",
           "size": 18
          },
          "text": "x Axis"
         }
        },
        "yaxis": {
         "anchor": "x",
         "domain": [
          0,
          1
         ],
         "title": {
          "font": {
           "color": "black",
           "family": "Arial",
           "size": 18
          },
          "text": "Scenario-4 Process Time Delta"
         }
        }
       }
      }
     },
     "metadata": {},
     "output_type": "display_data"
    }
   ],
   "source": [
    "fig = make_subplots()\n",
    "fig.layout.coloraxis.colorbar.title = 'another title'\n",
    "\n",
    "fig.add_trace(\n",
    "    go.Funnel(\n",
    "    y = variable_names,\n",
    "    x = values_to_be_used,showlegend=False,\n",
    "    textposition='none',\n",
    "        #name='Continous Process',\n",
    "        marker = {\"color\": [green_color, green_color, green_color, green_color, green_color,\\\n",
    "                           green_color, green_color, green_color,green_color]}))\n",
    "\n",
    "\n",
    "for i,y,k in zip(variable_names,annotation_names,per_annot):\n",
    "    fig.add_annotation(y=i,xanchor='left',\n",
    "                text=y+'-->'+str(k)+'%',align='right',showarrow=False)\n",
    "\n",
    "fig.update_layout(margin={\"r\":0,\"t\":24,\"l\":0,\"b\":0},paper_bgcolor='rgb(255,255,255)',plot_bgcolor='rgba(0,0,0,0)',\n",
    "                  title={'text':'Process Flow Benchmark Time Duration','xanchor': 'center','x':0.6,\n",
    "},font=dict(color='black'),\n",
    "                  \n",
    "xaxis=dict(\n",
    "    title='x Axis',\n",
    "    titlefont=dict(\n",
    "        family='Arial',\n",
    "        size=18,\n",
    "        color='black'\n",
    "    )\n",
    "),\n",
    "yaxis=dict(\n",
    "    title='Scenario-4 Process Time Delta',\n",
    "    titlefont=dict(\n",
    "        family='Arial',\n",
    "        size=18,\n",
    "        color='black'\n",
    "    )\n",
    "))\n",
    "\n",
    "\n",
    "fig.write_image(output_distribution_sce_4+\"Scenario_4_min_overall.png\") #pip install -U kaleido & restart jupyter\n",
    "\n",
    "fig.show()\n"
   ]
  },
  {
   "cell_type": "code",
   "execution_count": null,
   "metadata": {},
   "outputs": [],
   "source": []
  },
  {
   "cell_type": "code",
   "execution_count": null,
   "metadata": {},
   "outputs": [],
   "source": []
  },
  {
   "cell_type": "code",
   "execution_count": null,
   "metadata": {},
   "outputs": [],
   "source": []
  }
 ],
 "metadata": {
  "kernelspec": {
   "display_name": "Python 3",
   "language": "python",
   "name": "python3"
  },
  "language_info": {
   "codemirror_mode": {
    "name": "ipython",
    "version": 3
   },
   "file_extension": ".py",
   "mimetype": "text/x-python",
   "name": "python",
   "nbconvert_exporter": "python",
   "pygments_lexer": "ipython3",
   "version": "3.8.8"
  }
 },
 "nbformat": 4,
 "nbformat_minor": 4
}
